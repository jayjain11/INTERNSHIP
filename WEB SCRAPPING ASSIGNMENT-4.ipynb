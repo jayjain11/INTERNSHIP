{
 "cells": [
  {
   "cell_type": "code",
   "execution_count": 159,
   "id": "b594749c",
   "metadata": {},
   "outputs": [],
   "source": [
    "# import libraries\n",
    "import selenium\n",
    "import pandas as pd\n",
    "import time\n",
    "from bs4 import BeautifulSoup"
   ]
  },
  {
   "cell_type": "code",
   "execution_count": 160,
   "id": "02755502",
   "metadata": {},
   "outputs": [],
   "source": [
    "# Importing selenium webdriver \n",
    "from selenium import webdriver"
   ]
  },
  {
   "cell_type": "code",
   "execution_count": 161,
   "id": "ef6791cc",
   "metadata": {},
   "outputs": [],
   "source": [
    "# Importing required Exceptions which needs to handled\n",
    "from selenium.common.exceptions import StaleElementReferenceException, NoSuchElementException\n",
    "#Importing requests\n",
    "import requests\n",
    "# importing regex\n",
    "import re"
   ]
  },
  {
   "cell_type": "markdown",
   "id": "0962f49f",
   "metadata": {},
   "source": [
    "Q1. Scrape the details of most viewed videos on YouTube from Wikipedia: Url = https://en.wikipedia.org/wiki/List_of_most-viewed_YouTube_videos/ You need to find following details: A) Rank B) Name C) Artist D) Upload date E) Views"
   ]
  },
  {
   "cell_type": "code",
   "execution_count": 7,
   "id": "94ef66da",
   "metadata": {},
   "outputs": [
    {
     "name": "stderr",
     "output_type": "stream",
     "text": [
      "C:\\Users\\Asus\\AppData\\Local\\Temp/ipykernel_26256/375155047.py:2: DeprecationWarning: executable_path has been deprecated, please pass in a Service object\n",
      "  driver = webdriver.Chrome(r\"C:\\Web driver\\chromedriver.exe\")\n"
     ]
    }
   ],
   "source": [
    "# let first connect to the webdriver\n",
    "driver = webdriver.Chrome(r\"C:\\Web driver\\chromedriver.exe\")"
   ]
  },
  {
   "cell_type": "code",
   "execution_count": 8,
   "id": "b36b2d3c",
   "metadata": {},
   "outputs": [],
   "source": [
    "driver.get('https://en.wikipedia.org/wiki/List_of_most-viewed_YouTube_videos')"
   ]
  },
  {
   "cell_type": "code",
   "execution_count": 9,
   "id": "1c2c9f90",
   "metadata": {},
   "outputs": [],
   "source": [
    "#creating empty list\n",
    "Rank=[]\n",
    "Name=[] \n",
    "Artist=[]\n",
    "Upload_date=[]\n",
    "Views=[]"
   ]
  },
  {
   "cell_type": "code",
   "execution_count": 10,
   "id": "50c41198",
   "metadata": {},
   "outputs": [
    {
     "name": "stderr",
     "output_type": "stream",
     "text": [
      "C:\\Users\\Asus\\AppData\\Local\\Temp/ipykernel_26256/166248000.py:1: DeprecationWarning: find_elements_by_xpath is deprecated. Please use find_elements(by=By.XPATH, value=xpath) instead\n",
      "  dt = driver.find_elements_by_xpath('//table[@class=\"wikitable sortable jquery-tablesorter\"]/tbody/tr/td[1]')\n"
     ]
    }
   ],
   "source": [
    "dt = driver.find_elements_by_xpath('//table[@class=\"wikitable sortable jquery-tablesorter\"]/tbody/tr/td[1]')\n",
    "for d in dt:\n",
    "    if d.text is None :\n",
    "        Rank.append('-')\n",
    "    else:\n",
    "        Rank.append(d.text)"
   ]
  },
  {
   "cell_type": "code",
   "execution_count": 11,
   "id": "eca0480d",
   "metadata": {},
   "outputs": [
    {
     "name": "stderr",
     "output_type": "stream",
     "text": [
      "C:\\Users\\Asus\\AppData\\Local\\Temp/ipykernel_26256/2999464878.py:1: DeprecationWarning: find_elements_by_xpath is deprecated. Please use find_elements(by=By.XPATH, value=xpath) instead\n",
      "  dt = driver.find_elements_by_xpath('//table[@class=\"wikitable sortable jquery-tablesorter\"]/tbody/tr/td[2]')\n"
     ]
    }
   ],
   "source": [
    "dt = driver.find_elements_by_xpath('//table[@class=\"wikitable sortable jquery-tablesorter\"]/tbody/tr/td[2]')\n",
    "for d in dt:\n",
    "    if d.text is None :\n",
    "        Name.append('-')\n",
    "    else:\n",
    "        Name.append(d.text)"
   ]
  },
  {
   "cell_type": "code",
   "execution_count": 12,
   "id": "e66652ba",
   "metadata": {},
   "outputs": [
    {
     "name": "stderr",
     "output_type": "stream",
     "text": [
      "C:\\Users\\Asus\\AppData\\Local\\Temp/ipykernel_26256/2725512465.py:1: DeprecationWarning: find_elements_by_xpath is deprecated. Please use find_elements(by=By.XPATH, value=xpath) instead\n",
      "  dt = driver.find_elements_by_xpath('//table[@class=\"wikitable sortable jquery-tablesorter\"]/tbody/tr/td[3]')\n"
     ]
    }
   ],
   "source": [
    "dt = driver.find_elements_by_xpath('//table[@class=\"wikitable sortable jquery-tablesorter\"]/tbody/tr/td[3]')\n",
    "for d in dt:\n",
    "    if d.text is None :\n",
    "        Artist.append('-')\n",
    "    else:\n",
    "        Artist.append(d.text)"
   ]
  },
  {
   "cell_type": "code",
   "execution_count": 13,
   "id": "4a7756d8",
   "metadata": {},
   "outputs": [
    {
     "name": "stderr",
     "output_type": "stream",
     "text": [
      "C:\\Users\\Asus\\AppData\\Local\\Temp/ipykernel_26256/1912423871.py:1: DeprecationWarning: find_elements_by_xpath is deprecated. Please use find_elements(by=By.XPATH, value=xpath) instead\n",
      "  dt = driver.find_elements_by_xpath('//table[@class=\"wikitable sortable jquery-tablesorter\"]/tbody/tr/td[5]')\n"
     ]
    }
   ],
   "source": [
    "dt = driver.find_elements_by_xpath('//table[@class=\"wikitable sortable jquery-tablesorter\"]/tbody/tr/td[5]')\n",
    "for d in dt:\n",
    "    if d.text is None :\n",
    "        Upload_date.append('-')\n",
    "    else:\n",
    "        Upload_date.append(d.text)"
   ]
  },
  {
   "cell_type": "code",
   "execution_count": 14,
   "id": "c6e0b847",
   "metadata": {},
   "outputs": [
    {
     "name": "stderr",
     "output_type": "stream",
     "text": [
      "C:\\Users\\Asus\\AppData\\Local\\Temp/ipykernel_26256/4281142392.py:1: DeprecationWarning: find_elements_by_xpath is deprecated. Please use find_elements(by=By.XPATH, value=xpath) instead\n",
      "  dt = driver.find_elements_by_xpath('//table[@class=\"wikitable sortable jquery-tablesorter\"]/tbody/tr/td[4]')\n"
     ]
    }
   ],
   "source": [
    "dt = driver.find_elements_by_xpath('//table[@class=\"wikitable sortable jquery-tablesorter\"]/tbody/tr/td[4]')\n",
    "for d in dt:\n",
    "    if d.text is None :\n",
    "        Views.append('-')\n",
    "    else:\n",
    "        Views.append(d.text)"
   ]
  },
  {
   "cell_type": "code",
   "execution_count": 15,
   "id": "9e343516",
   "metadata": {},
   "outputs": [],
   "source": [
    "import pandas as pd\n",
    "table=pd.DataFrame({})\n",
    "\n",
    "table['Rank']=Rank[:30]\n",
    "table['Name']=Name[:30]\n",
    "table['Artist']=Artist[:30]\n",
    "table['Upload Date']=Upload_date[:30]\n",
    "table['Views']=Views[:30]"
   ]
  },
  {
   "cell_type": "code",
   "execution_count": 16,
   "id": "7820f81c",
   "metadata": {},
   "outputs": [
    {
     "data": {
      "text/html": [
       "<div>\n",
       "<style scoped>\n",
       "    .dataframe tbody tr th:only-of-type {\n",
       "        vertical-align: middle;\n",
       "    }\n",
       "\n",
       "    .dataframe tbody tr th {\n",
       "        vertical-align: top;\n",
       "    }\n",
       "\n",
       "    .dataframe thead th {\n",
       "        text-align: right;\n",
       "    }\n",
       "</style>\n",
       "<table border=\"1\" class=\"dataframe\">\n",
       "  <thead>\n",
       "    <tr style=\"text-align: right;\">\n",
       "      <th></th>\n",
       "      <th>Rank</th>\n",
       "      <th>Name</th>\n",
       "      <th>Artist</th>\n",
       "      <th>Upload Date</th>\n",
       "      <th>Views</th>\n",
       "    </tr>\n",
       "  </thead>\n",
       "  <tbody>\n",
       "    <tr>\n",
       "      <th>0</th>\n",
       "      <td>1.</td>\n",
       "      <td>\"Baby Shark Dance\"[3]</td>\n",
       "      <td>Pinkfong Baby Shark - Kids' Songs &amp; Stories</td>\n",
       "      <td>June 17, 2016</td>\n",
       "      <td>10.80</td>\n",
       "    </tr>\n",
       "    <tr>\n",
       "      <th>1</th>\n",
       "      <td>2.</td>\n",
       "      <td>\"Despacito\"[6]</td>\n",
       "      <td>Luis Fonsi</td>\n",
       "      <td>January 12, 2017</td>\n",
       "      <td>7.87</td>\n",
       "    </tr>\n",
       "    <tr>\n",
       "      <th>2</th>\n",
       "      <td>3.</td>\n",
       "      <td>\"Johny Johny Yes Papa\"[12]</td>\n",
       "      <td>LooLoo Kids</td>\n",
       "      <td>October 8, 2016</td>\n",
       "      <td>6.37</td>\n",
       "    </tr>\n",
       "    <tr>\n",
       "      <th>3</th>\n",
       "      <td>4.</td>\n",
       "      <td>\"Shape of You\"[13]</td>\n",
       "      <td>Ed Sheeran</td>\n",
       "      <td>January 30, 2017</td>\n",
       "      <td>5.74</td>\n",
       "    </tr>\n",
       "    <tr>\n",
       "      <th>4</th>\n",
       "      <td>5.</td>\n",
       "      <td>\"See You Again\"[15]</td>\n",
       "      <td>Wiz Khalifa</td>\n",
       "      <td>April 6, 2015</td>\n",
       "      <td>5.54</td>\n",
       "    </tr>\n",
       "    <tr>\n",
       "      <th>5</th>\n",
       "      <td>6.</td>\n",
       "      <td>\"Bath Song\"[20]</td>\n",
       "      <td>Cocomelon – Nursery Rhymes</td>\n",
       "      <td>May 2, 2018</td>\n",
       "      <td>5.44</td>\n",
       "    </tr>\n",
       "    <tr>\n",
       "      <th>6</th>\n",
       "      <td>7.</td>\n",
       "      <td>\"Phonics Song with Two Words\"[21]</td>\n",
       "      <td>ChuChu TV</td>\n",
       "      <td>March 6, 2014</td>\n",
       "      <td>4.67</td>\n",
       "    </tr>\n",
       "    <tr>\n",
       "      <th>7</th>\n",
       "      <td>8.</td>\n",
       "      <td>\"Uptown Funk\"[22]</td>\n",
       "      <td>Mark Ronson</td>\n",
       "      <td>November 19, 2014</td>\n",
       "      <td>4.60</td>\n",
       "    </tr>\n",
       "    <tr>\n",
       "      <th>8</th>\n",
       "      <td>9.</td>\n",
       "      <td>\"Learning Colors – Colorful Eggs on a Farm\"[23]</td>\n",
       "      <td>Miroshka TV</td>\n",
       "      <td>February 27, 2018</td>\n",
       "      <td>4.58</td>\n",
       "    </tr>\n",
       "    <tr>\n",
       "      <th>9</th>\n",
       "      <td>10.</td>\n",
       "      <td>\"Masha and the Bear – Recipe for Disaster\"[24]</td>\n",
       "      <td>Get Movies</td>\n",
       "      <td>January 31, 2012</td>\n",
       "      <td>4.50</td>\n",
       "    </tr>\n",
       "    <tr>\n",
       "      <th>10</th>\n",
       "      <td>11.</td>\n",
       "      <td>\"Gangnam Style\"[25]</td>\n",
       "      <td>Psy</td>\n",
       "      <td>July 15, 2012</td>\n",
       "      <td>4.45</td>\n",
       "    </tr>\n",
       "    <tr>\n",
       "      <th>11</th>\n",
       "      <td>12.</td>\n",
       "      <td>\"Wheels on the Bus\"[30]</td>\n",
       "      <td>Cocomelon – Nursery Rhymes</td>\n",
       "      <td>May 24, 2018</td>\n",
       "      <td>4.12</td>\n",
       "    </tr>\n",
       "    <tr>\n",
       "      <th>12</th>\n",
       "      <td>13.</td>\n",
       "      <td>\"Dame Tu Cosita\"[31]</td>\n",
       "      <td>El Chombo</td>\n",
       "      <td>April 5, 2018</td>\n",
       "      <td>3.95</td>\n",
       "    </tr>\n",
       "    <tr>\n",
       "      <th>13</th>\n",
       "      <td>14.</td>\n",
       "      <td>\"Sugar\"[32]</td>\n",
       "      <td>Maroon 5</td>\n",
       "      <td>January 14, 2015</td>\n",
       "      <td>3.71</td>\n",
       "    </tr>\n",
       "    <tr>\n",
       "      <th>14</th>\n",
       "      <td>15.</td>\n",
       "      <td>\"Roar\"[33]</td>\n",
       "      <td>Katy Perry</td>\n",
       "      <td>September 5, 2013</td>\n",
       "      <td>3.60</td>\n",
       "    </tr>\n",
       "    <tr>\n",
       "      <th>15</th>\n",
       "      <td>16.</td>\n",
       "      <td>\"Counting Stars\"[34]</td>\n",
       "      <td>OneRepublic</td>\n",
       "      <td>May 31, 2013</td>\n",
       "      <td>3.59</td>\n",
       "    </tr>\n",
       "    <tr>\n",
       "      <th>16</th>\n",
       "      <td>17.</td>\n",
       "      <td>\"Sorry\"[35]</td>\n",
       "      <td>Justin Bieber</td>\n",
       "      <td>October 22, 2015</td>\n",
       "      <td>3.55</td>\n",
       "    </tr>\n",
       "    <tr>\n",
       "      <th>17</th>\n",
       "      <td>18.</td>\n",
       "      <td>\"Thinking Out Loud\"[36]</td>\n",
       "      <td>Ed Sheeran</td>\n",
       "      <td>October 7, 2014</td>\n",
       "      <td>3.46</td>\n",
       "    </tr>\n",
       "    <tr>\n",
       "      <th>18</th>\n",
       "      <td>19.</td>\n",
       "      <td>\"Axel F\"[37]</td>\n",
       "      <td>Crazy Frog</td>\n",
       "      <td>June 16, 2009</td>\n",
       "      <td>3.38</td>\n",
       "    </tr>\n",
       "    <tr>\n",
       "      <th>19</th>\n",
       "      <td>20.</td>\n",
       "      <td>\"Girls Like You\"[38]</td>\n",
       "      <td>Maroon 5</td>\n",
       "      <td>May 31, 2018</td>\n",
       "      <td>3.30</td>\n",
       "    </tr>\n",
       "    <tr>\n",
       "      <th>20</th>\n",
       "      <td>21.</td>\n",
       "      <td>\"Faded\"[39]</td>\n",
       "      <td>Alan Walker</td>\n",
       "      <td>December 3, 2015</td>\n",
       "      <td>3.29</td>\n",
       "    </tr>\n",
       "    <tr>\n",
       "      <th>21</th>\n",
       "      <td>22.</td>\n",
       "      <td>\"Dark Horse\"[40]</td>\n",
       "      <td>Katy Perry</td>\n",
       "      <td>February 20, 2014</td>\n",
       "      <td>3.29</td>\n",
       "    </tr>\n",
       "    <tr>\n",
       "      <th>22</th>\n",
       "      <td>23.</td>\n",
       "      <td>\"Baa Baa Black Sheep\"[41]</td>\n",
       "      <td>Cocomelon – Nursery Rhymes</td>\n",
       "      <td>June 25, 2018</td>\n",
       "      <td>3.26</td>\n",
       "    </tr>\n",
       "    <tr>\n",
       "      <th>23</th>\n",
       "      <td>24.</td>\n",
       "      <td>\"Let Her Go\"[42]</td>\n",
       "      <td>Passenger</td>\n",
       "      <td>July 25, 2012</td>\n",
       "      <td>3.24</td>\n",
       "    </tr>\n",
       "    <tr>\n",
       "      <th>24</th>\n",
       "      <td>25.</td>\n",
       "      <td>\"Bailando\"[43]</td>\n",
       "      <td>Enrique Iglesias</td>\n",
       "      <td>April 11, 2014</td>\n",
       "      <td>3.22</td>\n",
       "    </tr>\n",
       "    <tr>\n",
       "      <th>25</th>\n",
       "      <td>26.</td>\n",
       "      <td>\"Lean On\"[44]</td>\n",
       "      <td>Major Lazer</td>\n",
       "      <td>March 22, 2015</td>\n",
       "      <td>3.22</td>\n",
       "    </tr>\n",
       "    <tr>\n",
       "      <th>26</th>\n",
       "      <td>27.</td>\n",
       "      <td>\"Perfect\"[45]</td>\n",
       "      <td>Ed Sheeran</td>\n",
       "      <td>November 9, 2017</td>\n",
       "      <td>3.18</td>\n",
       "    </tr>\n",
       "    <tr>\n",
       "      <th>27</th>\n",
       "      <td>28.</td>\n",
       "      <td>\"Shake It Off\"[46]</td>\n",
       "      <td>Taylor Swift</td>\n",
       "      <td>August 18, 2014</td>\n",
       "      <td>3.18</td>\n",
       "    </tr>\n",
       "    <tr>\n",
       "      <th>28</th>\n",
       "      <td>29.</td>\n",
       "      <td>\"Waka Waka (This Time for Africa)\"[47]</td>\n",
       "      <td>Shakira</td>\n",
       "      <td>June 4, 2010</td>\n",
       "      <td>3.16</td>\n",
       "    </tr>\n",
       "    <tr>\n",
       "      <th>29</th>\n",
       "      <td>30.</td>\n",
       "      <td>\"Mi Gente\"[48]</td>\n",
       "      <td>J Balvin</td>\n",
       "      <td>June 29, 2017</td>\n",
       "      <td>3.09</td>\n",
       "    </tr>\n",
       "  </tbody>\n",
       "</table>\n",
       "</div>"
      ],
      "text/plain": [
       "   Rank                                             Name  \\\n",
       "0    1.                            \"Baby Shark Dance\"[3]   \n",
       "1    2.                                   \"Despacito\"[6]   \n",
       "2    3.                       \"Johny Johny Yes Papa\"[12]   \n",
       "3    4.                               \"Shape of You\"[13]   \n",
       "4    5.                              \"See You Again\"[15]   \n",
       "5    6.                                  \"Bath Song\"[20]   \n",
       "6    7.                \"Phonics Song with Two Words\"[21]   \n",
       "7    8.                                \"Uptown Funk\"[22]   \n",
       "8    9.  \"Learning Colors – Colorful Eggs on a Farm\"[23]   \n",
       "9   10.   \"Masha and the Bear – Recipe for Disaster\"[24]   \n",
       "10  11.                              \"Gangnam Style\"[25]   \n",
       "11  12.                          \"Wheels on the Bus\"[30]   \n",
       "12  13.                             \"Dame Tu Cosita\"[31]   \n",
       "13  14.                                      \"Sugar\"[32]   \n",
       "14  15.                                       \"Roar\"[33]   \n",
       "15  16.                             \"Counting Stars\"[34]   \n",
       "16  17.                                      \"Sorry\"[35]   \n",
       "17  18.                          \"Thinking Out Loud\"[36]   \n",
       "18  19.                                     \"Axel F\"[37]   \n",
       "19  20.                             \"Girls Like You\"[38]   \n",
       "20  21.                                      \"Faded\"[39]   \n",
       "21  22.                                 \"Dark Horse\"[40]   \n",
       "22  23.                        \"Baa Baa Black Sheep\"[41]   \n",
       "23  24.                                 \"Let Her Go\"[42]   \n",
       "24  25.                                   \"Bailando\"[43]   \n",
       "25  26.                                    \"Lean On\"[44]   \n",
       "26  27.                                    \"Perfect\"[45]   \n",
       "27  28.                               \"Shake It Off\"[46]   \n",
       "28  29.           \"Waka Waka (This Time for Africa)\"[47]   \n",
       "29  30.                                   \"Mi Gente\"[48]   \n",
       "\n",
       "                                         Artist        Upload Date  Views  \n",
       "0   Pinkfong Baby Shark - Kids' Songs & Stories      June 17, 2016  10.80  \n",
       "1                                    Luis Fonsi   January 12, 2017   7.87  \n",
       "2                                   LooLoo Kids    October 8, 2016   6.37  \n",
       "3                                    Ed Sheeran   January 30, 2017   5.74  \n",
       "4                                   Wiz Khalifa      April 6, 2015   5.54  \n",
       "5                    Cocomelon – Nursery Rhymes        May 2, 2018   5.44  \n",
       "6                                     ChuChu TV      March 6, 2014   4.67  \n",
       "7                                   Mark Ronson  November 19, 2014   4.60  \n",
       "8                                   Miroshka TV  February 27, 2018   4.58  \n",
       "9                                    Get Movies   January 31, 2012   4.50  \n",
       "10                                          Psy      July 15, 2012   4.45  \n",
       "11                   Cocomelon – Nursery Rhymes       May 24, 2018   4.12  \n",
       "12                                    El Chombo      April 5, 2018   3.95  \n",
       "13                                     Maroon 5   January 14, 2015   3.71  \n",
       "14                                   Katy Perry  September 5, 2013   3.60  \n",
       "15                                  OneRepublic       May 31, 2013   3.59  \n",
       "16                                Justin Bieber   October 22, 2015   3.55  \n",
       "17                                   Ed Sheeran    October 7, 2014   3.46  \n",
       "18                                   Crazy Frog      June 16, 2009   3.38  \n",
       "19                                     Maroon 5       May 31, 2018   3.30  \n",
       "20                                  Alan Walker   December 3, 2015   3.29  \n",
       "21                                   Katy Perry  February 20, 2014   3.29  \n",
       "22                   Cocomelon – Nursery Rhymes      June 25, 2018   3.26  \n",
       "23                                    Passenger      July 25, 2012   3.24  \n",
       "24                             Enrique Iglesias     April 11, 2014   3.22  \n",
       "25                                  Major Lazer     March 22, 2015   3.22  \n",
       "26                                   Ed Sheeran   November 9, 2017   3.18  \n",
       "27                                 Taylor Swift    August 18, 2014   3.18  \n",
       "28                                      Shakira       June 4, 2010   3.16  \n",
       "29                                     J Balvin      June 29, 2017   3.09  "
      ]
     },
     "execution_count": 16,
     "metadata": {},
     "output_type": "execute_result"
    }
   ],
   "source": [
    "table"
   ]
  },
  {
   "cell_type": "markdown",
   "id": "ca88def8",
   "metadata": {},
   "source": [
    "Q2. Scrape the details team India’s international fixtures from bcci.tv. Url = https://www.bcci.tv/. You need to find following details: A) Match title (I.e. 1 st ODI) B) Series C) Place D) Date E) Time Note: - From bcci.tv home page you have reach to the international fixture page through code."
   ]
  },
  {
   "cell_type": "code",
   "execution_count": 91,
   "id": "3ea2ee81",
   "metadata": {},
   "outputs": [
    {
     "name": "stderr",
     "output_type": "stream",
     "text": [
      "C:\\Users\\Asus\\AppData\\Local\\Temp/ipykernel_26256/2493915227.py:1: DeprecationWarning: executable_path has been deprecated, please pass in a Service object\n",
      "  driver = webdriver.Chrome(r\"C:\\Web driver\\chromedriver.exe\")\n"
     ]
    }
   ],
   "source": [
    "driver = webdriver.Chrome(r\"C:\\Web driver\\chromedriver.exe\")"
   ]
  },
  {
   "cell_type": "code",
   "execution_count": 92,
   "id": "d276981e",
   "metadata": {},
   "outputs": [],
   "source": [
    "url = \"https://www.bcci.tv/\"\n",
    "driver.get(url)\n",
    "time.sleep(4)\n",
    "driver.maximize_window()"
   ]
  },
  {
   "cell_type": "code",
   "execution_count": 94,
   "id": "43f8040c",
   "metadata": {},
   "outputs": [
    {
     "name": "stderr",
     "output_type": "stream",
     "text": [
      "C:\\Users\\Asus\\AppData\\Local\\Temp/ipykernel_26256/4207042157.py:2: DeprecationWarning: find_element_by_xpath is deprecated. Please use find_element(by=By.XPATH, value=xpath) instead\n",
      "  international=driver.find_element_by_xpath(\"/html/body/nav/div[1]/div[2]/ul[1]/li[2]\")\n"
     ]
    }
   ],
   "source": [
    "#click on international\n",
    "international=driver.find_element_by_xpath(\"/html/body/nav/div[1]/div[2]/ul[1]/li[2]\")\n",
    "international.click()\n",
    "time.sleep(3)"
   ]
  },
  {
   "cell_type": "code",
   "execution_count": 95,
   "id": "ef1474b1",
   "metadata": {},
   "outputs": [
    {
     "name": "stderr",
     "output_type": "stream",
     "text": [
      "C:\\Users\\Asus\\AppData\\Local\\Temp/ipykernel_26256/3314304517.py:2: DeprecationWarning: find_element_by_xpath is deprecated. Please use find_element(by=By.XPATH, value=xpath) instead\n",
      "  fixtures= driver.find_element_by_xpath(\"/html/body/div[2]/div[1]/div/ul/li[1]\")\n"
     ]
    }
   ],
   "source": [
    "# click on fixtures\n",
    "fixtures= driver.find_element_by_xpath(\"/html/body/div[2]/div[1]/div/ul/li[1]\")\n",
    "fixtures.click()\n",
    "time.sleep(3)"
   ]
  },
  {
   "cell_type": "code",
   "execution_count": 111,
   "id": "ed35062c",
   "metadata": {},
   "outputs": [],
   "source": [
    "#Creating Empty list\n",
    "Match=[]\n",
    "Series=[]\n",
    "Place=[]\n",
    "Date=[]\n",
    "Time=[]"
   ]
  },
  {
   "cell_type": "code",
   "execution_count": 112,
   "id": "4b949ec0",
   "metadata": {},
   "outputs": [
    {
     "name": "stderr",
     "output_type": "stream",
     "text": [
      "C:\\Users\\Asus\\AppData\\Local\\Temp/ipykernel_26256/4226103194.py:2: DeprecationWarning: find_elements_by_xpath is deprecated. Please use find_elements(by=By.XPATH, value=xpath) instead\n",
      "  match= driver.find_elements_by_xpath(\"//span[@class='matchOrderText ng-binding ng-scope']\")\n"
     ]
    }
   ],
   "source": [
    "#Scraping Match_title\n",
    "match= driver.find_elements_by_xpath(\"//span[@class='matchOrderText ng-binding ng-scope']\")\n",
    "for i in match:\n",
    "    Match.append(i.text)"
   ]
  },
  {
   "cell_type": "code",
   "execution_count": 114,
   "id": "9f3513fe",
   "metadata": {},
   "outputs": [
    {
     "name": "stderr",
     "output_type": "stream",
     "text": [
      "C:\\Users\\Asus\\AppData\\Local\\Temp/ipykernel_26256/3150636554.py:2: DeprecationWarning: find_elements_by_xpath is deprecated. Please use find_elements(by=By.XPATH, value=xpath) instead\n",
      "  series= driver.find_elements_by_xpath(\"//h5[@class='fix-text']\")\n"
     ]
    }
   ],
   "source": [
    "#Scraping Series\n",
    "series= driver.find_elements_by_xpath(\"//h5[@class='fix-text']\")\n",
    "for i in series:\n",
    "    Series.append(i.text)"
   ]
  },
  {
   "cell_type": "code",
   "execution_count": 115,
   "id": "4b77bc17",
   "metadata": {},
   "outputs": [
    {
     "name": "stderr",
     "output_type": "stream",
     "text": [
      "C:\\Users\\Asus\\AppData\\Local\\Temp/ipykernel_26256/1108229991.py:2: DeprecationWarning: find_elements_by_xpath is deprecated. Please use find_elements(by=By.XPATH, value=xpath) instead\n",
      "  place= driver.find_elements_by_xpath(\"//span[@class='ng-binding ng-scope']\")\n"
     ]
    }
   ],
   "source": [
    "#Scraping Place\n",
    "place= driver.find_elements_by_xpath(\"//span[@class='ng-binding ng-scope']\")\n",
    "for i in place:\n",
    "    Place.append(i.text)  "
   ]
  },
  {
   "cell_type": "code",
   "execution_count": 116,
   "id": "37aa6b22",
   "metadata": {},
   "outputs": [
    {
     "name": "stderr",
     "output_type": "stream",
     "text": [
      "C:\\Users\\Asus\\AppData\\Local\\Temp/ipykernel_26256/2967405003.py:2: DeprecationWarning: find_elements_by_xpath is deprecated. Please use find_elements(by=By.XPATH, value=xpath) instead\n",
      "  date= driver.find_elements_by_xpath(\"//div[@class='match-card-left match-schedule']\")\n"
     ]
    }
   ],
   "source": [
    "#Scraping Date\n",
    "date= driver.find_elements_by_xpath(\"//div[@class='match-card-left match-schedule']\")\n",
    "for i in date:\n",
    "    Date.append(i.text) "
   ]
  },
  {
   "cell_type": "code",
   "execution_count": 117,
   "id": "469b6028",
   "metadata": {},
   "outputs": [
    {
     "name": "stderr",
     "output_type": "stream",
     "text": [
      "C:\\Users\\Asus\\AppData\\Local\\Temp/ipykernel_26256/3239409779.py:2: DeprecationWarning: find_elements_by_xpath is deprecated. Please use find_elements(by=By.XPATH, value=xpath) instead\n",
      "  time= driver.find_elements_by_xpath(\"//h5[@class='text-right ng-binding']\")\n"
     ]
    }
   ],
   "source": [
    "#Scraping Time\n",
    "time= driver.find_elements_by_xpath(\"//h5[@class='text-right ng-binding']\")\n",
    "for i in time:\n",
    "    Time.append(i.text) "
   ]
  },
  {
   "cell_type": "code",
   "execution_count": 118,
   "id": "8c50bf11",
   "metadata": {},
   "outputs": [
    {
     "data": {
      "text/html": [
       "<div>\n",
       "<style scoped>\n",
       "    .dataframe tbody tr th:only-of-type {\n",
       "        vertical-align: middle;\n",
       "    }\n",
       "\n",
       "    .dataframe tbody tr th {\n",
       "        vertical-align: top;\n",
       "    }\n",
       "\n",
       "    .dataframe thead th {\n",
       "        text-align: right;\n",
       "    }\n",
       "</style>\n",
       "<table border=\"1\" class=\"dataframe\">\n",
       "  <thead>\n",
       "    <tr style=\"text-align: right;\">\n",
       "      <th></th>\n",
       "      <th>Match_title</th>\n",
       "      <th>Series</th>\n",
       "      <th>Place</th>\n",
       "      <th>Date</th>\n",
       "      <th>Time</th>\n",
       "    </tr>\n",
       "  </thead>\n",
       "  <tbody>\n",
       "    <tr>\n",
       "      <th>0</th>\n",
       "      <td>2nd T20I -</td>\n",
       "      <td>INDIA WOMEN TOUR OF SRI LANKA T20 SERIES 2022</td>\n",
       "      <td>Rangiri Dambulla International Stadium,</td>\n",
       "      <td>25 JUN 2022</td>\n",
       "      <td>2:30 PM IST</td>\n",
       "    </tr>\n",
       "    <tr>\n",
       "      <th>1</th>\n",
       "      <td>1st T20I -</td>\n",
       "      <td></td>\n",
       "      <td>The Village,</td>\n",
       "      <td>26 JUN 2022</td>\n",
       "      <td>9:00 PM IST</td>\n",
       "    </tr>\n",
       "    <tr>\n",
       "      <th>2</th>\n",
       "      <td>3rd T20I -</td>\n",
       "      <td>INDIA WOMEN TOUR OF SRI LANKA T20 SERIES 2022</td>\n",
       "      <td>Rangiri Dambulla International Stadium,</td>\n",
       "      <td>27 JUN 2022</td>\n",
       "      <td>2:30 PM IST</td>\n",
       "    </tr>\n",
       "    <tr>\n",
       "      <th>3</th>\n",
       "      <td>2nd T20I -</td>\n",
       "      <td></td>\n",
       "      <td>The Village,</td>\n",
       "      <td>28 JUN 2022</td>\n",
       "      <td>9:00 PM IST</td>\n",
       "    </tr>\n",
       "    <tr>\n",
       "      <th>4</th>\n",
       "      <td>1st ODI -</td>\n",
       "      <td>INDIA TOUR OF IRELAND T20 SERIES 2022</td>\n",
       "      <td>Pallekele International Cricket Stadium,</td>\n",
       "      <td>1 JUL 2022</td>\n",
       "      <td>10:00 AM IST</td>\n",
       "    </tr>\n",
       "    <tr>\n",
       "      <th>5</th>\n",
       "      <td>5th Test -</td>\n",
       "      <td></td>\n",
       "      <td>Edgbaston,</td>\n",
       "      <td>1 JUL 2022</td>\n",
       "      <td>3:30 PM IST</td>\n",
       "    </tr>\n",
       "    <tr>\n",
       "      <th>6</th>\n",
       "      <td>2nd ODI -</td>\n",
       "      <td>INDIA WOMEN TOUR OF SRI LANKA T20 SERIES 2022</td>\n",
       "      <td>Pallekele International Cricket Stadium,</td>\n",
       "      <td>4 JUL 2022</td>\n",
       "      <td>10:00 AM IST</td>\n",
       "    </tr>\n",
       "  </tbody>\n",
       "</table>\n",
       "</div>"
      ],
      "text/plain": [
       "  Match_title                                         Series  \\\n",
       "0  2nd T20I -  INDIA WOMEN TOUR OF SRI LANKA T20 SERIES 2022   \n",
       "1  1st T20I -                                                  \n",
       "2  3rd T20I -  INDIA WOMEN TOUR OF SRI LANKA T20 SERIES 2022   \n",
       "3  2nd T20I -                                                  \n",
       "4   1st ODI -          INDIA TOUR OF IRELAND T20 SERIES 2022   \n",
       "5  5th Test -                                                  \n",
       "6   2nd ODI -  INDIA WOMEN TOUR OF SRI LANKA T20 SERIES 2022   \n",
       "\n",
       "                                      Place         Date          Time  \n",
       "0   Rangiri Dambulla International Stadium,  25 JUN 2022   2:30 PM IST  \n",
       "1                              The Village,  26 JUN 2022   9:00 PM IST  \n",
       "2   Rangiri Dambulla International Stadium,  27 JUN 2022   2:30 PM IST  \n",
       "3                              The Village,  28 JUN 2022   9:00 PM IST  \n",
       "4  Pallekele International Cricket Stadium,   1 JUL 2022  10:00 AM IST  \n",
       "5                                Edgbaston,   1 JUL 2022   3:30 PM IST  \n",
       "6  Pallekele International Cricket Stadium,   4 JUL 2022  10:00 AM IST  "
      ]
     },
     "execution_count": 118,
     "metadata": {},
     "output_type": "execute_result"
    }
   ],
   "source": [
    "Fixture=pd.DataFrame({})\n",
    "Fixture['Match_title']=Match[1:8]\n",
    "Fixture['Series']=Series[1:8]\n",
    "Fixture['Place']=Place[1:8]\n",
    "Fixture['Date']=Date[1:8]\n",
    "Fixture['Time']=Time[1:8]\n",
    "Fixture"
   ]
  },
  {
   "cell_type": "markdown",
   "id": "1c2200b9",
   "metadata": {},
   "source": [
    "Q3. Scrape the details of selenium exception from guru99.com. Url = https://www.guru99.com/ You need to find following details: A) Name B) Description Note: - From guru99 home page you have to reach to selenium exception handling page through code."
   ]
  },
  {
   "cell_type": "code",
   "execution_count": 17,
   "id": "4da204cb",
   "metadata": {},
   "outputs": [
    {
     "name": "stderr",
     "output_type": "stream",
     "text": [
      "C:\\Users\\Asus\\AppData\\Local\\Temp/ipykernel_26256/2493915227.py:1: DeprecationWarning: executable_path has been deprecated, please pass in a Service object\n",
      "  driver = webdriver.Chrome(r\"C:\\Web driver\\chromedriver.exe\")\n"
     ]
    }
   ],
   "source": [
    "driver = webdriver.Chrome(r\"C:\\Web driver\\chromedriver.exe\")"
   ]
  },
  {
   "cell_type": "code",
   "execution_count": 18,
   "id": "29d1dbc4",
   "metadata": {},
   "outputs": [],
   "source": [
    "driver.get('https://www.guru99.com/')"
   ]
  },
  {
   "cell_type": "code",
   "execution_count": 19,
   "id": "27f1cedd",
   "metadata": {},
   "outputs": [
    {
     "name": "stderr",
     "output_type": "stream",
     "text": [
      "C:\\Users\\Asus\\AppData\\Local\\Temp/ipykernel_26256/191405855.py:1: DeprecationWarning: find_element_by_xpath is deprecated. Please use find_element(by=By.XPATH, value=xpath) instead\n",
      "  driver.find_element_by_xpath('//a[@title=\"Selenium\"]').click()\n"
     ]
    }
   ],
   "source": [
    "driver.find_element_by_xpath('//a[@title=\"Selenium\"]').click()"
   ]
  },
  {
   "cell_type": "code",
   "execution_count": 20,
   "id": "d900048a",
   "metadata": {},
   "outputs": [
    {
     "name": "stderr",
     "output_type": "stream",
     "text": [
      "C:\\Users\\Asus\\AppData\\Local\\Temp/ipykernel_26256/472190259.py:1: DeprecationWarning: find_element_by_xpath is deprecated. Please use find_element(by=By.XPATH, value=xpath) instead\n",
      "  driver.find_element_by_xpath('//a[@title=\"Selenium Exception Handling (Common Exceptions List)\"]').click()\n"
     ]
    }
   ],
   "source": [
    "driver.find_element_by_xpath('//a[@title=\"Selenium Exception Handling (Common Exceptions List)\"]').click()"
   ]
  },
  {
   "cell_type": "code",
   "execution_count": 21,
   "id": "c52a1357",
   "metadata": {},
   "outputs": [],
   "source": [
    "Name=[]\n",
    "Description=[]"
   ]
  },
  {
   "cell_type": "code",
   "execution_count": 22,
   "id": "607a1b45",
   "metadata": {},
   "outputs": [
    {
     "name": "stderr",
     "output_type": "stream",
     "text": [
      "C:\\Users\\Asus\\AppData\\Local\\Temp/ipykernel_26256/2731255841.py:1: DeprecationWarning: find_elements_by_xpath is deprecated. Please use find_elements(by=By.XPATH, value=xpath) instead\n",
      "  dt = driver.find_elements_by_xpath('//table[@class=\"table table-striped\"]/tbody/tr/td[1]')\n"
     ]
    }
   ],
   "source": [
    "dt = driver.find_elements_by_xpath('//table[@class=\"table table-striped\"]/tbody/tr/td[1]')\n",
    "for d in dt:\n",
    "    Name.append(d.text)"
   ]
  },
  {
   "cell_type": "code",
   "execution_count": 23,
   "id": "d8b07a69",
   "metadata": {},
   "outputs": [
    {
     "name": "stderr",
     "output_type": "stream",
     "text": [
      "C:\\Users\\Asus\\AppData\\Local\\Temp/ipykernel_26256/168012624.py:1: DeprecationWarning: find_elements_by_xpath is deprecated. Please use find_elements(by=By.XPATH, value=xpath) instead\n",
      "  dt = driver.find_elements_by_xpath('//table[@class=\"table table-striped\"]/tbody/tr/td[2]')\n"
     ]
    }
   ],
   "source": [
    "dt = driver.find_elements_by_xpath('//table[@class=\"table table-striped\"]/tbody/tr/td[2]')\n",
    "for d in dt:\n",
    "    Description.append(d.text)"
   ]
  },
  {
   "cell_type": "code",
   "execution_count": 24,
   "id": "75495b81",
   "metadata": {},
   "outputs": [],
   "source": [
    "import pandas as pd\n",
    "table=pd.DataFrame({})\n",
    "\n",
    "table['Name']=Name[1:50]\n",
    "table['Description']=Description[1:50]"
   ]
  },
  {
   "cell_type": "code",
   "execution_count": 25,
   "id": "63d5d1ec",
   "metadata": {},
   "outputs": [
    {
     "data": {
      "text/html": [
       "<div>\n",
       "<style scoped>\n",
       "    .dataframe tbody tr th:only-of-type {\n",
       "        vertical-align: middle;\n",
       "    }\n",
       "\n",
       "    .dataframe tbody tr th {\n",
       "        vertical-align: top;\n",
       "    }\n",
       "\n",
       "    .dataframe thead th {\n",
       "        text-align: right;\n",
       "    }\n",
       "</style>\n",
       "<table border=\"1\" class=\"dataframe\">\n",
       "  <thead>\n",
       "    <tr style=\"text-align: right;\">\n",
       "      <th></th>\n",
       "      <th>Name</th>\n",
       "      <th>Description</th>\n",
       "    </tr>\n",
       "  </thead>\n",
       "  <tbody>\n",
       "    <tr>\n",
       "      <th>0</th>\n",
       "      <td>ElementNotSelectableException</td>\n",
       "      <td>This Selenium exception occurs when an element...</td>\n",
       "    </tr>\n",
       "    <tr>\n",
       "      <th>1</th>\n",
       "      <td>NoSuchElementException</td>\n",
       "      <td>This Exception occurs if an element could not ...</td>\n",
       "    </tr>\n",
       "    <tr>\n",
       "      <th>2</th>\n",
       "      <td>NoSuchFrameException</td>\n",
       "      <td>This Exception occurs if the frame target to b...</td>\n",
       "    </tr>\n",
       "    <tr>\n",
       "      <th>3</th>\n",
       "      <td>NoAlertPresentException</td>\n",
       "      <td>This Exception occurs when you switch to no pr...</td>\n",
       "    </tr>\n",
       "    <tr>\n",
       "      <th>4</th>\n",
       "      <td>NoSuchWindowException</td>\n",
       "      <td>This Exception occurs if the window target to ...</td>\n",
       "    </tr>\n",
       "    <tr>\n",
       "      <th>5</th>\n",
       "      <td>StaleElementReferenceException</td>\n",
       "      <td>This Selenium exception occurs happens when th...</td>\n",
       "    </tr>\n",
       "    <tr>\n",
       "      <th>6</th>\n",
       "      <td>SessionNotFoundException</td>\n",
       "      <td>The WebDriver is acting after you quit the bro...</td>\n",
       "    </tr>\n",
       "    <tr>\n",
       "      <th>7</th>\n",
       "      <td>TimeoutException</td>\n",
       "      <td>Thrown when there is not enough time for a com...</td>\n",
       "    </tr>\n",
       "    <tr>\n",
       "      <th>8</th>\n",
       "      <td>WebDriverException</td>\n",
       "      <td>This Exception takes place when the WebDriver ...</td>\n",
       "    </tr>\n",
       "    <tr>\n",
       "      <th>9</th>\n",
       "      <td>ConnectionClosedException</td>\n",
       "      <td>This type of Exception takes place when there ...</td>\n",
       "    </tr>\n",
       "    <tr>\n",
       "      <th>10</th>\n",
       "      <td>ElementClickInterceptedException</td>\n",
       "      <td>The command may not be completed as the elemen...</td>\n",
       "    </tr>\n",
       "    <tr>\n",
       "      <th>11</th>\n",
       "      <td>ElementNotInteractableException</td>\n",
       "      <td>This Selenium exception is thrown when any ele...</td>\n",
       "    </tr>\n",
       "    <tr>\n",
       "      <th>12</th>\n",
       "      <td>ErrorInResponseException</td>\n",
       "      <td>This happens while interacting with the Firefo...</td>\n",
       "    </tr>\n",
       "    <tr>\n",
       "      <th>13</th>\n",
       "      <td>ErrorHandler.UnknownServerException</td>\n",
       "      <td>Exception is used as a placeholder in case if ...</td>\n",
       "    </tr>\n",
       "    <tr>\n",
       "      <th>14</th>\n",
       "      <td>ImeActivationFailedException</td>\n",
       "      <td>This expectation will occur when IME engine ac...</td>\n",
       "    </tr>\n",
       "    <tr>\n",
       "      <th>15</th>\n",
       "      <td>ImeNotAvailableException</td>\n",
       "      <td>It takes place when IME support is unavailable.</td>\n",
       "    </tr>\n",
       "    <tr>\n",
       "      <th>16</th>\n",
       "      <td>InsecureCertificateException</td>\n",
       "      <td>Navigation made the user agent to hit a certif...</td>\n",
       "    </tr>\n",
       "    <tr>\n",
       "      <th>17</th>\n",
       "      <td>InvalidArgumentException</td>\n",
       "      <td>It occurs when an argument does not belong to ...</td>\n",
       "    </tr>\n",
       "    <tr>\n",
       "      <th>18</th>\n",
       "      <td>InvalidCookieDomainException</td>\n",
       "      <td>This happens when you try to add a cookie unde...</td>\n",
       "    </tr>\n",
       "    <tr>\n",
       "      <th>19</th>\n",
       "      <td>InvalidCoordinatesException</td>\n",
       "      <td>This type of Exception matches an interacting ...</td>\n",
       "    </tr>\n",
       "    <tr>\n",
       "      <th>20</th>\n",
       "      <td>InvalidElementStateExceptio</td>\n",
       "      <td>It occurs when command can’t be finished when ...</td>\n",
       "    </tr>\n",
       "    <tr>\n",
       "      <th>21</th>\n",
       "      <td>InvalidSessionIdException</td>\n",
       "      <td>This Exception took place when the given sessi...</td>\n",
       "    </tr>\n",
       "    <tr>\n",
       "      <th>22</th>\n",
       "      <td>InvalidSwitchToTargetException</td>\n",
       "      <td>This occurs when the frame or window target to...</td>\n",
       "    </tr>\n",
       "    <tr>\n",
       "      <th>23</th>\n",
       "      <td>JavascriptException</td>\n",
       "      <td>This issue occurs while executing JavaScript g...</td>\n",
       "    </tr>\n",
       "    <tr>\n",
       "      <th>24</th>\n",
       "      <td>JsonException</td>\n",
       "      <td>It occurs when you afford to get the session w...</td>\n",
       "    </tr>\n",
       "    <tr>\n",
       "      <th>25</th>\n",
       "      <td>NoSuchAttributeException</td>\n",
       "      <td>This kind of Exception occurs when the attribu...</td>\n",
       "    </tr>\n",
       "    <tr>\n",
       "      <th>26</th>\n",
       "      <td>MoveTargetOutOfBoundsException</td>\n",
       "      <td>It takes place if the target provided to the A...</td>\n",
       "    </tr>\n",
       "    <tr>\n",
       "      <th>27</th>\n",
       "      <td>NoSuchContextException</td>\n",
       "      <td>ContextAware does mobile device testing.</td>\n",
       "    </tr>\n",
       "    <tr>\n",
       "      <th>28</th>\n",
       "      <td>NoSuchCookieException</td>\n",
       "      <td>This Exception occurs when no cookie matching ...</td>\n",
       "    </tr>\n",
       "    <tr>\n",
       "      <th>29</th>\n",
       "      <td>NotFoundException</td>\n",
       "      <td>This Exception is a subclass of WebDriverExcep...</td>\n",
       "    </tr>\n",
       "    <tr>\n",
       "      <th>30</th>\n",
       "      <td>RemoteDriverServerException</td>\n",
       "      <td>This Selenium exception is thrown when the ser...</td>\n",
       "    </tr>\n",
       "    <tr>\n",
       "      <th>31</th>\n",
       "      <td>ScreenshotException</td>\n",
       "      <td>It is not possible to capture a screen.</td>\n",
       "    </tr>\n",
       "    <tr>\n",
       "      <th>32</th>\n",
       "      <td>SessionNotCreatedException</td>\n",
       "      <td>It happens when a new session could not be suc...</td>\n",
       "    </tr>\n",
       "    <tr>\n",
       "      <th>33</th>\n",
       "      <td>UnableToSetCookieException</td>\n",
       "      <td>This occurs if a driver is unable to set a coo...</td>\n",
       "    </tr>\n",
       "    <tr>\n",
       "      <th>34</th>\n",
       "      <td>UnexpectedTagNameException</td>\n",
       "      <td>Happens if a support class did not get a web e...</td>\n",
       "    </tr>\n",
       "    <tr>\n",
       "      <th>35</th>\n",
       "      <td>UnhandledAlertException</td>\n",
       "      <td>This expectation occurs when there is an alert...</td>\n",
       "    </tr>\n",
       "    <tr>\n",
       "      <th>36</th>\n",
       "      <td>UnexpectedAlertPresentException</td>\n",
       "      <td>It occurs when there is the appearance of an u...</td>\n",
       "    </tr>\n",
       "    <tr>\n",
       "      <th>37</th>\n",
       "      <td>UnknownMethodException</td>\n",
       "      <td>This Exception happens when the requested comm...</td>\n",
       "    </tr>\n",
       "    <tr>\n",
       "      <th>38</th>\n",
       "      <td>UnreachableBrowserException</td>\n",
       "      <td>This Exception occurs only when the browser is...</td>\n",
       "    </tr>\n",
       "    <tr>\n",
       "      <th>39</th>\n",
       "      <td>UnsupportedCommandException</td>\n",
       "      <td>This occurs when remote WebDriver does n’t sen...</td>\n",
       "    </tr>\n",
       "  </tbody>\n",
       "</table>\n",
       "</div>"
      ],
      "text/plain": [
       "                                   Name  \\\n",
       "0         ElementNotSelectableException   \n",
       "1                NoSuchElementException   \n",
       "2                  NoSuchFrameException   \n",
       "3               NoAlertPresentException   \n",
       "4                 NoSuchWindowException   \n",
       "5        StaleElementReferenceException   \n",
       "6              SessionNotFoundException   \n",
       "7                      TimeoutException   \n",
       "8                    WebDriverException   \n",
       "9             ConnectionClosedException   \n",
       "10     ElementClickInterceptedException   \n",
       "11      ElementNotInteractableException   \n",
       "12             ErrorInResponseException   \n",
       "13  ErrorHandler.UnknownServerException   \n",
       "14         ImeActivationFailedException   \n",
       "15             ImeNotAvailableException   \n",
       "16         InsecureCertificateException   \n",
       "17             InvalidArgumentException   \n",
       "18         InvalidCookieDomainException   \n",
       "19          InvalidCoordinatesException   \n",
       "20          InvalidElementStateExceptio   \n",
       "21            InvalidSessionIdException   \n",
       "22       InvalidSwitchToTargetException   \n",
       "23                  JavascriptException   \n",
       "24                        JsonException   \n",
       "25             NoSuchAttributeException   \n",
       "26       MoveTargetOutOfBoundsException   \n",
       "27               NoSuchContextException   \n",
       "28                NoSuchCookieException   \n",
       "29                    NotFoundException   \n",
       "30          RemoteDriverServerException   \n",
       "31                  ScreenshotException   \n",
       "32           SessionNotCreatedException   \n",
       "33           UnableToSetCookieException   \n",
       "34           UnexpectedTagNameException   \n",
       "35              UnhandledAlertException   \n",
       "36      UnexpectedAlertPresentException   \n",
       "37               UnknownMethodException   \n",
       "38          UnreachableBrowserException   \n",
       "39          UnsupportedCommandException   \n",
       "\n",
       "                                          Description  \n",
       "0   This Selenium exception occurs when an element...  \n",
       "1   This Exception occurs if an element could not ...  \n",
       "2   This Exception occurs if the frame target to b...  \n",
       "3   This Exception occurs when you switch to no pr...  \n",
       "4   This Exception occurs if the window target to ...  \n",
       "5   This Selenium exception occurs happens when th...  \n",
       "6   The WebDriver is acting after you quit the bro...  \n",
       "7   Thrown when there is not enough time for a com...  \n",
       "8   This Exception takes place when the WebDriver ...  \n",
       "9   This type of Exception takes place when there ...  \n",
       "10  The command may not be completed as the elemen...  \n",
       "11  This Selenium exception is thrown when any ele...  \n",
       "12  This happens while interacting with the Firefo...  \n",
       "13  Exception is used as a placeholder in case if ...  \n",
       "14  This expectation will occur when IME engine ac...  \n",
       "15    It takes place when IME support is unavailable.  \n",
       "16  Navigation made the user agent to hit a certif...  \n",
       "17  It occurs when an argument does not belong to ...  \n",
       "18  This happens when you try to add a cookie unde...  \n",
       "19  This type of Exception matches an interacting ...  \n",
       "20  It occurs when command can’t be finished when ...  \n",
       "21  This Exception took place when the given sessi...  \n",
       "22  This occurs when the frame or window target to...  \n",
       "23  This issue occurs while executing JavaScript g...  \n",
       "24  It occurs when you afford to get the session w...  \n",
       "25  This kind of Exception occurs when the attribu...  \n",
       "26  It takes place if the target provided to the A...  \n",
       "27           ContextAware does mobile device testing.  \n",
       "28  This Exception occurs when no cookie matching ...  \n",
       "29  This Exception is a subclass of WebDriverExcep...  \n",
       "30  This Selenium exception is thrown when the ser...  \n",
       "31            It is not possible to capture a screen.  \n",
       "32  It happens when a new session could not be suc...  \n",
       "33  This occurs if a driver is unable to set a coo...  \n",
       "34  Happens if a support class did not get a web e...  \n",
       "35  This expectation occurs when there is an alert...  \n",
       "36  It occurs when there is the appearance of an u...  \n",
       "37  This Exception happens when the requested comm...  \n",
       "38  This Exception occurs only when the browser is...  \n",
       "39  This occurs when remote WebDriver does n’t sen...  "
      ]
     },
     "execution_count": 25,
     "metadata": {},
     "output_type": "execute_result"
    }
   ],
   "source": [
    "table"
   ]
  },
  {
   "cell_type": "markdown",
   "id": "f8fc3c4e",
   "metadata": {},
   "source": [
    "Q4. Scrape the details of State-wise GDP of India from statisticstime.com.\n",
    "Url = http://statisticstimes.com/\n",
    "You have to find following details:\n",
    "A) Rank\n",
    "B) State\n",
    "C) GSDP(18-19)\n",
    "D) GSDP(17-18)\n",
    "E) Share(2017)\n",
    "F) GDP($ billion)\n",
    "Note: - From statisticstimes home page you have to reach to economy page through code."
   ]
  },
  {
   "cell_type": "code",
   "execution_count": 119,
   "id": "e3183efd",
   "metadata": {},
   "outputs": [
    {
     "name": "stderr",
     "output_type": "stream",
     "text": [
      "C:\\Users\\Asus\\AppData\\Local\\Temp/ipykernel_26256/2493915227.py:1: DeprecationWarning: executable_path has been deprecated, please pass in a Service object\n",
      "  driver = webdriver.Chrome(r\"C:\\Web driver\\chromedriver.exe\")\n"
     ]
    }
   ],
   "source": [
    "driver = webdriver.Chrome(r\"C:\\Web driver\\chromedriver.exe\")"
   ]
  },
  {
   "cell_type": "code",
   "execution_count": 124,
   "id": "f8c27c07",
   "metadata": {},
   "outputs": [],
   "source": [
    "url = \"http://statisticstimes.com/\"\n",
    "driver.get(url)\n",
    "time.sleep(4)\n",
    "driver.maximize_window()"
   ]
  },
  {
   "cell_type": "code",
   "execution_count": 130,
   "id": "5c9a01a1",
   "metadata": {},
   "outputs": [
    {
     "name": "stderr",
     "output_type": "stream",
     "text": [
      "C:\\Users\\Asus\\AppData\\Local\\Temp/ipykernel_26256/2204793304.py:2: DeprecationWarning: find_element_by_xpath is deprecated. Please use find_element(by=By.XPATH, value=xpath) instead\n",
      "  Economy=driver.find_element_by_xpath(\"/html/body/div[2]/div[1]/div[2]/div[2]\")\n"
     ]
    }
   ],
   "source": [
    "#Click Economy\n",
    "Economy=driver.find_element_by_xpath(\"/html/body/div[2]/div[1]/div[2]/div[2]\")\n",
    "Economy.click()\n"
   ]
  },
  {
   "cell_type": "code",
   "execution_count": 133,
   "id": "53847859",
   "metadata": {},
   "outputs": [
    {
     "name": "stderr",
     "output_type": "stream",
     "text": [
      "C:\\Users\\Asus\\AppData\\Local\\Temp/ipykernel_26256/1776027345.py:2: DeprecationWarning: find_element_by_xpath is deprecated. Please use find_element(by=By.XPATH, value=xpath) instead\n",
      "  India= driver.find_element_by_xpath(\"/html/body/div[2]/div[1]/div[2]/div[2]/div/a[3]\")\n"
     ]
    }
   ],
   "source": [
    "#Click India\n",
    "India= driver.find_element_by_xpath(\"/html/body/div[2]/div[1]/div[2]/div[2]/div/a[3]\")\n",
    "India.click()"
   ]
  },
  {
   "cell_type": "code",
   "execution_count": 134,
   "id": "ef61be62",
   "metadata": {},
   "outputs": [
    {
     "name": "stderr",
     "output_type": "stream",
     "text": [
      "C:\\Users\\Asus\\AppData\\Local\\Temp/ipykernel_26256/4166197628.py:2: DeprecationWarning: find_element_by_xpath is deprecated. Please use find_element(by=By.XPATH, value=xpath) instead\n",
      "  GDP=driver.find_element_by_xpath(\"/html/body/div[2]/div[2]/div[2]/ul/li[1]/a\")\n"
     ]
    }
   ],
   "source": [
    "#Click on India GPD\n",
    "GDP=driver.find_element_by_xpath(\"/html/body/div[2]/div[2]/div[2]/ul/li[1]/a\")\n",
    "GDP.click()"
   ]
  },
  {
   "cell_type": "code",
   "execution_count": 135,
   "id": "c5dd4f0b",
   "metadata": {},
   "outputs": [],
   "source": [
    "#Creating empty list\n",
    "Rank=[]\n",
    "State=[]\n",
    "GSDP_at_current_price_19_20=[]\n",
    "GSDP_at_current_price_18_19=[]\n",
    "Share_18_19=[]\n",
    "GDP_billion=[]\n"
   ]
  },
  {
   "cell_type": "code",
   "execution_count": 137,
   "id": "6d2654df",
   "metadata": {},
   "outputs": [
    {
     "name": "stderr",
     "output_type": "stream",
     "text": [
      "C:\\Users\\Asus\\AppData\\Local\\Temp/ipykernel_26256/1606775808.py:2: DeprecationWarning: find_elements_by_xpath is deprecated. Please use find_elements(by=By.XPATH, value=xpath) instead\n",
      "  rank= driver.find_elements_by_xpath(\"//td[@class='data1']\")\n"
     ]
    }
   ],
   "source": [
    "#Scraping Rank\n",
    "rank= driver.find_elements_by_xpath(\"//td[@class='data1']\")\n",
    "for i in rank:\n",
    "    if i.text is None:\n",
    "        Rank.append('--')\n",
    "    else:\n",
    "        Rank.append(i.text)"
   ]
  },
  {
   "cell_type": "code",
   "execution_count": 141,
   "id": "12779ed3",
   "metadata": {},
   "outputs": [
    {
     "name": "stderr",
     "output_type": "stream",
     "text": [
      "C:\\Users\\Asus\\AppData\\Local\\Temp/ipykernel_26256/1789462581.py:2: DeprecationWarning: find_elements_by_xpath is deprecated. Please use find_elements(by=By.XPATH, value=xpath) instead\n",
      "  state= driver.find_elements_by_xpath(\"//td[@class='name']\")\n"
     ]
    }
   ],
   "source": [
    "#Scraping State\n",
    "state= driver.find_elements_by_xpath(\"//td[@class='name']\")\n",
    "for i in state:\n",
    "    if i.text is None:\n",
    "        State.append('--')\n",
    "    else:\n",
    "        State.append(i.text)"
   ]
  },
  {
   "cell_type": "code",
   "execution_count": 153,
   "id": "b2a5c0da",
   "metadata": {},
   "outputs": [
    {
     "name": "stderr",
     "output_type": "stream",
     "text": [
      "C:\\Users\\Asus\\AppData\\Local\\Temp/ipykernel_26256/1340142769.py:2: DeprecationWarning: find_elements_by_xpath is deprecated. Please use find_elements(by=By.XPATH, value=xpath) instead\n",
      "  gSDP_at_current_price_19_20= driver.find_elements_by_xpath(\"//td[@class='data']\")\n"
     ]
    }
   ],
   "source": [
    "#Scraping GSDP_at_current_price_19_20\n",
    "gSDP_at_current_price_19_20= driver.find_elements_by_xpath(\"//td[@class='data']\")\n",
    "for i in gSDP_at_current_price_19_20:\n",
    "    if i.text is None:\n",
    "        GSDP_at_current_price_19_20.append('--')\n",
    "    else:\n",
    "        GSDP_at_current_price_19_20.append(i.text)"
   ]
  },
  {
   "cell_type": "code",
   "execution_count": 143,
   "id": "37a3e01d",
   "metadata": {},
   "outputs": [
    {
     "name": "stderr",
     "output_type": "stream",
     "text": [
      "C:\\Users\\Asus\\AppData\\Local\\Temp/ipykernel_26256/1625769704.py:2: DeprecationWarning: find_elements_by_xpath is deprecated. Please use find_elements(by=By.XPATH, value=xpath) instead\n",
      "  gSDP_at_current_price_18_19= driver.find_elements_by_xpath(\"//td[@class='data sorting_1']\")\n"
     ]
    }
   ],
   "source": [
    "#Scraping GSDP_at_current_price_18_19\n",
    "gSDP_at_current_price_18_19= driver.find_elements_by_xpath(\"//td[@class='data sorting_1']\")\n",
    "for i in gSDP_at_current_price_18_19:\n",
    "    if i.text is None:\n",
    "        GSDP_at_current_price_18_19.append('--')\n",
    "    else:\n",
    "        GSDP_at_current_price_18_19.append(i.text)"
   ]
  },
  {
   "cell_type": "code",
   "execution_count": 154,
   "id": "f5d480fc",
   "metadata": {},
   "outputs": [
    {
     "name": "stderr",
     "output_type": "stream",
     "text": [
      "C:\\Users\\Asus\\AppData\\Local\\Temp/ipykernel_26256/4264932370.py:2: DeprecationWarning: find_elements_by_xpath is deprecated. Please use find_elements(by=By.XPATH, value=xpath) instead\n",
      "  share_18_19= driver.find_elements_by_xpath(\"//td[@class='data']\")\n"
     ]
    }
   ],
   "source": [
    "#Scraping Share_18_19\n",
    "share_18_19= driver.find_elements_by_xpath(\"//td[@class='data']\")\n",
    "for i in share_18_19:\n",
    "    if i.text is None:\n",
    "        Share_18_19.append('--')\n",
    "    else:\n",
    "        Share_18_19.append(i.text)"
   ]
  },
  {
   "cell_type": "code",
   "execution_count": 155,
   "id": "36041d62",
   "metadata": {},
   "outputs": [
    {
     "name": "stderr",
     "output_type": "stream",
     "text": [
      "C:\\Users\\Asus\\AppData\\Local\\Temp/ipykernel_26256/2305165584.py:2: DeprecationWarning: find_elements_by_xpath is deprecated. Please use find_elements(by=By.XPATH, value=xpath) instead\n",
      "  gDP_billion= driver.find_elements_by_xpath(\"//td[@class='data']\")\n"
     ]
    }
   ],
   "source": [
    "#Scraping GDP_billion\n",
    "gDP_billion= driver.find_elements_by_xpath(\"//td[@class='data']\")\n",
    "for i in gDP_billion:\n",
    "    if i.text is None:\n",
    "        GDP_billion.append('--')\n",
    "    else:\n",
    "        GDP_billion.append(i.text)"
   ]
  },
  {
   "cell_type": "code",
   "execution_count": 158,
   "id": "46946678",
   "metadata": {},
   "outputs": [
    {
     "data": {
      "text/html": [
       "<div>\n",
       "<style scoped>\n",
       "    .dataframe tbody tr th:only-of-type {\n",
       "        vertical-align: middle;\n",
       "    }\n",
       "\n",
       "    .dataframe tbody tr th {\n",
       "        vertical-align: top;\n",
       "    }\n",
       "\n",
       "    .dataframe thead th {\n",
       "        text-align: right;\n",
       "    }\n",
       "</style>\n",
       "<table border=\"1\" class=\"dataframe\">\n",
       "  <thead>\n",
       "    <tr style=\"text-align: right;\">\n",
       "      <th></th>\n",
       "      <th>Rank</th>\n",
       "      <th>State</th>\n",
       "      <th>GSDP_at_current_price_19_20</th>\n",
       "      <th>GSDP_at_current_price_18_19</th>\n",
       "      <th>Share_18_19</th>\n",
       "      <th>GDP_billion</th>\n",
       "    </tr>\n",
       "  </thead>\n",
       "  <tbody>\n",
       "    <tr>\n",
       "      <th>0</th>\n",
       "      <td>1</td>\n",
       "      <td>Maharashtra</td>\n",
       "      <td>-</td>\n",
       "      <td>2,632,792</td>\n",
       "      <td>-</td>\n",
       "      <td>-</td>\n",
       "    </tr>\n",
       "    <tr>\n",
       "      <th>1</th>\n",
       "      <td>2</td>\n",
       "      <td>Tamil Nadu</td>\n",
       "      <td>13.94%</td>\n",
       "      <td>1,630,208</td>\n",
       "      <td>13.94%</td>\n",
       "      <td>13.94%</td>\n",
       "    </tr>\n",
       "    <tr>\n",
       "      <th>2</th>\n",
       "      <td>3</td>\n",
       "      <td>Uttar Pradesh</td>\n",
       "      <td>399.921</td>\n",
       "      <td>1,584,764</td>\n",
       "      <td>399.921</td>\n",
       "      <td>399.921</td>\n",
       "    </tr>\n",
       "    <tr>\n",
       "      <th>3</th>\n",
       "      <td>4</td>\n",
       "      <td>Gujarat</td>\n",
       "      <td>-</td>\n",
       "      <td>1,502,899</td>\n",
       "      <td>-</td>\n",
       "      <td>-</td>\n",
       "    </tr>\n",
       "    <tr>\n",
       "      <th>4</th>\n",
       "      <td>5</td>\n",
       "      <td>Karnataka</td>\n",
       "      <td>2,039,074</td>\n",
       "      <td>1,493,127</td>\n",
       "      <td>2,039,074</td>\n",
       "      <td>2,039,074</td>\n",
       "    </tr>\n",
       "    <tr>\n",
       "      <th>5</th>\n",
       "      <td>6</td>\n",
       "      <td>West Bengal</td>\n",
       "      <td>1,845,853</td>\n",
       "      <td>1,089,898</td>\n",
       "      <td>1,845,853</td>\n",
       "      <td>1,845,853</td>\n",
       "    </tr>\n",
       "    <tr>\n",
       "      <th>6</th>\n",
       "      <td>7</td>\n",
       "      <td>Rajasthan</td>\n",
       "      <td>8.63%</td>\n",
       "      <td>942,586</td>\n",
       "      <td>8.63%</td>\n",
       "      <td>8.63%</td>\n",
       "    </tr>\n",
       "    <tr>\n",
       "      <th>7</th>\n",
       "      <td>8</td>\n",
       "      <td>Andhra Pradesh</td>\n",
       "      <td>247.629</td>\n",
       "      <td>862,957</td>\n",
       "      <td>247.629</td>\n",
       "      <td>247.629</td>\n",
       "    </tr>\n",
       "    <tr>\n",
       "      <th>8</th>\n",
       "      <td>9</td>\n",
       "      <td>Telangana</td>\n",
       "      <td>1,312,929</td>\n",
       "      <td>861,031</td>\n",
       "      <td>1,312,929</td>\n",
       "      <td>1,312,929</td>\n",
       "    </tr>\n",
       "    <tr>\n",
       "      <th>9</th>\n",
       "      <td>10</td>\n",
       "      <td>Madhya Pradesh</td>\n",
       "      <td>1,215,307</td>\n",
       "      <td>809,592</td>\n",
       "      <td>1,215,307</td>\n",
       "      <td>1,215,307</td>\n",
       "    </tr>\n",
       "    <tr>\n",
       "      <th>10</th>\n",
       "      <td>11</td>\n",
       "      <td>Kerala</td>\n",
       "      <td>1,687,818</td>\n",
       "      <td>781,653</td>\n",
       "      <td>1,687,818</td>\n",
       "      <td>1,687,818</td>\n",
       "    </tr>\n",
       "    <tr>\n",
       "      <th>11</th>\n",
       "      <td>12</td>\n",
       "      <td>Delhi</td>\n",
       "      <td>8.39%</td>\n",
       "      <td>774,870</td>\n",
       "      <td>8.39%</td>\n",
       "      <td>8.39%</td>\n",
       "    </tr>\n",
       "    <tr>\n",
       "      <th>12</th>\n",
       "      <td>13</td>\n",
       "      <td>Haryana</td>\n",
       "      <td>240.726</td>\n",
       "      <td>734,163</td>\n",
       "      <td>240.726</td>\n",
       "      <td>240.726</td>\n",
       "    </tr>\n",
       "    <tr>\n",
       "      <th>13</th>\n",
       "      <td>14</td>\n",
       "      <td>Bihar</td>\n",
       "      <td>1,166,817</td>\n",
       "      <td>530,363</td>\n",
       "      <td>1,166,817</td>\n",
       "      <td>1,166,817</td>\n",
       "    </tr>\n",
       "    <tr>\n",
       "      <th>14</th>\n",
       "      <td>15</td>\n",
       "      <td>Punjab</td>\n",
       "      <td>1,123,982</td>\n",
       "      <td>526,376</td>\n",
       "      <td>1,123,982</td>\n",
       "      <td>1,123,982</td>\n",
       "    </tr>\n",
       "    <tr>\n",
       "      <th>15</th>\n",
       "      <td>16</td>\n",
       "      <td>Odisha</td>\n",
       "      <td>-</td>\n",
       "      <td>487,805</td>\n",
       "      <td>-</td>\n",
       "      <td>-</td>\n",
       "    </tr>\n",
       "    <tr>\n",
       "      <th>16</th>\n",
       "      <td>17</td>\n",
       "      <td>Assam</td>\n",
       "      <td>7.96%</td>\n",
       "      <td>315,881</td>\n",
       "      <td>7.96%</td>\n",
       "      <td>7.96%</td>\n",
       "    </tr>\n",
       "    <tr>\n",
       "      <th>17</th>\n",
       "      <td>18</td>\n",
       "      <td>Chhattisgarh</td>\n",
       "      <td>228.290</td>\n",
       "      <td>304,063</td>\n",
       "      <td>228.290</td>\n",
       "      <td>228.290</td>\n",
       "    </tr>\n",
       "    <tr>\n",
       "      <th>18</th>\n",
       "      <td>19</td>\n",
       "      <td>Jharkhand</td>\n",
       "      <td>-</td>\n",
       "      <td>297,204</td>\n",
       "      <td>-</td>\n",
       "      <td>-</td>\n",
       "    </tr>\n",
       "    <tr>\n",
       "      <th>19</th>\n",
       "      <td>20</td>\n",
       "      <td>Uttarakhand</td>\n",
       "      <td>1,186,379</td>\n",
       "      <td>245,895</td>\n",
       "      <td>1,186,379</td>\n",
       "      <td>1,186,379</td>\n",
       "    </tr>\n",
       "    <tr>\n",
       "      <th>20</th>\n",
       "      <td>21</td>\n",
       "      <td>Jammu &amp; Kashmir</td>\n",
       "      <td>1,631,977</td>\n",
       "      <td>155,956</td>\n",
       "      <td>1,631,977</td>\n",
       "      <td>1,631,977</td>\n",
       "    </tr>\n",
       "    <tr>\n",
       "      <th>21</th>\n",
       "      <td>22</td>\n",
       "      <td>Himachal Pradesh</td>\n",
       "      <td>7.91%</td>\n",
       "      <td>153,845</td>\n",
       "      <td>7.91%</td>\n",
       "      <td>7.91%</td>\n",
       "    </tr>\n",
       "    <tr>\n",
       "      <th>22</th>\n",
       "      <td>23</td>\n",
       "      <td>Goa</td>\n",
       "      <td>226.806</td>\n",
       "      <td>73,170</td>\n",
       "      <td>226.806</td>\n",
       "      <td>226.806</td>\n",
       "    </tr>\n",
       "    <tr>\n",
       "      <th>23</th>\n",
       "      <td>24</td>\n",
       "      <td>Tripura</td>\n",
       "      <td>1,156,039</td>\n",
       "      <td>49,845</td>\n",
       "      <td>1,156,039</td>\n",
       "      <td>1,156,039</td>\n",
       "    </tr>\n",
       "    <tr>\n",
       "      <th>24</th>\n",
       "      <td>25</td>\n",
       "      <td>Chandigarh</td>\n",
       "      <td>1,091,077</td>\n",
       "      <td>42,114</td>\n",
       "      <td>1,091,077</td>\n",
       "      <td>1,091,077</td>\n",
       "    </tr>\n",
       "    <tr>\n",
       "      <th>25</th>\n",
       "      <td>26</td>\n",
       "      <td>Puducherry</td>\n",
       "      <td>1,253,832</td>\n",
       "      <td>34,433</td>\n",
       "      <td>1,253,832</td>\n",
       "      <td>1,253,832</td>\n",
       "    </tr>\n",
       "    <tr>\n",
       "      <th>26</th>\n",
       "      <td>27</td>\n",
       "      <td>Meghalaya</td>\n",
       "      <td>5.77%</td>\n",
       "      <td>33,481</td>\n",
       "      <td>5.77%</td>\n",
       "      <td>5.77%</td>\n",
       "    </tr>\n",
       "    <tr>\n",
       "      <th>27</th>\n",
       "      <td>28</td>\n",
       "      <td>Sikkim</td>\n",
       "      <td>165.556</td>\n",
       "      <td>28,723</td>\n",
       "      <td>165.556</td>\n",
       "      <td>165.556</td>\n",
       "    </tr>\n",
       "    <tr>\n",
       "      <th>28</th>\n",
       "      <td>29</td>\n",
       "      <td>Manipur</td>\n",
       "      <td>793,223</td>\n",
       "      <td>27,870</td>\n",
       "      <td>793,223</td>\n",
       "      <td>793,223</td>\n",
       "    </tr>\n",
       "    <tr>\n",
       "      <th>29</th>\n",
       "      <td>30</td>\n",
       "      <td>Nagaland</td>\n",
       "      <td>739,525</td>\n",
       "      <td>27,283</td>\n",
       "      <td>739,525</td>\n",
       "      <td>739,525</td>\n",
       "    </tr>\n",
       "    <tr>\n",
       "      <th>30</th>\n",
       "      <td>31</td>\n",
       "      <td>Arunachal Pradesh</td>\n",
       "      <td>1,020,989</td>\n",
       "      <td>24,603</td>\n",
       "      <td>1,020,989</td>\n",
       "      <td>1,020,989</td>\n",
       "    </tr>\n",
       "    <tr>\n",
       "      <th>31</th>\n",
       "      <td>32</td>\n",
       "      <td>Mizoram</td>\n",
       "      <td>4.99%</td>\n",
       "      <td>22,287</td>\n",
       "      <td>4.99%</td>\n",
       "      <td>4.99%</td>\n",
       "    </tr>\n",
       "    <tr>\n",
       "      <th>32</th>\n",
       "      <td>33</td>\n",
       "      <td>Andaman &amp; Nicobar Islands</td>\n",
       "      <td>143.179</td>\n",
       "      <td>-</td>\n",
       "      <td>143.179</td>\n",
       "      <td>143.179</td>\n",
       "    </tr>\n",
       "  </tbody>\n",
       "</table>\n",
       "</div>"
      ],
      "text/plain": [
       "   Rank                      State GSDP_at_current_price_19_20  \\\n",
       "0     1                Maharashtra                           -   \n",
       "1     2                 Tamil Nadu                      13.94%   \n",
       "2     3              Uttar Pradesh                     399.921   \n",
       "3     4                    Gujarat                           -   \n",
       "4     5                  Karnataka                   2,039,074   \n",
       "5     6                West Bengal                   1,845,853   \n",
       "6     7                  Rajasthan                       8.63%   \n",
       "7     8             Andhra Pradesh                     247.629   \n",
       "8     9                  Telangana                   1,312,929   \n",
       "9    10             Madhya Pradesh                   1,215,307   \n",
       "10   11                     Kerala                   1,687,818   \n",
       "11   12                      Delhi                       8.39%   \n",
       "12   13                    Haryana                     240.726   \n",
       "13   14                      Bihar                   1,166,817   \n",
       "14   15                     Punjab                   1,123,982   \n",
       "15   16                     Odisha                           -   \n",
       "16   17                      Assam                       7.96%   \n",
       "17   18               Chhattisgarh                     228.290   \n",
       "18   19                  Jharkhand                           -   \n",
       "19   20                Uttarakhand                   1,186,379   \n",
       "20   21            Jammu & Kashmir                   1,631,977   \n",
       "21   22           Himachal Pradesh                       7.91%   \n",
       "22   23                        Goa                     226.806   \n",
       "23   24                    Tripura                   1,156,039   \n",
       "24   25                 Chandigarh                   1,091,077   \n",
       "25   26                 Puducherry                   1,253,832   \n",
       "26   27                  Meghalaya                       5.77%   \n",
       "27   28                     Sikkim                     165.556   \n",
       "28   29                    Manipur                     793,223   \n",
       "29   30                   Nagaland                     739,525   \n",
       "30   31          Arunachal Pradesh                   1,020,989   \n",
       "31   32                    Mizoram                       4.99%   \n",
       "32   33  Andaman & Nicobar Islands                     143.179   \n",
       "\n",
       "   GSDP_at_current_price_18_19 Share_18_19 GDP_billion  \n",
       "0                    2,632,792           -           -  \n",
       "1                    1,630,208      13.94%      13.94%  \n",
       "2                    1,584,764     399.921     399.921  \n",
       "3                    1,502,899           -           -  \n",
       "4                    1,493,127   2,039,074   2,039,074  \n",
       "5                    1,089,898   1,845,853   1,845,853  \n",
       "6                      942,586       8.63%       8.63%  \n",
       "7                      862,957     247.629     247.629  \n",
       "8                      861,031   1,312,929   1,312,929  \n",
       "9                      809,592   1,215,307   1,215,307  \n",
       "10                     781,653   1,687,818   1,687,818  \n",
       "11                     774,870       8.39%       8.39%  \n",
       "12                     734,163     240.726     240.726  \n",
       "13                     530,363   1,166,817   1,166,817  \n",
       "14                     526,376   1,123,982   1,123,982  \n",
       "15                     487,805           -           -  \n",
       "16                     315,881       7.96%       7.96%  \n",
       "17                     304,063     228.290     228.290  \n",
       "18                     297,204           -           -  \n",
       "19                     245,895   1,186,379   1,186,379  \n",
       "20                     155,956   1,631,977   1,631,977  \n",
       "21                     153,845       7.91%       7.91%  \n",
       "22                      73,170     226.806     226.806  \n",
       "23                      49,845   1,156,039   1,156,039  \n",
       "24                      42,114   1,091,077   1,091,077  \n",
       "25                      34,433   1,253,832   1,253,832  \n",
       "26                      33,481       5.77%       5.77%  \n",
       "27                      28,723     165.556     165.556  \n",
       "28                      27,870     793,223     793,223  \n",
       "29                      27,283     739,525     739,525  \n",
       "30                      24,603   1,020,989   1,020,989  \n",
       "31                      22,287       4.99%       4.99%  \n",
       "32                           -     143.179     143.179  "
      ]
     },
     "execution_count": 158,
     "metadata": {},
     "output_type": "execute_result"
    }
   ],
   "source": [
    "# creating dataframe\n",
    "GDP_India=pd.DataFrame({})\n",
    "GDP_India['Rank']=Rank[:33]\n",
    "GDP_India['State']=State[:33]\n",
    "GDP_India['GSDP_at_current_price_19_20']=GSDP_at_current_price_19_20[:33]\n",
    "GDP_India['GSDP_at_current_price_18_19']=GSDP_at_current_price_18_19[:33]\n",
    "GDP_India['Share_18_19']=Share_18_19[:33]\n",
    "GDP_India['GDP_billion']=GDP_billion[:33]\n",
    "GDP_India"
   ]
  },
  {
   "cell_type": "markdown",
   "id": "8d96f738",
   "metadata": {},
   "source": [
    "Q5. Scrape the details of trending repositories on Github.com.\n",
    "Url = https://github.com/\n",
    "You have to find the following details:\n",
    "A) Repository title\n",
    "B) Repository description\n",
    "C) Contributors count\n",
    "D) Language used\n"
   ]
  },
  {
   "cell_type": "code",
   "execution_count": 162,
   "id": "eae7c6ea",
   "metadata": {},
   "outputs": [
    {
     "name": "stderr",
     "output_type": "stream",
     "text": [
      "C:\\Users\\Asus\\AppData\\Local\\Temp/ipykernel_26256/2493915227.py:1: DeprecationWarning: executable_path has been deprecated, please pass in a Service object\n",
      "  driver = webdriver.Chrome(r\"C:\\Web driver\\chromedriver.exe\")\n"
     ]
    }
   ],
   "source": [
    "driver = webdriver.Chrome(r\"C:\\Web driver\\chromedriver.exe\")"
   ]
  },
  {
   "cell_type": "code",
   "execution_count": 163,
   "id": "96c95c0a",
   "metadata": {},
   "outputs": [],
   "source": [
    "url = \"https://github.com/ \"\n",
    "driver.get(url)\n",
    "time.sleep(4)\n",
    "driver.maximize_window()"
   ]
  },
  {
   "cell_type": "code",
   "execution_count": 165,
   "id": "972cc7bf",
   "metadata": {},
   "outputs": [
    {
     "name": "stderr",
     "output_type": "stream",
     "text": [
      "C:\\Users\\Asus\\AppData\\Local\\Temp/ipykernel_26256/1776369376.py:1: DeprecationWarning: find_element_by_xpath is deprecated. Please use find_element(by=By.XPATH, value=xpath) instead\n",
      "  Explore=driver.find_element_by_xpath(\"/html/body/div[1]/header/div/div[2]/nav/ul/li[4]\")\n"
     ]
    }
   ],
   "source": [
    "Explore=driver.find_element_by_xpath(\"/html/body/div[1]/header/div/div[2]/nav/ul/li[4]\")\n",
    "Explore.click()"
   ]
  },
  {
   "cell_type": "code",
   "execution_count": 166,
   "id": "8d45b56e",
   "metadata": {},
   "outputs": [
    {
     "name": "stderr",
     "output_type": "stream",
     "text": [
      "C:\\Users\\Asus\\AppData\\Local\\Temp/ipykernel_26256/1996564426.py:1: DeprecationWarning: find_element_by_xpath is deprecated. Please use find_element(by=By.XPATH, value=xpath) instead\n",
      "  Treading=driver.find_element_by_xpath(\"/html/body/div[1]/header/div/div[2]/nav/ul/li[4]/details/div/ul/li[5]/a\")\n"
     ]
    }
   ],
   "source": [
    "Treading=driver.find_element_by_xpath(\"/html/body/div[1]/header/div/div[2]/nav/ul/li[4]/details/div/ul/li[5]/a\")\n",
    "Treading.click()"
   ]
  },
  {
   "cell_type": "code",
   "execution_count": 167,
   "id": "abdfb506",
   "metadata": {},
   "outputs": [],
   "source": [
    "# Creating emplty list \n",
    "Repository_title=[]\n",
    "Repository_description=[]\n",
    "Contributors_count=[]\n",
    "Language_used=[]"
   ]
  },
  {
   "cell_type": "code",
   "execution_count": 168,
   "id": "b703b5c1",
   "metadata": {},
   "outputs": [
    {
     "name": "stderr",
     "output_type": "stream",
     "text": [
      "C:\\Users\\Asus\\AppData\\Local\\Temp/ipykernel_26256/3312198327.py:2: DeprecationWarning: find_elements_by_xpath is deprecated. Please use find_elements(by=By.XPATH, value=xpath) instead\n",
      "  repository_title=driver.find_elements_by_xpath(\"//h1[@class='h3 lh-condensed']\")\n"
     ]
    }
   ],
   "source": [
    "#scraping Repository_title\n",
    "repository_title=driver.find_elements_by_xpath(\"//h1[@class='h3 lh-condensed']\")\n",
    "for i in repository_title:\n",
    "    if i.text is None:\n",
    "        Repository_title.append('--')\n",
    "    else:\n",
    "        Repository_title.append(i.text)"
   ]
  },
  {
   "cell_type": "code",
   "execution_count": 170,
   "id": "2c63c396",
   "metadata": {},
   "outputs": [
    {
     "name": "stderr",
     "output_type": "stream",
     "text": [
      "C:\\Users\\Asus\\AppData\\Local\\Temp/ipykernel_26256/1966059735.py:2: DeprecationWarning: find_elements_by_xpath is deprecated. Please use find_elements(by=By.XPATH, value=xpath) instead\n",
      "  repository_description=driver.find_elements_by_xpath(\"//p[@class='col-9 color-fg-muted my-1 pr-4']\")\n"
     ]
    }
   ],
   "source": [
    "#scraping Repository_description\n",
    "repository_description=driver.find_elements_by_xpath(\"//p[@class='col-9 color-fg-muted my-1 pr-4']\")\n",
    "for i in repository_description:\n",
    "    if i.text is None:\n",
    "        Repository_description.append('--')\n",
    "    else:\n",
    "        Repository_description.append(i.text)"
   ]
  },
  {
   "cell_type": "code",
   "execution_count": 171,
   "id": "897c5cf7",
   "metadata": {},
   "outputs": [
    {
     "name": "stderr",
     "output_type": "stream",
     "text": [
      "C:\\Users\\Asus\\AppData\\Local\\Temp/ipykernel_26256/2216261003.py:2: DeprecationWarning: find_elements_by_xpath is deprecated. Please use find_elements(by=By.XPATH, value=xpath) instead\n",
      "  contributors_count=driver.find_elements_by_xpath(\"//span[@class='d-inline-block mr-3']\")\n"
     ]
    }
   ],
   "source": [
    "#scraping Contributors_count\n",
    "contributors_count=driver.find_elements_by_xpath(\"//span[@class='d-inline-block mr-3']\")\n",
    "for i in contributors_count:\n",
    "    if i.text is None:\n",
    "        Contributors_count.append('--')\n",
    "    else:\n",
    "        Contributors_count.append(i.text)"
   ]
  },
  {
   "cell_type": "code",
   "execution_count": 172,
   "id": "df1dc250",
   "metadata": {},
   "outputs": [
    {
     "name": "stderr",
     "output_type": "stream",
     "text": [
      "C:\\Users\\Asus\\AppData\\Local\\Temp/ipykernel_26256/2350040667.py:2: DeprecationWarning: find_elements_by_xpath is deprecated. Please use find_elements(by=By.XPATH, value=xpath) instead\n",
      "  language_used=driver.find_elements_by_xpath(\"//span[@class='d-inline-block ml-0 mr-3']\")\n"
     ]
    }
   ],
   "source": [
    "#scraping Language_used\n",
    "language_used=driver.find_elements_by_xpath(\"//span[@class='d-inline-block ml-0 mr-3']\")\n",
    "for i in language_used:\n",
    "    if i.text is None:\n",
    "        Language_used.append('--')\n",
    "    else:\n",
    "        Language_used.append(i.text)"
   ]
  },
  {
   "cell_type": "code",
   "execution_count": 175,
   "id": "df2d487a",
   "metadata": {},
   "outputs": [
    {
     "data": {
      "text/html": [
       "<div>\n",
       "<style scoped>\n",
       "    .dataframe tbody tr th:only-of-type {\n",
       "        vertical-align: middle;\n",
       "    }\n",
       "\n",
       "    .dataframe tbody tr th {\n",
       "        vertical-align: top;\n",
       "    }\n",
       "\n",
       "    .dataframe thead th {\n",
       "        text-align: right;\n",
       "    }\n",
       "</style>\n",
       "<table border=\"1\" class=\"dataframe\">\n",
       "  <thead>\n",
       "    <tr style=\"text-align: right;\">\n",
       "      <th></th>\n",
       "      <th>Repository_title</th>\n",
       "      <th>Repository_description</th>\n",
       "      <th>Contributors_count</th>\n",
       "      <th>Language_used</th>\n",
       "    </tr>\n",
       "  </thead>\n",
       "  <tbody>\n",
       "    <tr>\n",
       "      <th>0</th>\n",
       "      <td>hashicorp / nomad</td>\n",
       "      <td>Nomad is an easy-to-use, flexible, and perform...</td>\n",
       "      <td>Built by</td>\n",
       "      <td>Go</td>\n",
       "    </tr>\n",
       "    <tr>\n",
       "      <th>1</th>\n",
       "      <td>cloudwego / hertz</td>\n",
       "      <td>A high-performance and strong-extensibility Go...</td>\n",
       "      <td>Built by</td>\n",
       "      <td>Go</td>\n",
       "    </tr>\n",
       "    <tr>\n",
       "      <th>2</th>\n",
       "      <td>OAI / OpenAPI-Specification</td>\n",
       "      <td>The OpenAPI Specification Repository</td>\n",
       "      <td>Built by</td>\n",
       "      <td>JavaScript</td>\n",
       "    </tr>\n",
       "    <tr>\n",
       "      <th>3</th>\n",
       "      <td>Developer-Y / cs-video-courses</td>\n",
       "      <td>List of Computer Science courses with video le...</td>\n",
       "      <td>Built by</td>\n",
       "      <td>Python</td>\n",
       "    </tr>\n",
       "    <tr>\n",
       "      <th>4</th>\n",
       "      <td>mingrammer / diagrams</td>\n",
       "      <td>🎨 Diagram as Code for prototyping cloud system...</td>\n",
       "      <td>Built by</td>\n",
       "      <td>Python</td>\n",
       "    </tr>\n",
       "    <tr>\n",
       "      <th>5</th>\n",
       "      <td>mosaicml / composer</td>\n",
       "      <td>train neural networks up to 7x faster</td>\n",
       "      <td>Built by</td>\n",
       "      <td>C++</td>\n",
       "    </tr>\n",
       "    <tr>\n",
       "      <th>6</th>\n",
       "      <td>LeadCoding / 3-weeks-Google-Prep</td>\n",
       "      <td>Firebase iOS SDK</td>\n",
       "      <td>Built by</td>\n",
       "      <td>Objective-C</td>\n",
       "    </tr>\n",
       "    <tr>\n",
       "      <th>7</th>\n",
       "      <td>firebase / firebase-ios-sdk</td>\n",
       "      <td>Documentation for GitHub Copilot</td>\n",
       "      <td>Built by</td>\n",
       "      <td>Python</td>\n",
       "    </tr>\n",
       "    <tr>\n",
       "      <th>8</th>\n",
       "      <td>github / copilot-docs</td>\n",
       "      <td>My awesomewm dotfiles for awesome people! ✨</td>\n",
       "      <td>Built by</td>\n",
       "      <td>CSS</td>\n",
       "    </tr>\n",
       "    <tr>\n",
       "      <th>9</th>\n",
       "      <td>rxyhn / dotfiles</td>\n",
       "      <td>Vector database for scalable similarity search...</td>\n",
       "      <td>Built by</td>\n",
       "      <td>Go</td>\n",
       "    </tr>\n",
       "    <tr>\n",
       "      <th>10</th>\n",
       "      <td>milvus-io / milvus</td>\n",
       "      <td>Spring Cloud Tencent is a Spring Boot based Se...</td>\n",
       "      <td>Built by</td>\n",
       "      <td>Java</td>\n",
       "    </tr>\n",
       "    <tr>\n",
       "      <th>11</th>\n",
       "      <td>Tencent / spring-cloud-tencent</td>\n",
       "      <td>Haptic input knob with software-defined endsto...</td>\n",
       "      <td>Built by</td>\n",
       "      <td>C++</td>\n",
       "    </tr>\n",
       "    <tr>\n",
       "      <th>12</th>\n",
       "      <td>scottbez1 / smartknob</td>\n",
       "      <td>🍀 Pytorch implementation of various Attention ...</td>\n",
       "      <td>Built by</td>\n",
       "      <td>Python</td>\n",
       "    </tr>\n",
       "    <tr>\n",
       "      <th>13</th>\n",
       "      <td>xmu-xiaoma666 / External-Attention-pytorch</td>\n",
       "      <td>All about bug bounty (bypasses, payloads, and ...</td>\n",
       "      <td>Built by</td>\n",
       "      <td>Go</td>\n",
       "    </tr>\n",
       "    <tr>\n",
       "      <th>14</th>\n",
       "      <td>daffainfo / AllAboutBugBounty</td>\n",
       "      <td>A toolkit with common assertions and mocks tha...</td>\n",
       "      <td>Built by</td>\n",
       "      <td>Ruby</td>\n",
       "    </tr>\n",
       "    <tr>\n",
       "      <th>15</th>\n",
       "      <td>stretchr / testify</td>\n",
       "      <td>Polyformer is an open-source project that aims...</td>\n",
       "      <td>Built by</td>\n",
       "      <td>PHP</td>\n",
       "    </tr>\n",
       "    <tr>\n",
       "      <th>16</th>\n",
       "      <td>Reiten966 / Polyformer</td>\n",
       "      <td>🚀 The easiest way to automate building and rel...</td>\n",
       "      <td>Built by</td>\n",
       "      <td>Swift</td>\n",
       "    </tr>\n",
       "    <tr>\n",
       "      <th>17</th>\n",
       "      <td>fastlane / fastlane</td>\n",
       "      <td>PHP_CodeSniffer tokenizes PHP files and detect...</td>\n",
       "      <td>Built by</td>\n",
       "      <td>C</td>\n",
       "    </tr>\n",
       "    <tr>\n",
       "      <th>18</th>\n",
       "      <td>squizlabs / PHP_CodeSniffer</td>\n",
       "      <td>An overview of the different types of charts y...</td>\n",
       "      <td>Built by</td>\n",
       "      <td>PHP</td>\n",
       "    </tr>\n",
       "    <tr>\n",
       "      <th>19</th>\n",
       "      <td>jordibruin / Swift-Charts-Examples</td>\n",
       "      <td>A collection of resources to learn about MLOPs.</td>\n",
       "      <td>Built by</td>\n",
       "      <td>Smarty</td>\n",
       "    </tr>\n",
       "  </tbody>\n",
       "</table>\n",
       "</div>"
      ],
      "text/plain": [
       "                              Repository_title  \\\n",
       "0                            hashicorp / nomad   \n",
       "1                            cloudwego / hertz   \n",
       "2                  OAI / OpenAPI-Specification   \n",
       "3               Developer-Y / cs-video-courses   \n",
       "4                        mingrammer / diagrams   \n",
       "5                          mosaicml / composer   \n",
       "6             LeadCoding / 3-weeks-Google-Prep   \n",
       "7                  firebase / firebase-ios-sdk   \n",
       "8                        github / copilot-docs   \n",
       "9                             rxyhn / dotfiles   \n",
       "10                          milvus-io / milvus   \n",
       "11              Tencent / spring-cloud-tencent   \n",
       "12                       scottbez1 / smartknob   \n",
       "13  xmu-xiaoma666 / External-Attention-pytorch   \n",
       "14               daffainfo / AllAboutBugBounty   \n",
       "15                          stretchr / testify   \n",
       "16                      Reiten966 / Polyformer   \n",
       "17                         fastlane / fastlane   \n",
       "18                 squizlabs / PHP_CodeSniffer   \n",
       "19          jordibruin / Swift-Charts-Examples   \n",
       "\n",
       "                               Repository_description Contributors_count  \\\n",
       "0   Nomad is an easy-to-use, flexible, and perform...           Built by   \n",
       "1   A high-performance and strong-extensibility Go...           Built by   \n",
       "2                The OpenAPI Specification Repository           Built by   \n",
       "3   List of Computer Science courses with video le...           Built by   \n",
       "4   🎨 Diagram as Code for prototyping cloud system...           Built by   \n",
       "5               train neural networks up to 7x faster           Built by   \n",
       "6                                    Firebase iOS SDK           Built by   \n",
       "7                    Documentation for GitHub Copilot           Built by   \n",
       "8         My awesomewm dotfiles for awesome people! ✨           Built by   \n",
       "9   Vector database for scalable similarity search...           Built by   \n",
       "10  Spring Cloud Tencent is a Spring Boot based Se...           Built by   \n",
       "11  Haptic input knob with software-defined endsto...           Built by   \n",
       "12  🍀 Pytorch implementation of various Attention ...           Built by   \n",
       "13  All about bug bounty (bypasses, payloads, and ...           Built by   \n",
       "14  A toolkit with common assertions and mocks tha...           Built by   \n",
       "15  Polyformer is an open-source project that aims...           Built by   \n",
       "16  🚀 The easiest way to automate building and rel...           Built by   \n",
       "17  PHP_CodeSniffer tokenizes PHP files and detect...           Built by   \n",
       "18  An overview of the different types of charts y...           Built by   \n",
       "19    A collection of resources to learn about MLOPs.           Built by   \n",
       "\n",
       "   Language_used  \n",
       "0             Go  \n",
       "1             Go  \n",
       "2     JavaScript  \n",
       "3         Python  \n",
       "4         Python  \n",
       "5            C++  \n",
       "6    Objective-C  \n",
       "7         Python  \n",
       "8            CSS  \n",
       "9             Go  \n",
       "10          Java  \n",
       "11           C++  \n",
       "12        Python  \n",
       "13            Go  \n",
       "14          Ruby  \n",
       "15           PHP  \n",
       "16         Swift  \n",
       "17             C  \n",
       "18           PHP  \n",
       "19        Smarty  "
      ]
     },
     "execution_count": 175,
     "metadata": {},
     "output_type": "execute_result"
    }
   ],
   "source": [
    "Treding_rep=pd.DataFrame({})\n",
    "Treding_rep['Repository_title']= Repository_title[:20]\n",
    "Treding_rep['Repository_description']= Repository_description[:20]\n",
    "Treding_rep['Contributors_count']= Contributors_count[:20]\n",
    "Treding_rep['Language_used']= Language_used[:20]\n",
    "Treding_rep"
   ]
  },
  {
   "cell_type": "markdown",
   "id": "c385b785",
   "metadata": {},
   "source": [
    "Q6. Scrape the details of top 100 songs on billiboard.com.\n",
    "Url = https:/www.billboard.com/\n",
    "You have to find the following details:\n",
    "A) Song name\n",
    "B) Artist name\n",
    "C) Last week rank\n",
    "D) Peak rank\n",
    "E) Weeks on board"
   ]
  },
  {
   "cell_type": "code",
   "execution_count": 176,
   "id": "1f8c5d86",
   "metadata": {},
   "outputs": [
    {
     "name": "stderr",
     "output_type": "stream",
     "text": [
      "C:\\Users\\Asus\\AppData\\Local\\Temp/ipykernel_26256/2493915227.py:1: DeprecationWarning: executable_path has been deprecated, please pass in a Service object\n",
      "  driver = webdriver.Chrome(r\"C:\\Web driver\\chromedriver.exe\")\n"
     ]
    }
   ],
   "source": [
    "driver = webdriver.Chrome(r\"C:\\Web driver\\chromedriver.exe\")"
   ]
  },
  {
   "cell_type": "code",
   "execution_count": 177,
   "id": "9abf784d",
   "metadata": {},
   "outputs": [],
   "source": [
    "url = \"https://www.billboard.com/\"\n",
    "driver.get(url)\n",
    "time.sleep(6)\n",
    "driver.maximize_window()"
   ]
  },
  {
   "cell_type": "code",
   "execution_count": 180,
   "id": "d4b1f086",
   "metadata": {},
   "outputs": [
    {
     "name": "stderr",
     "output_type": "stream",
     "text": [
      "C:\\Users\\Asus\\AppData\\Local\\Temp/ipykernel_26256/1583637589.py:1: DeprecationWarning: find_element_by_xpath is deprecated. Please use find_element(by=By.XPATH, value=xpath) instead\n",
      "  button= driver.find_element_by_xpath(\"//div[@class='lrv-u-flex lrv-u-justify-content-start lrv-u-margin-lr-050@mobile-max']\")\n"
     ]
    }
   ],
   "source": [
    "button= driver.find_element_by_xpath(\"//div[@class='lrv-u-flex lrv-u-justify-content-start lrv-u-margin-lr-050@mobile-max']\")\n",
    "button.click()"
   ]
  },
  {
   "cell_type": "code",
   "execution_count": 183,
   "id": "81efb33b",
   "metadata": {},
   "outputs": [
    {
     "name": "stderr",
     "output_type": "stream",
     "text": [
      "C:\\Users\\Asus\\AppData\\Local\\Temp/ipykernel_26256/2820265436.py:1: DeprecationWarning: find_element_by_xpath is deprecated. Please use find_element(by=By.XPATH, value=xpath) instead\n",
      "  chart= driver.find_element_by_xpath(\"/html/body/div[3]/div[6]/div/div/div/ul/li[1]/h3/button\")\n"
     ]
    }
   ],
   "source": [
    "chart= driver.find_element_by_xpath(\"/html/body/div[3]/div[6]/div/div/div/ul/li[1]/h3/button\")\n",
    "chart.click()"
   ]
  },
  {
   "cell_type": "code",
   "execution_count": 184,
   "id": "44d71398",
   "metadata": {},
   "outputs": [
    {
     "name": "stderr",
     "output_type": "stream",
     "text": [
      "C:\\Users\\Asus\\AppData\\Local\\Temp/ipykernel_26256/3648941749.py:1: DeprecationWarning: find_element_by_xpath is deprecated. Please use find_element(by=By.XPATH, value=xpath) instead\n",
      "  Hot_song= driver.find_element_by_xpath(\"/html/body/div[3]/div[6]/div/div/div/ul/li[1]/ul/li[2]\")\n"
     ]
    }
   ],
   "source": [
    "Hot_song= driver.find_element_by_xpath(\"/html/body/div[3]/div[6]/div/div/div/ul/li[1]/ul/li[2]\")\n",
    "Hot_song.click()\n",
    "time.sleep(6)"
   ]
  },
  {
   "cell_type": "code",
   "execution_count": 185,
   "id": "e3bb6665",
   "metadata": {},
   "outputs": [],
   "source": [
    "# Creating Blank List\n",
    "Song_name=[]\n",
    "Artist_name=[]\n",
    "Last_week_rank=[]\n",
    "Peak_rank=[]\n",
    "Weeks_on_board=[]"
   ]
  },
  {
   "cell_type": "code",
   "execution_count": 187,
   "id": "4e99b06d",
   "metadata": {},
   "outputs": [
    {
     "name": "stderr",
     "output_type": "stream",
     "text": [
      "C:\\Users\\Asus\\AppData\\Local\\Temp/ipykernel_26256/2884918445.py:2: DeprecationWarning: find_elements_by_xpath is deprecated. Please use find_elements(by=By.XPATH, value=xpath) instead\n",
      "  song_name= driver.find_elements_by_xpath(\"//h3[@class='c-title  a-no-trucate a-font-primary-bold-s u-letter-spacing-0021 lrv-u-font-size-18@tablet lrv-u-font-size-16 u-line-height-125 u-line-height-normal@mobile-max a-truncate-ellipsis u-max-width-330 u-max-width-230@tablet-only']\")\n"
     ]
    }
   ],
   "source": [
    "#Scraping Song_name\n",
    "song_name= driver.find_elements_by_xpath(\"//h3[@class='c-title  a-no-trucate a-font-primary-bold-s u-letter-spacing-0021 lrv-u-font-size-18@tablet lrv-u-font-size-16 u-line-height-125 u-line-height-normal@mobile-max a-truncate-ellipsis u-max-width-330 u-max-width-230@tablet-only']\")\n",
    "for i in song_name:\n",
    "    if i.text is None:\n",
    "        Song_name.append('--')\n",
    "    else:\n",
    "        Song_name.append(i.text)"
   ]
  },
  {
   "cell_type": "code",
   "execution_count": 188,
   "id": "b6e3a433",
   "metadata": {},
   "outputs": [
    {
     "name": "stderr",
     "output_type": "stream",
     "text": [
      "C:\\Users\\Asus\\AppData\\Local\\Temp/ipykernel_26256/1926996326.py:2: DeprecationWarning: find_elements_by_xpath is deprecated. Please use find_elements(by=By.XPATH, value=xpath) instead\n",
      "  artist_name= driver.find_elements_by_xpath(\"//span[@class='c-label  a-no-trucate a-font-primary-s lrv-u-font-size-14@mobile-max u-line-height-normal@mobile-max u-letter-spacing-0021 lrv-u-display-block a-truncate-ellipsis-2line u-max-width-330 u-max-width-230@tablet-only']\")\n"
     ]
    }
   ],
   "source": [
    "#Scraping Artist_name\n",
    "artist_name= driver.find_elements_by_xpath(\"//span[@class='c-label  a-no-trucate a-font-primary-s lrv-u-font-size-14@mobile-max u-line-height-normal@mobile-max u-letter-spacing-0021 lrv-u-display-block a-truncate-ellipsis-2line u-max-width-330 u-max-width-230@tablet-only']\")\n",
    "for i in artist_name:\n",
    "    if i.text is None:\n",
    "        Artist_name.append('--')\n",
    "    else:\n",
    "        Artist_name.append(i.text)"
   ]
  },
  {
   "cell_type": "code",
   "execution_count": 189,
   "id": "3246299b",
   "metadata": {},
   "outputs": [
    {
     "name": "stderr",
     "output_type": "stream",
     "text": [
      "C:\\Users\\Asus\\AppData\\Local\\Temp/ipykernel_26256/3909836757.py:2: DeprecationWarning: find_elements_by_xpath is deprecated. Please use find_elements(by=By.XPATH, value=xpath) instead\n",
      "  last_week_rank= driver.find_elements_by_xpath(\"//li[@class='o-chart-results-list__item // a-chart-color u-width-72 u-width-55@mobile-max u-width-55@tablet-only lrv-u-flex lrv-u-flex-shrink-0 lrv-u-align-items-center lrv-u-justify-content-center lrv-u-border-b-1 u-border-b-0@mobile-max lrv-u-border-color-grey-light u-background-color-white-064@mobile-max lrv-u-flex-grow-1']\")\n"
     ]
    }
   ],
   "source": [
    "#Scraping Last_week_rank\n",
    "last_week_rank= driver.find_elements_by_xpath(\"//li[@class='o-chart-results-list__item // a-chart-color u-width-72 u-width-55@mobile-max u-width-55@tablet-only lrv-u-flex lrv-u-flex-shrink-0 lrv-u-align-items-center lrv-u-justify-content-center lrv-u-border-b-1 u-border-b-0@mobile-max lrv-u-border-color-grey-light u-background-color-white-064@mobile-max lrv-u-flex-grow-1']\")\n",
    "for i in last_week_rank:\n",
    "    if i.text is None:\n",
    "        Last_week_rank.append('--')\n",
    "    else:\n",
    "        Last_week_rank.append(i.text)"
   ]
  },
  {
   "cell_type": "code",
   "execution_count": 190,
   "id": "b0b810d8",
   "metadata": {},
   "outputs": [
    {
     "name": "stderr",
     "output_type": "stream",
     "text": [
      "C:\\Users\\Asus\\AppData\\Local\\Temp/ipykernel_26256/3006554633.py:2: DeprecationWarning: find_elements_by_xpath is deprecated. Please use find_elements(by=By.XPATH, value=xpath) instead\n",
      "  peak_rank= driver.find_elements_by_xpath(\"//li[@class='o-chart-results-list__item // a-chart-bg-color a-chart-color u-width-72 u-width-55@mobile-max u-width-55@tablet-only lrv-u-flex lrv-u-flex-shrink-0 lrv-u-align-items-center lrv-u-justify-content-center lrv-u-background-color-grey-lightest lrv-u-border-b-1 u-border-b-0@mobile-max lrv-u-border-color-grey-light lrv-u-flex-grow-1']\")\n"
     ]
    }
   ],
   "source": [
    "#Scraping Peak_rank\n",
    "peak_rank= driver.find_elements_by_xpath(\"//li[@class='o-chart-results-list__item // a-chart-bg-color a-chart-color u-width-72 u-width-55@mobile-max u-width-55@tablet-only lrv-u-flex lrv-u-flex-shrink-0 lrv-u-align-items-center lrv-u-justify-content-center lrv-u-background-color-grey-lightest lrv-u-border-b-1 u-border-b-0@mobile-max lrv-u-border-color-grey-light lrv-u-flex-grow-1']\")\n",
    "for i in peak_rank:\n",
    "    if i.text is None:\n",
    "        Peak_rank.append('--')\n",
    "    else:\n",
    "        Peak_rank.append(i.text)"
   ]
  },
  {
   "cell_type": "code",
   "execution_count": 191,
   "id": "0d0a1bd3",
   "metadata": {},
   "outputs": [
    {
     "name": "stderr",
     "output_type": "stream",
     "text": [
      "C:\\Users\\Asus\\AppData\\Local\\Temp/ipykernel_26256/578104262.py:2: DeprecationWarning: find_elements_by_xpath is deprecated. Please use find_elements(by=By.XPATH, value=xpath) instead\n",
      "  weeks_on_board= driver.find_elements_by_xpath(\"//li[@class='o-chart-results-list__item // a-chart-color u-width-72 u-width-55@mobile-max u-width-55@tablet-only lrv-u-flex lrv-u-flex-shrink-0 lrv-u-align-items-center lrv-u-justify-content-center lrv-u-border-b-1 u-border-b-0@mobile-max lrv-u-border-color-grey-light u-background-color-white-064@mobile-max lrv-u-flex-grow-1']\")\n"
     ]
    }
   ],
   "source": [
    "#Scraping Weeks_on_board\n",
    "weeks_on_board= driver.find_elements_by_xpath(\"//li[@class='o-chart-results-list__item // a-chart-color u-width-72 u-width-55@mobile-max u-width-55@tablet-only lrv-u-flex lrv-u-flex-shrink-0 lrv-u-align-items-center lrv-u-justify-content-center lrv-u-border-b-1 u-border-b-0@mobile-max lrv-u-border-color-grey-light u-background-color-white-064@mobile-max lrv-u-flex-grow-1']\")\n",
    "for i in weeks_on_board:\n",
    "    if i.text is None:\n",
    "        Weeks_on_board.append('--')\n",
    "    else:\n",
    "        Weeks_on_board.append(i.text)"
   ]
  },
  {
   "cell_type": "code",
   "execution_count": 193,
   "id": "182653e7",
   "metadata": {},
   "outputs": [
    {
     "data": {
      "text/html": [
       "<div>\n",
       "<style scoped>\n",
       "    .dataframe tbody tr th:only-of-type {\n",
       "        vertical-align: middle;\n",
       "    }\n",
       "\n",
       "    .dataframe tbody tr th {\n",
       "        vertical-align: top;\n",
       "    }\n",
       "\n",
       "    .dataframe thead th {\n",
       "        text-align: right;\n",
       "    }\n",
       "</style>\n",
       "<table border=\"1\" class=\"dataframe\">\n",
       "  <thead>\n",
       "    <tr style=\"text-align: right;\">\n",
       "      <th></th>\n",
       "      <th>Song_name</th>\n",
       "      <th>Artist_name</th>\n",
       "      <th>Last_week_rank</th>\n",
       "      <th>Peak_rank</th>\n",
       "      <th>Weeks_on_board</th>\n",
       "    </tr>\n",
       "  </thead>\n",
       "  <tbody>\n",
       "    <tr>\n",
       "      <th>0</th>\n",
       "      <td>First Class</td>\n",
       "      <td>Jack Harlow</td>\n",
       "      <td>1</td>\n",
       "      <td></td>\n",
       "      <td>1</td>\n",
       "    </tr>\n",
       "    <tr>\n",
       "      <th>1</th>\n",
       "      <td>Wait For U</td>\n",
       "      <td>Future Featuring Drake &amp; Tems</td>\n",
       "      <td>11</td>\n",
       "      <td>1</td>\n",
       "      <td>11</td>\n",
       "    </tr>\n",
       "    <tr>\n",
       "      <th>2</th>\n",
       "      <td>About Damn Time</td>\n",
       "      <td>Lizzo</td>\n",
       "      <td>2</td>\n",
       "      <td></td>\n",
       "      <td>2</td>\n",
       "    </tr>\n",
       "    <tr>\n",
       "      <th>3</th>\n",
       "      <td>Running Up That Hill (A Deal With God)</td>\n",
       "      <td>Kate Bush</td>\n",
       "      <td>10</td>\n",
       "      <td>1</td>\n",
       "      <td>10</td>\n",
       "    </tr>\n",
       "    <tr>\n",
       "      <th>4</th>\n",
       "      <td>Heat Waves</td>\n",
       "      <td>Glass Animals</td>\n",
       "      <td>3</td>\n",
       "      <td></td>\n",
       "      <td>3</td>\n",
       "    </tr>\n",
       "    <tr>\n",
       "      <th>...</th>\n",
       "      <td>...</td>\n",
       "      <td>...</td>\n",
       "      <td>...</td>\n",
       "      <td>...</td>\n",
       "      <td>...</td>\n",
       "    </tr>\n",
       "    <tr>\n",
       "      <th>94</th>\n",
       "      <td>Plan B</td>\n",
       "      <td>Megan Thee Stallion</td>\n",
       "      <td>41</td>\n",
       "      <td></td>\n",
       "      <td>41</td>\n",
       "    </tr>\n",
       "    <tr>\n",
       "      <th>95</th>\n",
       "      <td>Tomorrow Me</td>\n",
       "      <td>Luke Combs</td>\n",
       "      <td>18</td>\n",
       "      <td>15</td>\n",
       "      <td>18</td>\n",
       "    </tr>\n",
       "    <tr>\n",
       "      <th>96</th>\n",
       "      <td>Potion</td>\n",
       "      <td>Calvin Harris, Dua Lipa &amp; Young Thug</td>\n",
       "      <td>60</td>\n",
       "      <td></td>\n",
       "      <td>60</td>\n",
       "    </tr>\n",
       "    <tr>\n",
       "      <th>97</th>\n",
       "      <td>New Truck</td>\n",
       "      <td>Dylan Scott</td>\n",
       "      <td>4</td>\n",
       "      <td>49</td>\n",
       "      <td>4</td>\n",
       "    </tr>\n",
       "    <tr>\n",
       "      <th>98</th>\n",
       "      <td>Wrapped Around Your Finger</td>\n",
       "      <td>Post Malone</td>\n",
       "      <td>49</td>\n",
       "      <td></td>\n",
       "      <td>49</td>\n",
       "    </tr>\n",
       "  </tbody>\n",
       "</table>\n",
       "<p>99 rows × 5 columns</p>\n",
       "</div>"
      ],
      "text/plain": [
       "                                 Song_name  \\\n",
       "0                              First Class   \n",
       "1                               Wait For U   \n",
       "2                          About Damn Time   \n",
       "3   Running Up That Hill (A Deal With God)   \n",
       "4                               Heat Waves   \n",
       "..                                     ...   \n",
       "94                                  Plan B   \n",
       "95                             Tomorrow Me   \n",
       "96                                  Potion   \n",
       "97                               New Truck   \n",
       "98              Wrapped Around Your Finger   \n",
       "\n",
       "                             Artist_name Last_week_rank Peak_rank  \\\n",
       "0                            Jack Harlow              1             \n",
       "1          Future Featuring Drake & Tems             11         1   \n",
       "2                                  Lizzo              2             \n",
       "3                              Kate Bush             10         1   \n",
       "4                          Glass Animals              3             \n",
       "..                                   ...            ...       ...   \n",
       "94                   Megan Thee Stallion             41             \n",
       "95                            Luke Combs             18        15   \n",
       "96  Calvin Harris, Dua Lipa & Young Thug             60             \n",
       "97                           Dylan Scott              4        49   \n",
       "98                           Post Malone             49             \n",
       "\n",
       "   Weeks_on_board  \n",
       "0               1  \n",
       "1              11  \n",
       "2               2  \n",
       "3              10  \n",
       "4               3  \n",
       "..            ...  \n",
       "94             41  \n",
       "95             18  \n",
       "96             60  \n",
       "97              4  \n",
       "98             49  \n",
       "\n",
       "[99 rows x 5 columns]"
      ]
     },
     "execution_count": 193,
     "metadata": {},
     "output_type": "execute_result"
    }
   ],
   "source": [
    "Hot_Songs=pd.DataFrame({})\n",
    "Hot_Songs['Song_name']=Song_name[:99]\n",
    "Hot_Songs['Artist_name']=Artist_name[:99]\n",
    "Hot_Songs['Last_week_rank']=Last_week_rank[:99]\n",
    "Hot_Songs['Peak_rank']=Peak_rank[:99]\n",
    "Hot_Songs['Weeks_on_board']=Weeks_on_board[:99]\n",
    "\n",
    "Hot_Songs"
   ]
  },
  {
   "cell_type": "markdown",
   "id": "97304f32",
   "metadata": {},
   "source": [
    "Q7. Scrape the details of Data science recruiters from naukri.com.\n",
    "Url = https://www.naukri.com/\n",
    "You have to find the following details:\n",
    "A) Name\n",
    "B) Designation\n",
    "C) Company\n",
    "D) Skills they hire for\n",
    "E) Location"
   ]
  },
  {
   "cell_type": "code",
   "execution_count": 194,
   "id": "057e3702",
   "metadata": {},
   "outputs": [
    {
     "name": "stderr",
     "output_type": "stream",
     "text": [
      "C:\\Users\\Asus\\AppData\\Local\\Temp/ipykernel_26256/2493915227.py:1: DeprecationWarning: executable_path has been deprecated, please pass in a Service object\n",
      "  driver = webdriver.Chrome(r\"C:\\Web driver\\chromedriver.exe\")\n"
     ]
    }
   ],
   "source": [
    "driver = webdriver.Chrome(r\"C:\\Web driver\\chromedriver.exe\")"
   ]
  },
  {
   "cell_type": "code",
   "execution_count": 195,
   "id": "7364f487",
   "metadata": {},
   "outputs": [],
   "source": [
    "url = \"https://www.naukri.com/\"\n",
    "driver.get(url)\n",
    "time.sleep(6)\n",
    "driver.maximize_window()"
   ]
  },
  {
   "cell_type": "code",
   "execution_count": 196,
   "id": "7c1d624f",
   "metadata": {},
   "outputs": [
    {
     "name": "stderr",
     "output_type": "stream",
     "text": [
      "C:\\Users\\Asus\\AppData\\Local\\Temp/ipykernel_26256/2392050442.py:1: DeprecationWarning: find_element_by_xpath is deprecated. Please use find_element(by=By.XPATH, value=xpath) instead\n",
      "  search=driver.find_element_by_xpath(\"//input[@class='suggestor-input ']\")\n"
     ]
    }
   ],
   "source": [
    "search=driver.find_element_by_xpath(\"//input[@class='suggestor-input ']\")\n",
    "search.send_keys('Data Science')"
   ]
  },
  {
   "cell_type": "code",
   "execution_count": 197,
   "id": "a1b175b3",
   "metadata": {},
   "outputs": [
    {
     "name": "stderr",
     "output_type": "stream",
     "text": [
      "C:\\Users\\Asus\\AppData\\Local\\Temp/ipykernel_26256/4160220471.py:1: DeprecationWarning: find_element_by_xpath is deprecated. Please use find_element(by=By.XPATH, value=xpath) instead\n",
      "  search_btn=driver.find_element_by_xpath(\"//div[@class='qsbSubmit']\")\n"
     ]
    }
   ],
   "source": [
    "search_btn=driver.find_element_by_xpath(\"//div[@class='qsbSubmit']\")\n",
    "search_btn.click()"
   ]
  },
  {
   "cell_type": "code",
   "execution_count": 209,
   "id": "e108d2ac",
   "metadata": {},
   "outputs": [],
   "source": [
    "#Creating emepty list\n",
    "Designation=[]\n",
    "Company=[]\n",
    "Skills_they_hire=[]\n",
    "Location=[]"
   ]
  },
  {
   "cell_type": "code",
   "execution_count": 211,
   "id": "5123beaf",
   "metadata": {},
   "outputs": [
    {
     "name": "stderr",
     "output_type": "stream",
     "text": [
      "C:\\Users\\Asus\\AppData\\Local\\Temp/ipykernel_26256/2161556373.py:2: DeprecationWarning: find_elements_by_xpath is deprecated. Please use find_elements(by=By.XPATH, value=xpath) instead\n",
      "  designation=driver.find_elements_by_xpath(\"//a[@class='title fw500 ellipsis']\")\n"
     ]
    }
   ],
   "source": [
    "#Scraping Designation \n",
    "designation=driver.find_elements_by_xpath(\"//a[@class='title fw500 ellipsis']\")\n",
    "for i  in designation:\n",
    "    Designation.append(i.text)    "
   ]
  },
  {
   "cell_type": "code",
   "execution_count": 212,
   "id": "a0563d8a",
   "metadata": {},
   "outputs": [
    {
     "name": "stderr",
     "output_type": "stream",
     "text": [
      "C:\\Users\\Asus\\AppData\\Local\\Temp/ipykernel_26256/2366087590.py:2: DeprecationWarning: find_elements_by_xpath is deprecated. Please use find_elements(by=By.XPATH, value=xpath) instead\n",
      "  company=driver.find_elements_by_xpath(\"//a[@class='subTitle ellipsis fleft']\")\n"
     ]
    }
   ],
   "source": [
    "#Scraping Company \n",
    "company=driver.find_elements_by_xpath(\"//a[@class='subTitle ellipsis fleft']\")\n",
    "for i  in company:\n",
    "    Company.append(i.text)   "
   ]
  },
  {
   "cell_type": "code",
   "execution_count": 213,
   "id": "03ab9aec",
   "metadata": {},
   "outputs": [
    {
     "name": "stderr",
     "output_type": "stream",
     "text": [
      "C:\\Users\\Asus\\AppData\\Local\\Temp/ipykernel_26256/1750897835.py:2: DeprecationWarning: find_elements_by_xpath is deprecated. Please use find_elements(by=By.XPATH, value=xpath) instead\n",
      "  skills_they_hire=driver.find_elements_by_xpath(\"//ul[@class='tags has-description']\")\n"
     ]
    }
   ],
   "source": [
    "#Scraping Skills_they_hire \n",
    "skills_they_hire=driver.find_elements_by_xpath(\"//ul[@class='tags has-description']\")\n",
    "for i  in skills_they_hire:\n",
    "    Skills_they_hire.append(i.text)"
   ]
  },
  {
   "cell_type": "code",
   "execution_count": 214,
   "id": "3d924345",
   "metadata": {},
   "outputs": [
    {
     "name": "stderr",
     "output_type": "stream",
     "text": [
      "C:\\Users\\Asus\\AppData\\Local\\Temp/ipykernel_26256/2697786109.py:2: DeprecationWarning: find_elements_by_xpath is deprecated. Please use find_elements(by=By.XPATH, value=xpath) instead\n",
      "  location=driver.find_elements_by_xpath(\"//li[@class='fleft grey-text br2 placeHolderLi location']\")\n"
     ]
    }
   ],
   "source": [
    "#Scraping Location \n",
    "location=driver.find_elements_by_xpath(\"//li[@class='fleft grey-text br2 placeHolderLi location']\")\n",
    "for i  in location:\n",
    "    if i.text is None:\n",
    "        \n",
    "        Location.append('--')\n",
    "    else:\n",
    "        Location.append(i.text)"
   ]
  },
  {
   "cell_type": "code",
   "execution_count": 215,
   "id": "96083b7b",
   "metadata": {},
   "outputs": [
    {
     "data": {
      "text/html": [
       "<div>\n",
       "<style scoped>\n",
       "    .dataframe tbody tr th:only-of-type {\n",
       "        vertical-align: middle;\n",
       "    }\n",
       "\n",
       "    .dataframe tbody tr th {\n",
       "        vertical-align: top;\n",
       "    }\n",
       "\n",
       "    .dataframe thead th {\n",
       "        text-align: right;\n",
       "    }\n",
       "</style>\n",
       "<table border=\"1\" class=\"dataframe\">\n",
       "  <thead>\n",
       "    <tr style=\"text-align: right;\">\n",
       "      <th></th>\n",
       "      <th>Designation</th>\n",
       "      <th>Company</th>\n",
       "      <th>Skills_they_hire</th>\n",
       "      <th>Location</th>\n",
       "    </tr>\n",
       "  </thead>\n",
       "  <tbody>\n",
       "    <tr>\n",
       "      <th>0</th>\n",
       "      <td>Data Analysis / Data Science</td>\n",
       "      <td>Naukri Premium - Employer Services</td>\n",
       "      <td>data analysis\\nbig data analytics\\nConjoint\\nT...</td>\n",
       "      <td>Chennai, Bangalore/Bengaluru, Mumbai (All Areas)</td>\n",
       "    </tr>\n",
       "    <tr>\n",
       "      <th>1</th>\n",
       "      <td>Data Science Analyst</td>\n",
       "      <td>Shell</td>\n",
       "      <td>Data Science\\nData Science Analyst\\ndata analysis</td>\n",
       "      <td>Chennai, Bangalore/Bengaluru</td>\n",
       "    </tr>\n",
       "    <tr>\n",
       "      <th>2</th>\n",
       "      <td>India Market Unit - Data Science Analyst - 11</td>\n",
       "      <td>Accenture</td>\n",
       "      <td>Strategy consulting\\nMachine learning\\nprofess...</td>\n",
       "      <td>Delhi / NCR</td>\n",
       "    </tr>\n",
       "    <tr>\n",
       "      <th>3</th>\n",
       "      <td>India Market Unit - Data Science Analyst - 11</td>\n",
       "      <td>Accenture</td>\n",
       "      <td>Strategy consulting\\nMachine learning\\nprofess...</td>\n",
       "      <td>Mumbai</td>\n",
       "    </tr>\n",
       "    <tr>\n",
       "      <th>4</th>\n",
       "      <td>Senior Manager- Data Science</td>\n",
       "      <td>Ecom Express Private Limited</td>\n",
       "      <td>Computer science\\nData analysis\\ndata science\\...</td>\n",
       "      <td>Gurgaon/Gurugram</td>\n",
       "    </tr>\n",
       "    <tr>\n",
       "      <th>5</th>\n",
       "      <td>Senior Data Science Engineer</td>\n",
       "      <td>Fractal Analytics</td>\n",
       "      <td>Data Science\\nIT Skills\\nPython\\nMachine Learn...</td>\n",
       "      <td>Gurgaon/Gurugram, Bangalore/Bengaluru, Mumbai ...</td>\n",
       "    </tr>\n",
       "    <tr>\n",
       "      <th>6</th>\n",
       "      <td>Senior Analyst-Data Science</td>\n",
       "      <td>Accenture</td>\n",
       "      <td>Publishing\\nConsulting\\nPredictive modeling\\nD...</td>\n",
       "      <td>Bangalore/Bengaluru</td>\n",
       "    </tr>\n",
       "    <tr>\n",
       "      <th>7</th>\n",
       "      <td>HCL || Data Science</td>\n",
       "      <td>HCL Technologies</td>\n",
       "      <td>Azure Functions\\nTableau\\ncoding\\nAzure\\nGCP\\n...</td>\n",
       "      <td>Chennai, Bangalore/Bengaluru, Delhi / NCR</td>\n",
       "    </tr>\n",
       "    <tr>\n",
       "      <th>8</th>\n",
       "      <td>ACN - Applied Intelligence - CC - Data Science...</td>\n",
       "      <td>Accenture</td>\n",
       "      <td>Data analysis\\nData management\\nAnalytical\\nCo...</td>\n",
       "      <td>Gurgaon/Gurugram</td>\n",
       "    </tr>\n",
       "    <tr>\n",
       "      <th>9</th>\n",
       "      <td>ACN - Applied Intelligence - CC - Data Science...</td>\n",
       "      <td>Accenture</td>\n",
       "      <td>Data analysis\\nAnalytical\\nConsulting\\nAnalyti...</td>\n",
       "      <td>Gurgaon/Gurugram</td>\n",
       "    </tr>\n",
       "    <tr>\n",
       "      <th>10</th>\n",
       "      <td>Data Analyst - Data Science, 3 To 5 Years</td>\n",
       "      <td>Rise Finconnect Private Limited</td>\n",
       "      <td>Data Analytics\\nData Science\\nData Management\\...</td>\n",
       "      <td>Mumbai (All Areas)</td>\n",
       "    </tr>\n",
       "    <tr>\n",
       "      <th>11</th>\n",
       "      <td>Technical Analyst ( Python - Data Science and ...</td>\n",
       "      <td>Coforge</td>\n",
       "      <td>python\\nIT Skills\\nData Science\\nMachine Learn...</td>\n",
       "      <td>Bangalore/Bengaluru, Greater Noida</td>\n",
       "    </tr>\n",
       "    <tr>\n",
       "      <th>12</th>\n",
       "      <td>Senior Advisor, Data Science</td>\n",
       "      <td>Dell Technologies</td>\n",
       "      <td>PostgreSQL\\nSQL Server\\nOracle\\nIT Skills\\nPyt...</td>\n",
       "      <td>Bangalore/Bengaluru</td>\n",
       "    </tr>\n",
       "    <tr>\n",
       "      <th>13</th>\n",
       "      <td>Data Science - Sr.Consultant/Manager</td>\n",
       "      <td>EY</td>\n",
       "      <td>data science\\npython\\nr\\nsql</td>\n",
       "      <td>Bangalore/Bengaluru</td>\n",
       "    </tr>\n",
       "    <tr>\n",
       "      <th>14</th>\n",
       "      <td>Data Science Consultant</td>\n",
       "      <td>Allstate Solutions (ASPL)</td>\n",
       "      <td>Data Science\\nIT Skills\\nPython\\nSoftware Deve...</td>\n",
       "      <td>Bangalore/Bengaluru</td>\n",
       "    </tr>\n",
       "    <tr>\n",
       "      <th>15</th>\n",
       "      <td>Data Analyst ll - Data Science</td>\n",
       "      <td>Walmart</td>\n",
       "      <td>IT Skills\\nPython\\nTesting\\nData Science\\nMach...</td>\n",
       "      <td>Bangalore/Bengaluru</td>\n",
       "    </tr>\n",
       "    <tr>\n",
       "      <th>16</th>\n",
       "      <td>Data Science - Operations Research</td>\n",
       "      <td>Ecom Express Private Limited</td>\n",
       "      <td>Supply chain\\nData analysis\\nDue diligence\\nOp...</td>\n",
       "      <td>Gurgaon/Gurugram</td>\n",
       "    </tr>\n",
       "    <tr>\n",
       "      <th>17</th>\n",
       "      <td>Data Science</td>\n",
       "      <td>Ecom Express Private Limited</td>\n",
       "      <td>Computer science\\nData analysis\\nOperations re...</td>\n",
       "      <td>Gurgaon/Gurugram</td>\n",
       "    </tr>\n",
       "    <tr>\n",
       "      <th>18</th>\n",
       "      <td>Data Science - Engineering Manager</td>\n",
       "      <td>Paytm</td>\n",
       "      <td>Computer science\\ndata science\\nEDC\\nMachine l...</td>\n",
       "      <td>Noida, Mumbai, Bangalore/Bengaluru</td>\n",
       "    </tr>\n",
       "    <tr>\n",
       "      <th>19</th>\n",
       "      <td>AWS Data Scientist/AWS Data Science</td>\n",
       "      <td>MOTHERSONSUMI INFOTECH DESIGNS LIMITED</td>\n",
       "      <td>Pyspark\\ndata science\\nAWS ML\\nCommunication\\n...</td>\n",
       "      <td>Noida</td>\n",
       "    </tr>\n",
       "  </tbody>\n",
       "</table>\n",
       "</div>"
      ],
      "text/plain": [
       "                                          Designation  \\\n",
       "0                        Data Analysis / Data Science   \n",
       "1                                Data Science Analyst   \n",
       "2       India Market Unit - Data Science Analyst - 11   \n",
       "3       India Market Unit - Data Science Analyst - 11   \n",
       "4                        Senior Manager- Data Science   \n",
       "5                        Senior Data Science Engineer   \n",
       "6                         Senior Analyst-Data Science   \n",
       "7                                 HCL || Data Science   \n",
       "8   ACN - Applied Intelligence - CC - Data Science...   \n",
       "9   ACN - Applied Intelligence - CC - Data Science...   \n",
       "10          Data Analyst - Data Science, 3 To 5 Years   \n",
       "11  Technical Analyst ( Python - Data Science and ...   \n",
       "12                       Senior Advisor, Data Science   \n",
       "13               Data Science - Sr.Consultant/Manager   \n",
       "14                            Data Science Consultant   \n",
       "15                     Data Analyst ll - Data Science   \n",
       "16                 Data Science - Operations Research   \n",
       "17                                       Data Science   \n",
       "18                 Data Science - Engineering Manager   \n",
       "19                AWS Data Scientist/AWS Data Science   \n",
       "\n",
       "                                   Company  \\\n",
       "0       Naukri Premium - Employer Services   \n",
       "1                                    Shell   \n",
       "2                                Accenture   \n",
       "3                                Accenture   \n",
       "4             Ecom Express Private Limited   \n",
       "5                        Fractal Analytics   \n",
       "6                                Accenture   \n",
       "7                         HCL Technologies   \n",
       "8                                Accenture   \n",
       "9                                Accenture   \n",
       "10         Rise Finconnect Private Limited   \n",
       "11                                 Coforge   \n",
       "12                       Dell Technologies   \n",
       "13                                      EY   \n",
       "14               Allstate Solutions (ASPL)   \n",
       "15                                 Walmart   \n",
       "16            Ecom Express Private Limited   \n",
       "17            Ecom Express Private Limited   \n",
       "18                                   Paytm   \n",
       "19  MOTHERSONSUMI INFOTECH DESIGNS LIMITED   \n",
       "\n",
       "                                     Skills_they_hire  \\\n",
       "0   data analysis\\nbig data analytics\\nConjoint\\nT...   \n",
       "1   Data Science\\nData Science Analyst\\ndata analysis   \n",
       "2   Strategy consulting\\nMachine learning\\nprofess...   \n",
       "3   Strategy consulting\\nMachine learning\\nprofess...   \n",
       "4   Computer science\\nData analysis\\ndata science\\...   \n",
       "5   Data Science\\nIT Skills\\nPython\\nMachine Learn...   \n",
       "6   Publishing\\nConsulting\\nPredictive modeling\\nD...   \n",
       "7   Azure Functions\\nTableau\\ncoding\\nAzure\\nGCP\\n...   \n",
       "8   Data analysis\\nData management\\nAnalytical\\nCo...   \n",
       "9   Data analysis\\nAnalytical\\nConsulting\\nAnalyti...   \n",
       "10  Data Analytics\\nData Science\\nData Management\\...   \n",
       "11  python\\nIT Skills\\nData Science\\nMachine Learn...   \n",
       "12  PostgreSQL\\nSQL Server\\nOracle\\nIT Skills\\nPyt...   \n",
       "13                       data science\\npython\\nr\\nsql   \n",
       "14  Data Science\\nIT Skills\\nPython\\nSoftware Deve...   \n",
       "15  IT Skills\\nPython\\nTesting\\nData Science\\nMach...   \n",
       "16  Supply chain\\nData analysis\\nDue diligence\\nOp...   \n",
       "17  Computer science\\nData analysis\\nOperations re...   \n",
       "18  Computer science\\ndata science\\nEDC\\nMachine l...   \n",
       "19  Pyspark\\ndata science\\nAWS ML\\nCommunication\\n...   \n",
       "\n",
       "                                             Location  \n",
       "0    Chennai, Bangalore/Bengaluru, Mumbai (All Areas)  \n",
       "1                        Chennai, Bangalore/Bengaluru  \n",
       "2                                         Delhi / NCR  \n",
       "3                                              Mumbai  \n",
       "4                                    Gurgaon/Gurugram  \n",
       "5   Gurgaon/Gurugram, Bangalore/Bengaluru, Mumbai ...  \n",
       "6                                 Bangalore/Bengaluru  \n",
       "7           Chennai, Bangalore/Bengaluru, Delhi / NCR  \n",
       "8                                    Gurgaon/Gurugram  \n",
       "9                                    Gurgaon/Gurugram  \n",
       "10                                 Mumbai (All Areas)  \n",
       "11                 Bangalore/Bengaluru, Greater Noida  \n",
       "12                                Bangalore/Bengaluru  \n",
       "13                                Bangalore/Bengaluru  \n",
       "14                                Bangalore/Bengaluru  \n",
       "15                                Bangalore/Bengaluru  \n",
       "16                                   Gurgaon/Gurugram  \n",
       "17                                   Gurgaon/Gurugram  \n",
       "18                 Noida, Mumbai, Bangalore/Bengaluru  \n",
       "19                                              Noida  "
      ]
     },
     "execution_count": 215,
     "metadata": {},
     "output_type": "execute_result"
    }
   ],
   "source": [
    "Recruiters=pd.DataFrame({})\n",
    "Recruiters['Designation']= Designation[0:49]\n",
    "Recruiters['Company']= Company[0:49]\n",
    "Recruiters['Skills_they_hire']= Skills_they_hire[0:49]\n",
    "Recruiters['Location']= Location[0:49]\n",
    "Recruiters"
   ]
  },
  {
   "cell_type": "markdown",
   "id": "3dabf74c",
   "metadata": {},
   "source": [
    "Q8. Scrape the details of Highest selling novels. Url = https://www.theguardian.com/news/datablog/2012/aug/09/best-selling-books-all-time-fifty-shades-greycompare/ You have to find the following details: A) Book name B) Author name C) Volumes sold D) Publisher E) Genre"
   ]
  },
  {
   "cell_type": "code",
   "execution_count": 43,
   "id": "8d5b7b4b",
   "metadata": {},
   "outputs": [
    {
     "name": "stderr",
     "output_type": "stream",
     "text": [
      "C:\\Users\\Asus\\AppData\\Local\\Temp/ipykernel_26256/2493915227.py:1: DeprecationWarning: executable_path has been deprecated, please pass in a Service object\n",
      "  driver = webdriver.Chrome(r\"C:\\Web driver\\chromedriver.exe\")\n"
     ]
    }
   ],
   "source": [
    "driver = webdriver.Chrome(r\"C:\\Web driver\\chromedriver.exe\")"
   ]
  },
  {
   "cell_type": "code",
   "execution_count": 44,
   "id": "17e86d5a",
   "metadata": {},
   "outputs": [],
   "source": [
    "driver.get('https://www.theguardian.com/news/datablog/2012/aug/09/best-selling-books-all-time-fifty-shades-grey-compare')"
   ]
  },
  {
   "cell_type": "code",
   "execution_count": 45,
   "id": "ea739014",
   "metadata": {},
   "outputs": [],
   "source": [
    "Book_name=[]\n",
    "Author_name=[]\n",
    "Volumes_sold=[]\n",
    "Publisher=[]\n",
    "Genre=[]"
   ]
  },
  {
   "cell_type": "code",
   "execution_count": 46,
   "id": "888966d0",
   "metadata": {},
   "outputs": [
    {
     "name": "stderr",
     "output_type": "stream",
     "text": [
      "C:\\Users\\Asus\\AppData\\Local\\Temp/ipykernel_26256/980204134.py:1: DeprecationWarning: find_elements_by_xpath is deprecated. Please use find_elements(by=By.XPATH, value=xpath) instead\n",
      "  dt = driver.find_elements_by_xpath('//table[@class=\"in-article sortable\"]/tbody/tr/td[2]')\n"
     ]
    }
   ],
   "source": [
    "dt = driver.find_elements_by_xpath('//table[@class=\"in-article sortable\"]/tbody/tr/td[2]')\n",
    "for d in dt:\n",
    "    if d.text is None :\n",
    "        Book_name.append('-')\n",
    "    else:\n",
    "        Book_name.append(d.text)"
   ]
  },
  {
   "cell_type": "code",
   "execution_count": 47,
   "id": "305f9503",
   "metadata": {},
   "outputs": [
    {
     "name": "stderr",
     "output_type": "stream",
     "text": [
      "C:\\Users\\Asus\\AppData\\Local\\Temp/ipykernel_26256/2682292633.py:1: DeprecationWarning: find_elements_by_xpath is deprecated. Please use find_elements(by=By.XPATH, value=xpath) instead\n",
      "  dt = driver.find_elements_by_xpath('//table[@class=\"in-article sortable\"]/tbody/tr/td[3]')\n"
     ]
    }
   ],
   "source": [
    "dt = driver.find_elements_by_xpath('//table[@class=\"in-article sortable\"]/tbody/tr/td[3]')\n",
    "for d in dt:\n",
    "    if d.text is None :\n",
    "        Author_name.append('-')\n",
    "    else:\n",
    "        Author_name.append(d.text)"
   ]
  },
  {
   "cell_type": "code",
   "execution_count": 48,
   "id": "9ca973bc",
   "metadata": {},
   "outputs": [
    {
     "name": "stderr",
     "output_type": "stream",
     "text": [
      "C:\\Users\\Asus\\AppData\\Local\\Temp/ipykernel_26256/2139160166.py:1: DeprecationWarning: find_elements_by_xpath is deprecated. Please use find_elements(by=By.XPATH, value=xpath) instead\n",
      "  dt = driver.find_elements_by_xpath('//table[@class=\"in-article sortable\"]/tbody/tr/td[4]')\n"
     ]
    }
   ],
   "source": [
    "dt = driver.find_elements_by_xpath('//table[@class=\"in-article sortable\"]/tbody/tr/td[4]')\n",
    "for d in dt:\n",
    "    if d.text is None :\n",
    "        Volumes_sold.append('-')\n",
    "    else:\n",
    "        Volumes_sold.append(d.text)"
   ]
  },
  {
   "cell_type": "code",
   "execution_count": 49,
   "id": "106e54d7",
   "metadata": {},
   "outputs": [
    {
     "name": "stderr",
     "output_type": "stream",
     "text": [
      "C:\\Users\\Asus\\AppData\\Local\\Temp/ipykernel_26256/3499824430.py:1: DeprecationWarning: find_elements_by_xpath is deprecated. Please use find_elements(by=By.XPATH, value=xpath) instead\n",
      "  dt = driver.find_elements_by_xpath('//table[@class=\"in-article sortable\"]/tbody/tr/td[5]')\n"
     ]
    }
   ],
   "source": [
    "dt = driver.find_elements_by_xpath('//table[@class=\"in-article sortable\"]/tbody/tr/td[5]')\n",
    "for d in dt:\n",
    "    if d.text is None :\n",
    "        Publisher.append('-')\n",
    "    else:\n",
    "        Publisher.append(d.text)"
   ]
  },
  {
   "cell_type": "code",
   "execution_count": 50,
   "id": "aa076f6e",
   "metadata": {},
   "outputs": [
    {
     "name": "stderr",
     "output_type": "stream",
     "text": [
      "C:\\Users\\Asus\\AppData\\Local\\Temp/ipykernel_26256/3250547963.py:1: DeprecationWarning: find_elements_by_xpath is deprecated. Please use find_elements(by=By.XPATH, value=xpath) instead\n",
      "  dt = driver.find_elements_by_xpath('//table[@class=\"in-article sortable\"]/tbody/tr/td[6]')\n"
     ]
    }
   ],
   "source": [
    "dt = driver.find_elements_by_xpath('//table[@class=\"in-article sortable\"]/tbody/tr/td[6]')\n",
    "for d in dt:\n",
    "    if d.text is None :\n",
    "        Genre.append('-')\n",
    "    else:\n",
    "        Genre.append(d.text)"
   ]
  },
  {
   "cell_type": "code",
   "execution_count": 51,
   "id": "54a217ee",
   "metadata": {},
   "outputs": [
    {
     "data": {
      "text/html": [
       "<div>\n",
       "<style scoped>\n",
       "    .dataframe tbody tr th:only-of-type {\n",
       "        vertical-align: middle;\n",
       "    }\n",
       "\n",
       "    .dataframe tbody tr th {\n",
       "        vertical-align: top;\n",
       "    }\n",
       "\n",
       "    .dataframe thead th {\n",
       "        text-align: right;\n",
       "    }\n",
       "</style>\n",
       "<table border=\"1\" class=\"dataframe\">\n",
       "  <thead>\n",
       "    <tr style=\"text-align: right;\">\n",
       "      <th></th>\n",
       "      <th>Book Name</th>\n",
       "      <th>Author Name</th>\n",
       "      <th>Volumes Sold</th>\n",
       "      <th>Publisher</th>\n",
       "      <th>Genre</th>\n",
       "    </tr>\n",
       "  </thead>\n",
       "  <tbody>\n",
       "    <tr>\n",
       "      <th>0</th>\n",
       "      <td>Da Vinci Code,The</td>\n",
       "      <td>Brown, Dan</td>\n",
       "      <td>5,094,805</td>\n",
       "      <td>Transworld</td>\n",
       "      <td>Crime, Thriller &amp; Adventure</td>\n",
       "    </tr>\n",
       "    <tr>\n",
       "      <th>1</th>\n",
       "      <td>Harry Potter and the Deathly Hallows</td>\n",
       "      <td>Rowling, J.K.</td>\n",
       "      <td>4,475,152</td>\n",
       "      <td>Bloomsbury</td>\n",
       "      <td>Children's Fiction</td>\n",
       "    </tr>\n",
       "    <tr>\n",
       "      <th>2</th>\n",
       "      <td>Harry Potter and the Philosopher's Stone</td>\n",
       "      <td>Rowling, J.K.</td>\n",
       "      <td>4,200,654</td>\n",
       "      <td>Bloomsbury</td>\n",
       "      <td>Children's Fiction</td>\n",
       "    </tr>\n",
       "    <tr>\n",
       "      <th>3</th>\n",
       "      <td>Harry Potter and the Order of the Phoenix</td>\n",
       "      <td>Rowling, J.K.</td>\n",
       "      <td>4,179,479</td>\n",
       "      <td>Bloomsbury</td>\n",
       "      <td>Children's Fiction</td>\n",
       "    </tr>\n",
       "    <tr>\n",
       "      <th>4</th>\n",
       "      <td>Fifty Shades of Grey</td>\n",
       "      <td>James, E. L.</td>\n",
       "      <td>3,758,936</td>\n",
       "      <td>Random House</td>\n",
       "      <td>Romance &amp; Sagas</td>\n",
       "    </tr>\n",
       "    <tr>\n",
       "      <th>...</th>\n",
       "      <td>...</td>\n",
       "      <td>...</td>\n",
       "      <td>...</td>\n",
       "      <td>...</td>\n",
       "      <td>...</td>\n",
       "    </tr>\n",
       "    <tr>\n",
       "      <th>95</th>\n",
       "      <td>Ghost,The</td>\n",
       "      <td>Harris, Robert</td>\n",
       "      <td>807,311</td>\n",
       "      <td>Random House</td>\n",
       "      <td>General &amp; Literary Fiction</td>\n",
       "    </tr>\n",
       "    <tr>\n",
       "      <th>96</th>\n",
       "      <td>Happy Days with the Naked Chef</td>\n",
       "      <td>Oliver, Jamie</td>\n",
       "      <td>794,201</td>\n",
       "      <td>Penguin</td>\n",
       "      <td>Food &amp; Drink: General</td>\n",
       "    </tr>\n",
       "    <tr>\n",
       "      <th>97</th>\n",
       "      <td>Hunger Games,The:Hunger Games Trilogy</td>\n",
       "      <td>Collins, Suzanne</td>\n",
       "      <td>792,187</td>\n",
       "      <td>Scholastic Ltd.</td>\n",
       "      <td>Young Adult Fiction</td>\n",
       "    </tr>\n",
       "    <tr>\n",
       "      <th>98</th>\n",
       "      <td>Lost Boy,The:A Foster Child's Search for the L...</td>\n",
       "      <td>Pelzer, Dave</td>\n",
       "      <td>791,507</td>\n",
       "      <td>Orion</td>\n",
       "      <td>Biography: General</td>\n",
       "    </tr>\n",
       "    <tr>\n",
       "      <th>99</th>\n",
       "      <td>Jamie's Ministry of Food:Anyone Can Learn to C...</td>\n",
       "      <td>Oliver, Jamie</td>\n",
       "      <td>791,095</td>\n",
       "      <td>Penguin</td>\n",
       "      <td>Food &amp; Drink: General</td>\n",
       "    </tr>\n",
       "  </tbody>\n",
       "</table>\n",
       "<p>100 rows × 5 columns</p>\n",
       "</div>"
      ],
      "text/plain": [
       "                                            Book Name       Author Name  \\\n",
       "0                                   Da Vinci Code,The        Brown, Dan   \n",
       "1                Harry Potter and the Deathly Hallows     Rowling, J.K.   \n",
       "2            Harry Potter and the Philosopher's Stone     Rowling, J.K.   \n",
       "3           Harry Potter and the Order of the Phoenix     Rowling, J.K.   \n",
       "4                                Fifty Shades of Grey      James, E. L.   \n",
       "..                                                ...               ...   \n",
       "95                                          Ghost,The    Harris, Robert   \n",
       "96                     Happy Days with the Naked Chef     Oliver, Jamie   \n",
       "97              Hunger Games,The:Hunger Games Trilogy  Collins, Suzanne   \n",
       "98  Lost Boy,The:A Foster Child's Search for the L...      Pelzer, Dave   \n",
       "99  Jamie's Ministry of Food:Anyone Can Learn to C...     Oliver, Jamie   \n",
       "\n",
       "   Volumes Sold        Publisher                        Genre  \n",
       "0     5,094,805       Transworld  Crime, Thriller & Adventure  \n",
       "1     4,475,152       Bloomsbury           Children's Fiction  \n",
       "2     4,200,654       Bloomsbury           Children's Fiction  \n",
       "3     4,179,479       Bloomsbury           Children's Fiction  \n",
       "4     3,758,936     Random House              Romance & Sagas  \n",
       "..          ...              ...                          ...  \n",
       "95      807,311     Random House   General & Literary Fiction  \n",
       "96      794,201          Penguin        Food & Drink: General  \n",
       "97      792,187  Scholastic Ltd.          Young Adult Fiction  \n",
       "98      791,507            Orion           Biography: General  \n",
       "99      791,095          Penguin        Food & Drink: General  \n",
       "\n",
       "[100 rows x 5 columns]"
      ]
     },
     "execution_count": 51,
     "metadata": {},
     "output_type": "execute_result"
    }
   ],
   "source": [
    "import pandas as pd\n",
    "table=pd.DataFrame({})\n",
    "\n",
    "table['Book Name']=Book_name\n",
    "table['Author Name']=Author_name\n",
    "table['Volumes Sold']=Volumes_sold\n",
    "table['Publisher']=Publisher\n",
    "table['Genre']=Genre\n",
    "\n",
    "table\n"
   ]
  },
  {
   "cell_type": "markdown",
   "id": "06286269",
   "metadata": {},
   "source": [
    "Q9.Scrape the details most watched tv series of all time from imdb.com. Url = https://www.imdb.com/list/ls095964455/ You have to find the following details: A) Name B) Year span C) Genre D) Run time E) Ratings F) Votes"
   ]
  },
  {
   "cell_type": "code",
   "execution_count": 52,
   "id": "e4fb3c3b",
   "metadata": {},
   "outputs": [
    {
     "name": "stderr",
     "output_type": "stream",
     "text": [
      "C:\\Users\\Asus\\AppData\\Local\\Temp/ipykernel_26256/2493915227.py:1: DeprecationWarning: executable_path has been deprecated, please pass in a Service object\n",
      "  driver = webdriver.Chrome(r\"C:\\Web driver\\chromedriver.exe\")\n"
     ]
    }
   ],
   "source": [
    "driver = webdriver.Chrome(r\"C:\\Web driver\\chromedriver.exe\")"
   ]
  },
  {
   "cell_type": "code",
   "execution_count": 53,
   "id": "56da3e96",
   "metadata": {},
   "outputs": [],
   "source": [
    "driver.get('https://www.imdb.com/list/ls095964455/')"
   ]
  },
  {
   "cell_type": "code",
   "execution_count": 54,
   "id": "75474217",
   "metadata": {},
   "outputs": [],
   "source": [
    "Name=[]\n",
    "Year_span=[]\n",
    "Genre=[]\n",
    "Run_time=[] \n",
    "Ratings=[]\n",
    "Votes=[]"
   ]
  },
  {
   "cell_type": "code",
   "execution_count": 55,
   "id": "fe9bf79d",
   "metadata": {},
   "outputs": [
    {
     "name": "stderr",
     "output_type": "stream",
     "text": [
      "C:\\Users\\Asus\\AppData\\Local\\Temp/ipykernel_26256/123336419.py:1: DeprecationWarning: find_elements_by_xpath is deprecated. Please use find_elements(by=By.XPATH, value=xpath) instead\n",
      "  dt = driver.find_elements_by_xpath('//h3[@class=\"lister-item-header\"]/a')\n"
     ]
    }
   ],
   "source": [
    "dt = driver.find_elements_by_xpath('//h3[@class=\"lister-item-header\"]/a')\n",
    "for d in dt:\n",
    "    if d.text is None :\n",
    "        Name.append('-')\n",
    "    else:\n",
    "        Name.append(d.text)"
   ]
  },
  {
   "cell_type": "code",
   "execution_count": 56,
   "id": "9681b5a7",
   "metadata": {},
   "outputs": [
    {
     "name": "stderr",
     "output_type": "stream",
     "text": [
      "C:\\Users\\Asus\\AppData\\Local\\Temp/ipykernel_26256/2233726141.py:1: DeprecationWarning: find_elements_by_xpath is deprecated. Please use find_elements(by=By.XPATH, value=xpath) instead\n",
      "  dt = driver.find_elements_by_xpath('//span[@class=\"lister-item-year text-muted unbold\"]')\n"
     ]
    }
   ],
   "source": [
    "dt = driver.find_elements_by_xpath('//span[@class=\"lister-item-year text-muted unbold\"]')\n",
    "for d in dt:\n",
    "    if d.text is None :\n",
    "        Year_span.append('-')\n",
    "    else:\n",
    "        Year_span.append(d.text)"
   ]
  },
  {
   "cell_type": "code",
   "execution_count": 57,
   "id": "382c9244",
   "metadata": {},
   "outputs": [
    {
     "name": "stderr",
     "output_type": "stream",
     "text": [
      "C:\\Users\\Asus\\AppData\\Local\\Temp/ipykernel_26256/3184466480.py:1: DeprecationWarning: find_elements_by_xpath is deprecated. Please use find_elements(by=By.XPATH, value=xpath) instead\n",
      "  dt = driver.find_elements_by_xpath('//span[@class=\"genre\"]')\n"
     ]
    }
   ],
   "source": [
    "dt = driver.find_elements_by_xpath('//span[@class=\"genre\"]')\n",
    "for d in dt:\n",
    "    if d.text is None :\n",
    "        Genre.append('-')\n",
    "    else:\n",
    "        Genre.append(d.text)"
   ]
  },
  {
   "cell_type": "code",
   "execution_count": 58,
   "id": "8b8b9b90",
   "metadata": {},
   "outputs": [
    {
     "name": "stderr",
     "output_type": "stream",
     "text": [
      "C:\\Users\\Asus\\AppData\\Local\\Temp/ipykernel_26256/2822090224.py:1: DeprecationWarning: find_elements_by_xpath is deprecated. Please use find_elements(by=By.XPATH, value=xpath) instead\n",
      "  dt = driver.find_elements_by_xpath('//span[@class=\"runtime\"]')\n"
     ]
    }
   ],
   "source": [
    "dt = driver.find_elements_by_xpath('//span[@class=\"runtime\"]')\n",
    "for d in dt:\n",
    "    if d.text is None :\n",
    "        Run_time.append('-')\n",
    "    else:\n",
    "        Run_time.append(d.text)"
   ]
  },
  {
   "cell_type": "code",
   "execution_count": 59,
   "id": "8549cc7c",
   "metadata": {},
   "outputs": [
    {
     "name": "stderr",
     "output_type": "stream",
     "text": [
      "C:\\Users\\Asus\\AppData\\Local\\Temp/ipykernel_26256/205149475.py:1: DeprecationWarning: find_elements_by_xpath is deprecated. Please use find_elements(by=By.XPATH, value=xpath) instead\n",
      "  dt = driver.find_elements_by_xpath('//div[@class=\"ipl-rating-star small\"]/span[2]')\n"
     ]
    }
   ],
   "source": [
    "dt = driver.find_elements_by_xpath('//div[@class=\"ipl-rating-star small\"]/span[2]')\n",
    "for d in dt:\n",
    "    if d.text is None :\n",
    "        Ratings.append('-')\n",
    "    else:\n",
    "        Ratings.append(d.text)"
   ]
  },
  {
   "cell_type": "code",
   "execution_count": 60,
   "id": "bda45bf7",
   "metadata": {},
   "outputs": [
    {
     "name": "stderr",
     "output_type": "stream",
     "text": [
      "C:\\Users\\Asus\\AppData\\Local\\Temp/ipykernel_26256/528228981.py:1: DeprecationWarning: find_elements_by_xpath is deprecated. Please use find_elements(by=By.XPATH, value=xpath) instead\n",
      "  dt = driver.find_elements_by_xpath('//span[@name=\"nv\"]')\n"
     ]
    }
   ],
   "source": [
    "dt = driver.find_elements_by_xpath('//span[@name=\"nv\"]')\n",
    "for d in dt:\n",
    "    if d.text is None :\n",
    "        Votes.append('-')\n",
    "    else:\n",
    "        Votes.append(d.text)"
   ]
  },
  {
   "cell_type": "code",
   "execution_count": 61,
   "id": "649bf9c8",
   "metadata": {},
   "outputs": [
    {
     "data": {
      "text/html": [
       "<div>\n",
       "<style scoped>\n",
       "    .dataframe tbody tr th:only-of-type {\n",
       "        vertical-align: middle;\n",
       "    }\n",
       "\n",
       "    .dataframe tbody tr th {\n",
       "        vertical-align: top;\n",
       "    }\n",
       "\n",
       "    .dataframe thead th {\n",
       "        text-align: right;\n",
       "    }\n",
       "</style>\n",
       "<table border=\"1\" class=\"dataframe\">\n",
       "  <thead>\n",
       "    <tr style=\"text-align: right;\">\n",
       "      <th></th>\n",
       "      <th>Name</th>\n",
       "      <th>Year Span</th>\n",
       "      <th>Genre</th>\n",
       "      <th>Run Time</th>\n",
       "      <th>Votes</th>\n",
       "    </tr>\n",
       "  </thead>\n",
       "  <tbody>\n",
       "    <tr>\n",
       "      <th>0</th>\n",
       "      <td>Game of Thrones</td>\n",
       "      <td>(2011–2019)</td>\n",
       "      <td>Action, Adventure, Drama</td>\n",
       "      <td>57 min</td>\n",
       "      <td>1,998,308</td>\n",
       "    </tr>\n",
       "    <tr>\n",
       "      <th>1</th>\n",
       "      <td>Stranger Things</td>\n",
       "      <td>(2016– )</td>\n",
       "      <td>Drama, Fantasy, Horror</td>\n",
       "      <td>51 min</td>\n",
       "      <td>1,046,257</td>\n",
       "    </tr>\n",
       "    <tr>\n",
       "      <th>2</th>\n",
       "      <td>The Walking Dead</td>\n",
       "      <td>(2010–2022)</td>\n",
       "      <td>Drama, Horror, Thriller</td>\n",
       "      <td>44 min</td>\n",
       "      <td>950,935</td>\n",
       "    </tr>\n",
       "    <tr>\n",
       "      <th>3</th>\n",
       "      <td>13 Reasons Why</td>\n",
       "      <td>(2017–2020)</td>\n",
       "      <td>Drama, Mystery, Thriller</td>\n",
       "      <td>60 min</td>\n",
       "      <td>284,210</td>\n",
       "    </tr>\n",
       "    <tr>\n",
       "      <th>4</th>\n",
       "      <td>The 100</td>\n",
       "      <td>(2014–2020)</td>\n",
       "      <td>Drama, Mystery, Sci-Fi</td>\n",
       "      <td>43 min</td>\n",
       "      <td>244,002</td>\n",
       "    </tr>\n",
       "    <tr>\n",
       "      <th>...</th>\n",
       "      <td>...</td>\n",
       "      <td>...</td>\n",
       "      <td>...</td>\n",
       "      <td>...</td>\n",
       "      <td>...</td>\n",
       "    </tr>\n",
       "    <tr>\n",
       "      <th>95</th>\n",
       "      <td>Reign</td>\n",
       "      <td>(2013–2017)</td>\n",
       "      <td>Drama, Fantasy</td>\n",
       "      <td>42 min</td>\n",
       "      <td>48,938</td>\n",
       "    </tr>\n",
       "    <tr>\n",
       "      <th>96</th>\n",
       "      <td>A Series of Unfortunate Events</td>\n",
       "      <td>(2017–2019)</td>\n",
       "      <td>Adventure, Comedy, Drama</td>\n",
       "      <td>50 min</td>\n",
       "      <td>59,648</td>\n",
       "    </tr>\n",
       "    <tr>\n",
       "      <th>97</th>\n",
       "      <td>Criminal Minds</td>\n",
       "      <td>(2005–2020)</td>\n",
       "      <td>Crime, Drama, Mystery</td>\n",
       "      <td>42 min</td>\n",
       "      <td>190,886</td>\n",
       "    </tr>\n",
       "    <tr>\n",
       "      <th>98</th>\n",
       "      <td>Scream: The TV Series</td>\n",
       "      <td>(2015–2019)</td>\n",
       "      <td>Comedy, Crime, Drama</td>\n",
       "      <td>45 min</td>\n",
       "      <td>40,377</td>\n",
       "    </tr>\n",
       "    <tr>\n",
       "      <th>99</th>\n",
       "      <td>The Haunting of Hill House</td>\n",
       "      <td>(2018)</td>\n",
       "      <td>Drama, Horror, Mystery</td>\n",
       "      <td>572 min</td>\n",
       "      <td>229,410</td>\n",
       "    </tr>\n",
       "  </tbody>\n",
       "</table>\n",
       "<p>100 rows × 5 columns</p>\n",
       "</div>"
      ],
      "text/plain": [
       "                              Name    Year Span                     Genre  \\\n",
       "0                  Game of Thrones  (2011–2019)  Action, Adventure, Drama   \n",
       "1                  Stranger Things     (2016– )    Drama, Fantasy, Horror   \n",
       "2                 The Walking Dead  (2010–2022)   Drama, Horror, Thriller   \n",
       "3                   13 Reasons Why  (2017–2020)  Drama, Mystery, Thriller   \n",
       "4                          The 100  (2014–2020)    Drama, Mystery, Sci-Fi   \n",
       "..                             ...          ...                       ...   \n",
       "95                           Reign  (2013–2017)            Drama, Fantasy   \n",
       "96  A Series of Unfortunate Events  (2017–2019)  Adventure, Comedy, Drama   \n",
       "97                  Criminal Minds  (2005–2020)     Crime, Drama, Mystery   \n",
       "98           Scream: The TV Series  (2015–2019)      Comedy, Crime, Drama   \n",
       "99      The Haunting of Hill House       (2018)    Drama, Horror, Mystery   \n",
       "\n",
       "   Run Time      Votes  \n",
       "0    57 min  1,998,308  \n",
       "1    51 min  1,046,257  \n",
       "2    44 min    950,935  \n",
       "3    60 min    284,210  \n",
       "4    43 min    244,002  \n",
       "..      ...        ...  \n",
       "95   42 min     48,938  \n",
       "96   50 min     59,648  \n",
       "97   42 min    190,886  \n",
       "98   45 min     40,377  \n",
       "99  572 min    229,410  \n",
       "\n",
       "[100 rows x 5 columns]"
      ]
     },
     "execution_count": 61,
     "metadata": {},
     "output_type": "execute_result"
    }
   ],
   "source": [
    "import pandas as pd\n",
    "table=pd.DataFrame({})\n",
    "\n",
    "table['Name']=Name\n",
    "table['Year Span']=Year_span\n",
    "table['Genre']=Genre\n",
    "table['Run Time']=Run_time\n",
    "table['Votes']=Votes\n",
    "\n",
    "table"
   ]
  },
  {
   "cell_type": "markdown",
   "id": "a9c8346e",
   "metadata": {},
   "source": [
    "Q10. Details of Datasets from UCI machine learning repositories. Url = https://archive.ics.uci.edu/ You have to find the following details: A) Dataset name B) Data type C) Task D) Attribute type E) No of instances F) No of attribute G) Year Note: - from the home page you have to go to the ShowAllDataset page through code."
   ]
  },
  {
   "cell_type": "code",
   "execution_count": 62,
   "id": "a2192e56",
   "metadata": {},
   "outputs": [
    {
     "name": "stderr",
     "output_type": "stream",
     "text": [
      "C:\\Users\\Asus\\AppData\\Local\\Temp/ipykernel_26256/2493915227.py:1: DeprecationWarning: executable_path has been deprecated, please pass in a Service object\n",
      "  driver = webdriver.Chrome(r\"C:\\Web driver\\chromedriver.exe\")\n"
     ]
    }
   ],
   "source": [
    "driver = webdriver.Chrome(r\"C:\\Web driver\\chromedriver.exe\")"
   ]
  },
  {
   "cell_type": "code",
   "execution_count": 63,
   "id": "d8b77b6e",
   "metadata": {},
   "outputs": [],
   "source": [
    "driver.get('https://archive.ics.uci.edu/')"
   ]
  },
  {
   "cell_type": "code",
   "execution_count": 64,
   "id": "06242d20",
   "metadata": {},
   "outputs": [
    {
     "name": "stderr",
     "output_type": "stream",
     "text": [
      "C:\\Users\\Asus\\AppData\\Local\\Temp/ipykernel_26256/2603604.py:1: DeprecationWarning: find_element_by_xpath is deprecated. Please use find_element(by=By.XPATH, value=xpath) instead\n",
      "  d = driver.find_element_by_xpath('//span[@class=\"normal\"]/b')\n"
     ]
    }
   ],
   "source": [
    "d = driver.find_element_by_xpath('//span[@class=\"normal\"]/b')\n",
    "d.click()"
   ]
  },
  {
   "cell_type": "code",
   "execution_count": 65,
   "id": "ac124f22",
   "metadata": {},
   "outputs": [],
   "source": [
    "Dataset_name=[]\n",
    "Data_type=[]\n",
    "Task=[]\n",
    "Attribute_type=[]\n",
    "instances=[]\n",
    "attribute=[]\n",
    "Year=[]"
   ]
  },
  {
   "cell_type": "code",
   "execution_count": 66,
   "id": "50117b01",
   "metadata": {},
   "outputs": [
    {
     "name": "stderr",
     "output_type": "stream",
     "text": [
      "C:\\Users\\Asus\\AppData\\Local\\Temp/ipykernel_26256/1747131803.py:1: DeprecationWarning: find_elements_by_xpath is deprecated. Please use find_elements(by=By.XPATH, value=xpath) instead\n",
      "  dt = driver.find_elements_by_xpath('//table[@border=\"1\"]/tbody/tr/td[1]/table/tbody/tr/td[2]/p/b')\n"
     ]
    }
   ],
   "source": [
    "dt = driver.find_elements_by_xpath('//table[@border=\"1\"]/tbody/tr/td[1]/table/tbody/tr/td[2]/p/b')\n",
    "for d in dt:\n",
    "    if d.text is None :\n",
    "        Dataset_name.append('-')\n",
    "    else:\n",
    "        Dataset_name.append(d.text)"
   ]
  },
  {
   "cell_type": "code",
   "execution_count": 67,
   "id": "48ccc505",
   "metadata": {},
   "outputs": [
    {
     "name": "stderr",
     "output_type": "stream",
     "text": [
      "C:\\Users\\Asus\\AppData\\Local\\Temp/ipykernel_26256/2174982313.py:1: DeprecationWarning: find_elements_by_xpath is deprecated. Please use find_elements(by=By.XPATH, value=xpath) instead\n",
      "  dt = driver.find_elements_by_xpath('//table[@border=\"1\"]/tbody/tr/td[2]')\n"
     ]
    }
   ],
   "source": [
    "dt = driver.find_elements_by_xpath('//table[@border=\"1\"]/tbody/tr/td[2]')\n",
    "for d in dt:\n",
    "    if d.text is None :\n",
    "        Data_type.append('-')\n",
    "    else:\n",
    "        Data_type.append(d.text)"
   ]
  },
  {
   "cell_type": "code",
   "execution_count": 68,
   "id": "8686f2c8",
   "metadata": {},
   "outputs": [
    {
     "name": "stderr",
     "output_type": "stream",
     "text": [
      "C:\\Users\\Asus\\AppData\\Local\\Temp/ipykernel_26256/4088478603.py:1: DeprecationWarning: find_elements_by_xpath is deprecated. Please use find_elements(by=By.XPATH, value=xpath) instead\n",
      "  dt = driver.find_elements_by_xpath('//table[@border=\"1\"]/tbody/tr/td[3]')\n"
     ]
    }
   ],
   "source": [
    "dt = driver.find_elements_by_xpath('//table[@border=\"1\"]/tbody/tr/td[3]')\n",
    "for d in dt:\n",
    "    if d.text is None :\n",
    "        Task.append('-')\n",
    "    else:\n",
    "        Task.append(d.text)"
   ]
  },
  {
   "cell_type": "code",
   "execution_count": 69,
   "id": "4bb0ca80",
   "metadata": {},
   "outputs": [
    {
     "name": "stderr",
     "output_type": "stream",
     "text": [
      "C:\\Users\\Asus\\AppData\\Local\\Temp/ipykernel_26256/3423581309.py:1: DeprecationWarning: find_elements_by_xpath is deprecated. Please use find_elements(by=By.XPATH, value=xpath) instead\n",
      "  dt = driver.find_elements_by_xpath('//table[@border=\"1\"]/tbody/tr/td[4]')\n"
     ]
    }
   ],
   "source": [
    "dt = driver.find_elements_by_xpath('//table[@border=\"1\"]/tbody/tr/td[4]')\n",
    "for d in dt:\n",
    "    if d.text is None :\n",
    "        Attribute_type.append('-')\n",
    "    else:\n",
    "        Attribute_type.append(d.text)"
   ]
  },
  {
   "cell_type": "code",
   "execution_count": 70,
   "id": "703c89b3",
   "metadata": {},
   "outputs": [
    {
     "name": "stderr",
     "output_type": "stream",
     "text": [
      "C:\\Users\\Asus\\AppData\\Local\\Temp/ipykernel_26256/3864215652.py:1: DeprecationWarning: find_elements_by_xpath is deprecated. Please use find_elements(by=By.XPATH, value=xpath) instead\n",
      "  dt = driver.find_elements_by_xpath('//table[@border=\"1\"]/tbody/tr/td[5]')\n"
     ]
    }
   ],
   "source": [
    "dt = driver.find_elements_by_xpath('//table[@border=\"1\"]/tbody/tr/td[5]')\n",
    "for d in dt:\n",
    "    if d.text is None :\n",
    "        instances.append('-')\n",
    "    else:\n",
    "        instances.append(d.text)"
   ]
  },
  {
   "cell_type": "code",
   "execution_count": 71,
   "id": "d7f93ea1",
   "metadata": {},
   "outputs": [
    {
     "name": "stderr",
     "output_type": "stream",
     "text": [
      "C:\\Users\\Asus\\AppData\\Local\\Temp/ipykernel_26256/181499546.py:1: DeprecationWarning: find_elements_by_xpath is deprecated. Please use find_elements(by=By.XPATH, value=xpath) instead\n",
      "  dt = driver.find_elements_by_xpath('//table[@border=\"1\"]/tbody/tr/td[6]')\n"
     ]
    }
   ],
   "source": [
    "dt = driver.find_elements_by_xpath('//table[@border=\"1\"]/tbody/tr/td[6]')\n",
    "for d in dt:\n",
    "    if d.text is None :\n",
    "        attribute.append('-')\n",
    "    else:\n",
    "        attribute.append(d.text)"
   ]
  },
  {
   "cell_type": "code",
   "execution_count": 72,
   "id": "4d1816ff",
   "metadata": {},
   "outputs": [
    {
     "name": "stderr",
     "output_type": "stream",
     "text": [
      "C:\\Users\\Asus\\AppData\\Local\\Temp/ipykernel_26256/715487708.py:1: DeprecationWarning: find_elements_by_xpath is deprecated. Please use find_elements(by=By.XPATH, value=xpath) instead\n",
      "  dt = driver.find_elements_by_xpath('//table[@border=\"1\"]/tbody/tr/td[7]')\n"
     ]
    }
   ],
   "source": [
    "dt = driver.find_elements_by_xpath('//table[@border=\"1\"]/tbody/tr/td[7]')\n",
    "for d in dt:\n",
    "    if d.text is None :\n",
    "        Year.append('-')\n",
    "    else:\n",
    "        Year.append(d.text)"
   ]
  },
  {
   "cell_type": "code",
   "execution_count": 73,
   "id": "d2f95252",
   "metadata": {},
   "outputs": [
    {
     "name": "stdout",
     "output_type": "stream",
     "text": [
      "622\n",
      "623\n",
      "623\n",
      "623\n",
      "623\n",
      "623\n",
      "623\n"
     ]
    }
   ],
   "source": [
    "print(len(Dataset_name))\n",
    "print(len(Data_type))\n",
    "print(len(Task))\n",
    "print(len(Attribute_type))\n",
    "print(len(instances))\n",
    "print(len(attribute))\n",
    "print(len(Year))"
   ]
  },
  {
   "cell_type": "code",
   "execution_count": 76,
   "id": "14964a2a",
   "metadata": {},
   "outputs": [
    {
     "data": {
      "text/html": [
       "<div>\n",
       "<style scoped>\n",
       "    .dataframe tbody tr th:only-of-type {\n",
       "        vertical-align: middle;\n",
       "    }\n",
       "\n",
       "    .dataframe tbody tr th {\n",
       "        vertical-align: top;\n",
       "    }\n",
       "\n",
       "    .dataframe thead th {\n",
       "        text-align: right;\n",
       "    }\n",
       "</style>\n",
       "<table border=\"1\" class=\"dataframe\">\n",
       "  <thead>\n",
       "    <tr style=\"text-align: right;\">\n",
       "      <th></th>\n",
       "      <th>Dataset Name</th>\n",
       "      <th>Data Type</th>\n",
       "      <th>Task</th>\n",
       "      <th>Attribute Type</th>\n",
       "      <th>Instances</th>\n",
       "      <th>Attribute</th>\n",
       "      <th>Year</th>\n",
       "    </tr>\n",
       "  </thead>\n",
       "  <tbody>\n",
       "    <tr>\n",
       "      <th>0</th>\n",
       "      <td>Adult</td>\n",
       "      <td>Multivariate</td>\n",
       "      <td>Classification</td>\n",
       "      <td>Categorical, Integer, Real</td>\n",
       "      <td>4177</td>\n",
       "      <td>8</td>\n",
       "      <td>1995</td>\n",
       "    </tr>\n",
       "    <tr>\n",
       "      <th>1</th>\n",
       "      <td>Annealing</td>\n",
       "      <td>Multivariate</td>\n",
       "      <td>Classification</td>\n",
       "      <td>Categorical, Integer</td>\n",
       "      <td>48842</td>\n",
       "      <td>14</td>\n",
       "      <td>1996</td>\n",
       "    </tr>\n",
       "    <tr>\n",
       "      <th>2</th>\n",
       "      <td>Anonymous Microsoft Web Data</td>\n",
       "      <td>Multivariate</td>\n",
       "      <td>Classification</td>\n",
       "      <td>Categorical, Integer, Real</td>\n",
       "      <td>798</td>\n",
       "      <td>38</td>\n",
       "      <td></td>\n",
       "    </tr>\n",
       "    <tr>\n",
       "      <th>3</th>\n",
       "      <td>Arrhythmia</td>\n",
       "      <td></td>\n",
       "      <td>Recommender-Systems</td>\n",
       "      <td>Categorical</td>\n",
       "      <td>37711</td>\n",
       "      <td>294</td>\n",
       "      <td>1998</td>\n",
       "    </tr>\n",
       "    <tr>\n",
       "      <th>4</th>\n",
       "      <td>Artificial Characters</td>\n",
       "      <td>Multivariate</td>\n",
       "      <td>Classification</td>\n",
       "      <td>Categorical, Integer, Real</td>\n",
       "      <td>452</td>\n",
       "      <td>279</td>\n",
       "      <td>1998</td>\n",
       "    </tr>\n",
       "    <tr>\n",
       "      <th>...</th>\n",
       "      <td>...</td>\n",
       "      <td>...</td>\n",
       "      <td>...</td>\n",
       "      <td>...</td>\n",
       "      <td>...</td>\n",
       "      <td>...</td>\n",
       "      <td>...</td>\n",
       "    </tr>\n",
       "    <tr>\n",
       "      <th>594</th>\n",
       "      <td>Secondary Mushroom Dataset</td>\n",
       "      <td>Text</td>\n",
       "      <td>Classification, Clustering</td>\n",
       "      <td></td>\n",
       "      <td>4200</td>\n",
       "      <td>7</td>\n",
       "      <td>2021</td>\n",
       "    </tr>\n",
       "    <tr>\n",
       "      <th>595</th>\n",
       "      <td>Power consumption of Tetouan city</td>\n",
       "      <td>Univariate</td>\n",
       "      <td>Classification</td>\n",
       "      <td>Real</td>\n",
       "      <td>61069</td>\n",
       "      <td>21</td>\n",
       "      <td>2021</td>\n",
       "    </tr>\n",
       "    <tr>\n",
       "      <th>596</th>\n",
       "      <td>Raisin Dataset</td>\n",
       "      <td>Multivariate, Time-Series</td>\n",
       "      <td>Regression</td>\n",
       "      <td>Integer, Real</td>\n",
       "      <td>52417</td>\n",
       "      <td>9</td>\n",
       "      <td>2021</td>\n",
       "    </tr>\n",
       "    <tr>\n",
       "      <th>597</th>\n",
       "      <td>Steel Industry Energy Consumption Dataset</td>\n",
       "      <td>Multivariate</td>\n",
       "      <td>Classification</td>\n",
       "      <td>Integer, Real</td>\n",
       "      <td>900</td>\n",
       "      <td>8</td>\n",
       "      <td>2021</td>\n",
       "    </tr>\n",
       "    <tr>\n",
       "      <th>598</th>\n",
       "      <td>Gender Gap in Spanish WP</td>\n",
       "      <td>Multivariate</td>\n",
       "      <td>Regression</td>\n",
       "      <td></td>\n",
       "      <td>35040</td>\n",
       "      <td>11</td>\n",
       "      <td>2021</td>\n",
       "    </tr>\n",
       "  </tbody>\n",
       "</table>\n",
       "<p>599 rows × 7 columns</p>\n",
       "</div>"
      ],
      "text/plain": [
       "                                  Dataset Name                   Data Type  \\\n",
       "0                                        Adult               Multivariate    \n",
       "1                                    Annealing               Multivariate    \n",
       "2                 Anonymous Microsoft Web Data               Multivariate    \n",
       "3                                   Arrhythmia                               \n",
       "4                        Artificial Characters               Multivariate    \n",
       "..                                         ...                         ...   \n",
       "594                 Secondary Mushroom Dataset                       Text    \n",
       "595          Power consumption of Tetouan city                 Univariate    \n",
       "596                             Raisin Dataset  Multivariate, Time-Series    \n",
       "597  Steel Industry Energy Consumption Dataset               Multivariate    \n",
       "598                   Gender Gap in Spanish WP               Multivariate    \n",
       "\n",
       "                            Task               Attribute Type Instances  \\\n",
       "0                Classification   Categorical, Integer, Real      4177    \n",
       "1                Classification         Categorical, Integer     48842    \n",
       "2                Classification   Categorical, Integer, Real       798    \n",
       "3           Recommender-Systems                  Categorical     37711    \n",
       "4                Classification   Categorical, Integer, Real       452    \n",
       "..                           ...                          ...       ...   \n",
       "594  Classification, Clustering                                   4200    \n",
       "595              Classification                         Real     61069    \n",
       "596                  Regression                Integer, Real     52417    \n",
       "597              Classification                Integer, Real       900    \n",
       "598                  Regression                                  35040    \n",
       "\n",
       "    Attribute   Year  \n",
       "0          8   1995   \n",
       "1         14   1996   \n",
       "2         38          \n",
       "3        294   1998   \n",
       "4        279   1998   \n",
       "..        ...    ...  \n",
       "594        7   2021   \n",
       "595       21   2021   \n",
       "596        9   2021   \n",
       "597        8   2021   \n",
       "598       11   2021   \n",
       "\n",
       "[599 rows x 7 columns]"
      ]
     },
     "execution_count": 76,
     "metadata": {},
     "output_type": "execute_result"
    }
   ],
   "source": [
    "import pandas as pd\n",
    "table=pd.DataFrame({})\n",
    "\n",
    "table['Dataset Name']=Dataset_name[1:600]\n",
    "table['Data Type']=Data_type[1:600]\n",
    "table['Task']=Task[1:600]\n",
    "table['Attribute Type']=Attribute_type[1:600]\n",
    "table['Instances']=instances[1:600]\n",
    "table['Attribute']=attribute[1:600]\n",
    "table['Year']=Year[1:600]\n",
    "\n",
    "\n",
    "table"
   ]
  }
 ],
 "metadata": {
  "kernelspec": {
   "display_name": "Python 3 (ipykernel)",
   "language": "python",
   "name": "python3"
  },
  "language_info": {
   "codemirror_mode": {
    "name": "ipython",
    "version": 3
   },
   "file_extension": ".py",
   "mimetype": "text/x-python",
   "name": "python",
   "nbconvert_exporter": "python",
   "pygments_lexer": "ipython3",
   "version": "3.9.7"
  }
 },
 "nbformat": 4,
 "nbformat_minor": 5
}
