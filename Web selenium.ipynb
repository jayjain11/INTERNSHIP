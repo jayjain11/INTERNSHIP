{
 "cells": [
  {
   "cell_type": "markdown",
   "id": "d39a5145",
   "metadata": {},
   "source": [
    "Q1-Write a python program to scrape data for “Data Analyst” Job position in “Bangalore” location. You\n",
    "have to scrape the job-title, job-location, company_name, experience_required. You have to scrape first 10\n",
    "jobs data.\n",
    "This task will be done in following steps:\n",
    "1. First get the webpage https://www.naukri.com/\n",
    "2. Enter “Data Analyst” in “Skill, Designations, Companies” field and enter “Bangalore” in “enter the\n",
    "location” field.\n",
    "3. Then click the search button.\n",
    "4. Then scrape the data for the first 10 jobs results you get.\n",
    "5. Finally create a dataframe of the scraped data"
   ]
  },
  {
   "cell_type": "code",
   "execution_count": 1,
   "id": "5b57b3d1",
   "metadata": {},
   "outputs": [
    {
     "name": "stdout",
     "output_type": "stream",
     "text": [
      "Collecting selenium\n",
      "  Downloading selenium-4.1.3-py3-none-any.whl (968 kB)\n",
      "Collecting trio~=0.17\n",
      "  Downloading trio-0.20.0-py3-none-any.whl (359 kB)\n",
      "Collecting trio-websocket~=0.9\n",
      "  Downloading trio_websocket-0.9.2-py3-none-any.whl (16 kB)\n",
      "Requirement already satisfied: urllib3[secure,socks]~=1.26 in c:\\programdata\\anaconda3\\lib\\site-packages (from selenium) (1.26.7)\n",
      "Requirement already satisfied: async-generator>=1.9 in c:\\programdata\\anaconda3\\lib\\site-packages (from trio~=0.17->selenium) (1.10)\n",
      "Requirement already satisfied: attrs>=19.2.0 in c:\\programdata\\anaconda3\\lib\\site-packages (from trio~=0.17->selenium) (21.2.0)\n",
      "Requirement already satisfied: idna in c:\\programdata\\anaconda3\\lib\\site-packages (from trio~=0.17->selenium) (3.2)\n",
      "Collecting outcome\n",
      "  Downloading outcome-1.1.0-py2.py3-none-any.whl (9.7 kB)\n",
      "Requirement already satisfied: sniffio in c:\\programdata\\anaconda3\\lib\\site-packages (from trio~=0.17->selenium) (1.2.0)\n",
      "Requirement already satisfied: cffi>=1.14 in c:\\programdata\\anaconda3\\lib\\site-packages (from trio~=0.17->selenium) (1.14.6)\n",
      "Requirement already satisfied: sortedcontainers in c:\\programdata\\anaconda3\\lib\\site-packages (from trio~=0.17->selenium) (2.4.0)\n",
      "Requirement already satisfied: pycparser in c:\\programdata\\anaconda3\\lib\\site-packages (from cffi>=1.14->trio~=0.17->selenium) (2.20)\n",
      "Collecting wsproto>=0.14\n",
      "  Downloading wsproto-1.1.0-py3-none-any.whl (24 kB)\n",
      "Requirement already satisfied: pyOpenSSL>=0.14 in c:\\programdata\\anaconda3\\lib\\site-packages (from urllib3[secure,socks]~=1.26->selenium) (21.0.0)\n",
      "Requirement already satisfied: cryptography>=1.3.4 in c:\\programdata\\anaconda3\\lib\\site-packages (from urllib3[secure,socks]~=1.26->selenium) (3.4.8)\n",
      "Requirement already satisfied: certifi in c:\\programdata\\anaconda3\\lib\\site-packages (from urllib3[secure,socks]~=1.26->selenium) (2021.10.8)\n",
      "Requirement already satisfied: PySocks!=1.5.7,<2.0,>=1.5.6 in c:\\programdata\\anaconda3\\lib\\site-packages (from urllib3[secure,socks]~=1.26->selenium) (1.7.1)\n",
      "Requirement already satisfied: six>=1.5.2 in c:\\programdata\\anaconda3\\lib\\site-packages (from pyOpenSSL>=0.14->urllib3[secure,socks]~=1.26->selenium) (1.16.0)\n",
      "Collecting h11<1,>=0.9.0\n",
      "  Downloading h11-0.13.0-py3-none-any.whl (58 kB)\n",
      "Installing collected packages: outcome, h11, wsproto, trio, trio-websocket, selenium\n",
      "Successfully installed h11-0.13.0 outcome-1.1.0 selenium-4.1.3 trio-0.20.0 trio-websocket-0.9.2 wsproto-1.1.0\n"
     ]
    }
   ],
   "source": [
    "# lets install the selenium library\n",
    "! pip install selenium"
   ]
  },
  {
   "cell_type": "code",
   "execution_count": 2,
   "id": "dd4994f6",
   "metadata": {},
   "outputs": [],
   "source": [
    "# now import all required library\n",
    "import selenium      #library that is used to work with selenium\n",
    "import pandas as pd  #to create DataFrame\n",
    "from selenium import webdriver #importing webdriver module from selenium to open up automated chrome window\n",
    "import warnings     #to ignore any sort of warnings\n",
    "warnings.filterwarnings(\"ignore\")\n",
    "import time         #use to stop search engine for 5 seconds"
   ]
  },
  {
   "cell_type": "code",
   "execution_count": 12,
   "id": "70ccf1ad",
   "metadata": {},
   "outputs": [],
   "source": [
    "# lets connect to webdriver\n",
    "driver = webdriver.Chrome(r\"C:\\Web driver\\chromedriver.exe\")"
   ]
  },
  {
   "cell_type": "code",
   "execution_count": 8,
   "id": "b9695df4",
   "metadata": {},
   "outputs": [],
   "source": [
    "# to close automated chrome window\n",
    "driver.close()"
   ]
  },
  {
   "cell_type": "code",
   "execution_count": 13,
   "id": "9cf5c5db",
   "metadata": {},
   "outputs": [],
   "source": [
    "#opening naukri.com website on automated chrome window\n",
    "driver.get('https://www.naukri.com/')"
   ]
  },
  {
   "cell_type": "code",
   "execution_count": 14,
   "id": "0b8af76b",
   "metadata": {},
   "outputs": [],
   "source": [
    "#job search bar\n",
    "search_field_designation=driver.find_element_by_class_name(\"suggestor-input\")\n",
    "#send_keys - it is used to enter data\n",
    "search_field_designation.send_keys(\"Data Analyst\")"
   ]
  },
  {
   "cell_type": "code",
   "execution_count": 16,
   "id": "ad7115df",
   "metadata": {},
   "outputs": [],
   "source": [
    "#entering location in search bar\n",
    "search_field_location=driver.find_element_by_xpath(\"/html/body/div/div[2]/div[3]/div/div/div[3]/div/div/div/input\")\n",
    "search_field_location.send_keys(\"Bangalore\")"
   ]
  },
  {
   "cell_type": "code",
   "execution_count": 17,
   "id": "45ead6c9",
   "metadata": {},
   "outputs": [],
   "source": [
    "#click search button\n",
    "search_button =driver.find_element_by_xpath(\"/html/body/div/div[2]/div[3]/div/div/div[6]\")\n",
    "search_button.click()"
   ]
  },
  {
   "cell_type": "code",
   "execution_count": 47,
   "id": "8b50ad06",
   "metadata": {},
   "outputs": [],
   "source": [
    "# creating empty list\n",
    "jobs_title=[]\n",
    "company_names=[]\n",
    "location_list=[]\n",
    "experience_list=[]"
   ]
  },
  {
   "cell_type": "code",
   "execution_count": 44,
   "id": "3ccf1155",
   "metadata": {},
   "outputs": [
    {
     "data": {
      "text/plain": [
       "[<selenium.webdriver.remote.webelement.WebElement (session=\"de444992178749823c0068837d80e681\", element=\"8a91ccbe-dc0c-4c26-96cf-0d879cfca56a\")>,\n",
       " <selenium.webdriver.remote.webelement.WebElement (session=\"de444992178749823c0068837d80e681\", element=\"01e4270e-76bf-4c29-bd39-80d2ae376723\")>,\n",
       " <selenium.webdriver.remote.webelement.WebElement (session=\"de444992178749823c0068837d80e681\", element=\"4960738e-1071-43c8-a702-87f0c9b868c2\")>,\n",
       " <selenium.webdriver.remote.webelement.WebElement (session=\"de444992178749823c0068837d80e681\", element=\"2285fa87-dbe4-4a5c-aac2-d5df0a364392\")>,\n",
       " <selenium.webdriver.remote.webelement.WebElement (session=\"de444992178749823c0068837d80e681\", element=\"beec53a0-52d3-4af2-8851-9b056605e8c6\")>,\n",
       " <selenium.webdriver.remote.webelement.WebElement (session=\"de444992178749823c0068837d80e681\", element=\"222c88e1-ca2b-4104-8e95-0aee60837a0b\")>,\n",
       " <selenium.webdriver.remote.webelement.WebElement (session=\"de444992178749823c0068837d80e681\", element=\"cf94d657-518c-459a-b1ab-8c12ddde1594\")>,\n",
       " <selenium.webdriver.remote.webelement.WebElement (session=\"de444992178749823c0068837d80e681\", element=\"c645614d-135d-446e-b7b6-222143f62b82\")>,\n",
       " <selenium.webdriver.remote.webelement.WebElement (session=\"de444992178749823c0068837d80e681\", element=\"e62a0452-6cbb-47ad-b45e-8a4f035d903f\")>,\n",
       " <selenium.webdriver.remote.webelement.WebElement (session=\"de444992178749823c0068837d80e681\", element=\"e26b7598-03d1-47c7-939f-73967fab213a\")>]"
      ]
     },
     "execution_count": 44,
     "metadata": {},
     "output_type": "execute_result"
    }
   ],
   "source": [
    "# so lets extract all the tags having the job titles\n",
    "titles_tag =driver.find_elements_by_xpath(\"//a[@class='title fw500 ellipsis']\")\n",
    "titles_tag[0:10]"
   ]
  },
  {
   "cell_type": "code",
   "execution_count": 50,
   "id": "f6691600",
   "metadata": {},
   "outputs": [
    {
     "data": {
      "text/plain": [
       "['Business and Data Analyst',\n",
       " 'Senior Data Analyst',\n",
       " 'Senior Data Analyst',\n",
       " 'Jr . Data Analyst',\n",
       " 'Data Analyst',\n",
       " 'Hiring For Data Analyst with SAP ABAP & BW - C2H Wipro',\n",
       " 'Officer - Category Demand Management ( Data Analyst)',\n",
       " 'Software Technologist II - Data Analyst',\n",
       " 'SAS Analyst / data Analyst / Business analyst - Sas + SQL',\n",
       " 'Sr Data Analyst']"
      ]
     },
     "execution_count": 50,
     "metadata": {},
     "output_type": "execute_result"
    }
   ],
   "source": [
    "for i in titles_tag:\n",
    "    title = i.text\n",
    "    jobs_title.append(title)\n",
    "jobs_title[0:10] "
   ]
  },
  {
   "cell_type": "code",
   "execution_count": 52,
   "id": "9aa51b4f",
   "metadata": {},
   "outputs": [
    {
     "data": {
      "text/plain": [
       "[<selenium.webdriver.remote.webelement.WebElement (session=\"de444992178749823c0068837d80e681\", element=\"7c05ebf1-de64-4f60-b57e-ed5f9b5c45cd\")>,\n",
       " <selenium.webdriver.remote.webelement.WebElement (session=\"de444992178749823c0068837d80e681\", element=\"46df4590-245c-4d14-9d31-cf2fb2b2486f\")>,\n",
       " <selenium.webdriver.remote.webelement.WebElement (session=\"de444992178749823c0068837d80e681\", element=\"a3867468-5623-47e8-ba49-e7c07abc215d\")>,\n",
       " <selenium.webdriver.remote.webelement.WebElement (session=\"de444992178749823c0068837d80e681\", element=\"142dd517-d6af-4970-a96e-7b436af915eb\")>,\n",
       " <selenium.webdriver.remote.webelement.WebElement (session=\"de444992178749823c0068837d80e681\", element=\"7d1e7ce1-e305-40f3-887d-06f990d23d0d\")>,\n",
       " <selenium.webdriver.remote.webelement.WebElement (session=\"de444992178749823c0068837d80e681\", element=\"74aeab5b-8a5a-47bf-846f-e7887981f5f6\")>,\n",
       " <selenium.webdriver.remote.webelement.WebElement (session=\"de444992178749823c0068837d80e681\", element=\"3bc7bcb6-dd4c-47a4-9c4c-4c359c46beb3\")>,\n",
       " <selenium.webdriver.remote.webelement.WebElement (session=\"de444992178749823c0068837d80e681\", element=\"590b7f36-ebda-4304-814d-c8c4cc118187\")>,\n",
       " <selenium.webdriver.remote.webelement.WebElement (session=\"de444992178749823c0068837d80e681\", element=\"9859b0eb-20b5-4fd5-9ea7-d898ea299b1a\")>,\n",
       " <selenium.webdriver.remote.webelement.WebElement (session=\"de444992178749823c0068837d80e681\", element=\"a0e70de2-e544-47ee-96e4-738c54ad52e2\")>]"
      ]
     },
     "execution_count": 52,
     "metadata": {},
     "output_type": "execute_result"
    }
   ],
   "source": [
    "#extract tag having company names\n",
    "company_tag=driver.find_elements_by_xpath(\"//a[@class='subTitle ellipsis fleft']\")\n",
    "company_tag[0:10]"
   ]
  },
  {
   "cell_type": "code",
   "execution_count": 53,
   "id": "4ca4dc8b",
   "metadata": {},
   "outputs": [
    {
     "data": {
      "text/plain": [
       "['CAREERDOST ENTERPRISE',\n",
       " 'Capco',\n",
       " 'Gsn Games India',\n",
       " 'Armorblox',\n",
       " 'G S E-COMMERCE PVT LTD',\n",
       " 'MILLION MINDS INFOTECH PRIVATE LIMITED',\n",
       " 'Myntra',\n",
       " 'Philips',\n",
       " 'Leading US MNC into analytics',\n",
       " 'TECHNODYSIS PRIVATE LIMITED']"
      ]
     },
     "execution_count": 53,
     "metadata": {},
     "output_type": "execute_result"
    }
   ],
   "source": [
    "for i in company_tag:\n",
    "    name=i.text\n",
    "    company_names.append(name)\n",
    "company_names[0:10]    "
   ]
  },
  {
   "cell_type": "code",
   "execution_count": 54,
   "id": "fef437ab",
   "metadata": {},
   "outputs": [
    {
     "data": {
      "text/plain": [
       "[<selenium.webdriver.remote.webelement.WebElement (session=\"de444992178749823c0068837d80e681\", element=\"2d2ecc94-459d-43b7-a33d-bb1722bd7bc5\")>,\n",
       " <selenium.webdriver.remote.webelement.WebElement (session=\"de444992178749823c0068837d80e681\", element=\"e32e1f6c-eb72-4d8e-b33f-2904dbfa8361\")>,\n",
       " <selenium.webdriver.remote.webelement.WebElement (session=\"de444992178749823c0068837d80e681\", element=\"a9264faa-6de2-47a8-ba42-7e67b4a8f333\")>,\n",
       " <selenium.webdriver.remote.webelement.WebElement (session=\"de444992178749823c0068837d80e681\", element=\"1d290dbc-b361-4a7c-ade2-9b02595303ab\")>,\n",
       " <selenium.webdriver.remote.webelement.WebElement (session=\"de444992178749823c0068837d80e681\", element=\"89319b92-fd9d-4f2c-9dcd-2a89d8aba78c\")>,\n",
       " <selenium.webdriver.remote.webelement.WebElement (session=\"de444992178749823c0068837d80e681\", element=\"e4d9fb0d-6fbe-4e8c-8a5b-bd0f1350cde4\")>,\n",
       " <selenium.webdriver.remote.webelement.WebElement (session=\"de444992178749823c0068837d80e681\", element=\"58b4e147-8212-492e-90bd-6ddccc826543\")>,\n",
       " <selenium.webdriver.remote.webelement.WebElement (session=\"de444992178749823c0068837d80e681\", element=\"8fcf111f-c393-4366-83b2-a9203f345c29\")>,\n",
       " <selenium.webdriver.remote.webelement.WebElement (session=\"de444992178749823c0068837d80e681\", element=\"f5bcf21b-f709-4349-84ae-fef11b2af7f9\")>,\n",
       " <selenium.webdriver.remote.webelement.WebElement (session=\"de444992178749823c0068837d80e681\", element=\"61dc78e2-fb46-43aa-a71b-982b07b4221a\")>]"
      ]
     },
     "execution_count": 54,
     "metadata": {},
     "output_type": "execute_result"
    }
   ],
   "source": [
    "experience_tags=driver.find_elements_by_xpath(\"//li[@class='fleft grey-text br2 placeHolderLi experience']/span\")\n",
    "experience_tags[0:10]"
   ]
  },
  {
   "cell_type": "code",
   "execution_count": 55,
   "id": "b2f8f3dd",
   "metadata": {},
   "outputs": [
    {
     "data": {
      "text/plain": [
       "['0-5 Yrs',\n",
       " '7-12 Yrs',\n",
       " '3-7 Yrs',\n",
       " '0-2 Yrs',\n",
       " '4-7 Yrs',\n",
       " '7-10 Yrs',\n",
       " '1-4 Yrs',\n",
       " '5-8 Yrs',\n",
       " '2-7 Yrs',\n",
       " '6-10 Yrs']"
      ]
     },
     "execution_count": 55,
     "metadata": {},
     "output_type": "execute_result"
    }
   ],
   "source": [
    "for i in experience_tags:\n",
    "    experience = i.text\n",
    "    experience_list.append(experience)\n",
    "experience_list[0:10]    "
   ]
  },
  {
   "cell_type": "code",
   "execution_count": 56,
   "id": "ef27aa3b",
   "metadata": {},
   "outputs": [
    {
     "data": {
      "text/plain": [
       "[<selenium.webdriver.remote.webelement.WebElement (session=\"de444992178749823c0068837d80e681\", element=\"fd2fa337-d011-4f15-998b-b89945a05407\")>,\n",
       " <selenium.webdriver.remote.webelement.WebElement (session=\"de444992178749823c0068837d80e681\", element=\"9c3d21e6-c54d-44b7-8ac1-9408de2f902d\")>,\n",
       " <selenium.webdriver.remote.webelement.WebElement (session=\"de444992178749823c0068837d80e681\", element=\"20984639-0b93-4337-915b-992c9261f713\")>,\n",
       " <selenium.webdriver.remote.webelement.WebElement (session=\"de444992178749823c0068837d80e681\", element=\"1f7960e7-9a49-4ce9-81ee-eded0df67579\")>,\n",
       " <selenium.webdriver.remote.webelement.WebElement (session=\"de444992178749823c0068837d80e681\", element=\"0c754959-81b8-40f1-9fe7-1f2f87d5b300\")>,\n",
       " <selenium.webdriver.remote.webelement.WebElement (session=\"de444992178749823c0068837d80e681\", element=\"89e4b77d-df25-4f38-8d07-d3999f54604b\")>,\n",
       " <selenium.webdriver.remote.webelement.WebElement (session=\"de444992178749823c0068837d80e681\", element=\"c37f7814-3cb7-4030-bc4e-a0b5d7becc70\")>,\n",
       " <selenium.webdriver.remote.webelement.WebElement (session=\"de444992178749823c0068837d80e681\", element=\"a3c7f5d1-3af9-4e07-9396-17df5f78305a\")>,\n",
       " <selenium.webdriver.remote.webelement.WebElement (session=\"de444992178749823c0068837d80e681\", element=\"feb13b0e-38c7-4ea3-b8c3-ca2c844c4399\")>,\n",
       " <selenium.webdriver.remote.webelement.WebElement (session=\"de444992178749823c0068837d80e681\", element=\"cf82a092-fd4e-4fbd-9f53-b06530099826\")>]"
      ]
     },
     "execution_count": 56,
     "metadata": {},
     "output_type": "execute_result"
    }
   ],
   "source": [
    "location_tags=driver.find_elements_by_xpath(\"//li[@class='fleft grey-text br2 placeHolderLi location']\")\n",
    "location_tags[0:10]"
   ]
  },
  {
   "cell_type": "code",
   "execution_count": 57,
   "id": "9d7e537e",
   "metadata": {},
   "outputs": [
    {
     "data": {
      "text/plain": [
       "['Bangalore/Bengaluru\\n(WFH during Covid)',\n",
       " 'Pune, Gurgaon/Gurugram, Chennai, Bangalore/Bengaluru',\n",
       " 'Bangalore/Bengaluru',\n",
       " 'Bangalore/Bengaluru',\n",
       " 'Bangalore/Bengaluru(Jayanagar)',\n",
       " 'Bangalore/Bengaluru\\n(WFH during Covid)',\n",
       " 'Bangalore/Bengaluru',\n",
       " 'Bangalore/Bengaluru',\n",
       " 'Bangalore/Bengaluru, Delhi / NCR, Mumbai (All Areas)\\n(WFH during Covid)',\n",
       " 'Hyderabad/Secunderabad, Pune, Chennai, Bangalore/Bengaluru, Delhi / NCR, Mumbai (All Areas)\\n(WFH during Covid)']"
      ]
     },
     "execution_count": 57,
     "metadata": {},
     "output_type": "execute_result"
    }
   ],
   "source": [
    "for i in location_tags:\n",
    "    location =i.text\n",
    "    location_list.append(location)\n",
    "location_list[0:10]    "
   ]
  },
  {
   "cell_type": "code",
   "execution_count": 58,
   "id": "d8fce07c",
   "metadata": {},
   "outputs": [
    {
     "name": "stdout",
     "output_type": "stream",
     "text": [
      "20 20 20 20\n"
     ]
    }
   ],
   "source": [
    "#printing length of each list \n",
    "print(len(jobs_title),len(company_names),len(experience_list),len(location_list))"
   ]
  },
  {
   "cell_type": "code",
   "execution_count": 59,
   "id": "6072da8c",
   "metadata": {},
   "outputs": [],
   "source": [
    "jobs = pd.DataFrame({})\n",
    "jobs['title']=jobs_title\n",
    "jobs['company']=company_names\n",
    "jobs['experience_required']=experience_list\n",
    "jobs['location']=location_list"
   ]
  },
  {
   "cell_type": "code",
   "execution_count": 62,
   "id": "6ff72d18",
   "metadata": {},
   "outputs": [
    {
     "data": {
      "text/html": [
       "<div>\n",
       "<style scoped>\n",
       "    .dataframe tbody tr th:only-of-type {\n",
       "        vertical-align: middle;\n",
       "    }\n",
       "\n",
       "    .dataframe tbody tr th {\n",
       "        vertical-align: top;\n",
       "    }\n",
       "\n",
       "    .dataframe thead th {\n",
       "        text-align: right;\n",
       "    }\n",
       "</style>\n",
       "<table border=\"1\" class=\"dataframe\">\n",
       "  <thead>\n",
       "    <tr style=\"text-align: right;\">\n",
       "      <th></th>\n",
       "      <th>title</th>\n",
       "      <th>company</th>\n",
       "      <th>experience_required</th>\n",
       "      <th>location</th>\n",
       "    </tr>\n",
       "  </thead>\n",
       "  <tbody>\n",
       "    <tr>\n",
       "      <th>0</th>\n",
       "      <td>Business and Data Analyst</td>\n",
       "      <td>CAREERDOST ENTERPRISE</td>\n",
       "      <td>0-5 Yrs</td>\n",
       "      <td>Bangalore/Bengaluru\\n(WFH during Covid)</td>\n",
       "    </tr>\n",
       "    <tr>\n",
       "      <th>1</th>\n",
       "      <td>Senior Data Analyst</td>\n",
       "      <td>Capco</td>\n",
       "      <td>7-12 Yrs</td>\n",
       "      <td>Pune, Gurgaon/Gurugram, Chennai, Bangalore/Ben...</td>\n",
       "    </tr>\n",
       "    <tr>\n",
       "      <th>2</th>\n",
       "      <td>Senior Data Analyst</td>\n",
       "      <td>Gsn Games India</td>\n",
       "      <td>3-7 Yrs</td>\n",
       "      <td>Bangalore/Bengaluru</td>\n",
       "    </tr>\n",
       "    <tr>\n",
       "      <th>3</th>\n",
       "      <td>Jr . Data Analyst</td>\n",
       "      <td>Armorblox</td>\n",
       "      <td>0-2 Yrs</td>\n",
       "      <td>Bangalore/Bengaluru</td>\n",
       "    </tr>\n",
       "    <tr>\n",
       "      <th>4</th>\n",
       "      <td>Data Analyst</td>\n",
       "      <td>G S E-COMMERCE PVT LTD</td>\n",
       "      <td>4-7 Yrs</td>\n",
       "      <td>Bangalore/Bengaluru(Jayanagar)</td>\n",
       "    </tr>\n",
       "    <tr>\n",
       "      <th>5</th>\n",
       "      <td>Hiring For Data Analyst with SAP ABAP &amp; BW - C...</td>\n",
       "      <td>MILLION MINDS INFOTECH PRIVATE LIMITED</td>\n",
       "      <td>7-10 Yrs</td>\n",
       "      <td>Bangalore/Bengaluru\\n(WFH during Covid)</td>\n",
       "    </tr>\n",
       "    <tr>\n",
       "      <th>6</th>\n",
       "      <td>Officer - Category Demand Management ( Data An...</td>\n",
       "      <td>Myntra</td>\n",
       "      <td>1-4 Yrs</td>\n",
       "      <td>Bangalore/Bengaluru</td>\n",
       "    </tr>\n",
       "    <tr>\n",
       "      <th>7</th>\n",
       "      <td>Software Technologist II - Data Analyst</td>\n",
       "      <td>Philips</td>\n",
       "      <td>5-8 Yrs</td>\n",
       "      <td>Bangalore/Bengaluru</td>\n",
       "    </tr>\n",
       "    <tr>\n",
       "      <th>8</th>\n",
       "      <td>SAS Analyst / data Analyst / Business analyst ...</td>\n",
       "      <td>Leading US MNC into analytics</td>\n",
       "      <td>2-7 Yrs</td>\n",
       "      <td>Bangalore/Bengaluru, Delhi / NCR, Mumbai (All ...</td>\n",
       "    </tr>\n",
       "    <tr>\n",
       "      <th>9</th>\n",
       "      <td>Sr Data Analyst</td>\n",
       "      <td>TECHNODYSIS PRIVATE LIMITED</td>\n",
       "      <td>6-10 Yrs</td>\n",
       "      <td>Hyderabad/Secunderabad, Pune, Chennai, Bangalo...</td>\n",
       "    </tr>\n",
       "  </tbody>\n",
       "</table>\n",
       "</div>"
      ],
      "text/plain": [
       "                                               title  \\\n",
       "0                          Business and Data Analyst   \n",
       "1                                Senior Data Analyst   \n",
       "2                                Senior Data Analyst   \n",
       "3                                  Jr . Data Analyst   \n",
       "4                                       Data Analyst   \n",
       "5  Hiring For Data Analyst with SAP ABAP & BW - C...   \n",
       "6  Officer - Category Demand Management ( Data An...   \n",
       "7            Software Technologist II - Data Analyst   \n",
       "8  SAS Analyst / data Analyst / Business analyst ...   \n",
       "9                                    Sr Data Analyst   \n",
       "\n",
       "                                  company experience_required  \\\n",
       "0                   CAREERDOST ENTERPRISE             0-5 Yrs   \n",
       "1                                   Capco            7-12 Yrs   \n",
       "2                         Gsn Games India             3-7 Yrs   \n",
       "3                               Armorblox             0-2 Yrs   \n",
       "4                  G S E-COMMERCE PVT LTD             4-7 Yrs   \n",
       "5  MILLION MINDS INFOTECH PRIVATE LIMITED            7-10 Yrs   \n",
       "6                                  Myntra             1-4 Yrs   \n",
       "7                                 Philips             5-8 Yrs   \n",
       "8           Leading US MNC into analytics             2-7 Yrs   \n",
       "9             TECHNODYSIS PRIVATE LIMITED            6-10 Yrs   \n",
       "\n",
       "                                            location  \n",
       "0            Bangalore/Bengaluru\\n(WFH during Covid)  \n",
       "1  Pune, Gurgaon/Gurugram, Chennai, Bangalore/Ben...  \n",
       "2                                Bangalore/Bengaluru  \n",
       "3                                Bangalore/Bengaluru  \n",
       "4                     Bangalore/Bengaluru(Jayanagar)  \n",
       "5            Bangalore/Bengaluru\\n(WFH during Covid)  \n",
       "6                                Bangalore/Bengaluru  \n",
       "7                                Bangalore/Bengaluru  \n",
       "8  Bangalore/Bengaluru, Delhi / NCR, Mumbai (All ...  \n",
       "9  Hyderabad/Secunderabad, Pune, Chennai, Bangalo...  "
      ]
     },
     "execution_count": 62,
     "metadata": {},
     "output_type": "execute_result"
    }
   ],
   "source": [
    "#showing only 10 jobs from the list\n",
    "jobs[0:10]"
   ]
  },
  {
   "cell_type": "markdown",
   "id": "c032b042",
   "metadata": {},
   "source": [
    "Q2- Write a python program to scrape data for “Data Scientist” Job position in “Bangalore” location. You\n",
    "have to scrape the job-title, job-location, company_name. You have to scrape first 10 jobs data.\n",
    "This task will be done in following steps:\n",
    "1. First get the webpage https://www.naukri.com/\n",
    "2. Enter “Data Scientist” in “Skill, Designations, Companies” field and enter “Bangalore” in “enter the\n",
    "location” field.\n",
    "3. Then click the search button.\n",
    "4. Then scrape the data for the first 10 jobs results you get.\n",
    "5. Finally create a dataframe of the scraped data."
   ]
  },
  {
   "cell_type": "code",
   "execution_count": 63,
   "id": "42142e85",
   "metadata": {},
   "outputs": [
    {
     "name": "stdout",
     "output_type": "stream",
     "text": [
      "Requirement already satisfied: selenium in c:\\programdata\\anaconda3\\lib\\site-packages (4.1.3)\n",
      "Requirement already satisfied: trio~=0.17 in c:\\programdata\\anaconda3\\lib\\site-packages (from selenium) (0.20.0)\n",
      "Requirement already satisfied: trio-websocket~=0.9 in c:\\programdata\\anaconda3\\lib\\site-packages (from selenium) (0.9.2)\n",
      "Requirement already satisfied: urllib3[secure,socks]~=1.26 in c:\\programdata\\anaconda3\\lib\\site-packages (from selenium) (1.26.7)\n",
      "Requirement already satisfied: sortedcontainers in c:\\programdata\\anaconda3\\lib\\site-packages (from trio~=0.17->selenium) (2.4.0)\n",
      "Requirement already satisfied: attrs>=19.2.0 in c:\\programdata\\anaconda3\\lib\\site-packages (from trio~=0.17->selenium) (21.2.0)\n",
      "Requirement already satisfied: cffi>=1.14 in c:\\programdata\\anaconda3\\lib\\site-packages (from trio~=0.17->selenium) (1.14.6)\n",
      "Requirement already satisfied: outcome in c:\\programdata\\anaconda3\\lib\\site-packages (from trio~=0.17->selenium) (1.1.0)\n",
      "Requirement already satisfied: async-generator>=1.9 in c:\\programdata\\anaconda3\\lib\\site-packages (from trio~=0.17->selenium) (1.10)\n",
      "Requirement already satisfied: sniffio in c:\\programdata\\anaconda3\\lib\\site-packages (from trio~=0.17->selenium) (1.2.0)\n",
      "Requirement already satisfied: idna in c:\\programdata\\anaconda3\\lib\\site-packages (from trio~=0.17->selenium) (3.2)\n",
      "Requirement already satisfied: pycparser in c:\\programdata\\anaconda3\\lib\\site-packages (from cffi>=1.14->trio~=0.17->selenium) (2.20)\n",
      "Requirement already satisfied: wsproto>=0.14 in c:\\programdata\\anaconda3\\lib\\site-packages (from trio-websocket~=0.9->selenium) (1.1.0)\n",
      "Requirement already satisfied: PySocks!=1.5.7,<2.0,>=1.5.6 in c:\\programdata\\anaconda3\\lib\\site-packages (from urllib3[secure,socks]~=1.26->selenium) (1.7.1)\n",
      "Requirement already satisfied: pyOpenSSL>=0.14 in c:\\programdata\\anaconda3\\lib\\site-packages (from urllib3[secure,socks]~=1.26->selenium) (21.0.0)\n",
      "Requirement already satisfied: cryptography>=1.3.4 in c:\\programdata\\anaconda3\\lib\\site-packages (from urllib3[secure,socks]~=1.26->selenium) (3.4.8)\n",
      "Requirement already satisfied: certifi in c:\\programdata\\anaconda3\\lib\\site-packages (from urllib3[secure,socks]~=1.26->selenium) (2021.10.8)\n",
      "Requirement already satisfied: six>=1.5.2 in c:\\programdata\\anaconda3\\lib\\site-packages (from pyOpenSSL>=0.14->urllib3[secure,socks]~=1.26->selenium) (1.16.0)\n",
      "Requirement already satisfied: h11<1,>=0.9.0 in c:\\programdata\\anaconda3\\lib\\site-packages (from wsproto>=0.14->trio-websocket~=0.9->selenium) (0.13.0)\n"
     ]
    }
   ],
   "source": [
    "! pip install selenium"
   ]
  },
  {
   "cell_type": "code",
   "execution_count": 71,
   "id": "a8fc89cd",
   "metadata": {},
   "outputs": [],
   "source": [
    "import selenium\n",
    "import pandas as pd\n",
    "from selenium import webdriver\n",
    "import warnings\n",
    "warnings.filterwarnings(\"ignore\")\n",
    "import time"
   ]
  },
  {
   "cell_type": "code",
   "execution_count": 72,
   "id": "dd20d3c5",
   "metadata": {},
   "outputs": [],
   "source": [
    "driver2 = webdriver.Chrome(r\"C:\\Web driver\\Chromedriver.exe\")"
   ]
  },
  {
   "cell_type": "code",
   "execution_count": 73,
   "id": "8fd8c72d",
   "metadata": {},
   "outputs": [],
   "source": [
    "driver2.get('https://www.naukri.com/')"
   ]
  },
  {
   "cell_type": "code",
   "execution_count": 76,
   "id": "40e908a3",
   "metadata": {},
   "outputs": [],
   "source": [
    "search_designation= driver2.find_element_by_class_name(\"suggestor-input\")\n",
    "search_designation.send_keys(\"Data Scientist\")"
   ]
  },
  {
   "cell_type": "code",
   "execution_count": 77,
   "id": "39cd0fe7",
   "metadata": {},
   "outputs": [],
   "source": [
    "search_location= driver2.find_element_by_xpath(\"/html/body/div/div[2]/div[3]/div/div/div[3]/div/div/div/input\")\n",
    "search_location.send_keys(\"Bangalore\")"
   ]
  },
  {
   "cell_type": "code",
   "execution_count": 79,
   "id": "72f27f82",
   "metadata": {},
   "outputs": [],
   "source": [
    "search_button = driver2.find_element_by_xpath(\"/html/body/div/div[2]/div[3]/div/div/div[6]\")\n",
    "search_button.click()"
   ]
  },
  {
   "cell_type": "code",
   "execution_count": 80,
   "id": "9375910d",
   "metadata": {},
   "outputs": [],
   "source": [
    "#creating empty list\n",
    "jobs = []\n",
    "companies = []\n",
    "location = []\n",
    "experience = []"
   ]
  },
  {
   "cell_type": "code",
   "execution_count": 82,
   "id": "3fb02af0",
   "metadata": {},
   "outputs": [
    {
     "data": {
      "text/plain": [
       "[<selenium.webdriver.remote.webelement.WebElement (session=\"3a9c1a3b8d10dd35b5ee91a9280630c8\", element=\"599e8c61-e604-4738-b235-244975e5bbd7\")>,\n",
       " <selenium.webdriver.remote.webelement.WebElement (session=\"3a9c1a3b8d10dd35b5ee91a9280630c8\", element=\"fd022385-2fd9-4779-9d3a-3e30e7157e0c\")>,\n",
       " <selenium.webdriver.remote.webelement.WebElement (session=\"3a9c1a3b8d10dd35b5ee91a9280630c8\", element=\"3079e60f-c3f1-4faf-afc5-d35218eed115\")>,\n",
       " <selenium.webdriver.remote.webelement.WebElement (session=\"3a9c1a3b8d10dd35b5ee91a9280630c8\", element=\"0112f1ea-d223-471a-bd61-024123b6021a\")>,\n",
       " <selenium.webdriver.remote.webelement.WebElement (session=\"3a9c1a3b8d10dd35b5ee91a9280630c8\", element=\"9f387d0e-2e70-4680-bac7-08292624a004\")>,\n",
       " <selenium.webdriver.remote.webelement.WebElement (session=\"3a9c1a3b8d10dd35b5ee91a9280630c8\", element=\"357ad600-010b-4875-a322-b0d9f5db5648\")>,\n",
       " <selenium.webdriver.remote.webelement.WebElement (session=\"3a9c1a3b8d10dd35b5ee91a9280630c8\", element=\"8eb42ed9-e479-495a-a7c7-284e7e638e2f\")>,\n",
       " <selenium.webdriver.remote.webelement.WebElement (session=\"3a9c1a3b8d10dd35b5ee91a9280630c8\", element=\"ed0a7876-85ae-4f1e-a644-f084fbeef234\")>,\n",
       " <selenium.webdriver.remote.webelement.WebElement (session=\"3a9c1a3b8d10dd35b5ee91a9280630c8\", element=\"44f70894-16b0-4da7-8eee-76fba5cf3e45\")>,\n",
       " <selenium.webdriver.remote.webelement.WebElement (session=\"3a9c1a3b8d10dd35b5ee91a9280630c8\", element=\"216d0198-ec35-4512-aae1-c0afb37abe0e\")>]"
      ]
     },
     "execution_count": 82,
     "metadata": {},
     "output_type": "execute_result"
    }
   ],
   "source": [
    "job_tag = driver2.find_elements_by_xpath(\"//a[@class='title fw500 ellipsis']\")\n",
    "job_tag[0:10]"
   ]
  },
  {
   "cell_type": "code",
   "execution_count": 83,
   "id": "51b60427",
   "metadata": {},
   "outputs": [
    {
     "data": {
      "text/plain": [
       "['Senior Data Scientist',\n",
       " 'Senior Associate - Data Scientist',\n",
       " 'Data Scientist',\n",
       " 'Staff Data Scientist',\n",
       " 'Job Opening with Wipro For Data Scientist - SAS',\n",
       " 'Data Scientist',\n",
       " 'Senior Data Scientist -Python+ML(5-7 years)',\n",
       " 'Senior Data Scientist',\n",
       " 'Senior Data Scientist (IN4)',\n",
       " 'Senior Data Scientist']"
      ]
     },
     "execution_count": 83,
     "metadata": {},
     "output_type": "execute_result"
    }
   ],
   "source": [
    "for i in job_tag:\n",
    "     tag = i.text\n",
    "     jobs.append(tag)\n",
    "jobs[0:10]    "
   ]
  },
  {
   "cell_type": "code",
   "execution_count": 85,
   "id": "972a8ee5",
   "metadata": {},
   "outputs": [
    {
     "data": {
      "text/plain": [
       "[<selenium.webdriver.remote.webelement.WebElement (session=\"3a9c1a3b8d10dd35b5ee91a9280630c8\", element=\"852db599-faa0-4249-aebc-5b07ed579f48\")>,\n",
       " <selenium.webdriver.remote.webelement.WebElement (session=\"3a9c1a3b8d10dd35b5ee91a9280630c8\", element=\"19d3074c-c772-45ca-8369-add4ae4f0c40\")>,\n",
       " <selenium.webdriver.remote.webelement.WebElement (session=\"3a9c1a3b8d10dd35b5ee91a9280630c8\", element=\"4c404d35-0067-4ca8-b85a-aaefaf1b1b5e\")>,\n",
       " <selenium.webdriver.remote.webelement.WebElement (session=\"3a9c1a3b8d10dd35b5ee91a9280630c8\", element=\"7c192eba-fde5-4756-9d46-5b826fde4c1a\")>,\n",
       " <selenium.webdriver.remote.webelement.WebElement (session=\"3a9c1a3b8d10dd35b5ee91a9280630c8\", element=\"fa8b7225-acaa-4d8d-b767-e474d2e64708\")>,\n",
       " <selenium.webdriver.remote.webelement.WebElement (session=\"3a9c1a3b8d10dd35b5ee91a9280630c8\", element=\"a9456a97-2aed-46c6-8a83-10a4acc3344c\")>,\n",
       " <selenium.webdriver.remote.webelement.WebElement (session=\"3a9c1a3b8d10dd35b5ee91a9280630c8\", element=\"a10f3fef-fede-42de-a5e0-92f2e86eb442\")>,\n",
       " <selenium.webdriver.remote.webelement.WebElement (session=\"3a9c1a3b8d10dd35b5ee91a9280630c8\", element=\"4e4820a8-6bc7-4696-924c-6555d7302edf\")>,\n",
       " <selenium.webdriver.remote.webelement.WebElement (session=\"3a9c1a3b8d10dd35b5ee91a9280630c8\", element=\"8cf9cdf3-bd3e-423b-b0a1-6fa66db83dd5\")>,\n",
       " <selenium.webdriver.remote.webelement.WebElement (session=\"3a9c1a3b8d10dd35b5ee91a9280630c8\", element=\"e702e07b-3b14-462f-9492-f015413f4d21\")>]"
      ]
     },
     "execution_count": 85,
     "metadata": {},
     "output_type": "execute_result"
    }
   ],
   "source": [
    "c_names = driver2.find_elements_by_xpath(\"//a[@class='subTitle ellipsis fleft']\") \n",
    "c_names [0:10]"
   ]
  },
  {
   "cell_type": "code",
   "execution_count": 86,
   "id": "d0ab6c93",
   "metadata": {},
   "outputs": [
    {
     "data": {
      "text/plain": [
       "['Walmart',\n",
       " 'Affine',\n",
       " 'Applied Materials',\n",
       " 'Walmart',\n",
       " 'Wipro',\n",
       " 'CRED',\n",
       " 'Knowledge Foundry Business Solutions Pvt. Ltd.',\n",
       " 'Course5',\n",
       " 'Walmart',\n",
       " 'Walmart']"
      ]
     },
     "execution_count": 86,
     "metadata": {},
     "output_type": "execute_result"
    }
   ],
   "source": [
    "for i in c_names:\n",
    "    name = i.text\n",
    "    companies.append(name)\n",
    "companies[0:10]    "
   ]
  },
  {
   "cell_type": "code",
   "execution_count": 88,
   "id": "cf79109a",
   "metadata": {},
   "outputs": [
    {
     "data": {
      "text/plain": [
       "[<selenium.webdriver.remote.webelement.WebElement (session=\"3a9c1a3b8d10dd35b5ee91a9280630c8\", element=\"17508aad-d3b4-482b-8bf3-84b381478f37\")>,\n",
       " <selenium.webdriver.remote.webelement.WebElement (session=\"3a9c1a3b8d10dd35b5ee91a9280630c8\", element=\"98f9db86-e58c-44e0-8a93-16d263f1a0fb\")>,\n",
       " <selenium.webdriver.remote.webelement.WebElement (session=\"3a9c1a3b8d10dd35b5ee91a9280630c8\", element=\"ce01c027-c463-469f-aea7-b2145ff59cee\")>,\n",
       " <selenium.webdriver.remote.webelement.WebElement (session=\"3a9c1a3b8d10dd35b5ee91a9280630c8\", element=\"4698ecc3-3e6f-4163-8d00-e29fd46b37d9\")>,\n",
       " <selenium.webdriver.remote.webelement.WebElement (session=\"3a9c1a3b8d10dd35b5ee91a9280630c8\", element=\"307fc354-ff54-4d06-bd11-78d8b19bd81a\")>,\n",
       " <selenium.webdriver.remote.webelement.WebElement (session=\"3a9c1a3b8d10dd35b5ee91a9280630c8\", element=\"a8d1b5d4-f61f-4b5d-9d90-1c79e36bc2f6\")>,\n",
       " <selenium.webdriver.remote.webelement.WebElement (session=\"3a9c1a3b8d10dd35b5ee91a9280630c8\", element=\"cd346511-d996-4ebf-ba35-1ca7fb68292f\")>,\n",
       " <selenium.webdriver.remote.webelement.WebElement (session=\"3a9c1a3b8d10dd35b5ee91a9280630c8\", element=\"4c890aaf-5cab-4220-bb9f-45e84e5c9509\")>,\n",
       " <selenium.webdriver.remote.webelement.WebElement (session=\"3a9c1a3b8d10dd35b5ee91a9280630c8\", element=\"3a219804-213e-4147-aefe-d868524956b9\")>,\n",
       " <selenium.webdriver.remote.webelement.WebElement (session=\"3a9c1a3b8d10dd35b5ee91a9280630c8\", element=\"b865dff3-2941-48ec-a1a1-43ac3c1e56d2\")>]"
      ]
     },
     "execution_count": 88,
     "metadata": {},
     "output_type": "execute_result"
    }
   ],
   "source": [
    "e_tags = driver2.find_elements_by_xpath(\"//li[@class='fleft grey-text br2 placeHolderLi experience']\")\n",
    "e_tags[0:10]"
   ]
  },
  {
   "cell_type": "code",
   "execution_count": 89,
   "id": "27b560e6",
   "metadata": {},
   "outputs": [
    {
     "data": {
      "text/plain": [
       "['5-10 Yrs',\n",
       " '2-4 Yrs',\n",
       " '7-10 Yrs',\n",
       " '4-8 Yrs',\n",
       " '3-7 Yrs',\n",
       " '1-5 Yrs',\n",
       " '5-7 Yrs',\n",
       " '5-9 Yrs',\n",
       " '5-9 Yrs',\n",
       " '5-9 Yrs']"
      ]
     },
     "execution_count": 89,
     "metadata": {},
     "output_type": "execute_result"
    }
   ],
   "source": [
    "for i in e_tags:\n",
    "    e = i.text\n",
    "    experience.append(e)\n",
    "experience[0:10]    "
   ]
  },
  {
   "cell_type": "code",
   "execution_count": 91,
   "id": "480afc00",
   "metadata": {},
   "outputs": [
    {
     "data": {
      "text/plain": [
       "[<selenium.webdriver.remote.webelement.WebElement (session=\"3a9c1a3b8d10dd35b5ee91a9280630c8\", element=\"1021c1f2-0f16-4eec-8f0d-6ab702535394\")>,\n",
       " <selenium.webdriver.remote.webelement.WebElement (session=\"3a9c1a3b8d10dd35b5ee91a9280630c8\", element=\"2ba7d78f-c445-4cf0-8a17-05ef80a4f447\")>,\n",
       " <selenium.webdriver.remote.webelement.WebElement (session=\"3a9c1a3b8d10dd35b5ee91a9280630c8\", element=\"83d0db8b-f7ab-4643-8eb0-c4d3dae5e053\")>,\n",
       " <selenium.webdriver.remote.webelement.WebElement (session=\"3a9c1a3b8d10dd35b5ee91a9280630c8\", element=\"17a66c48-c867-427b-86e9-abd21949c1ee\")>,\n",
       " <selenium.webdriver.remote.webelement.WebElement (session=\"3a9c1a3b8d10dd35b5ee91a9280630c8\", element=\"9fa00b3d-bfb0-49dc-a3d1-046ee7389ddc\")>,\n",
       " <selenium.webdriver.remote.webelement.WebElement (session=\"3a9c1a3b8d10dd35b5ee91a9280630c8\", element=\"e3c82e18-5f32-4a8e-8444-cee16006bbfd\")>,\n",
       " <selenium.webdriver.remote.webelement.WebElement (session=\"3a9c1a3b8d10dd35b5ee91a9280630c8\", element=\"1467148a-837d-469b-8d53-eea864250155\")>,\n",
       " <selenium.webdriver.remote.webelement.WebElement (session=\"3a9c1a3b8d10dd35b5ee91a9280630c8\", element=\"1edfac17-9867-4916-95ce-8d31a1977055\")>,\n",
       " <selenium.webdriver.remote.webelement.WebElement (session=\"3a9c1a3b8d10dd35b5ee91a9280630c8\", element=\"17ae2a41-398e-48e5-8579-c2c6727c160c\")>,\n",
       " <selenium.webdriver.remote.webelement.WebElement (session=\"3a9c1a3b8d10dd35b5ee91a9280630c8\", element=\"cb4c8c7e-ec57-4800-902c-2307f35ba19c\")>]"
      ]
     },
     "execution_count": 91,
     "metadata": {},
     "output_type": "execute_result"
    }
   ],
   "source": [
    "l_tags = driver2.find_elements_by_xpath(\"//li[@class='fleft grey-text br2 placeHolderLi location']\")\n",
    "l_tags[0:10]"
   ]
  },
  {
   "cell_type": "code",
   "execution_count": 92,
   "id": "6a653134",
   "metadata": {},
   "outputs": [
    {
     "data": {
      "text/plain": [
       "['Bangalore/Bengaluru',\n",
       " 'Remote',\n",
       " 'Bangalore/Bengaluru',\n",
       " 'Bangalore/Bengaluru',\n",
       " 'Kolkata, Hyderabad/Secunderabad, Pune, Chennai, Bangalore/Bengaluru',\n",
       " 'Bangalore/Bengaluru',\n",
       " 'Bangalore/Bengaluru',\n",
       " 'Bangalore/Bengaluru, Mumbai (All Areas)',\n",
       " 'Bangalore/Bengaluru',\n",
       " 'Bangalore/Bengaluru']"
      ]
     },
     "execution_count": 92,
     "metadata": {},
     "output_type": "execute_result"
    }
   ],
   "source": [
    "for i in l_tags:\n",
    "    loc = i.text\n",
    "    location.append(loc)\n",
    "location[0:10]    "
   ]
  },
  {
   "cell_type": "code",
   "execution_count": 93,
   "id": "81ac62e6",
   "metadata": {},
   "outputs": [
    {
     "name": "stdout",
     "output_type": "stream",
     "text": [
      "20 20 20 20\n"
     ]
    }
   ],
   "source": [
    "print(len(jobs),len(companies),len(location),len(experience))\n"
   ]
  },
  {
   "cell_type": "code",
   "execution_count": 94,
   "id": "d93532d8",
   "metadata": {},
   "outputs": [],
   "source": [
    "naukri_jobs=pd.DataFrame({})\n",
    "naukri_jobs['Job'] = jobs\n",
    "naukri_jobs['Company']= companies\n",
    "naukri_jobs['Location']= location\n",
    "naukri_jobs['Experience']=experience"
   ]
  },
  {
   "cell_type": "code",
   "execution_count": 96,
   "id": "08f8dc49",
   "metadata": {},
   "outputs": [
    {
     "data": {
      "text/html": [
       "<div>\n",
       "<style scoped>\n",
       "    .dataframe tbody tr th:only-of-type {\n",
       "        vertical-align: middle;\n",
       "    }\n",
       "\n",
       "    .dataframe tbody tr th {\n",
       "        vertical-align: top;\n",
       "    }\n",
       "\n",
       "    .dataframe thead th {\n",
       "        text-align: right;\n",
       "    }\n",
       "</style>\n",
       "<table border=\"1\" class=\"dataframe\">\n",
       "  <thead>\n",
       "    <tr style=\"text-align: right;\">\n",
       "      <th></th>\n",
       "      <th>Job</th>\n",
       "      <th>Company</th>\n",
       "      <th>Location</th>\n",
       "      <th>Experience</th>\n",
       "    </tr>\n",
       "  </thead>\n",
       "  <tbody>\n",
       "    <tr>\n",
       "      <th>0</th>\n",
       "      <td>Senior Data Scientist</td>\n",
       "      <td>Walmart</td>\n",
       "      <td>Bangalore/Bengaluru</td>\n",
       "      <td>5-10 Yrs</td>\n",
       "    </tr>\n",
       "    <tr>\n",
       "      <th>1</th>\n",
       "      <td>Senior Associate - Data Scientist</td>\n",
       "      <td>Affine</td>\n",
       "      <td>Remote</td>\n",
       "      <td>2-4 Yrs</td>\n",
       "    </tr>\n",
       "    <tr>\n",
       "      <th>2</th>\n",
       "      <td>Data Scientist</td>\n",
       "      <td>Applied Materials</td>\n",
       "      <td>Bangalore/Bengaluru</td>\n",
       "      <td>7-10 Yrs</td>\n",
       "    </tr>\n",
       "    <tr>\n",
       "      <th>3</th>\n",
       "      <td>Staff Data Scientist</td>\n",
       "      <td>Walmart</td>\n",
       "      <td>Bangalore/Bengaluru</td>\n",
       "      <td>4-8 Yrs</td>\n",
       "    </tr>\n",
       "    <tr>\n",
       "      <th>4</th>\n",
       "      <td>Job Opening with Wipro For Data Scientist - SAS</td>\n",
       "      <td>Wipro</td>\n",
       "      <td>Kolkata, Hyderabad/Secunderabad, Pune, Chennai...</td>\n",
       "      <td>3-7 Yrs</td>\n",
       "    </tr>\n",
       "    <tr>\n",
       "      <th>5</th>\n",
       "      <td>Data Scientist</td>\n",
       "      <td>CRED</td>\n",
       "      <td>Bangalore/Bengaluru</td>\n",
       "      <td>1-5 Yrs</td>\n",
       "    </tr>\n",
       "    <tr>\n",
       "      <th>6</th>\n",
       "      <td>Senior Data Scientist -Python+ML(5-7 years)</td>\n",
       "      <td>Knowledge Foundry Business Solutions Pvt. Ltd.</td>\n",
       "      <td>Bangalore/Bengaluru</td>\n",
       "      <td>5-7 Yrs</td>\n",
       "    </tr>\n",
       "    <tr>\n",
       "      <th>7</th>\n",
       "      <td>Senior Data Scientist</td>\n",
       "      <td>Course5</td>\n",
       "      <td>Bangalore/Bengaluru, Mumbai (All Areas)</td>\n",
       "      <td>5-9 Yrs</td>\n",
       "    </tr>\n",
       "    <tr>\n",
       "      <th>8</th>\n",
       "      <td>Senior Data Scientist (IN4)</td>\n",
       "      <td>Walmart</td>\n",
       "      <td>Bangalore/Bengaluru</td>\n",
       "      <td>5-9 Yrs</td>\n",
       "    </tr>\n",
       "    <tr>\n",
       "      <th>9</th>\n",
       "      <td>Senior Data Scientist</td>\n",
       "      <td>Walmart</td>\n",
       "      <td>Bangalore/Bengaluru</td>\n",
       "      <td>5-9 Yrs</td>\n",
       "    </tr>\n",
       "  </tbody>\n",
       "</table>\n",
       "</div>"
      ],
      "text/plain": [
       "                                               Job  \\\n",
       "0                            Senior Data Scientist   \n",
       "1                Senior Associate - Data Scientist   \n",
       "2                                   Data Scientist   \n",
       "3                             Staff Data Scientist   \n",
       "4  Job Opening with Wipro For Data Scientist - SAS   \n",
       "5                                   Data Scientist   \n",
       "6      Senior Data Scientist -Python+ML(5-7 years)   \n",
       "7                            Senior Data Scientist   \n",
       "8                      Senior Data Scientist (IN4)   \n",
       "9                            Senior Data Scientist   \n",
       "\n",
       "                                          Company  \\\n",
       "0                                         Walmart   \n",
       "1                                          Affine   \n",
       "2                               Applied Materials   \n",
       "3                                         Walmart   \n",
       "4                                           Wipro   \n",
       "5                                            CRED   \n",
       "6  Knowledge Foundry Business Solutions Pvt. Ltd.   \n",
       "7                                         Course5   \n",
       "8                                         Walmart   \n",
       "9                                         Walmart   \n",
       "\n",
       "                                            Location Experience  \n",
       "0                                Bangalore/Bengaluru   5-10 Yrs  \n",
       "1                                             Remote    2-4 Yrs  \n",
       "2                                Bangalore/Bengaluru   7-10 Yrs  \n",
       "3                                Bangalore/Bengaluru    4-8 Yrs  \n",
       "4  Kolkata, Hyderabad/Secunderabad, Pune, Chennai...    3-7 Yrs  \n",
       "5                                Bangalore/Bengaluru    1-5 Yrs  \n",
       "6                                Bangalore/Bengaluru    5-7 Yrs  \n",
       "7            Bangalore/Bengaluru, Mumbai (All Areas)    5-9 Yrs  \n",
       "8                                Bangalore/Bengaluru    5-9 Yrs  \n",
       "9                                Bangalore/Bengaluru    5-9 Yrs  "
      ]
     },
     "execution_count": 96,
     "metadata": {},
     "output_type": "execute_result"
    }
   ],
   "source": [
    "naukri_jobs[0:10]"
   ]
  },
  {
   "cell_type": "markdown",
   "id": "ce4caf4c",
   "metadata": {},
   "source": [
    "Q3: In this question you have to scrape data using the filters available on the webpage as shown below:\n",
    "You have to use the location and salary filter.\n",
    "You have to scrape data for “Data Scientist” designation for first 10 job results.\n",
    "You have to scrape the job-title, job-location, company name, experience required.\n",
    "The location filter to be used is “Delhi/NCR”. The salary filter to be used is “3-6” lakhs\n",
    "The task will be done as shown in the below steps:\n",
    "1. first get the webpage https://www.naukri.com/\n",
    "2. Enter “Data Scientist” in “Skill, Designations, and Companies” field.\n",
    "3. Then click the search button.\n",
    "4. Then apply the location filter and salary filter by checking the respective boxes\n",
    "5. Then scrape the data for the first 10 jobs results you get.\n",
    "6. Finally create a dataframe of the scraped data.\n",
    "Note: All of the above steps have to be done in code. No step is to be done manually."
   ]
  },
  {
   "cell_type": "code",
   "execution_count": 97,
   "id": "5665933d",
   "metadata": {},
   "outputs": [
    {
     "name": "stdout",
     "output_type": "stream",
     "text": [
      "Requirement already satisfied: selenium in c:\\programdata\\anaconda3\\lib\\site-packages (4.1.3)\n",
      "Requirement already satisfied: urllib3[secure,socks]~=1.26 in c:\\programdata\\anaconda3\\lib\\site-packages (from selenium) (1.26.7)\n",
      "Requirement already satisfied: trio~=0.17 in c:\\programdata\\anaconda3\\lib\\site-packages (from selenium) (0.20.0)\n",
      "Requirement already satisfied: trio-websocket~=0.9 in c:\\programdata\\anaconda3\\lib\\site-packages (from selenium) (0.9.2)\n",
      "Requirement already satisfied: outcome in c:\\programdata\\anaconda3\\lib\\site-packages (from trio~=0.17->selenium) (1.1.0)\n",
      "Requirement already satisfied: attrs>=19.2.0 in c:\\programdata\\anaconda3\\lib\\site-packages (from trio~=0.17->selenium) (21.2.0)\n",
      "Requirement already satisfied: async-generator>=1.9 in c:\\programdata\\anaconda3\\lib\\site-packages (from trio~=0.17->selenium) (1.10)\n",
      "Requirement already satisfied: cffi>=1.14 in c:\\programdata\\anaconda3\\lib\\site-packages (from trio~=0.17->selenium) (1.14.6)\n",
      "Requirement already satisfied: sniffio in c:\\programdata\\anaconda3\\lib\\site-packages (from trio~=0.17->selenium) (1.2.0)\n",
      "Requirement already satisfied: sortedcontainers in c:\\programdata\\anaconda3\\lib\\site-packages (from trio~=0.17->selenium) (2.4.0)\n",
      "Requirement already satisfied: idna in c:\\programdata\\anaconda3\\lib\\site-packages (from trio~=0.17->selenium) (3.2)\n",
      "Requirement already satisfied: pycparser in c:\\programdata\\anaconda3\\lib\\site-packages (from cffi>=1.14->trio~=0.17->selenium) (2.20)\n",
      "Requirement already satisfied: wsproto>=0.14 in c:\\programdata\\anaconda3\\lib\\site-packages (from trio-websocket~=0.9->selenium) (1.1.0)\n",
      "Requirement already satisfied: pyOpenSSL>=0.14 in c:\\programdata\\anaconda3\\lib\\site-packages (from urllib3[secure,socks]~=1.26->selenium) (21.0.0)\n",
      "Requirement already satisfied: cryptography>=1.3.4 in c:\\programdata\\anaconda3\\lib\\site-packages (from urllib3[secure,socks]~=1.26->selenium) (3.4.8)\n",
      "Requirement already satisfied: certifi in c:\\programdata\\anaconda3\\lib\\site-packages (from urllib3[secure,socks]~=1.26->selenium) (2021.10.8)\n",
      "Requirement already satisfied: PySocks!=1.5.7,<2.0,>=1.5.6 in c:\\programdata\\anaconda3\\lib\\site-packages (from urllib3[secure,socks]~=1.26->selenium) (1.7.1)\n",
      "Requirement already satisfied: six>=1.5.2 in c:\\programdata\\anaconda3\\lib\\site-packages (from pyOpenSSL>=0.14->urllib3[secure,socks]~=1.26->selenium) (1.16.0)\n",
      "Requirement already satisfied: h11<1,>=0.9.0 in c:\\programdata\\anaconda3\\lib\\site-packages (from wsproto>=0.14->trio-websocket~=0.9->selenium) (0.13.0)\n"
     ]
    }
   ],
   "source": [
    "! pip install selenium"
   ]
  },
  {
   "cell_type": "code",
   "execution_count": 99,
   "id": "2f71d827",
   "metadata": {},
   "outputs": [],
   "source": [
    "#import  all required libraries\n",
    "import selenium\n",
    "import pandas as pd\n",
    "from selenium import webdriver\n",
    "import warnings \n",
    "warnings.filterwarnings(\"ignore\")\n",
    "import time"
   ]
  },
  {
   "cell_type": "code",
   "execution_count": 101,
   "id": "635c2df7",
   "metadata": {},
   "outputs": [],
   "source": [
    "driver3 = webdriver.Chrome(r\"C:\\Web driver\\Chromedriver.exe\")"
   ]
  },
  {
   "cell_type": "code",
   "execution_count": 104,
   "id": "a69e6062",
   "metadata": {},
   "outputs": [],
   "source": [
    "driver3.get(\"https://www.naukri.com\")"
   ]
  },
  {
   "cell_type": "code",
   "execution_count": 106,
   "id": "8e4ddead",
   "metadata": {},
   "outputs": [],
   "source": [
    "search_desig = driver3.find_element_by_class_name(\"suggestor-input \")\n",
    "search_desig.send_keys(\"Data Scientist\")"
   ]
  },
  {
   "cell_type": "code",
   "execution_count": 108,
   "id": "32bbbacb",
   "metadata": {},
   "outputs": [],
   "source": [
    "s_button = driver3.find_element_by_xpath(\"/html/body/div/div[2]/div[3]/div/div/div[6]\")\n",
    "s_button.click()"
   ]
  },
  {
   "cell_type": "code",
   "execution_count": 119,
   "id": "bad07377",
   "metadata": {},
   "outputs": [],
   "source": [
    "f_loc = driver3.find_element_by_xpath(\"/html/body/div[1]/div[3]/div[2]/section[1]/div[2]/div[1]/div[2]/div[3]/label/i\")\n",
    "f_loc.click()"
   ]
  },
  {
   "cell_type": "code",
   "execution_count": 120,
   "id": "29bf4973",
   "metadata": {},
   "outputs": [],
   "source": [
    "f_sal = driver3.find_element_by_xpath(\"/html/body/div[1]/div[3]/div[2]/section[1]/div[2]/div[5]/div[2]/div[2]/label/i\")\n",
    "f_sal.click()"
   ]
  },
  {
   "cell_type": "code",
   "execution_count": 128,
   "id": "0cdab57b",
   "metadata": {},
   "outputs": [],
   "source": [
    "#creating empty list\n",
    "delhi_ncr_jobs = []\n",
    "delhi_ncr_location = []\n",
    "delhi_ncr_company_name = []\n",
    "delhi_ncr_experience = []\n"
   ]
  },
  {
   "cell_type": "code",
   "execution_count": 127,
   "id": "1aa2b1ab",
   "metadata": {},
   "outputs": [
    {
     "data": {
      "text/plain": [
       "[<selenium.webdriver.remote.webelement.WebElement (session=\"fd46f49a0571ab0dc337b9be14fdd195\", element=\"300c5bd3-3365-4d20-8699-b41ffa0f619d\")>,\n",
       " <selenium.webdriver.remote.webelement.WebElement (session=\"fd46f49a0571ab0dc337b9be14fdd195\", element=\"a4a7caf0-ec02-4c27-aab6-caa83b735318\")>,\n",
       " <selenium.webdriver.remote.webelement.WebElement (session=\"fd46f49a0571ab0dc337b9be14fdd195\", element=\"52077d79-9b81-4a5d-a3fe-fc0a9110186c\")>,\n",
       " <selenium.webdriver.remote.webelement.WebElement (session=\"fd46f49a0571ab0dc337b9be14fdd195\", element=\"744d7e3b-0959-4871-a903-a5ebb515c37a\")>,\n",
       " <selenium.webdriver.remote.webelement.WebElement (session=\"fd46f49a0571ab0dc337b9be14fdd195\", element=\"24f8a8e1-a17a-4b8c-a6f1-6c97bab6ffbc\")>,\n",
       " <selenium.webdriver.remote.webelement.WebElement (session=\"fd46f49a0571ab0dc337b9be14fdd195\", element=\"8f838c55-cf89-4ed7-91a8-f1f58a75a995\")>,\n",
       " <selenium.webdriver.remote.webelement.WebElement (session=\"fd46f49a0571ab0dc337b9be14fdd195\", element=\"c815a728-0b70-42ea-8017-c891f22e4f6a\")>,\n",
       " <selenium.webdriver.remote.webelement.WebElement (session=\"fd46f49a0571ab0dc337b9be14fdd195\", element=\"7a69eaff-8a4f-4c22-b0ae-5c9f6be94370\")>,\n",
       " <selenium.webdriver.remote.webelement.WebElement (session=\"fd46f49a0571ab0dc337b9be14fdd195\", element=\"54a2fc85-f793-4c7a-9142-49c2d091116c\")>,\n",
       " <selenium.webdriver.remote.webelement.WebElement (session=\"fd46f49a0571ab0dc337b9be14fdd195\", element=\"17d67386-2520-4df4-825b-b7f935e58843\")>]"
      ]
     },
     "execution_count": 127,
     "metadata": {},
     "output_type": "execute_result"
    }
   ],
   "source": [
    "d_job =driver3.find_elements_by_xpath(\"//a[@class='title fw500 ellipsis']\")\n",
    "d_job[0:10]"
   ]
  },
  {
   "cell_type": "code",
   "execution_count": 129,
   "id": "623bd810",
   "metadata": {},
   "outputs": [
    {
     "data": {
      "text/plain": [
       "['Data Scientist (freelance)',\n",
       " 'Data Scientist',\n",
       " 'Senior Data Scientist',\n",
       " 'Data Scientist',\n",
       " 'Junior AI Data Scientist',\n",
       " 'data scientist - biotechnology Jobs',\n",
       " 'Data Scientist',\n",
       " 'Data Scientist',\n",
       " 'Urgent opening For Data Scientist role',\n",
       " 'Data Scientist']"
      ]
     },
     "execution_count": 129,
     "metadata": {},
     "output_type": "execute_result"
    }
   ],
   "source": [
    "for i in d_job:\n",
    "    j = i.text\n",
    "    delhi_ncr_jobs.append(j)\n",
    "delhi_ncr_jobs[0:10]    "
   ]
  },
  {
   "cell_type": "code",
   "execution_count": 130,
   "id": "2abeab46",
   "metadata": {},
   "outputs": [
    {
     "data": {
      "text/plain": [
       "[<selenium.webdriver.remote.webelement.WebElement (session=\"fd46f49a0571ab0dc337b9be14fdd195\", element=\"c7b293e2-2b83-44f9-93b0-bd6fdc657a3e\")>,\n",
       " <selenium.webdriver.remote.webelement.WebElement (session=\"fd46f49a0571ab0dc337b9be14fdd195\", element=\"efcf9f3c-e0d2-49dd-b601-2addaa2c2a22\")>,\n",
       " <selenium.webdriver.remote.webelement.WebElement (session=\"fd46f49a0571ab0dc337b9be14fdd195\", element=\"d70bcb87-bacd-472a-8c30-1c36d5f51582\")>,\n",
       " <selenium.webdriver.remote.webelement.WebElement (session=\"fd46f49a0571ab0dc337b9be14fdd195\", element=\"6467e7d5-d2a1-4da8-918b-115853033f0c\")>,\n",
       " <selenium.webdriver.remote.webelement.WebElement (session=\"fd46f49a0571ab0dc337b9be14fdd195\", element=\"c423d0f7-ce05-46ba-8706-5b576891bb4a\")>,\n",
       " <selenium.webdriver.remote.webelement.WebElement (session=\"fd46f49a0571ab0dc337b9be14fdd195\", element=\"33a18047-8a27-4b58-b662-82c8ff9baf0d\")>,\n",
       " <selenium.webdriver.remote.webelement.WebElement (session=\"fd46f49a0571ab0dc337b9be14fdd195\", element=\"5366a282-41d3-4b3d-a614-a8f39d10134f\")>,\n",
       " <selenium.webdriver.remote.webelement.WebElement (session=\"fd46f49a0571ab0dc337b9be14fdd195\", element=\"d31a47a7-7ad5-46dd-b74c-77fab4fdb96c\")>,\n",
       " <selenium.webdriver.remote.webelement.WebElement (session=\"fd46f49a0571ab0dc337b9be14fdd195\", element=\"5e2172c5-7c06-4de9-b7b6-83a46fbaeebc\")>,\n",
       " <selenium.webdriver.remote.webelement.WebElement (session=\"fd46f49a0571ab0dc337b9be14fdd195\", element=\"5e203d80-e379-437a-a838-70d768369acd\")>]"
      ]
     },
     "execution_count": 130,
     "metadata": {},
     "output_type": "execute_result"
    }
   ],
   "source": [
    "d_location = driver3.find_elements_by_xpath(\"//li[@class='fleft grey-text br2 placeHolderLi location']\")\n",
    "d_location[0:10]"
   ]
  },
  {
   "cell_type": "code",
   "execution_count": 131,
   "id": "73d0a7ef",
   "metadata": {},
   "outputs": [
    {
     "data": {
      "text/plain": [
       "['New Delhi, Delhi',\n",
       " 'New Delhi',\n",
       " 'Delhi',\n",
       " 'Bharuch, Jaipur, Bhopal, Mumbai, Jhansi, Nagpur, Ghaziabad, Jaunpur, Kanpur, Delhi, Lucknow, Agra, Gurgaon, Rajkot, Bengaluru',\n",
       " 'New Delhi',\n",
       " 'Delhi',\n",
       " 'Delhi',\n",
       " 'Delhi',\n",
       " 'New Delhi, Bangalore/Bengaluru',\n",
       " 'Delhi']"
      ]
     },
     "execution_count": 131,
     "metadata": {},
     "output_type": "execute_result"
    }
   ],
   "source": [
    "for i in d_location:\n",
    "    loc =i.text\n",
    "    delhi_ncr_location.append(loc)\n",
    "delhi_ncr_location[0:10]    "
   ]
  },
  {
   "cell_type": "code",
   "execution_count": 132,
   "id": "dafae529",
   "metadata": {},
   "outputs": [
    {
     "data": {
      "text/plain": [
       "[<selenium.webdriver.remote.webelement.WebElement (session=\"fd46f49a0571ab0dc337b9be14fdd195\", element=\"66112bef-adb5-4b8a-bfdf-39449b63e9da\")>,\n",
       " <selenium.webdriver.remote.webelement.WebElement (session=\"fd46f49a0571ab0dc337b9be14fdd195\", element=\"dc101625-6123-4a0b-a862-e9c0aff7a1aa\")>,\n",
       " <selenium.webdriver.remote.webelement.WebElement (session=\"fd46f49a0571ab0dc337b9be14fdd195\", element=\"11df7135-3b9a-4e59-bca1-4bf879fe9f1c\")>,\n",
       " <selenium.webdriver.remote.webelement.WebElement (session=\"fd46f49a0571ab0dc337b9be14fdd195\", element=\"cc69700c-4288-4b99-9333-d7e891822a2a\")>,\n",
       " <selenium.webdriver.remote.webelement.WebElement (session=\"fd46f49a0571ab0dc337b9be14fdd195\", element=\"9b408328-5e9e-4894-98ec-fba44313179f\")>,\n",
       " <selenium.webdriver.remote.webelement.WebElement (session=\"fd46f49a0571ab0dc337b9be14fdd195\", element=\"359e46a4-24f7-4983-bae1-fc0101f9ca2a\")>,\n",
       " <selenium.webdriver.remote.webelement.WebElement (session=\"fd46f49a0571ab0dc337b9be14fdd195\", element=\"02c5026a-4843-4d09-9814-36bee403cf40\")>,\n",
       " <selenium.webdriver.remote.webelement.WebElement (session=\"fd46f49a0571ab0dc337b9be14fdd195\", element=\"0f8a65cb-4a94-4ba0-a416-084ecb0012a6\")>,\n",
       " <selenium.webdriver.remote.webelement.WebElement (session=\"fd46f49a0571ab0dc337b9be14fdd195\", element=\"0e1b326d-747f-4b57-8a15-c11c53973cd9\")>,\n",
       " <selenium.webdriver.remote.webelement.WebElement (session=\"fd46f49a0571ab0dc337b9be14fdd195\", element=\"98d0803a-3b7a-4aea-acfb-17391c6e966f\")>]"
      ]
     },
     "execution_count": 132,
     "metadata": {},
     "output_type": "execute_result"
    }
   ],
   "source": [
    "d_company = driver3.find_elements_by_xpath(\"//a[@class='subTitle ellipsis fleft']\")\n",
    "d_company[0:10]"
   ]
  },
  {
   "cell_type": "code",
   "execution_count": 133,
   "id": "7611c2c3",
   "metadata": {},
   "outputs": [
    {
     "data": {
      "text/plain": [
       "['2Coms',\n",
       " 'Boston Consulting Group',\n",
       " 'iNICU',\n",
       " 'Country Veggie',\n",
       " 'Seven Consultancy (HR Solution)',\n",
       " 'Right Step Consulting',\n",
       " 'Mahajan Imaging',\n",
       " 'Mahajan Imaging',\n",
       " 'GLOBAL UPSIDE India Pvt Ltd',\n",
       " 'Ank Aha Private Limited']"
      ]
     },
     "execution_count": 133,
     "metadata": {},
     "output_type": "execute_result"
    }
   ],
   "source": [
    "for i in d_company:\n",
    "    comp = i.text\n",
    "    delhi_ncr_company_name.append(comp)\n",
    "delhi_ncr_company_name[0:10]    "
   ]
  },
  {
   "cell_type": "code",
   "execution_count": 134,
   "id": "f66d7de9",
   "metadata": {},
   "outputs": [
    {
     "data": {
      "text/plain": [
       "[<selenium.webdriver.remote.webelement.WebElement (session=\"fd46f49a0571ab0dc337b9be14fdd195\", element=\"14d27b02-af2e-4f88-bad1-a6b1e9771ed4\")>,\n",
       " <selenium.webdriver.remote.webelement.WebElement (session=\"fd46f49a0571ab0dc337b9be14fdd195\", element=\"8721b6c5-620e-41b7-9bb9-b96d06633fd6\")>,\n",
       " <selenium.webdriver.remote.webelement.WebElement (session=\"fd46f49a0571ab0dc337b9be14fdd195\", element=\"1e7ceecd-634c-4466-b013-5d902b850ff6\")>,\n",
       " <selenium.webdriver.remote.webelement.WebElement (session=\"fd46f49a0571ab0dc337b9be14fdd195\", element=\"bed6bbd4-1b5e-4572-a24f-1f149b16da9a\")>,\n",
       " <selenium.webdriver.remote.webelement.WebElement (session=\"fd46f49a0571ab0dc337b9be14fdd195\", element=\"f72f9ac5-d0c0-4883-a94e-9b29e543e271\")>,\n",
       " <selenium.webdriver.remote.webelement.WebElement (session=\"fd46f49a0571ab0dc337b9be14fdd195\", element=\"014a9421-4824-49b8-92b5-4d222315773e\")>,\n",
       " <selenium.webdriver.remote.webelement.WebElement (session=\"fd46f49a0571ab0dc337b9be14fdd195\", element=\"0b60b84d-78fe-48b6-abe6-3f54c1ef3eb4\")>,\n",
       " <selenium.webdriver.remote.webelement.WebElement (session=\"fd46f49a0571ab0dc337b9be14fdd195\", element=\"92fdfd21-f614-4749-80dd-9b9c0055f7b5\")>,\n",
       " <selenium.webdriver.remote.webelement.WebElement (session=\"fd46f49a0571ab0dc337b9be14fdd195\", element=\"833e4cd0-eed2-4c91-a3cb-12c25cce418e\")>,\n",
       " <selenium.webdriver.remote.webelement.WebElement (session=\"fd46f49a0571ab0dc337b9be14fdd195\", element=\"932a7ac1-8744-43d5-a096-167ddb864f16\")>]"
      ]
     },
     "execution_count": 134,
     "metadata": {},
     "output_type": "execute_result"
    }
   ],
   "source": [
    "d_experience =driver3.find_elements_by_xpath(\"//li[@class='fleft grey-text br2 placeHolderLi experience']\")\n",
    "d_experience[0:10]"
   ]
  },
  {
   "cell_type": "code",
   "execution_count": 135,
   "id": "97417676",
   "metadata": {},
   "outputs": [
    {
     "data": {
      "text/plain": [
       "['2-7 Yrs',\n",
       " '2-5 Yrs',\n",
       " '1-5 Yrs',\n",
       " '1-3 Yrs',\n",
       " '1-6 Yrs',\n",
       " '2-5 Yrs',\n",
       " '2-6 Yrs',\n",
       " '2-6 Yrs',\n",
       " '2-4 Yrs',\n",
       " '2-7 Yrs']"
      ]
     },
     "execution_count": 135,
     "metadata": {},
     "output_type": "execute_result"
    }
   ],
   "source": [
    "for i in d_experience:\n",
    "    exp =i.text\n",
    "    delhi_ncr_experience.append(exp)\n",
    "delhi_ncr_experience[0:10]    "
   ]
  },
  {
   "cell_type": "code",
   "execution_count": 136,
   "id": "537793bc",
   "metadata": {},
   "outputs": [
    {
     "name": "stdout",
     "output_type": "stream",
     "text": [
      "20 20 20 20\n"
     ]
    }
   ],
   "source": [
    "print(len(delhi_ncr_jobs),len(delhi_ncr_location),len(delhi_ncr_company_name),len(delhi_ncr_experience ))"
   ]
  },
  {
   "cell_type": "code",
   "execution_count": 137,
   "id": "9fb9441b",
   "metadata": {},
   "outputs": [],
   "source": [
    "DELHI_NCR = pd.DataFrame({})\n",
    "DELHI_NCR['JOB'] = delhi_ncr_jobs\n",
    "DELHI_NCR['LOCATION'] =delhi_ncr_location\n",
    "DELHI_NCR['COMPANY'] =delhi_ncr_company_name\n",
    "DELHI_NCR['EXPERIENCE'] =delhi_ncr_experience "
   ]
  },
  {
   "cell_type": "code",
   "execution_count": 139,
   "id": "ea5c34f0",
   "metadata": {},
   "outputs": [
    {
     "data": {
      "text/html": [
       "<div>\n",
       "<style scoped>\n",
       "    .dataframe tbody tr th:only-of-type {\n",
       "        vertical-align: middle;\n",
       "    }\n",
       "\n",
       "    .dataframe tbody tr th {\n",
       "        vertical-align: top;\n",
       "    }\n",
       "\n",
       "    .dataframe thead th {\n",
       "        text-align: right;\n",
       "    }\n",
       "</style>\n",
       "<table border=\"1\" class=\"dataframe\">\n",
       "  <thead>\n",
       "    <tr style=\"text-align: right;\">\n",
       "      <th></th>\n",
       "      <th>JOB</th>\n",
       "      <th>LOCATION</th>\n",
       "      <th>COMPANY</th>\n",
       "      <th>EXPERIENCE</th>\n",
       "    </tr>\n",
       "  </thead>\n",
       "  <tbody>\n",
       "    <tr>\n",
       "      <th>0</th>\n",
       "      <td>Data Scientist (freelance)</td>\n",
       "      <td>New Delhi, Delhi</td>\n",
       "      <td>2Coms</td>\n",
       "      <td>2-7 Yrs</td>\n",
       "    </tr>\n",
       "    <tr>\n",
       "      <th>1</th>\n",
       "      <td>Data Scientist</td>\n",
       "      <td>New Delhi</td>\n",
       "      <td>Boston Consulting Group</td>\n",
       "      <td>2-5 Yrs</td>\n",
       "    </tr>\n",
       "    <tr>\n",
       "      <th>2</th>\n",
       "      <td>Senior Data Scientist</td>\n",
       "      <td>Delhi</td>\n",
       "      <td>iNICU</td>\n",
       "      <td>1-5 Yrs</td>\n",
       "    </tr>\n",
       "    <tr>\n",
       "      <th>3</th>\n",
       "      <td>Data Scientist</td>\n",
       "      <td>Bharuch, Jaipur, Bhopal, Mumbai, Jhansi, Nagpu...</td>\n",
       "      <td>Country Veggie</td>\n",
       "      <td>1-3 Yrs</td>\n",
       "    </tr>\n",
       "    <tr>\n",
       "      <th>4</th>\n",
       "      <td>Junior AI Data Scientist</td>\n",
       "      <td>New Delhi</td>\n",
       "      <td>Seven Consultancy (HR Solution)</td>\n",
       "      <td>1-6 Yrs</td>\n",
       "    </tr>\n",
       "    <tr>\n",
       "      <th>5</th>\n",
       "      <td>data scientist - biotechnology Jobs</td>\n",
       "      <td>Delhi</td>\n",
       "      <td>Right Step Consulting</td>\n",
       "      <td>2-5 Yrs</td>\n",
       "    </tr>\n",
       "    <tr>\n",
       "      <th>6</th>\n",
       "      <td>Data Scientist</td>\n",
       "      <td>Delhi</td>\n",
       "      <td>Mahajan Imaging</td>\n",
       "      <td>2-6 Yrs</td>\n",
       "    </tr>\n",
       "    <tr>\n",
       "      <th>7</th>\n",
       "      <td>Data Scientist</td>\n",
       "      <td>Delhi</td>\n",
       "      <td>Mahajan Imaging</td>\n",
       "      <td>2-6 Yrs</td>\n",
       "    </tr>\n",
       "    <tr>\n",
       "      <th>8</th>\n",
       "      <td>Urgent opening For Data Scientist role</td>\n",
       "      <td>New Delhi, Bangalore/Bengaluru</td>\n",
       "      <td>GLOBAL UPSIDE India Pvt Ltd</td>\n",
       "      <td>2-4 Yrs</td>\n",
       "    </tr>\n",
       "    <tr>\n",
       "      <th>9</th>\n",
       "      <td>Data Scientist</td>\n",
       "      <td>Delhi</td>\n",
       "      <td>Ank Aha Private Limited</td>\n",
       "      <td>2-7 Yrs</td>\n",
       "    </tr>\n",
       "  </tbody>\n",
       "</table>\n",
       "</div>"
      ],
      "text/plain": [
       "                                      JOB  \\\n",
       "0              Data Scientist (freelance)   \n",
       "1                          Data Scientist   \n",
       "2                   Senior Data Scientist   \n",
       "3                          Data Scientist   \n",
       "4                Junior AI Data Scientist   \n",
       "5     data scientist - biotechnology Jobs   \n",
       "6                          Data Scientist   \n",
       "7                          Data Scientist   \n",
       "8  Urgent opening For Data Scientist role   \n",
       "9                          Data Scientist   \n",
       "\n",
       "                                            LOCATION  \\\n",
       "0                                   New Delhi, Delhi   \n",
       "1                                          New Delhi   \n",
       "2                                              Delhi   \n",
       "3  Bharuch, Jaipur, Bhopal, Mumbai, Jhansi, Nagpu...   \n",
       "4                                          New Delhi   \n",
       "5                                              Delhi   \n",
       "6                                              Delhi   \n",
       "7                                              Delhi   \n",
       "8                     New Delhi, Bangalore/Bengaluru   \n",
       "9                                              Delhi   \n",
       "\n",
       "                           COMPANY EXPERIENCE  \n",
       "0                            2Coms    2-7 Yrs  \n",
       "1          Boston Consulting Group    2-5 Yrs  \n",
       "2                            iNICU    1-5 Yrs  \n",
       "3                   Country Veggie    1-3 Yrs  \n",
       "4  Seven Consultancy (HR Solution)    1-6 Yrs  \n",
       "5            Right Step Consulting    2-5 Yrs  \n",
       "6                  Mahajan Imaging    2-6 Yrs  \n",
       "7                  Mahajan Imaging    2-6 Yrs  \n",
       "8      GLOBAL UPSIDE India Pvt Ltd    2-4 Yrs  \n",
       "9          Ank Aha Private Limited    2-7 Yrs  "
      ]
     },
     "execution_count": 139,
     "metadata": {},
     "output_type": "execute_result"
    }
   ],
   "source": [
    "DELHI_NCR[0:10]"
   ]
  },
  {
   "cell_type": "markdown",
   "id": "856ebbc2",
   "metadata": {},
   "source": [
    "Q4: Scrape data of first 100 sunglasses listings on flipkart.com. You have to scrape four attributes:\n",
    "1. Brand\n",
    "2. Product Description\n",
    "3. Price\n",
    "4. Discount\n"
   ]
  },
  {
   "cell_type": "code",
   "execution_count": 140,
   "id": "f5c074de",
   "metadata": {},
   "outputs": [
    {
     "name": "stdout",
     "output_type": "stream",
     "text": [
      "Requirement already satisfied: selenium in c:\\programdata\\anaconda3\\lib\\site-packages (4.1.3)\n",
      "Requirement already satisfied: trio~=0.17 in c:\\programdata\\anaconda3\\lib\\site-packages (from selenium) (0.20.0)\n",
      "Requirement already satisfied: trio-websocket~=0.9 in c:\\programdata\\anaconda3\\lib\\site-packages (from selenium) (0.9.2)\n",
      "Requirement already satisfied: urllib3[secure,socks]~=1.26 in c:\\programdata\\anaconda3\\lib\\site-packages (from selenium) (1.26.7)\n",
      "Requirement already satisfied: sortedcontainers in c:\\programdata\\anaconda3\\lib\\site-packages (from trio~=0.17->selenium) (2.4.0)\n",
      "Requirement already satisfied: cffi>=1.14 in c:\\programdata\\anaconda3\\lib\\site-packages (from trio~=0.17->selenium) (1.14.6)\n",
      "Requirement already satisfied: async-generator>=1.9 in c:\\programdata\\anaconda3\\lib\\site-packages (from trio~=0.17->selenium) (1.10)\n",
      "Requirement already satisfied: idna in c:\\programdata\\anaconda3\\lib\\site-packages (from trio~=0.17->selenium) (3.2)\n",
      "Requirement already satisfied: outcome in c:\\programdata\\anaconda3\\lib\\site-packages (from trio~=0.17->selenium) (1.1.0)\n",
      "Requirement already satisfied: attrs>=19.2.0 in c:\\programdata\\anaconda3\\lib\\site-packages (from trio~=0.17->selenium) (21.2.0)\n",
      "Requirement already satisfied: sniffio in c:\\programdata\\anaconda3\\lib\\site-packages (from trio~=0.17->selenium) (1.2.0)\n",
      "Requirement already satisfied: pycparser in c:\\programdata\\anaconda3\\lib\\site-packages (from cffi>=1.14->trio~=0.17->selenium) (2.20)\n",
      "Requirement already satisfied: wsproto>=0.14 in c:\\programdata\\anaconda3\\lib\\site-packages (from trio-websocket~=0.9->selenium) (1.1.0)\n",
      "Requirement already satisfied: PySocks!=1.5.7,<2.0,>=1.5.6 in c:\\programdata\\anaconda3\\lib\\site-packages (from urllib3[secure,socks]~=1.26->selenium) (1.7.1)\n",
      "Requirement already satisfied: pyOpenSSL>=0.14 in c:\\programdata\\anaconda3\\lib\\site-packages (from urllib3[secure,socks]~=1.26->selenium) (21.0.0)\n",
      "Requirement already satisfied: cryptography>=1.3.4 in c:\\programdata\\anaconda3\\lib\\site-packages (from urllib3[secure,socks]~=1.26->selenium) (3.4.8)\n",
      "Requirement already satisfied: certifi in c:\\programdata\\anaconda3\\lib\\site-packages (from urllib3[secure,socks]~=1.26->selenium) (2021.10.8)\n",
      "Requirement already satisfied: six>=1.5.2 in c:\\programdata\\anaconda3\\lib\\site-packages (from pyOpenSSL>=0.14->urllib3[secure,socks]~=1.26->selenium) (1.16.0)\n",
      "Requirement already satisfied: h11<1,>=0.9.0 in c:\\programdata\\anaconda3\\lib\\site-packages (from wsproto>=0.14->trio-websocket~=0.9->selenium) (0.13.0)\n"
     ]
    }
   ],
   "source": [
    "! pip install selenium"
   ]
  },
  {
   "cell_type": "code",
   "execution_count": 21,
   "id": "1dcbad8a",
   "metadata": {},
   "outputs": [],
   "source": [
    "import selenium\n",
    "import pandas as pd\n",
    "from selenium import webdriver\n",
    "import warnings\n",
    "warnings.filterwarnings(\"ignore\")\n",
    "import time"
   ]
  },
  {
   "cell_type": "code",
   "execution_count": 22,
   "id": "cec816b7",
   "metadata": {},
   "outputs": [],
   "source": [
    "driver4 = webdriver.Chrome(r\"C:\\Web driver\\Chromedriver.exe\")"
   ]
  },
  {
   "cell_type": "code",
   "execution_count": 23,
   "id": "24433eba",
   "metadata": {},
   "outputs": [],
   "source": [
    "driver4.get('https://www.flipkart.com/')"
   ]
  },
  {
   "cell_type": "code",
   "execution_count": 27,
   "id": "3cb9ae4b",
   "metadata": {},
   "outputs": [],
   "source": [
    "press_cross = driver4.find_element_by_xpath(\"/html/body/div[2]/div/div/button\")\n",
    "press_cross.click()"
   ]
  },
  {
   "cell_type": "code",
   "execution_count": 28,
   "id": "868fcf05",
   "metadata": {},
   "outputs": [],
   "source": [
    "search_product = driver4.find_element_by_class_name(\"_3704LK\")\n",
    "search_product.send_keys('sunglasses')"
   ]
  },
  {
   "cell_type": "code",
   "execution_count": 29,
   "id": "792fa775",
   "metadata": {},
   "outputs": [],
   "source": [
    "flipkart_search = driver4.find_element_by_xpath(\"/html/body/div[1]/div/div[1]/div[1]/div[2]/div[2]/form/div/button\")\n",
    "flipkart_search.click()"
   ]
  },
  {
   "cell_type": "code",
   "execution_count": 30,
   "id": "17b843d4",
   "metadata": {},
   "outputs": [],
   "source": [
    "#creating empty lisT\n",
    "brand = []\n",
    "product_description = []\n",
    "price = []\n",
    "discount = []"
   ]
  },
  {
   "cell_type": "code",
   "execution_count": 31,
   "id": "4ceccba2",
   "metadata": {},
   "outputs": [
    {
     "data": {
      "text/plain": [
       "[<selenium.webdriver.remote.webelement.WebElement (session=\"3aadc23b49521eef26df19bd68771e7e\", element=\"5f4e19fa-6478-4809-a21e-70935a152608\")>,\n",
       " <selenium.webdriver.remote.webelement.WebElement (session=\"3aadc23b49521eef26df19bd68771e7e\", element=\"5a7a7faa-185a-4139-b3e6-e13643ba586e\")>,\n",
       " <selenium.webdriver.remote.webelement.WebElement (session=\"3aadc23b49521eef26df19bd68771e7e\", element=\"67e49660-25b7-473b-9f84-6ca1e2a15d12\")>,\n",
       " <selenium.webdriver.remote.webelement.WebElement (session=\"3aadc23b49521eef26df19bd68771e7e\", element=\"7a615022-5d60-439b-8a06-f994b44ba141\")>,\n",
       " <selenium.webdriver.remote.webelement.WebElement (session=\"3aadc23b49521eef26df19bd68771e7e\", element=\"4903fb1c-6718-427e-bc25-ecbf840aba7c\")>,\n",
       " <selenium.webdriver.remote.webelement.WebElement (session=\"3aadc23b49521eef26df19bd68771e7e\", element=\"4ec56517-9473-465d-b189-6f6fcb2fecf2\")>,\n",
       " <selenium.webdriver.remote.webelement.WebElement (session=\"3aadc23b49521eef26df19bd68771e7e\", element=\"bf76bb70-a7b8-4406-bae2-98233e8a01a2\")>,\n",
       " <selenium.webdriver.remote.webelement.WebElement (session=\"3aadc23b49521eef26df19bd68771e7e\", element=\"0fb83a58-db64-43bf-a407-93572cc58961\")>,\n",
       " <selenium.webdriver.remote.webelement.WebElement (session=\"3aadc23b49521eef26df19bd68771e7e\", element=\"a78e6497-a728-41c5-ae75-f6a334f23d08\")>,\n",
       " <selenium.webdriver.remote.webelement.WebElement (session=\"3aadc23b49521eef26df19bd68771e7e\", element=\"d1fd7bd1-479b-4d9a-8083-b687d4cfa476\")>,\n",
       " <selenium.webdriver.remote.webelement.WebElement (session=\"3aadc23b49521eef26df19bd68771e7e\", element=\"669e25bd-4c58-4d7c-bec1-d55911f2cddd\")>,\n",
       " <selenium.webdriver.remote.webelement.WebElement (session=\"3aadc23b49521eef26df19bd68771e7e\", element=\"a95e689c-cfd7-4e96-a8fd-1092d26923b5\")>,\n",
       " <selenium.webdriver.remote.webelement.WebElement (session=\"3aadc23b49521eef26df19bd68771e7e\", element=\"6a9edd6d-c28d-4fa8-832f-b0f18cbb4a68\")>,\n",
       " <selenium.webdriver.remote.webelement.WebElement (session=\"3aadc23b49521eef26df19bd68771e7e\", element=\"2ae51aa5-727e-4ea7-8d27-3b9744e9b11e\")>,\n",
       " <selenium.webdriver.remote.webelement.WebElement (session=\"3aadc23b49521eef26df19bd68771e7e\", element=\"20e8f00d-f7f0-4e22-8577-5220a763a68b\")>,\n",
       " <selenium.webdriver.remote.webelement.WebElement (session=\"3aadc23b49521eef26df19bd68771e7e\", element=\"6896e627-c5d2-4630-92bf-2a33f52502ea\")>,\n",
       " <selenium.webdriver.remote.webelement.WebElement (session=\"3aadc23b49521eef26df19bd68771e7e\", element=\"58c3afa0-dadf-46de-b71e-54359f766add\")>,\n",
       " <selenium.webdriver.remote.webelement.WebElement (session=\"3aadc23b49521eef26df19bd68771e7e\", element=\"717012e4-14e9-49ec-b34e-16fd4ed3febd\")>,\n",
       " <selenium.webdriver.remote.webelement.WebElement (session=\"3aadc23b49521eef26df19bd68771e7e\", element=\"98686db4-ab4b-47f1-8299-8b01bd2e56fa\")>,\n",
       " <selenium.webdriver.remote.webelement.WebElement (session=\"3aadc23b49521eef26df19bd68771e7e\", element=\"22a6dd15-43f4-4d60-a4fb-7e0bf5f68283\")>,\n",
       " <selenium.webdriver.remote.webelement.WebElement (session=\"3aadc23b49521eef26df19bd68771e7e\", element=\"5fee0b8d-adbc-4f70-aff6-4acc4872160c\")>,\n",
       " <selenium.webdriver.remote.webelement.WebElement (session=\"3aadc23b49521eef26df19bd68771e7e\", element=\"94ff20cb-bcfe-4658-a061-73dd8c37358d\")>,\n",
       " <selenium.webdriver.remote.webelement.WebElement (session=\"3aadc23b49521eef26df19bd68771e7e\", element=\"9ae28607-0669-4c67-ae7a-cdc75e28a25b\")>,\n",
       " <selenium.webdriver.remote.webelement.WebElement (session=\"3aadc23b49521eef26df19bd68771e7e\", element=\"715b4b4d-a145-4a22-b3ee-80d4097d5103\")>,\n",
       " <selenium.webdriver.remote.webelement.WebElement (session=\"3aadc23b49521eef26df19bd68771e7e\", element=\"5fe0fc4e-5bb7-47b6-818c-4ebebfe9aa91\")>,\n",
       " <selenium.webdriver.remote.webelement.WebElement (session=\"3aadc23b49521eef26df19bd68771e7e\", element=\"a50794f3-210b-4df0-9ae7-71eb264f88ea\")>,\n",
       " <selenium.webdriver.remote.webelement.WebElement (session=\"3aadc23b49521eef26df19bd68771e7e\", element=\"9f85c6c2-658b-477b-8b84-3196531c8c11\")>,\n",
       " <selenium.webdriver.remote.webelement.WebElement (session=\"3aadc23b49521eef26df19bd68771e7e\", element=\"6e51a2d5-0f4d-4bdf-9dfd-b483779ec8a7\")>,\n",
       " <selenium.webdriver.remote.webelement.WebElement (session=\"3aadc23b49521eef26df19bd68771e7e\", element=\"58b61305-2193-4a49-b867-08478d0d64e7\")>,\n",
       " <selenium.webdriver.remote.webelement.WebElement (session=\"3aadc23b49521eef26df19bd68771e7e\", element=\"6986a21e-902e-417a-920f-d74096938004\")>,\n",
       " <selenium.webdriver.remote.webelement.WebElement (session=\"3aadc23b49521eef26df19bd68771e7e\", element=\"62677fad-aeef-4c78-8d0b-8a5954431459\")>,\n",
       " <selenium.webdriver.remote.webelement.WebElement (session=\"3aadc23b49521eef26df19bd68771e7e\", element=\"4eb1495f-e0e3-42b3-ad2e-a025b5693e7d\")>,\n",
       " <selenium.webdriver.remote.webelement.WebElement (session=\"3aadc23b49521eef26df19bd68771e7e\", element=\"d2b0b6d5-423b-4007-8b56-d4ce0c87be6f\")>,\n",
       " <selenium.webdriver.remote.webelement.WebElement (session=\"3aadc23b49521eef26df19bd68771e7e\", element=\"fc190c34-ad7e-49a1-8a1a-2fa1691e8ded\")>,\n",
       " <selenium.webdriver.remote.webelement.WebElement (session=\"3aadc23b49521eef26df19bd68771e7e\", element=\"e6ec0457-528e-4981-bb6c-2ebfa592d70e\")>,\n",
       " <selenium.webdriver.remote.webelement.WebElement (session=\"3aadc23b49521eef26df19bd68771e7e\", element=\"ed552247-e344-4ed9-909f-1fbe297bb4b5\")>,\n",
       " <selenium.webdriver.remote.webelement.WebElement (session=\"3aadc23b49521eef26df19bd68771e7e\", element=\"dfe3342b-718b-4695-8859-94a90c4f3f4a\")>,\n",
       " <selenium.webdriver.remote.webelement.WebElement (session=\"3aadc23b49521eef26df19bd68771e7e\", element=\"19c2e427-b58a-4cfd-b3b1-de9f79255aca\")>,\n",
       " <selenium.webdriver.remote.webelement.WebElement (session=\"3aadc23b49521eef26df19bd68771e7e\", element=\"a1c915d6-be5f-439a-bb49-96ed9094bab0\")>,\n",
       " <selenium.webdriver.remote.webelement.WebElement (session=\"3aadc23b49521eef26df19bd68771e7e\", element=\"ef3715af-260c-482e-b37e-62e6eec9b6f2\")>]"
      ]
     },
     "execution_count": 31,
     "metadata": {},
     "output_type": "execute_result"
    }
   ],
   "source": [
    "b_name = driver4.find_elements_by_class_name(\"_2WkVRV\")\n",
    "b_name"
   ]
  },
  {
   "cell_type": "code",
   "execution_count": 32,
   "id": "5374af17",
   "metadata": {},
   "outputs": [
    {
     "data": {
      "text/plain": [
       "['Ray-Ban',\n",
       " 'Ray-Ban',\n",
       " 'Fastrack',\n",
       " 'Fastrack',\n",
       " 'SUNBEE',\n",
       " 'PIRASO',\n",
       " 'Lee Topper',\n",
       " 'Ray-Ban',\n",
       " 'PIRASO',\n",
       " 'New Specs',\n",
       " 'Elligator',\n",
       " 'Ray-Ban',\n",
       " 'PIRASO',\n",
       " 'Elligator',\n",
       " 'PIRASO',\n",
       " 'Roadster',\n",
       " 'DAHAAZIL',\n",
       " 'SRPM',\n",
       " 'kingsunglasses',\n",
       " 'Ray-Ban',\n",
       " 'SUNBEE',\n",
       " 'Fastrack',\n",
       " 'Elligator',\n",
       " 'Ray-Ban',\n",
       " 'ROZZETTA CRAFT',\n",
       " 'PIRASO',\n",
       " 'ROZZETTA CRAFT',\n",
       " 'Ray-Ban',\n",
       " 'Lee Topper',\n",
       " 'ROZZETTA CRAFT',\n",
       " 'HIPPON',\n",
       " 'Ray-Ban',\n",
       " 'Fastrack',\n",
       " 'Mi',\n",
       " 'SRPM',\n",
       " 'ROYAL SON',\n",
       " 'kingsunglasses',\n",
       " 'PIRASO',\n",
       " 'Fastrack',\n",
       " 'ROYAL SON']"
      ]
     },
     "execution_count": 32,
     "metadata": {},
     "output_type": "execute_result"
    }
   ],
   "source": [
    "for i in b_name:\n",
    "    br =i.text\n",
    "    brand.append(br)\n",
    "brand    "
   ]
  },
  {
   "cell_type": "code",
   "execution_count": 33,
   "id": "fc956850",
   "metadata": {},
   "outputs": [
    {
     "data": {
      "text/plain": [
       "[<selenium.webdriver.remote.webelement.WebElement (session=\"3aadc23b49521eef26df19bd68771e7e\", element=\"0c6b27b0-f573-488c-a9fe-2cdeedc2b325\")>,\n",
       " <selenium.webdriver.remote.webelement.WebElement (session=\"3aadc23b49521eef26df19bd68771e7e\", element=\"7fd82cab-715e-4f43-a77a-00cd4c3798d8\")>,\n",
       " <selenium.webdriver.remote.webelement.WebElement (session=\"3aadc23b49521eef26df19bd68771e7e\", element=\"1b0a8a19-ed35-4c3f-be87-08715b546b09\")>,\n",
       " <selenium.webdriver.remote.webelement.WebElement (session=\"3aadc23b49521eef26df19bd68771e7e\", element=\"fd170766-8ad1-451b-8b72-fc3f5e8bb223\")>,\n",
       " <selenium.webdriver.remote.webelement.WebElement (session=\"3aadc23b49521eef26df19bd68771e7e\", element=\"b1610e26-76ed-4874-abf3-6216eee0001d\")>,\n",
       " <selenium.webdriver.remote.webelement.WebElement (session=\"3aadc23b49521eef26df19bd68771e7e\", element=\"c49e6ebc-0a45-4b32-854a-274208f78324\")>,\n",
       " <selenium.webdriver.remote.webelement.WebElement (session=\"3aadc23b49521eef26df19bd68771e7e\", element=\"59cba112-3a3c-4487-b565-4c9ebf28242d\")>,\n",
       " <selenium.webdriver.remote.webelement.WebElement (session=\"3aadc23b49521eef26df19bd68771e7e\", element=\"59f91ff1-0128-44a1-9499-f1b001b93ad9\")>,\n",
       " <selenium.webdriver.remote.webelement.WebElement (session=\"3aadc23b49521eef26df19bd68771e7e\", element=\"9f6876dd-941c-413e-bf99-284e233dc835\")>,\n",
       " <selenium.webdriver.remote.webelement.WebElement (session=\"3aadc23b49521eef26df19bd68771e7e\", element=\"9b442d87-86ce-43a0-af8f-1f3626a75fab\")>,\n",
       " <selenium.webdriver.remote.webelement.WebElement (session=\"3aadc23b49521eef26df19bd68771e7e\", element=\"dc8853f0-7e8e-42f0-a078-a2734499413d\")>,\n",
       " <selenium.webdriver.remote.webelement.WebElement (session=\"3aadc23b49521eef26df19bd68771e7e\", element=\"651c4299-1633-40c5-8be4-f7a1741e785f\")>,\n",
       " <selenium.webdriver.remote.webelement.WebElement (session=\"3aadc23b49521eef26df19bd68771e7e\", element=\"92ac6d3e-27b6-43ba-8c5f-36ef7d18fa5a\")>,\n",
       " <selenium.webdriver.remote.webelement.WebElement (session=\"3aadc23b49521eef26df19bd68771e7e\", element=\"e16bfef4-9fc9-4c23-b82c-5bc9b5663e97\")>,\n",
       " <selenium.webdriver.remote.webelement.WebElement (session=\"3aadc23b49521eef26df19bd68771e7e\", element=\"5c42008e-f1a6-414b-9029-7d7f14ad70fc\")>,\n",
       " <selenium.webdriver.remote.webelement.WebElement (session=\"3aadc23b49521eef26df19bd68771e7e\", element=\"28a385d4-c6d7-4411-bb99-cccb3fdff417\")>,\n",
       " <selenium.webdriver.remote.webelement.WebElement (session=\"3aadc23b49521eef26df19bd68771e7e\", element=\"bcc51213-9d1b-43be-8947-6c6a58b6a8f3\")>,\n",
       " <selenium.webdriver.remote.webelement.WebElement (session=\"3aadc23b49521eef26df19bd68771e7e\", element=\"9e48a3bd-154b-4a23-b3df-e1131c7a2885\")>,\n",
       " <selenium.webdriver.remote.webelement.WebElement (session=\"3aadc23b49521eef26df19bd68771e7e\", element=\"d271ee55-e641-4551-a25d-44724920c7b1\")>,\n",
       " <selenium.webdriver.remote.webelement.WebElement (session=\"3aadc23b49521eef26df19bd68771e7e\", element=\"ec74a25b-1ad7-4898-bf67-47a537b068b6\")>,\n",
       " <selenium.webdriver.remote.webelement.WebElement (session=\"3aadc23b49521eef26df19bd68771e7e\", element=\"afc620d3-2210-4440-a9e7-9dfd3e1b483c\")>,\n",
       " <selenium.webdriver.remote.webelement.WebElement (session=\"3aadc23b49521eef26df19bd68771e7e\", element=\"d8fa81ec-82f7-4d91-8d56-9e8e88c6a23a\")>,\n",
       " <selenium.webdriver.remote.webelement.WebElement (session=\"3aadc23b49521eef26df19bd68771e7e\", element=\"2ba1e14f-02e2-4526-8882-4bf01b32afe6\")>,\n",
       " <selenium.webdriver.remote.webelement.WebElement (session=\"3aadc23b49521eef26df19bd68771e7e\", element=\"45e5253f-6fdc-4229-8f53-181478dceb60\")>,\n",
       " <selenium.webdriver.remote.webelement.WebElement (session=\"3aadc23b49521eef26df19bd68771e7e\", element=\"84ada316-cd78-4c59-afa5-6690327fab69\")>,\n",
       " <selenium.webdriver.remote.webelement.WebElement (session=\"3aadc23b49521eef26df19bd68771e7e\", element=\"5e1d223f-9086-41e4-9a15-885f217967ed\")>,\n",
       " <selenium.webdriver.remote.webelement.WebElement (session=\"3aadc23b49521eef26df19bd68771e7e\", element=\"e06a52ef-52da-49d3-9f64-e8cae967d853\")>,\n",
       " <selenium.webdriver.remote.webelement.WebElement (session=\"3aadc23b49521eef26df19bd68771e7e\", element=\"b9e7548b-0e45-4473-80a1-64de0ae8cbcb\")>,\n",
       " <selenium.webdriver.remote.webelement.WebElement (session=\"3aadc23b49521eef26df19bd68771e7e\", element=\"a1afb39e-5ed8-4de7-9b00-ee1af6da1291\")>,\n",
       " <selenium.webdriver.remote.webelement.WebElement (session=\"3aadc23b49521eef26df19bd68771e7e\", element=\"e85b2ec0-9b5f-4808-ab06-e1ad71a221d7\")>,\n",
       " <selenium.webdriver.remote.webelement.WebElement (session=\"3aadc23b49521eef26df19bd68771e7e\", element=\"789c9d54-6f72-479b-959c-feff949ced79\")>,\n",
       " <selenium.webdriver.remote.webelement.WebElement (session=\"3aadc23b49521eef26df19bd68771e7e\", element=\"3c79e28a-8119-4643-a2f6-e63f33b690eb\")>,\n",
       " <selenium.webdriver.remote.webelement.WebElement (session=\"3aadc23b49521eef26df19bd68771e7e\", element=\"5f768f0b-93e5-49ca-8b87-26df8fb8af53\")>,\n",
       " <selenium.webdriver.remote.webelement.WebElement (session=\"3aadc23b49521eef26df19bd68771e7e\", element=\"ae316db2-01d4-476b-b497-34446b7ae92d\")>,\n",
       " <selenium.webdriver.remote.webelement.WebElement (session=\"3aadc23b49521eef26df19bd68771e7e\", element=\"7e6a76d4-6c29-408e-8202-a52478bd2e7b\")>,\n",
       " <selenium.webdriver.remote.webelement.WebElement (session=\"3aadc23b49521eef26df19bd68771e7e\", element=\"a2d26bae-b01e-4334-8924-ef27214e7702\")>,\n",
       " <selenium.webdriver.remote.webelement.WebElement (session=\"3aadc23b49521eef26df19bd68771e7e\", element=\"37a97076-298d-4824-8009-b6112665f029\")>,\n",
       " <selenium.webdriver.remote.webelement.WebElement (session=\"3aadc23b49521eef26df19bd68771e7e\", element=\"1c84f122-13bc-4bed-91e5-d2e22ac8501d\")>,\n",
       " <selenium.webdriver.remote.webelement.WebElement (session=\"3aadc23b49521eef26df19bd68771e7e\", element=\"39ca0815-b385-49ee-95b4-881d59bbc919\")>,\n",
       " <selenium.webdriver.remote.webelement.WebElement (session=\"3aadc23b49521eef26df19bd68771e7e\", element=\"0630faa6-2813-4a95-bf22-c6ce1f94ea6f\")>]"
      ]
     },
     "execution_count": 33,
     "metadata": {},
     "output_type": "execute_result"
    }
   ],
   "source": [
    "pr_des = driver4.find_elements_by_xpath(\"//a[@class='IRpwTa']\")\n",
    "pr_des"
   ]
  },
  {
   "cell_type": "code",
   "execution_count": 34,
   "id": "8934582f",
   "metadata": {},
   "outputs": [
    {
     "data": {
      "text/plain": [
       "['Gradient Round Sunglasses (54)',\n",
       " 'Mirrored, UV Protection Aviator Sunglasses (58)',\n",
       " 'UV Protection Wayfarer Sunglasses (Free Size)',\n",
       " 'UV Protection Rectangular Sunglasses (Free Size)',\n",
       " 'UV Protection, Polarized Wayfarer Sunglasses (Free Size...',\n",
       " 'UV Protection Aviator Sunglasses (54)',\n",
       " 'Riding Glasses Wrap-around Sunglasses (Free Size)',\n",
       " 'Others Aviator Sunglasses (63)',\n",
       " 'UV Protection Rectangular Sunglasses (52)',\n",
       " 'UV Protection Rectangular Sunglasses (Free Size)',\n",
       " 'UV Protection Wayfarer Sunglasses (53)',\n",
       " 'UV Protection Wayfarer Sunglasses (55)',\n",
       " 'UV Protection Wayfarer Sunglasses (32)',\n",
       " 'UV Protection Round Sunglasses (54)',\n",
       " 'UV Protection Aviator Sunglasses (54)',\n",
       " 'UV Protection Oval Sunglasses (53)',\n",
       " 'UV Protection, Night Vision, Riding Glasses Wayfarer, W...',\n",
       " 'UV Protection Wayfarer Sunglasses (50)',\n",
       " 'UV Protection, Riding Glasses, Mirrored Wayfarer Sungla...',\n",
       " 'UV Protection Oval Sunglasses (49)',\n",
       " 'UV Protection, Polarized, Mirrored Retro Square Sunglas...',\n",
       " 'UV Protection Wayfarer Sunglasses (Free Size)',\n",
       " 'UV Protection Aviator Sunglasses (55)',\n",
       " 'UV Protection Wayfarer Sunglasses (56)',\n",
       " 'UV Protection, Gradient Rectangular Sunglasses (Free Si...',\n",
       " 'UV Protection Aviator Sunglasses (54)',\n",
       " 'Polarized, Riding Glasses Sports, Wrap-around Sunglasse...',\n",
       " 'Mirrored Aviator Sunglasses (63)',\n",
       " 'UV Protection Rectangular Sunglasses (Free Size)',\n",
       " 'UV Protection, Gradient Retro Square Sunglasses (Free S...',\n",
       " 'UV Protection Wayfarer Sunglasses (55)',\n",
       " 'UV Protection Round Sunglasses (53)',\n",
       " 'UV Protection Shield Sunglasses (Free Size)',\n",
       " 'Polarized Wayfarer Sunglasses (Free Size)',\n",
       " 'UV Protection Wayfarer Sunglasses (53)',\n",
       " 'UV Protection, Polarized Wayfarer Sunglasses (54)',\n",
       " 'UV Protection Round Sunglasses (54)',\n",
       " 'UV Protection Aviator Sunglasses (58)',\n",
       " 'UV Protection Wayfarer Sunglasses (Free Size)',\n",
       " 'Polarized Retro Square Sunglasses (61)']"
      ]
     },
     "execution_count": 34,
     "metadata": {},
     "output_type": "execute_result"
    }
   ],
   "source": [
    "for i in pr_des:\n",
    "    pr = i.text\n",
    "    product_description.append(pr)\n",
    "product_description    "
   ]
  },
  {
   "cell_type": "code",
   "execution_count": 35,
   "id": "151ef363",
   "metadata": {},
   "outputs": [],
   "source": [
    "pric = driver4.find_elements_by_xpath(\"//div[@class='_30jeq3']\")"
   ]
  },
  {
   "cell_type": "code",
   "execution_count": 37,
   "id": "1c9c3fb9",
   "metadata": {},
   "outputs": [
    {
     "data": {
      "text/plain": [
       "[<selenium.webdriver.remote.webelement.WebElement (session=\"3aadc23b49521eef26df19bd68771e7e\", element=\"c90276ab-c3f4-4bee-a367-3f5e04bb0453\")>,\n",
       " <selenium.webdriver.remote.webelement.WebElement (session=\"3aadc23b49521eef26df19bd68771e7e\", element=\"1ca37653-8cea-4b8b-b946-fa733d538aee\")>,\n",
       " <selenium.webdriver.remote.webelement.WebElement (session=\"3aadc23b49521eef26df19bd68771e7e\", element=\"9e3253a1-f863-4400-adad-29bd627573e4\")>,\n",
       " <selenium.webdriver.remote.webelement.WebElement (session=\"3aadc23b49521eef26df19bd68771e7e\", element=\"72205754-b8d2-49d2-8b37-0522c985cba0\")>,\n",
       " <selenium.webdriver.remote.webelement.WebElement (session=\"3aadc23b49521eef26df19bd68771e7e\", element=\"e3c34c10-635b-482b-b69d-7deebcecc13d\")>,\n",
       " <selenium.webdriver.remote.webelement.WebElement (session=\"3aadc23b49521eef26df19bd68771e7e\", element=\"d6e8b6e3-ebac-4852-83b3-19d97f29c2c0\")>,\n",
       " <selenium.webdriver.remote.webelement.WebElement (session=\"3aadc23b49521eef26df19bd68771e7e\", element=\"56acdf62-fd53-422e-b002-8ef669b02e36\")>,\n",
       " <selenium.webdriver.remote.webelement.WebElement (session=\"3aadc23b49521eef26df19bd68771e7e\", element=\"413887bf-5865-4f52-9a0e-ac3f1d16b5fd\")>,\n",
       " <selenium.webdriver.remote.webelement.WebElement (session=\"3aadc23b49521eef26df19bd68771e7e\", element=\"db82f7b0-6a58-402e-b9a8-a89fcd6b1224\")>,\n",
       " <selenium.webdriver.remote.webelement.WebElement (session=\"3aadc23b49521eef26df19bd68771e7e\", element=\"fd575e51-04a6-4db4-8fb5-8a50341c6d90\")>,\n",
       " <selenium.webdriver.remote.webelement.WebElement (session=\"3aadc23b49521eef26df19bd68771e7e\", element=\"a9856ed4-84f8-4bd8-9697-b3d92b85e41f\")>,\n",
       " <selenium.webdriver.remote.webelement.WebElement (session=\"3aadc23b49521eef26df19bd68771e7e\", element=\"e07227d0-51f6-44ff-b9d3-29d17048e6e9\")>,\n",
       " <selenium.webdriver.remote.webelement.WebElement (session=\"3aadc23b49521eef26df19bd68771e7e\", element=\"aa222367-1542-45d3-b194-917326afa174\")>,\n",
       " <selenium.webdriver.remote.webelement.WebElement (session=\"3aadc23b49521eef26df19bd68771e7e\", element=\"b8c36aed-11dd-4957-ac8f-3974d834c964\")>,\n",
       " <selenium.webdriver.remote.webelement.WebElement (session=\"3aadc23b49521eef26df19bd68771e7e\", element=\"b7a556b0-197f-4641-ae63-09a220cd1e6f\")>,\n",
       " <selenium.webdriver.remote.webelement.WebElement (session=\"3aadc23b49521eef26df19bd68771e7e\", element=\"6c997efa-9de0-4fb3-bcd1-843b378a8d1c\")>,\n",
       " <selenium.webdriver.remote.webelement.WebElement (session=\"3aadc23b49521eef26df19bd68771e7e\", element=\"933790e5-27d9-4aec-b751-54e538518a00\")>,\n",
       " <selenium.webdriver.remote.webelement.WebElement (session=\"3aadc23b49521eef26df19bd68771e7e\", element=\"67896da0-5475-4178-a12f-ee538a4c993c\")>,\n",
       " <selenium.webdriver.remote.webelement.WebElement (session=\"3aadc23b49521eef26df19bd68771e7e\", element=\"fbdcb7c4-7ad3-42c5-a87f-c82040cf9f4a\")>,\n",
       " <selenium.webdriver.remote.webelement.WebElement (session=\"3aadc23b49521eef26df19bd68771e7e\", element=\"657ad704-c13f-4c5d-a2db-885fd99a50f0\")>,\n",
       " <selenium.webdriver.remote.webelement.WebElement (session=\"3aadc23b49521eef26df19bd68771e7e\", element=\"e36aab28-14c5-44a5-a71a-085dc57fbeb0\")>,\n",
       " <selenium.webdriver.remote.webelement.WebElement (session=\"3aadc23b49521eef26df19bd68771e7e\", element=\"464ca271-4f93-4b85-aedb-5aa27f620c5c\")>,\n",
       " <selenium.webdriver.remote.webelement.WebElement (session=\"3aadc23b49521eef26df19bd68771e7e\", element=\"f8550532-06b2-4b3d-978f-7add1a94c78e\")>,\n",
       " <selenium.webdriver.remote.webelement.WebElement (session=\"3aadc23b49521eef26df19bd68771e7e\", element=\"f0e737eb-72b1-46e0-b0ea-3304d1633d7e\")>,\n",
       " <selenium.webdriver.remote.webelement.WebElement (session=\"3aadc23b49521eef26df19bd68771e7e\", element=\"5375f99c-9dd5-4970-8991-151ca21bed53\")>,\n",
       " <selenium.webdriver.remote.webelement.WebElement (session=\"3aadc23b49521eef26df19bd68771e7e\", element=\"2894fb40-3a4b-40da-831c-7615765ca4b3\")>,\n",
       " <selenium.webdriver.remote.webelement.WebElement (session=\"3aadc23b49521eef26df19bd68771e7e\", element=\"11cf03a3-2b1c-4574-bdfb-0dfc99a1b302\")>,\n",
       " <selenium.webdriver.remote.webelement.WebElement (session=\"3aadc23b49521eef26df19bd68771e7e\", element=\"5e4eb0a7-725b-4c19-b2d8-aa58c8a96687\")>,\n",
       " <selenium.webdriver.remote.webelement.WebElement (session=\"3aadc23b49521eef26df19bd68771e7e\", element=\"34eb477b-cec6-4c5d-82a4-a3a790dfd6b2\")>,\n",
       " <selenium.webdriver.remote.webelement.WebElement (session=\"3aadc23b49521eef26df19bd68771e7e\", element=\"aaa924d4-a790-419b-992d-4608cf50a82e\")>,\n",
       " <selenium.webdriver.remote.webelement.WebElement (session=\"3aadc23b49521eef26df19bd68771e7e\", element=\"c9162d6a-1532-4ed1-8d15-96858c3d94cc\")>,\n",
       " <selenium.webdriver.remote.webelement.WebElement (session=\"3aadc23b49521eef26df19bd68771e7e\", element=\"8145e88d-ed0f-4dba-b3cb-23b1020af94e\")>,\n",
       " <selenium.webdriver.remote.webelement.WebElement (session=\"3aadc23b49521eef26df19bd68771e7e\", element=\"c7b12dee-6621-4ba2-865c-4fc0be0e156f\")>,\n",
       " <selenium.webdriver.remote.webelement.WebElement (session=\"3aadc23b49521eef26df19bd68771e7e\", element=\"fa9245b2-fa0d-4435-b701-c0e0bffa4c12\")>,\n",
       " <selenium.webdriver.remote.webelement.WebElement (session=\"3aadc23b49521eef26df19bd68771e7e\", element=\"8d7f17ea-706a-49cf-b4b2-72145cc94cfa\")>,\n",
       " <selenium.webdriver.remote.webelement.WebElement (session=\"3aadc23b49521eef26df19bd68771e7e\", element=\"6eb48cfe-4b18-4f19-8405-46d3a89e638c\")>,\n",
       " <selenium.webdriver.remote.webelement.WebElement (session=\"3aadc23b49521eef26df19bd68771e7e\", element=\"e8c333dc-2ce4-410c-a55e-72529a9aaa38\")>,\n",
       " <selenium.webdriver.remote.webelement.WebElement (session=\"3aadc23b49521eef26df19bd68771e7e\", element=\"b3ea6b0b-a570-4e86-899e-6d29db2b8617\")>,\n",
       " <selenium.webdriver.remote.webelement.WebElement (session=\"3aadc23b49521eef26df19bd68771e7e\", element=\"4c56e87f-b74d-4078-b57f-8d917b22a47b\")>,\n",
       " <selenium.webdriver.remote.webelement.WebElement (session=\"3aadc23b49521eef26df19bd68771e7e\", element=\"b3728f36-28e9-40ee-a0cd-acfb768d2a03\")>]"
      ]
     },
     "execution_count": 37,
     "metadata": {},
     "output_type": "execute_result"
    }
   ],
   "source": [
    "pric"
   ]
  },
  {
   "cell_type": "code",
   "execution_count": 39,
   "id": "24628a47",
   "metadata": {},
   "outputs": [
    {
     "data": {
      "text/plain": [
       "['₹8,709',\n",
       " '₹3,349',\n",
       " '₹647',\n",
       " '₹639',\n",
       " '₹283',\n",
       " '₹249',\n",
       " '₹299',\n",
       " '₹5,389',\n",
       " '₹280',\n",
       " '₹265',\n",
       " '₹224',\n",
       " '₹7,109',\n",
       " '₹225',\n",
       " '₹295',\n",
       " '₹224',\n",
       " '₹649',\n",
       " '₹219',\n",
       " '₹249',\n",
       " '₹209',\n",
       " '₹6,709',\n",
       " '₹259',\n",
       " '₹647',\n",
       " '₹333',\n",
       " '₹3,909',\n",
       " '₹399',\n",
       " '₹224',\n",
       " '₹499',\n",
       " '₹4,489',\n",
       " '₹219',\n",
       " '₹349',\n",
       " '₹181',\n",
       " '₹7,669',\n",
       " '₹809',\n",
       " '₹849',\n",
       " '₹246',\n",
       " '₹799',\n",
       " '₹214',\n",
       " '₹349',\n",
       " '₹639',\n",
       " '₹699']"
      ]
     },
     "execution_count": 39,
     "metadata": {},
     "output_type": "execute_result"
    }
   ],
   "source": [
    "for i in pric:\n",
    "    p = i.text\n",
    "    price.append(p)\n",
    "price    "
   ]
  },
  {
   "cell_type": "code",
   "execution_count": 40,
   "id": "a902ff84",
   "metadata": {},
   "outputs": [
    {
     "data": {
      "text/plain": [
       "[<selenium.webdriver.remote.webelement.WebElement (session=\"3aadc23b49521eef26df19bd68771e7e\", element=\"3ac9fe53-ef15-4296-ba7e-3faf47e66fad\")>,\n",
       " <selenium.webdriver.remote.webelement.WebElement (session=\"3aadc23b49521eef26df19bd68771e7e\", element=\"d028fa6b-d801-45a2-ba03-987c5ca0692f\")>,\n",
       " <selenium.webdriver.remote.webelement.WebElement (session=\"3aadc23b49521eef26df19bd68771e7e\", element=\"658d4c25-709a-4dcd-a9e8-f8654ff6114f\")>,\n",
       " <selenium.webdriver.remote.webelement.WebElement (session=\"3aadc23b49521eef26df19bd68771e7e\", element=\"1e53fdcd-a324-489d-a352-290038a7d3e7\")>,\n",
       " <selenium.webdriver.remote.webelement.WebElement (session=\"3aadc23b49521eef26df19bd68771e7e\", element=\"0580d76f-f05b-4583-b41c-08b973afb422\")>,\n",
       " <selenium.webdriver.remote.webelement.WebElement (session=\"3aadc23b49521eef26df19bd68771e7e\", element=\"c7851c7b-c12d-4c14-8ef8-d8e9821539c7\")>,\n",
       " <selenium.webdriver.remote.webelement.WebElement (session=\"3aadc23b49521eef26df19bd68771e7e\", element=\"272ea869-3f2f-4d7c-a346-71eeac4fc6c5\")>,\n",
       " <selenium.webdriver.remote.webelement.WebElement (session=\"3aadc23b49521eef26df19bd68771e7e\", element=\"5e4e7aa3-732b-4b7a-bb77-2f7e52537b8f\")>,\n",
       " <selenium.webdriver.remote.webelement.WebElement (session=\"3aadc23b49521eef26df19bd68771e7e\", element=\"10a4cafc-4a46-4158-afc9-d18bf2897cec\")>,\n",
       " <selenium.webdriver.remote.webelement.WebElement (session=\"3aadc23b49521eef26df19bd68771e7e\", element=\"ec121faf-a3de-4a83-aa03-f911e68e3852\")>,\n",
       " <selenium.webdriver.remote.webelement.WebElement (session=\"3aadc23b49521eef26df19bd68771e7e\", element=\"bf826b7e-2a37-4bb0-9a6c-d8e48211ffac\")>,\n",
       " <selenium.webdriver.remote.webelement.WebElement (session=\"3aadc23b49521eef26df19bd68771e7e\", element=\"eb16d102-0540-401d-bb63-e4c5170d0847\")>,\n",
       " <selenium.webdriver.remote.webelement.WebElement (session=\"3aadc23b49521eef26df19bd68771e7e\", element=\"d850d9d5-5004-4b6e-8535-850409f8ef04\")>,\n",
       " <selenium.webdriver.remote.webelement.WebElement (session=\"3aadc23b49521eef26df19bd68771e7e\", element=\"5ec8e7d3-01db-4395-b996-100c270452c7\")>,\n",
       " <selenium.webdriver.remote.webelement.WebElement (session=\"3aadc23b49521eef26df19bd68771e7e\", element=\"1367f28d-3512-4bde-9d33-6733f6f87f2e\")>,\n",
       " <selenium.webdriver.remote.webelement.WebElement (session=\"3aadc23b49521eef26df19bd68771e7e\", element=\"c6d80676-63da-4f23-9bf2-8d36128234f5\")>,\n",
       " <selenium.webdriver.remote.webelement.WebElement (session=\"3aadc23b49521eef26df19bd68771e7e\", element=\"9faae44b-dda4-49d3-bdf8-3366af5a9e0a\")>,\n",
       " <selenium.webdriver.remote.webelement.WebElement (session=\"3aadc23b49521eef26df19bd68771e7e\", element=\"d8876f70-86b9-4870-8b21-24ca66986187\")>,\n",
       " <selenium.webdriver.remote.webelement.WebElement (session=\"3aadc23b49521eef26df19bd68771e7e\", element=\"1b84a293-7d1e-4491-bf39-4561c3615366\")>,\n",
       " <selenium.webdriver.remote.webelement.WebElement (session=\"3aadc23b49521eef26df19bd68771e7e\", element=\"40c15c08-dccf-424a-b8eb-8877ddbd3cce\")>,\n",
       " <selenium.webdriver.remote.webelement.WebElement (session=\"3aadc23b49521eef26df19bd68771e7e\", element=\"0f5bf002-8300-4485-b87e-9307c2ac38ec\")>,\n",
       " <selenium.webdriver.remote.webelement.WebElement (session=\"3aadc23b49521eef26df19bd68771e7e\", element=\"f86c9b5b-102a-4813-b27e-78f44439c9ca\")>,\n",
       " <selenium.webdriver.remote.webelement.WebElement (session=\"3aadc23b49521eef26df19bd68771e7e\", element=\"bb1e6dda-3061-4c6f-93cf-8d9fd7efbd8c\")>,\n",
       " <selenium.webdriver.remote.webelement.WebElement (session=\"3aadc23b49521eef26df19bd68771e7e\", element=\"24c65b41-e631-40ea-96c1-f9fb00a50f4e\")>,\n",
       " <selenium.webdriver.remote.webelement.WebElement (session=\"3aadc23b49521eef26df19bd68771e7e\", element=\"477159e7-8c66-438e-a2e3-cefbca0e57e2\")>,\n",
       " <selenium.webdriver.remote.webelement.WebElement (session=\"3aadc23b49521eef26df19bd68771e7e\", element=\"a07ed456-6fa5-4a99-8d95-75d18d86a96c\")>,\n",
       " <selenium.webdriver.remote.webelement.WebElement (session=\"3aadc23b49521eef26df19bd68771e7e\", element=\"30a794b8-3cb6-43b4-b96f-f9f5bfaacef9\")>,\n",
       " <selenium.webdriver.remote.webelement.WebElement (session=\"3aadc23b49521eef26df19bd68771e7e\", element=\"a1a4bef1-7cb7-4aac-bf96-ba311ef7fe59\")>,\n",
       " <selenium.webdriver.remote.webelement.WebElement (session=\"3aadc23b49521eef26df19bd68771e7e\", element=\"ef864c45-4507-42b3-8a4c-347fb51d84ce\")>,\n",
       " <selenium.webdriver.remote.webelement.WebElement (session=\"3aadc23b49521eef26df19bd68771e7e\", element=\"be8362e9-c949-4f46-8d88-9e6f1c8323bd\")>,\n",
       " <selenium.webdriver.remote.webelement.WebElement (session=\"3aadc23b49521eef26df19bd68771e7e\", element=\"a09927f0-734d-4808-bec8-c6990d87b254\")>,\n",
       " <selenium.webdriver.remote.webelement.WebElement (session=\"3aadc23b49521eef26df19bd68771e7e\", element=\"9635566c-679f-4555-8433-3064fca3b87c\")>,\n",
       " <selenium.webdriver.remote.webelement.WebElement (session=\"3aadc23b49521eef26df19bd68771e7e\", element=\"1320c514-e409-4a56-9410-c073ed7a174f\")>,\n",
       " <selenium.webdriver.remote.webelement.WebElement (session=\"3aadc23b49521eef26df19bd68771e7e\", element=\"89b89e66-6a2a-41e5-a1a1-140a65f449b4\")>,\n",
       " <selenium.webdriver.remote.webelement.WebElement (session=\"3aadc23b49521eef26df19bd68771e7e\", element=\"7dae43c0-3b61-4cf1-b372-9dfec04a0780\")>,\n",
       " <selenium.webdriver.remote.webelement.WebElement (session=\"3aadc23b49521eef26df19bd68771e7e\", element=\"54c38055-d922-4365-8934-98e93daa219b\")>,\n",
       " <selenium.webdriver.remote.webelement.WebElement (session=\"3aadc23b49521eef26df19bd68771e7e\", element=\"fb62138b-3afc-46f6-b5ec-6416cc59778b\")>,\n",
       " <selenium.webdriver.remote.webelement.WebElement (session=\"3aadc23b49521eef26df19bd68771e7e\", element=\"98a71f6c-3115-4e20-a8ab-2b5a67e064f5\")>,\n",
       " <selenium.webdriver.remote.webelement.WebElement (session=\"3aadc23b49521eef26df19bd68771e7e\", element=\"7dc3447a-deb0-41b1-ad22-b5dc6f790321\")>,\n",
       " <selenium.webdriver.remote.webelement.WebElement (session=\"3aadc23b49521eef26df19bd68771e7e\", element=\"0a8abadd-6939-42bc-8bb1-b3b0c162849f\")>]"
      ]
     },
     "execution_count": 40,
     "metadata": {},
     "output_type": "execute_result"
    }
   ],
   "source": [
    "dis = driver4.find_elements_by_xpath(\"//div[@class='_3Ay6Sb']\")\n",
    "dis"
   ]
  },
  {
   "cell_type": "code",
   "execution_count": 41,
   "id": "1a4179b7",
   "metadata": {},
   "outputs": [
    {
     "data": {
      "text/plain": [
       "['20% off',\n",
       " '40% off',\n",
       " '28% off',\n",
       " '20% off',\n",
       " '78% off',\n",
       " '84% off',\n",
       " '88% off',\n",
       " '40% off',\n",
       " '89% off',\n",
       " '86% off',\n",
       " '82% off',\n",
       " '20% off',\n",
       " '85% off',\n",
       " '88% off',\n",
       " '85% off',\n",
       " '35% off',\n",
       " '78% off',\n",
       " '80% off',\n",
       " '82% off',\n",
       " '30% off',\n",
       " '80% off',\n",
       " '28% off',\n",
       " '83% off',\n",
       " '30% off',\n",
       " '80% off',\n",
       " '85% off',\n",
       " '75% off',\n",
       " '40% off',\n",
       " '78% off',\n",
       " '82% off',\n",
       " '81% off',\n",
       " '20% off',\n",
       " '10% off',\n",
       " '15% off',\n",
       " '75% off',\n",
       " '60% off',\n",
       " '78% off',\n",
       " '86% off',\n",
       " '20% off',\n",
       " '53% off']"
      ]
     },
     "execution_count": 41,
     "metadata": {},
     "output_type": "execute_result"
    }
   ],
   "source": [
    "for i in dis:\n",
    "    d = i.text\n",
    "    discount.append(d)\n",
    "discount    "
   ]
  },
  {
   "cell_type": "code",
   "execution_count": 42,
   "id": "d90f06dc",
   "metadata": {},
   "outputs": [
    {
     "name": "stdout",
     "output_type": "stream",
     "text": [
      "40 40 40 40\n"
     ]
    }
   ],
   "source": [
    "print(len(brand),len(product_description),len(price),len(discount))"
   ]
  },
  {
   "cell_type": "code",
   "execution_count": 43,
   "id": "26d535c7",
   "metadata": {},
   "outputs": [],
   "source": [
    "SUNGLASS = pd.DataFrame({})\n",
    "SUNGLASS['BRAND'] = brand\n",
    "SUNGLASS['PRODUCT_DESCRIPTION'] = product_description\n",
    "SUNGLASS['PRICE'] = price\n",
    "SUNGLASS['DISCOUNT'] = discount"
   ]
  },
  {
   "cell_type": "code",
   "execution_count": 44,
   "id": "4c5a8f0b",
   "metadata": {},
   "outputs": [
    {
     "data": {
      "text/html": [
       "<div>\n",
       "<style scoped>\n",
       "    .dataframe tbody tr th:only-of-type {\n",
       "        vertical-align: middle;\n",
       "    }\n",
       "\n",
       "    .dataframe tbody tr th {\n",
       "        vertical-align: top;\n",
       "    }\n",
       "\n",
       "    .dataframe thead th {\n",
       "        text-align: right;\n",
       "    }\n",
       "</style>\n",
       "<table border=\"1\" class=\"dataframe\">\n",
       "  <thead>\n",
       "    <tr style=\"text-align: right;\">\n",
       "      <th></th>\n",
       "      <th>BRAND</th>\n",
       "      <th>PRODUCT_DESCRIPTION</th>\n",
       "      <th>PRICE</th>\n",
       "      <th>DISCOUNT</th>\n",
       "    </tr>\n",
       "  </thead>\n",
       "  <tbody>\n",
       "    <tr>\n",
       "      <th>0</th>\n",
       "      <td>Ray-Ban</td>\n",
       "      <td>Gradient Round Sunglasses (54)</td>\n",
       "      <td>₹8,709</td>\n",
       "      <td>20% off</td>\n",
       "    </tr>\n",
       "    <tr>\n",
       "      <th>1</th>\n",
       "      <td>Ray-Ban</td>\n",
       "      <td>Mirrored, UV Protection Aviator Sunglasses (58)</td>\n",
       "      <td>₹3,349</td>\n",
       "      <td>40% off</td>\n",
       "    </tr>\n",
       "    <tr>\n",
       "      <th>2</th>\n",
       "      <td>Fastrack</td>\n",
       "      <td>UV Protection Wayfarer Sunglasses (Free Size)</td>\n",
       "      <td>₹647</td>\n",
       "      <td>28% off</td>\n",
       "    </tr>\n",
       "    <tr>\n",
       "      <th>3</th>\n",
       "      <td>Fastrack</td>\n",
       "      <td>UV Protection Rectangular Sunglasses (Free Size)</td>\n",
       "      <td>₹639</td>\n",
       "      <td>20% off</td>\n",
       "    </tr>\n",
       "    <tr>\n",
       "      <th>4</th>\n",
       "      <td>SUNBEE</td>\n",
       "      <td>UV Protection, Polarized Wayfarer Sunglasses (...</td>\n",
       "      <td>₹283</td>\n",
       "      <td>78% off</td>\n",
       "    </tr>\n",
       "    <tr>\n",
       "      <th>5</th>\n",
       "      <td>PIRASO</td>\n",
       "      <td>UV Protection Aviator Sunglasses (54)</td>\n",
       "      <td>₹249</td>\n",
       "      <td>84% off</td>\n",
       "    </tr>\n",
       "    <tr>\n",
       "      <th>6</th>\n",
       "      <td>Lee Topper</td>\n",
       "      <td>Riding Glasses Wrap-around Sunglasses (Free Size)</td>\n",
       "      <td>₹299</td>\n",
       "      <td>88% off</td>\n",
       "    </tr>\n",
       "    <tr>\n",
       "      <th>7</th>\n",
       "      <td>Ray-Ban</td>\n",
       "      <td>Others Aviator Sunglasses (63)</td>\n",
       "      <td>₹5,389</td>\n",
       "      <td>40% off</td>\n",
       "    </tr>\n",
       "    <tr>\n",
       "      <th>8</th>\n",
       "      <td>PIRASO</td>\n",
       "      <td>UV Protection Rectangular Sunglasses (52)</td>\n",
       "      <td>₹280</td>\n",
       "      <td>89% off</td>\n",
       "    </tr>\n",
       "    <tr>\n",
       "      <th>9</th>\n",
       "      <td>New Specs</td>\n",
       "      <td>UV Protection Rectangular Sunglasses (Free Size)</td>\n",
       "      <td>₹265</td>\n",
       "      <td>86% off</td>\n",
       "    </tr>\n",
       "    <tr>\n",
       "      <th>10</th>\n",
       "      <td>Elligator</td>\n",
       "      <td>UV Protection Wayfarer Sunglasses (53)</td>\n",
       "      <td>₹224</td>\n",
       "      <td>82% off</td>\n",
       "    </tr>\n",
       "    <tr>\n",
       "      <th>11</th>\n",
       "      <td>Ray-Ban</td>\n",
       "      <td>UV Protection Wayfarer Sunglasses (55)</td>\n",
       "      <td>₹7,109</td>\n",
       "      <td>20% off</td>\n",
       "    </tr>\n",
       "    <tr>\n",
       "      <th>12</th>\n",
       "      <td>PIRASO</td>\n",
       "      <td>UV Protection Wayfarer Sunglasses (32)</td>\n",
       "      <td>₹225</td>\n",
       "      <td>85% off</td>\n",
       "    </tr>\n",
       "    <tr>\n",
       "      <th>13</th>\n",
       "      <td>Elligator</td>\n",
       "      <td>UV Protection Round Sunglasses (54)</td>\n",
       "      <td>₹295</td>\n",
       "      <td>88% off</td>\n",
       "    </tr>\n",
       "    <tr>\n",
       "      <th>14</th>\n",
       "      <td>PIRASO</td>\n",
       "      <td>UV Protection Aviator Sunglasses (54)</td>\n",
       "      <td>₹224</td>\n",
       "      <td>85% off</td>\n",
       "    </tr>\n",
       "    <tr>\n",
       "      <th>15</th>\n",
       "      <td>Roadster</td>\n",
       "      <td>UV Protection Oval Sunglasses (53)</td>\n",
       "      <td>₹649</td>\n",
       "      <td>35% off</td>\n",
       "    </tr>\n",
       "    <tr>\n",
       "      <th>16</th>\n",
       "      <td>DAHAAZIL</td>\n",
       "      <td>UV Protection, Night Vision, Riding Glasses Wa...</td>\n",
       "      <td>₹219</td>\n",
       "      <td>78% off</td>\n",
       "    </tr>\n",
       "    <tr>\n",
       "      <th>17</th>\n",
       "      <td>SRPM</td>\n",
       "      <td>UV Protection Wayfarer Sunglasses (50)</td>\n",
       "      <td>₹249</td>\n",
       "      <td>80% off</td>\n",
       "    </tr>\n",
       "    <tr>\n",
       "      <th>18</th>\n",
       "      <td>kingsunglasses</td>\n",
       "      <td>UV Protection, Riding Glasses, Mirrored Wayfar...</td>\n",
       "      <td>₹209</td>\n",
       "      <td>82% off</td>\n",
       "    </tr>\n",
       "    <tr>\n",
       "      <th>19</th>\n",
       "      <td>Ray-Ban</td>\n",
       "      <td>UV Protection Oval Sunglasses (49)</td>\n",
       "      <td>₹6,709</td>\n",
       "      <td>30% off</td>\n",
       "    </tr>\n",
       "    <tr>\n",
       "      <th>20</th>\n",
       "      <td>SUNBEE</td>\n",
       "      <td>UV Protection, Polarized, Mirrored Retro Squar...</td>\n",
       "      <td>₹259</td>\n",
       "      <td>80% off</td>\n",
       "    </tr>\n",
       "    <tr>\n",
       "      <th>21</th>\n",
       "      <td>Fastrack</td>\n",
       "      <td>UV Protection Wayfarer Sunglasses (Free Size)</td>\n",
       "      <td>₹647</td>\n",
       "      <td>28% off</td>\n",
       "    </tr>\n",
       "    <tr>\n",
       "      <th>22</th>\n",
       "      <td>Elligator</td>\n",
       "      <td>UV Protection Aviator Sunglasses (55)</td>\n",
       "      <td>₹333</td>\n",
       "      <td>83% off</td>\n",
       "    </tr>\n",
       "    <tr>\n",
       "      <th>23</th>\n",
       "      <td>Ray-Ban</td>\n",
       "      <td>UV Protection Wayfarer Sunglasses (56)</td>\n",
       "      <td>₹3,909</td>\n",
       "      <td>30% off</td>\n",
       "    </tr>\n",
       "    <tr>\n",
       "      <th>24</th>\n",
       "      <td>ROZZETTA CRAFT</td>\n",
       "      <td>UV Protection, Gradient Rectangular Sunglasses...</td>\n",
       "      <td>₹399</td>\n",
       "      <td>80% off</td>\n",
       "    </tr>\n",
       "    <tr>\n",
       "      <th>25</th>\n",
       "      <td>PIRASO</td>\n",
       "      <td>UV Protection Aviator Sunglasses (54)</td>\n",
       "      <td>₹224</td>\n",
       "      <td>85% off</td>\n",
       "    </tr>\n",
       "    <tr>\n",
       "      <th>26</th>\n",
       "      <td>ROZZETTA CRAFT</td>\n",
       "      <td>Polarized, Riding Glasses Sports, Wrap-around ...</td>\n",
       "      <td>₹499</td>\n",
       "      <td>75% off</td>\n",
       "    </tr>\n",
       "    <tr>\n",
       "      <th>27</th>\n",
       "      <td>Ray-Ban</td>\n",
       "      <td>Mirrored Aviator Sunglasses (63)</td>\n",
       "      <td>₹4,489</td>\n",
       "      <td>40% off</td>\n",
       "    </tr>\n",
       "    <tr>\n",
       "      <th>28</th>\n",
       "      <td>Lee Topper</td>\n",
       "      <td>UV Protection Rectangular Sunglasses (Free Size)</td>\n",
       "      <td>₹219</td>\n",
       "      <td>78% off</td>\n",
       "    </tr>\n",
       "    <tr>\n",
       "      <th>29</th>\n",
       "      <td>ROZZETTA CRAFT</td>\n",
       "      <td>UV Protection, Gradient Retro Square Sunglasse...</td>\n",
       "      <td>₹349</td>\n",
       "      <td>82% off</td>\n",
       "    </tr>\n",
       "    <tr>\n",
       "      <th>30</th>\n",
       "      <td>HIPPON</td>\n",
       "      <td>UV Protection Wayfarer Sunglasses (55)</td>\n",
       "      <td>₹181</td>\n",
       "      <td>81% off</td>\n",
       "    </tr>\n",
       "    <tr>\n",
       "      <th>31</th>\n",
       "      <td>Ray-Ban</td>\n",
       "      <td>UV Protection Round Sunglasses (53)</td>\n",
       "      <td>₹7,669</td>\n",
       "      <td>20% off</td>\n",
       "    </tr>\n",
       "    <tr>\n",
       "      <th>32</th>\n",
       "      <td>Fastrack</td>\n",
       "      <td>UV Protection Shield Sunglasses (Free Size)</td>\n",
       "      <td>₹809</td>\n",
       "      <td>10% off</td>\n",
       "    </tr>\n",
       "    <tr>\n",
       "      <th>33</th>\n",
       "      <td>Mi</td>\n",
       "      <td>Polarized Wayfarer Sunglasses (Free Size)</td>\n",
       "      <td>₹849</td>\n",
       "      <td>15% off</td>\n",
       "    </tr>\n",
       "    <tr>\n",
       "      <th>34</th>\n",
       "      <td>SRPM</td>\n",
       "      <td>UV Protection Wayfarer Sunglasses (53)</td>\n",
       "      <td>₹246</td>\n",
       "      <td>75% off</td>\n",
       "    </tr>\n",
       "    <tr>\n",
       "      <th>35</th>\n",
       "      <td>ROYAL SON</td>\n",
       "      <td>UV Protection, Polarized Wayfarer Sunglasses (54)</td>\n",
       "      <td>₹799</td>\n",
       "      <td>60% off</td>\n",
       "    </tr>\n",
       "    <tr>\n",
       "      <th>36</th>\n",
       "      <td>kingsunglasses</td>\n",
       "      <td>UV Protection Round Sunglasses (54)</td>\n",
       "      <td>₹214</td>\n",
       "      <td>78% off</td>\n",
       "    </tr>\n",
       "    <tr>\n",
       "      <th>37</th>\n",
       "      <td>PIRASO</td>\n",
       "      <td>UV Protection Aviator Sunglasses (58)</td>\n",
       "      <td>₹349</td>\n",
       "      <td>86% off</td>\n",
       "    </tr>\n",
       "    <tr>\n",
       "      <th>38</th>\n",
       "      <td>Fastrack</td>\n",
       "      <td>UV Protection Wayfarer Sunglasses (Free Size)</td>\n",
       "      <td>₹639</td>\n",
       "      <td>20% off</td>\n",
       "    </tr>\n",
       "    <tr>\n",
       "      <th>39</th>\n",
       "      <td>ROYAL SON</td>\n",
       "      <td>Polarized Retro Square Sunglasses (61)</td>\n",
       "      <td>₹699</td>\n",
       "      <td>53% off</td>\n",
       "    </tr>\n",
       "  </tbody>\n",
       "</table>\n",
       "</div>"
      ],
      "text/plain": [
       "             BRAND                                PRODUCT_DESCRIPTION   PRICE  \\\n",
       "0          Ray-Ban                     Gradient Round Sunglasses (54)  ₹8,709   \n",
       "1          Ray-Ban    Mirrored, UV Protection Aviator Sunglasses (58)  ₹3,349   \n",
       "2         Fastrack      UV Protection Wayfarer Sunglasses (Free Size)    ₹647   \n",
       "3         Fastrack   UV Protection Rectangular Sunglasses (Free Size)    ₹639   \n",
       "4           SUNBEE  UV Protection, Polarized Wayfarer Sunglasses (...    ₹283   \n",
       "5           PIRASO              UV Protection Aviator Sunglasses (54)    ₹249   \n",
       "6       Lee Topper  Riding Glasses Wrap-around Sunglasses (Free Size)    ₹299   \n",
       "7          Ray-Ban                     Others Aviator Sunglasses (63)  ₹5,389   \n",
       "8           PIRASO          UV Protection Rectangular Sunglasses (52)    ₹280   \n",
       "9        New Specs   UV Protection Rectangular Sunglasses (Free Size)    ₹265   \n",
       "10       Elligator             UV Protection Wayfarer Sunglasses (53)    ₹224   \n",
       "11         Ray-Ban             UV Protection Wayfarer Sunglasses (55)  ₹7,109   \n",
       "12          PIRASO             UV Protection Wayfarer Sunglasses (32)    ₹225   \n",
       "13       Elligator                UV Protection Round Sunglasses (54)    ₹295   \n",
       "14          PIRASO              UV Protection Aviator Sunglasses (54)    ₹224   \n",
       "15        Roadster                 UV Protection Oval Sunglasses (53)    ₹649   \n",
       "16        DAHAAZIL  UV Protection, Night Vision, Riding Glasses Wa...    ₹219   \n",
       "17            SRPM             UV Protection Wayfarer Sunglasses (50)    ₹249   \n",
       "18  kingsunglasses  UV Protection, Riding Glasses, Mirrored Wayfar...    ₹209   \n",
       "19         Ray-Ban                 UV Protection Oval Sunglasses (49)  ₹6,709   \n",
       "20          SUNBEE  UV Protection, Polarized, Mirrored Retro Squar...    ₹259   \n",
       "21        Fastrack      UV Protection Wayfarer Sunglasses (Free Size)    ₹647   \n",
       "22       Elligator              UV Protection Aviator Sunglasses (55)    ₹333   \n",
       "23         Ray-Ban             UV Protection Wayfarer Sunglasses (56)  ₹3,909   \n",
       "24  ROZZETTA CRAFT  UV Protection, Gradient Rectangular Sunglasses...    ₹399   \n",
       "25          PIRASO              UV Protection Aviator Sunglasses (54)    ₹224   \n",
       "26  ROZZETTA CRAFT  Polarized, Riding Glasses Sports, Wrap-around ...    ₹499   \n",
       "27         Ray-Ban                   Mirrored Aviator Sunglasses (63)  ₹4,489   \n",
       "28      Lee Topper   UV Protection Rectangular Sunglasses (Free Size)    ₹219   \n",
       "29  ROZZETTA CRAFT  UV Protection, Gradient Retro Square Sunglasse...    ₹349   \n",
       "30          HIPPON             UV Protection Wayfarer Sunglasses (55)    ₹181   \n",
       "31         Ray-Ban                UV Protection Round Sunglasses (53)  ₹7,669   \n",
       "32        Fastrack        UV Protection Shield Sunglasses (Free Size)    ₹809   \n",
       "33              Mi          Polarized Wayfarer Sunglasses (Free Size)    ₹849   \n",
       "34            SRPM             UV Protection Wayfarer Sunglasses (53)    ₹246   \n",
       "35       ROYAL SON  UV Protection, Polarized Wayfarer Sunglasses (54)    ₹799   \n",
       "36  kingsunglasses                UV Protection Round Sunglasses (54)    ₹214   \n",
       "37          PIRASO              UV Protection Aviator Sunglasses (58)    ₹349   \n",
       "38        Fastrack      UV Protection Wayfarer Sunglasses (Free Size)    ₹639   \n",
       "39       ROYAL SON             Polarized Retro Square Sunglasses (61)    ₹699   \n",
       "\n",
       "   DISCOUNT  \n",
       "0   20% off  \n",
       "1   40% off  \n",
       "2   28% off  \n",
       "3   20% off  \n",
       "4   78% off  \n",
       "5   84% off  \n",
       "6   88% off  \n",
       "7   40% off  \n",
       "8   89% off  \n",
       "9   86% off  \n",
       "10  82% off  \n",
       "11  20% off  \n",
       "12  85% off  \n",
       "13  88% off  \n",
       "14  85% off  \n",
       "15  35% off  \n",
       "16  78% off  \n",
       "17  80% off  \n",
       "18  82% off  \n",
       "19  30% off  \n",
       "20  80% off  \n",
       "21  28% off  \n",
       "22  83% off  \n",
       "23  30% off  \n",
       "24  80% off  \n",
       "25  85% off  \n",
       "26  75% off  \n",
       "27  40% off  \n",
       "28  78% off  \n",
       "29  82% off  \n",
       "30  81% off  \n",
       "31  20% off  \n",
       "32  10% off  \n",
       "33  15% off  \n",
       "34  75% off  \n",
       "35  60% off  \n",
       "36  78% off  \n",
       "37  86% off  \n",
       "38  20% off  \n",
       "39  53% off  "
      ]
     },
     "execution_count": 44,
     "metadata": {},
     "output_type": "execute_result"
    }
   ],
   "source": [
    "SUNGLASS"
   ]
  },
  {
   "cell_type": "markdown",
   "id": "d8d05ea2",
   "metadata": {},
   "source": [
    "Q5: Scrape 100 reviews data from flipkart.com for iphone11 phone. You have to go the link:"
   ]
  },
  {
   "cell_type": "code",
   "execution_count": 46,
   "id": "672697e7",
   "metadata": {},
   "outputs": [],
   "source": [
    "import selenium\n",
    "from selenium import webdriver\n",
    "import warnings\n",
    "warnings.filterwarnings(\"ignore\")\n",
    "import pandas as pd\n",
    "import time"
   ]
  },
  {
   "cell_type": "code",
   "execution_count": 47,
   "id": "20d9dcbd",
   "metadata": {},
   "outputs": [],
   "source": [
    "driver5 = webdriver.Chrome(r\"C:\\Web driver\\Chromedriver.exe\")"
   ]
  },
  {
   "cell_type": "code",
   "execution_count": 48,
   "id": "e5ca0141",
   "metadata": {},
   "outputs": [],
   "source": [
    "driver5.get(\"http://www.flipkart.com/apple-iphone-11-black-64-gb-includes-earpods-power-\")"
   ]
  },
  {
   "cell_type": "code",
   "execution_count": null,
   "id": "9839471f",
   "metadata": {},
   "outputs": [],
   "source": []
  },
  {
   "cell_type": "code",
   "execution_count": null,
   "id": "eb2f5a92",
   "metadata": {},
   "outputs": [],
   "source": []
  },
  {
   "cell_type": "code",
   "execution_count": null,
   "id": "bbf72aca",
   "metadata": {},
   "outputs": [],
   "source": []
  },
  {
   "cell_type": "code",
   "execution_count": null,
   "id": "d123d92b",
   "metadata": {},
   "outputs": [],
   "source": []
  },
  {
   "cell_type": "code",
   "execution_count": null,
   "id": "0b985d69",
   "metadata": {},
   "outputs": [],
   "source": []
  },
  {
   "cell_type": "code",
   "execution_count": null,
   "id": "6399d5f5",
   "metadata": {},
   "outputs": [],
   "source": []
  },
  {
   "cell_type": "code",
   "execution_count": null,
   "id": "048abc0a",
   "metadata": {},
   "outputs": [],
   "source": []
  },
  {
   "cell_type": "code",
   "execution_count": null,
   "id": "9d48baee",
   "metadata": {},
   "outputs": [],
   "source": []
  },
  {
   "cell_type": "code",
   "execution_count": null,
   "id": "b66749f7",
   "metadata": {},
   "outputs": [],
   "source": []
  },
  {
   "cell_type": "code",
   "execution_count": null,
   "id": "176c0f0d",
   "metadata": {},
   "outputs": [],
   "source": []
  },
  {
   "cell_type": "code",
   "execution_count": null,
   "id": "d46993fe",
   "metadata": {},
   "outputs": [],
   "source": []
  },
  {
   "cell_type": "code",
   "execution_count": null,
   "id": "09139805",
   "metadata": {},
   "outputs": [],
   "source": []
  },
  {
   "cell_type": "code",
   "execution_count": null,
   "id": "e51c6d0d",
   "metadata": {},
   "outputs": [],
   "source": []
  },
  {
   "cell_type": "code",
   "execution_count": null,
   "id": "690c5a04",
   "metadata": {},
   "outputs": [],
   "source": []
  },
  {
   "cell_type": "code",
   "execution_count": null,
   "id": "955af54c",
   "metadata": {},
   "outputs": [],
   "source": []
  },
  {
   "cell_type": "code",
   "execution_count": null,
   "id": "c46aeca7",
   "metadata": {},
   "outputs": [],
   "source": []
  },
  {
   "cell_type": "code",
   "execution_count": null,
   "id": "9cf0825a",
   "metadata": {},
   "outputs": [],
   "source": []
  },
  {
   "cell_type": "code",
   "execution_count": null,
   "id": "2fa74f0c",
   "metadata": {},
   "outputs": [],
   "source": []
  },
  {
   "cell_type": "code",
   "execution_count": null,
   "id": "918ff121",
   "metadata": {},
   "outputs": [],
   "source": []
  },
  {
   "cell_type": "code",
   "execution_count": null,
   "id": "fc50c849",
   "metadata": {},
   "outputs": [],
   "source": []
  },
  {
   "cell_type": "markdown",
   "id": "a0c9775e",
   "metadata": {},
   "source": [
    "Q6 - Scrape data for first 100 sneakers you find when you visit flipkart.com andsearch for “sneakers” in the\n",
    "search field.\n",
    "You have to scrape 4 attributes of each sneaker:\n",
    "1. Brand\n",
    "2. Product Description\n",
    "3. Price\n",
    "4. Discount"
   ]
  },
  {
   "cell_type": "code",
   "execution_count": 1,
   "id": "527cd089",
   "metadata": {},
   "outputs": [
    {
     "name": "stdout",
     "output_type": "stream",
     "text": [
      "Requirement already satisfied: selenium in c:\\programdata\\anaconda3\\lib\\site-packages (4.1.3)\n",
      "Requirement already satisfied: trio-websocket~=0.9 in c:\\programdata\\anaconda3\\lib\\site-packages (from selenium) (0.9.2)\n",
      "Requirement already satisfied: urllib3[secure,socks]~=1.26 in c:\\programdata\\anaconda3\\lib\\site-packages (from selenium) (1.26.7)\n",
      "Requirement already satisfied: trio~=0.17 in c:\\programdata\\anaconda3\\lib\\site-packages (from selenium) (0.20.0)\n",
      "Requirement already satisfied: idna in c:\\programdata\\anaconda3\\lib\\site-packages (from trio~=0.17->selenium) (3.2)\n",
      "Requirement already satisfied: sniffio in c:\\programdata\\anaconda3\\lib\\site-packages (from trio~=0.17->selenium) (1.2.0)\n",
      "Requirement already satisfied: async-generator>=1.9 in c:\\programdata\\anaconda3\\lib\\site-packages (from trio~=0.17->selenium) (1.10)\n",
      "Requirement already satisfied: cffi>=1.14 in c:\\programdata\\anaconda3\\lib\\site-packages (from trio~=0.17->selenium) (1.14.6)\n",
      "Requirement already satisfied: attrs>=19.2.0 in c:\\programdata\\anaconda3\\lib\\site-packages (from trio~=0.17->selenium) (21.2.0)\n",
      "Requirement already satisfied: outcome in c:\\programdata\\anaconda3\\lib\\site-packages (from trio~=0.17->selenium) (1.1.0)\n",
      "Requirement already satisfied: sortedcontainers in c:\\programdata\\anaconda3\\lib\\site-packages (from trio~=0.17->selenium) (2.4.0)\n",
      "Requirement already satisfied: pycparser in c:\\programdata\\anaconda3\\lib\\site-packages (from cffi>=1.14->trio~=0.17->selenium) (2.20)\n",
      "Requirement already satisfied: wsproto>=0.14 in c:\\programdata\\anaconda3\\lib\\site-packages (from trio-websocket~=0.9->selenium) (1.1.0)\n",
      "Requirement already satisfied: PySocks!=1.5.7,<2.0,>=1.5.6 in c:\\programdata\\anaconda3\\lib\\site-packages (from urllib3[secure,socks]~=1.26->selenium) (1.7.1)\n",
      "Requirement already satisfied: pyOpenSSL>=0.14 in c:\\programdata\\anaconda3\\lib\\site-packages (from urllib3[secure,socks]~=1.26->selenium) (21.0.0)\n",
      "Requirement already satisfied: cryptography>=1.3.4 in c:\\programdata\\anaconda3\\lib\\site-packages (from urllib3[secure,socks]~=1.26->selenium) (3.4.8)\n",
      "Requirement already satisfied: certifi in c:\\programdata\\anaconda3\\lib\\site-packages (from urllib3[secure,socks]~=1.26->selenium) (2021.10.8)\n",
      "Requirement already satisfied: six>=1.5.2 in c:\\programdata\\anaconda3\\lib\\site-packages (from pyOpenSSL>=0.14->urllib3[secure,socks]~=1.26->selenium) (1.16.0)\n",
      "Requirement already satisfied: h11<1,>=0.9.0 in c:\\programdata\\anaconda3\\lib\\site-packages (from wsproto>=0.14->trio-websocket~=0.9->selenium) (0.13.0)\n"
     ]
    }
   ],
   "source": [
    "! pip install selenium"
   ]
  },
  {
   "cell_type": "code",
   "execution_count": 2,
   "id": "244cbab4",
   "metadata": {},
   "outputs": [],
   "source": [
    "import selenium\n",
    "from selenium import webdriver\n",
    "import warnings\n",
    "warnings.filterwarnings(\"ignore\")\n",
    "import time\n",
    "import pandas as pd"
   ]
  },
  {
   "cell_type": "code",
   "execution_count": 3,
   "id": "3796f6fc",
   "metadata": {},
   "outputs": [],
   "source": [
    "driver6 = webdriver.Chrome(r\"C:\\Web driver\\Chromedriver.exe\")"
   ]
  },
  {
   "cell_type": "code",
   "execution_count": 4,
   "id": "986fb843",
   "metadata": {},
   "outputs": [],
   "source": [
    "driver6.get('http://www.flipkart.com/')"
   ]
  },
  {
   "cell_type": "code",
   "execution_count": 5,
   "id": "5e881fee",
   "metadata": {},
   "outputs": [],
   "source": [
    "cross = driver6.find_element_by_xpath(\"/html/body/div[2]/div/div/button\")\n",
    "cross.click()"
   ]
  },
  {
   "cell_type": "code",
   "execution_count": 6,
   "id": "02427a84",
   "metadata": {},
   "outputs": [],
   "source": [
    "search_category = driver6.find_element_by_class_name(\"_3704LK\")\n",
    "search_category.send_keys(\"sneaker\")"
   ]
  },
  {
   "cell_type": "code",
   "execution_count": 7,
   "id": "d49a028e",
   "metadata": {},
   "outputs": [],
   "source": [
    "press_search = driver6.find_element_by_xpath(\"/html/body/div[1]/div/div[1]/div[1]/div[2]/div[2]/form/div/button\")\n",
    "press_search.click()"
   ]
  },
  {
   "cell_type": "code",
   "execution_count": 8,
   "id": "04027063",
   "metadata": {},
   "outputs": [],
   "source": [
    "#creating empty list\n",
    "Brand = []\n",
    "Price = []\n",
    "Discount = []"
   ]
  },
  {
   "cell_type": "code",
   "execution_count": 9,
   "id": "a0488de3",
   "metadata": {},
   "outputs": [
    {
     "data": {
      "text/plain": [
       "[<selenium.webdriver.remote.webelement.WebElement (session=\"c9b6e9ec779c4393f689f9f5d2a3adad\", element=\"8a483e59-fcfe-4bb0-bcf6-24b7629d3caa\")>,\n",
       " <selenium.webdriver.remote.webelement.WebElement (session=\"c9b6e9ec779c4393f689f9f5d2a3adad\", element=\"5edf7a37-e5a1-4c2a-8f00-51d9bab5ba1d\")>,\n",
       " <selenium.webdriver.remote.webelement.WebElement (session=\"c9b6e9ec779c4393f689f9f5d2a3adad\", element=\"649d70e0-4219-41bf-a533-a10221fcb9ce\")>,\n",
       " <selenium.webdriver.remote.webelement.WebElement (session=\"c9b6e9ec779c4393f689f9f5d2a3adad\", element=\"c6d0a8a2-12d8-4186-81dd-5b6f1149d99d\")>,\n",
       " <selenium.webdriver.remote.webelement.WebElement (session=\"c9b6e9ec779c4393f689f9f5d2a3adad\", element=\"a1a9579c-a9a8-4d1f-9589-52f04084fc52\")>,\n",
       " <selenium.webdriver.remote.webelement.WebElement (session=\"c9b6e9ec779c4393f689f9f5d2a3adad\", element=\"dc012a14-fd1e-4c41-92cd-c7845a31ccb3\")>,\n",
       " <selenium.webdriver.remote.webelement.WebElement (session=\"c9b6e9ec779c4393f689f9f5d2a3adad\", element=\"7a4bd7fa-1b5e-487b-8037-14284af4fa1b\")>,\n",
       " <selenium.webdriver.remote.webelement.WebElement (session=\"c9b6e9ec779c4393f689f9f5d2a3adad\", element=\"1ef75327-88ef-464d-8c69-99ea0cf974aa\")>,\n",
       " <selenium.webdriver.remote.webelement.WebElement (session=\"c9b6e9ec779c4393f689f9f5d2a3adad\", element=\"28f9e9a1-ce0d-40bd-835f-5eb3e5cbe793\")>,\n",
       " <selenium.webdriver.remote.webelement.WebElement (session=\"c9b6e9ec779c4393f689f9f5d2a3adad\", element=\"099336e9-0c17-40fd-849d-8909df164020\")>,\n",
       " <selenium.webdriver.remote.webelement.WebElement (session=\"c9b6e9ec779c4393f689f9f5d2a3adad\", element=\"70ff4164-96db-419a-acc7-d7f00fb8293f\")>,\n",
       " <selenium.webdriver.remote.webelement.WebElement (session=\"c9b6e9ec779c4393f689f9f5d2a3adad\", element=\"3536db6c-cbbb-451c-8e01-e3297fb71f92\")>,\n",
       " <selenium.webdriver.remote.webelement.WebElement (session=\"c9b6e9ec779c4393f689f9f5d2a3adad\", element=\"b65baa73-18b1-4d6c-a479-66079a7f35fe\")>,\n",
       " <selenium.webdriver.remote.webelement.WebElement (session=\"c9b6e9ec779c4393f689f9f5d2a3adad\", element=\"f14f32c4-9ad7-4c1a-9e82-e21f834dc610\")>,\n",
       " <selenium.webdriver.remote.webelement.WebElement (session=\"c9b6e9ec779c4393f689f9f5d2a3adad\", element=\"3412bfbe-dff1-4223-b275-3bb7884841ec\")>,\n",
       " <selenium.webdriver.remote.webelement.WebElement (session=\"c9b6e9ec779c4393f689f9f5d2a3adad\", element=\"432a5d36-f219-4735-9042-e9386a05e1fe\")>,\n",
       " <selenium.webdriver.remote.webelement.WebElement (session=\"c9b6e9ec779c4393f689f9f5d2a3adad\", element=\"965a3d69-ba71-4645-9454-f75b316de86d\")>,\n",
       " <selenium.webdriver.remote.webelement.WebElement (session=\"c9b6e9ec779c4393f689f9f5d2a3adad\", element=\"0f853a56-fdfe-488d-ab13-d833c9ab11c7\")>,\n",
       " <selenium.webdriver.remote.webelement.WebElement (session=\"c9b6e9ec779c4393f689f9f5d2a3adad\", element=\"b8d4390b-24ef-4175-84df-1b7be42a136e\")>,\n",
       " <selenium.webdriver.remote.webelement.WebElement (session=\"c9b6e9ec779c4393f689f9f5d2a3adad\", element=\"6c05ac19-fefe-481b-8faf-324643fd9ee5\")>,\n",
       " <selenium.webdriver.remote.webelement.WebElement (session=\"c9b6e9ec779c4393f689f9f5d2a3adad\", element=\"5a3c9f35-8bf8-4fce-993f-744a8b72f5fd\")>,\n",
       " <selenium.webdriver.remote.webelement.WebElement (session=\"c9b6e9ec779c4393f689f9f5d2a3adad\", element=\"661033cb-00af-4228-a514-adf6cd65e5a2\")>,\n",
       " <selenium.webdriver.remote.webelement.WebElement (session=\"c9b6e9ec779c4393f689f9f5d2a3adad\", element=\"8ed76c63-f661-4c2b-b050-ab6ea8a222d8\")>,\n",
       " <selenium.webdriver.remote.webelement.WebElement (session=\"c9b6e9ec779c4393f689f9f5d2a3adad\", element=\"1cc455fa-b0cc-4b37-b68c-bd3b98d54722\")>,\n",
       " <selenium.webdriver.remote.webelement.WebElement (session=\"c9b6e9ec779c4393f689f9f5d2a3adad\", element=\"5cf37483-e199-4595-b7ad-7b0b82138f63\")>,\n",
       " <selenium.webdriver.remote.webelement.WebElement (session=\"c9b6e9ec779c4393f689f9f5d2a3adad\", element=\"8ae37dd3-15be-4a99-910c-4da7a99f0961\")>,\n",
       " <selenium.webdriver.remote.webelement.WebElement (session=\"c9b6e9ec779c4393f689f9f5d2a3adad\", element=\"f542c183-6f6c-4b35-8f78-37e9ca06338e\")>,\n",
       " <selenium.webdriver.remote.webelement.WebElement (session=\"c9b6e9ec779c4393f689f9f5d2a3adad\", element=\"f679ace4-d986-4d5e-bc3d-c0dd2eb89bfd\")>,\n",
       " <selenium.webdriver.remote.webelement.WebElement (session=\"c9b6e9ec779c4393f689f9f5d2a3adad\", element=\"6fd8a713-d9bb-4643-8db6-97d2a303fb54\")>,\n",
       " <selenium.webdriver.remote.webelement.WebElement (session=\"c9b6e9ec779c4393f689f9f5d2a3adad\", element=\"b3179e4c-da12-4649-a5cb-e409a7b782c5\")>,\n",
       " <selenium.webdriver.remote.webelement.WebElement (session=\"c9b6e9ec779c4393f689f9f5d2a3adad\", element=\"34958d0b-d128-48e3-9a9d-44f257663474\")>,\n",
       " <selenium.webdriver.remote.webelement.WebElement (session=\"c9b6e9ec779c4393f689f9f5d2a3adad\", element=\"8b70a008-3156-44e5-9c06-79e314ced9fb\")>,\n",
       " <selenium.webdriver.remote.webelement.WebElement (session=\"c9b6e9ec779c4393f689f9f5d2a3adad\", element=\"6fb6ced4-e143-4f99-bf0b-6cb7a4e66831\")>,\n",
       " <selenium.webdriver.remote.webelement.WebElement (session=\"c9b6e9ec779c4393f689f9f5d2a3adad\", element=\"c9038373-ef70-40c0-82e2-763da6697954\")>,\n",
       " <selenium.webdriver.remote.webelement.WebElement (session=\"c9b6e9ec779c4393f689f9f5d2a3adad\", element=\"9e9841f5-d780-4241-b74d-bd22ecb12daa\")>,\n",
       " <selenium.webdriver.remote.webelement.WebElement (session=\"c9b6e9ec779c4393f689f9f5d2a3adad\", element=\"0de4cc96-3327-4323-b70a-8d55087e06fe\")>,\n",
       " <selenium.webdriver.remote.webelement.WebElement (session=\"c9b6e9ec779c4393f689f9f5d2a3adad\", element=\"ee89aebe-6c3b-4c66-af56-88163cb3ccf1\")>,\n",
       " <selenium.webdriver.remote.webelement.WebElement (session=\"c9b6e9ec779c4393f689f9f5d2a3adad\", element=\"6368ff6b-9f0b-4b9e-b0e4-414137a53156\")>,\n",
       " <selenium.webdriver.remote.webelement.WebElement (session=\"c9b6e9ec779c4393f689f9f5d2a3adad\", element=\"d894ef7f-3f2a-42be-b608-600d930d2086\")>,\n",
       " <selenium.webdriver.remote.webelement.WebElement (session=\"c9b6e9ec779c4393f689f9f5d2a3adad\", element=\"591d50f6-a440-47b8-9a6f-6ef5b2774788\")>]"
      ]
     },
     "execution_count": 9,
     "metadata": {},
     "output_type": "execute_result"
    }
   ],
   "source": [
    "brand_sn = driver6.find_elements_by_xpath(\"//div[@class='_2WkVRV']\")\n",
    "brand_sn"
   ]
  },
  {
   "cell_type": "code",
   "execution_count": 10,
   "id": "6ee78b15",
   "metadata": {},
   "outputs": [
    {
     "data": {
      "text/plain": [
       "['RapidBox',\n",
       " 'RapidBox',\n",
       " 'URBANBOX',\n",
       " 'BRUTON',\n",
       " 'corsac',\n",
       " 'BIRDE',\n",
       " 'Labbin',\n",
       " 'HRX by Hrithik Roshan',\n",
       " 'KWIK FIT',\n",
       " 'Magnolia',\n",
       " 'World Wear Footwear',\n",
       " 'RapidBox',\n",
       " 'World Wear Footwear',\n",
       " 'ASTEROID',\n",
       " 'Kraasa',\n",
       " 'India hub',\n",
       " 'BRUTON',\n",
       " 'aadi',\n",
       " 'SCATCHITE',\n",
       " 'luxury fashion',\n",
       " 'ASTEROID',\n",
       " 'ONECENTRE',\n",
       " 'Kraasa',\n",
       " 'DRESTA',\n",
       " 'BRUTON',\n",
       " 'CLYMB',\n",
       " 'World Wear Footwear',\n",
       " 'HRX by Hrithik Roshan',\n",
       " 'World Wear Footwear',\n",
       " 'Layasa',\n",
       " 'corsac',\n",
       " 'Kraasa',\n",
       " 'luxury fashion',\n",
       " 'Chevit',\n",
       " 'Hida',\n",
       " 'HRX by Hrithik Roshan',\n",
       " 'BRUTON',\n",
       " 'Echor',\n",
       " 'Hida',\n",
       " 'Roadster']"
      ]
     },
     "execution_count": 10,
     "metadata": {},
     "output_type": "execute_result"
    }
   ],
   "source": [
    "for i in brand_sn:\n",
    "    b = i.text\n",
    "    Brand.append(b)\n",
    "Brand    "
   ]
  },
  {
   "cell_type": "code",
   "execution_count": 11,
   "id": "592f0a51",
   "metadata": {},
   "outputs": [
    {
     "data": {
      "text/plain": [
       "[<selenium.webdriver.remote.webelement.WebElement (session=\"c9b6e9ec779c4393f689f9f5d2a3adad\", element=\"657afd6a-0138-44c5-b83f-8a96273b95d6\")>,\n",
       " <selenium.webdriver.remote.webelement.WebElement (session=\"c9b6e9ec779c4393f689f9f5d2a3adad\", element=\"d74c7e87-4a76-4986-a1d4-2b3d34057387\")>,\n",
       " <selenium.webdriver.remote.webelement.WebElement (session=\"c9b6e9ec779c4393f689f9f5d2a3adad\", element=\"30c7cc94-fd78-402d-b77b-470290ffa3c7\")>,\n",
       " <selenium.webdriver.remote.webelement.WebElement (session=\"c9b6e9ec779c4393f689f9f5d2a3adad\", element=\"a90cf6b4-4ac5-475c-8d93-0ab95dbebb4b\")>,\n",
       " <selenium.webdriver.remote.webelement.WebElement (session=\"c9b6e9ec779c4393f689f9f5d2a3adad\", element=\"bc71349a-d376-40ef-9dec-5558357e3b69\")>,\n",
       " <selenium.webdriver.remote.webelement.WebElement (session=\"c9b6e9ec779c4393f689f9f5d2a3adad\", element=\"7557c608-8faa-4355-8060-8d7ef65db91f\")>,\n",
       " <selenium.webdriver.remote.webelement.WebElement (session=\"c9b6e9ec779c4393f689f9f5d2a3adad\", element=\"25a90f7b-181e-4d4f-b2da-00c99b6e1fa8\")>,\n",
       " <selenium.webdriver.remote.webelement.WebElement (session=\"c9b6e9ec779c4393f689f9f5d2a3adad\", element=\"1bd0b5c7-8550-4a04-b094-8a5922616cc7\")>,\n",
       " <selenium.webdriver.remote.webelement.WebElement (session=\"c9b6e9ec779c4393f689f9f5d2a3adad\", element=\"51197530-38a6-42dc-99bd-36011a9b985f\")>,\n",
       " <selenium.webdriver.remote.webelement.WebElement (session=\"c9b6e9ec779c4393f689f9f5d2a3adad\", element=\"a93fe411-2d20-4f6f-b097-6a47b474f87f\")>,\n",
       " <selenium.webdriver.remote.webelement.WebElement (session=\"c9b6e9ec779c4393f689f9f5d2a3adad\", element=\"a6f95f13-cef7-45bc-92d7-f1ed6af3026c\")>,\n",
       " <selenium.webdriver.remote.webelement.WebElement (session=\"c9b6e9ec779c4393f689f9f5d2a3adad\", element=\"a4f31123-4f8c-4b80-8061-d99b8899b280\")>,\n",
       " <selenium.webdriver.remote.webelement.WebElement (session=\"c9b6e9ec779c4393f689f9f5d2a3adad\", element=\"41a74f28-672d-4344-9546-a7749d8a84d4\")>,\n",
       " <selenium.webdriver.remote.webelement.WebElement (session=\"c9b6e9ec779c4393f689f9f5d2a3adad\", element=\"3135b7c0-8ed5-4f32-bd3b-6fa345fffcad\")>,\n",
       " <selenium.webdriver.remote.webelement.WebElement (session=\"c9b6e9ec779c4393f689f9f5d2a3adad\", element=\"c184e67a-ac45-4d18-b13d-4c48be345982\")>,\n",
       " <selenium.webdriver.remote.webelement.WebElement (session=\"c9b6e9ec779c4393f689f9f5d2a3adad\", element=\"e211fff5-8643-4545-8e6c-943c21a41712\")>,\n",
       " <selenium.webdriver.remote.webelement.WebElement (session=\"c9b6e9ec779c4393f689f9f5d2a3adad\", element=\"2791e95a-2546-4a76-8107-4d914583d617\")>,\n",
       " <selenium.webdriver.remote.webelement.WebElement (session=\"c9b6e9ec779c4393f689f9f5d2a3adad\", element=\"cbb329b2-5a25-44ac-9ac1-bc00dfc47e62\")>,\n",
       " <selenium.webdriver.remote.webelement.WebElement (session=\"c9b6e9ec779c4393f689f9f5d2a3adad\", element=\"44bc098c-341a-4bdd-81b9-8e49f2d95f4e\")>,\n",
       " <selenium.webdriver.remote.webelement.WebElement (session=\"c9b6e9ec779c4393f689f9f5d2a3adad\", element=\"275371e9-6098-4d1e-963b-ddf2c6502214\")>,\n",
       " <selenium.webdriver.remote.webelement.WebElement (session=\"c9b6e9ec779c4393f689f9f5d2a3adad\", element=\"0a9d38cc-63d2-4f57-b165-146989e155a4\")>,\n",
       " <selenium.webdriver.remote.webelement.WebElement (session=\"c9b6e9ec779c4393f689f9f5d2a3adad\", element=\"67aac05d-57a9-4bd0-b199-bda95d9dc591\")>,\n",
       " <selenium.webdriver.remote.webelement.WebElement (session=\"c9b6e9ec779c4393f689f9f5d2a3adad\", element=\"907e1597-07b4-4b75-b259-a08c8aa8b913\")>,\n",
       " <selenium.webdriver.remote.webelement.WebElement (session=\"c9b6e9ec779c4393f689f9f5d2a3adad\", element=\"6a1d9473-6bbb-43b3-a12e-9aad70b08fa3\")>,\n",
       " <selenium.webdriver.remote.webelement.WebElement (session=\"c9b6e9ec779c4393f689f9f5d2a3adad\", element=\"494d91ec-d2c1-48b1-b273-97c589d6b1a4\")>,\n",
       " <selenium.webdriver.remote.webelement.WebElement (session=\"c9b6e9ec779c4393f689f9f5d2a3adad\", element=\"02f82055-68a5-43e8-905d-2f5605e599df\")>,\n",
       " <selenium.webdriver.remote.webelement.WebElement (session=\"c9b6e9ec779c4393f689f9f5d2a3adad\", element=\"d8fb551e-a5fe-43ae-880c-0b24bcf15f8e\")>,\n",
       " <selenium.webdriver.remote.webelement.WebElement (session=\"c9b6e9ec779c4393f689f9f5d2a3adad\", element=\"22b0201a-82e6-41bd-9185-2ded89c462c2\")>,\n",
       " <selenium.webdriver.remote.webelement.WebElement (session=\"c9b6e9ec779c4393f689f9f5d2a3adad\", element=\"b9c0661a-71d8-4087-9237-1da890cc5bff\")>,\n",
       " <selenium.webdriver.remote.webelement.WebElement (session=\"c9b6e9ec779c4393f689f9f5d2a3adad\", element=\"d34de5e3-4d31-4c22-92c4-bc1dd9c25128\")>,\n",
       " <selenium.webdriver.remote.webelement.WebElement (session=\"c9b6e9ec779c4393f689f9f5d2a3adad\", element=\"56564e14-504f-40e8-bd64-7ed4954b2d06\")>,\n",
       " <selenium.webdriver.remote.webelement.WebElement (session=\"c9b6e9ec779c4393f689f9f5d2a3adad\", element=\"c5fae2f1-0ddc-4d66-8df2-564b6246f200\")>,\n",
       " <selenium.webdriver.remote.webelement.WebElement (session=\"c9b6e9ec779c4393f689f9f5d2a3adad\", element=\"e13267f0-0e35-4311-a918-96923c0b2e87\")>,\n",
       " <selenium.webdriver.remote.webelement.WebElement (session=\"c9b6e9ec779c4393f689f9f5d2a3adad\", element=\"f03b8c03-8034-4ba4-9d05-ea1f3ab20e90\")>,\n",
       " <selenium.webdriver.remote.webelement.WebElement (session=\"c9b6e9ec779c4393f689f9f5d2a3adad\", element=\"d0c1e9ae-a816-4b40-ae33-ee7a7cc1265a\")>,\n",
       " <selenium.webdriver.remote.webelement.WebElement (session=\"c9b6e9ec779c4393f689f9f5d2a3adad\", element=\"ecd19f2a-b6d5-4100-b0b4-3cecbca60949\")>,\n",
       " <selenium.webdriver.remote.webelement.WebElement (session=\"c9b6e9ec779c4393f689f9f5d2a3adad\", element=\"ab204663-13e6-4b6b-bf51-8d7986225d83\")>,\n",
       " <selenium.webdriver.remote.webelement.WebElement (session=\"c9b6e9ec779c4393f689f9f5d2a3adad\", element=\"4bf1881a-6270-48b7-b45e-656b8d537284\")>,\n",
       " <selenium.webdriver.remote.webelement.WebElement (session=\"c9b6e9ec779c4393f689f9f5d2a3adad\", element=\"2034bf9d-1c65-461a-b8c2-0926cc4265f0\")>,\n",
       " <selenium.webdriver.remote.webelement.WebElement (session=\"c9b6e9ec779c4393f689f9f5d2a3adad\", element=\"4646909e-bde2-4cff-9c6b-edfeb5adf662\")>]"
      ]
     },
     "execution_count": 11,
     "metadata": {},
     "output_type": "execute_result"
    }
   ],
   "source": [
    "price = driver6.find_elements_by_xpath(\"//div[@class='_30jeq3']\")\n",
    "price"
   ]
  },
  {
   "cell_type": "code",
   "execution_count": 12,
   "id": "8257cacc",
   "metadata": {},
   "outputs": [
    {
     "data": {
      "text/plain": [
       "['₹660',\n",
       " '₹720',\n",
       " '₹198',\n",
       " '₹299',\n",
       " '₹499',\n",
       " '₹351',\n",
       " '₹469',\n",
       " '₹2,599',\n",
       " '₹397',\n",
       " '₹472',\n",
       " '₹249',\n",
       " '₹680',\n",
       " '₹249',\n",
       " '₹499',\n",
       " '₹490',\n",
       " '₹399',\n",
       " '₹299',\n",
       " '₹347',\n",
       " '₹449',\n",
       " '₹499',\n",
       " '₹499',\n",
       " '₹300',\n",
       " '₹483',\n",
       " '₹499',\n",
       " '₹299',\n",
       " '₹649',\n",
       " '₹249',\n",
       " '₹1,799',\n",
       " '₹249',\n",
       " '₹449',\n",
       " '₹529',\n",
       " '₹679',\n",
       " '₹399',\n",
       " '₹269',\n",
       " '₹584',\n",
       " '₹1,799',\n",
       " '₹198',\n",
       " '₹539',\n",
       " '₹584',\n",
       " '₹1,185']"
      ]
     },
     "execution_count": 12,
     "metadata": {},
     "output_type": "execute_result"
    }
   ],
   "source": [
    "for i in price:\n",
    "    p = i.text\n",
    "    Price.append(p)\n",
    "Price    "
   ]
  },
  {
   "cell_type": "code",
   "execution_count": 13,
   "id": "0224ff18",
   "metadata": {},
   "outputs": [
    {
     "data": {
      "text/plain": [
       "[<selenium.webdriver.remote.webelement.WebElement (session=\"c9b6e9ec779c4393f689f9f5d2a3adad\", element=\"51898e2d-91eb-4d6d-97f6-acec2dcfbb77\")>,\n",
       " <selenium.webdriver.remote.webelement.WebElement (session=\"c9b6e9ec779c4393f689f9f5d2a3adad\", element=\"629e01de-092a-4d1c-ab80-2b9c70d7d6bf\")>,\n",
       " <selenium.webdriver.remote.webelement.WebElement (session=\"c9b6e9ec779c4393f689f9f5d2a3adad\", element=\"812ea0de-2f47-457a-80a9-e7099e95e1e3\")>,\n",
       " <selenium.webdriver.remote.webelement.WebElement (session=\"c9b6e9ec779c4393f689f9f5d2a3adad\", element=\"c9e9ecd8-7e1c-42b8-87c9-e2623ea4ba0a\")>,\n",
       " <selenium.webdriver.remote.webelement.WebElement (session=\"c9b6e9ec779c4393f689f9f5d2a3adad\", element=\"99528768-b1b4-4b17-9e70-fec25283d30a\")>,\n",
       " <selenium.webdriver.remote.webelement.WebElement (session=\"c9b6e9ec779c4393f689f9f5d2a3adad\", element=\"0a425fcf-4b6e-4cbc-9d8f-567c15d154b2\")>,\n",
       " <selenium.webdriver.remote.webelement.WebElement (session=\"c9b6e9ec779c4393f689f9f5d2a3adad\", element=\"80d3c3cc-3071-4d58-ad2d-08cf0e330a2b\")>,\n",
       " <selenium.webdriver.remote.webelement.WebElement (session=\"c9b6e9ec779c4393f689f9f5d2a3adad\", element=\"2e538304-4af6-427a-8cec-cd602ef27ace\")>,\n",
       " <selenium.webdriver.remote.webelement.WebElement (session=\"c9b6e9ec779c4393f689f9f5d2a3adad\", element=\"9d3cd680-bee6-4596-b802-9da53a117229\")>,\n",
       " <selenium.webdriver.remote.webelement.WebElement (session=\"c9b6e9ec779c4393f689f9f5d2a3adad\", element=\"9f69d975-62e1-4fcb-a6a6-e4fecde29421\")>,\n",
       " <selenium.webdriver.remote.webelement.WebElement (session=\"c9b6e9ec779c4393f689f9f5d2a3adad\", element=\"550d7f01-f2c1-4582-9300-16f83cf29cb2\")>,\n",
       " <selenium.webdriver.remote.webelement.WebElement (session=\"c9b6e9ec779c4393f689f9f5d2a3adad\", element=\"9eaeea2b-1644-48ee-96ed-b9919407c7b7\")>,\n",
       " <selenium.webdriver.remote.webelement.WebElement (session=\"c9b6e9ec779c4393f689f9f5d2a3adad\", element=\"a7d41db4-5bd9-4bba-a656-daceecb26bd2\")>,\n",
       " <selenium.webdriver.remote.webelement.WebElement (session=\"c9b6e9ec779c4393f689f9f5d2a3adad\", element=\"d76a220c-542b-4f6f-8e80-c5dafd59d482\")>,\n",
       " <selenium.webdriver.remote.webelement.WebElement (session=\"c9b6e9ec779c4393f689f9f5d2a3adad\", element=\"8c31d126-7aad-4f72-b5b0-257a8e9b4472\")>,\n",
       " <selenium.webdriver.remote.webelement.WebElement (session=\"c9b6e9ec779c4393f689f9f5d2a3adad\", element=\"8607e4e6-6e91-4d55-8d6d-697c5b4adf6f\")>,\n",
       " <selenium.webdriver.remote.webelement.WebElement (session=\"c9b6e9ec779c4393f689f9f5d2a3adad\", element=\"dc0cc475-b6d9-42bb-b7da-a67d793bd024\")>,\n",
       " <selenium.webdriver.remote.webelement.WebElement (session=\"c9b6e9ec779c4393f689f9f5d2a3adad\", element=\"8616626e-7a2f-45f1-9ca3-b358ee9959c6\")>,\n",
       " <selenium.webdriver.remote.webelement.WebElement (session=\"c9b6e9ec779c4393f689f9f5d2a3adad\", element=\"709088b7-667c-4348-b533-97196c2073e5\")>,\n",
       " <selenium.webdriver.remote.webelement.WebElement (session=\"c9b6e9ec779c4393f689f9f5d2a3adad\", element=\"11a4affa-8464-4dd5-971d-609a43668fe1\")>,\n",
       " <selenium.webdriver.remote.webelement.WebElement (session=\"c9b6e9ec779c4393f689f9f5d2a3adad\", element=\"e0b5c3d2-9616-4d4a-aff4-1dc5524b3c75\")>,\n",
       " <selenium.webdriver.remote.webelement.WebElement (session=\"c9b6e9ec779c4393f689f9f5d2a3adad\", element=\"f66b0bc1-7add-4102-b8c7-e60ea7e0354b\")>,\n",
       " <selenium.webdriver.remote.webelement.WebElement (session=\"c9b6e9ec779c4393f689f9f5d2a3adad\", element=\"a656775f-5ed5-4a5b-bfbe-f0f303d810ed\")>,\n",
       " <selenium.webdriver.remote.webelement.WebElement (session=\"c9b6e9ec779c4393f689f9f5d2a3adad\", element=\"cd54d66e-053d-45bd-a107-99c0965a0252\")>,\n",
       " <selenium.webdriver.remote.webelement.WebElement (session=\"c9b6e9ec779c4393f689f9f5d2a3adad\", element=\"591f6d4b-bac6-4f10-891a-d36a978fead0\")>,\n",
       " <selenium.webdriver.remote.webelement.WebElement (session=\"c9b6e9ec779c4393f689f9f5d2a3adad\", element=\"ba1f6f2e-ecce-4f13-be48-c94b2604856c\")>,\n",
       " <selenium.webdriver.remote.webelement.WebElement (session=\"c9b6e9ec779c4393f689f9f5d2a3adad\", element=\"2def9a3c-0c39-4a5c-98af-69c65d0e800c\")>,\n",
       " <selenium.webdriver.remote.webelement.WebElement (session=\"c9b6e9ec779c4393f689f9f5d2a3adad\", element=\"7ad30515-0936-4887-915c-84401cd97ad4\")>,\n",
       " <selenium.webdriver.remote.webelement.WebElement (session=\"c9b6e9ec779c4393f689f9f5d2a3adad\", element=\"00eaff8e-b07b-4b19-aaa2-55014f924ae1\")>,\n",
       " <selenium.webdriver.remote.webelement.WebElement (session=\"c9b6e9ec779c4393f689f9f5d2a3adad\", element=\"323ab2d4-643f-4a3d-ad08-fc83d23dc57e\")>,\n",
       " <selenium.webdriver.remote.webelement.WebElement (session=\"c9b6e9ec779c4393f689f9f5d2a3adad\", element=\"548b1b12-14ed-4685-8f60-453f6b13d262\")>,\n",
       " <selenium.webdriver.remote.webelement.WebElement (session=\"c9b6e9ec779c4393f689f9f5d2a3adad\", element=\"927b62d1-6e92-471f-adfc-a8ddb71b134f\")>,\n",
       " <selenium.webdriver.remote.webelement.WebElement (session=\"c9b6e9ec779c4393f689f9f5d2a3adad\", element=\"d6fd66bf-644c-41e7-a8fe-1c991da10192\")>,\n",
       " <selenium.webdriver.remote.webelement.WebElement (session=\"c9b6e9ec779c4393f689f9f5d2a3adad\", element=\"c3f26d87-d64e-4c69-82c5-d10e158280ab\")>,\n",
       " <selenium.webdriver.remote.webelement.WebElement (session=\"c9b6e9ec779c4393f689f9f5d2a3adad\", element=\"ba7fccd9-dd4f-4963-8307-cc88fca00384\")>,\n",
       " <selenium.webdriver.remote.webelement.WebElement (session=\"c9b6e9ec779c4393f689f9f5d2a3adad\", element=\"9481554d-aa6d-4b70-b7da-7f8ce54713a1\")>,\n",
       " <selenium.webdriver.remote.webelement.WebElement (session=\"c9b6e9ec779c4393f689f9f5d2a3adad\", element=\"94e63f7c-7965-4822-97d2-0e5cabd62019\")>,\n",
       " <selenium.webdriver.remote.webelement.WebElement (session=\"c9b6e9ec779c4393f689f9f5d2a3adad\", element=\"33f7ebd1-4e77-4895-a07d-c23f179754de\")>,\n",
       " <selenium.webdriver.remote.webelement.WebElement (session=\"c9b6e9ec779c4393f689f9f5d2a3adad\", element=\"c24cd032-099a-4a54-8b85-aee5ceabef89\")>,\n",
       " <selenium.webdriver.remote.webelement.WebElement (session=\"c9b6e9ec779c4393f689f9f5d2a3adad\", element=\"1c50f17f-d44a-49f1-afa5-605c5b7d72ef\")>]"
      ]
     },
     "execution_count": 13,
     "metadata": {},
     "output_type": "execute_result"
    }
   ],
   "source": [
    "dis =driver6.find_elements_by_xpath(\"//div[@class='_3Ay6Sb']\")\n",
    "dis"
   ]
  },
  {
   "cell_type": "code",
   "execution_count": 14,
   "id": "9e86b511",
   "metadata": {},
   "outputs": [
    {
     "data": {
      "text/plain": [
       "['33% off',\n",
       " '27% off',\n",
       " '80% off',\n",
       " '76% off',\n",
       " '66% off',\n",
       " '64% off',\n",
       " '53% off',\n",
       " '27% off',\n",
       " '80% off',\n",
       " '52% off',\n",
       " '50% off',\n",
       " '31% off',\n",
       " '50% off',\n",
       " '50% off',\n",
       " '50% off',\n",
       " '69% off',\n",
       " '76% off',\n",
       " '65% off',\n",
       " '55% off',\n",
       " '61% off',\n",
       " '75% off',\n",
       " '52% off',\n",
       " '51% off',\n",
       " '75% off',\n",
       " '76% off',\n",
       " '56% off',\n",
       " '50% off',\n",
       " '45% off',\n",
       " '50% off',\n",
       " '55% off',\n",
       " '64% off',\n",
       " '66% off',\n",
       " '80% off',\n",
       " '73% off',\n",
       " '41% off',\n",
       " '48% off',\n",
       " '66% off',\n",
       " '46% off',\n",
       " '41% off',\n",
       " '57% off']"
      ]
     },
     "execution_count": 14,
     "metadata": {},
     "output_type": "execute_result"
    }
   ],
   "source": [
    "for i in dis:\n",
    "    d = i.text\n",
    "    Discount.append(d)\n",
    "Discount    "
   ]
  },
  {
   "cell_type": "code",
   "execution_count": 15,
   "id": "71c342b6",
   "metadata": {},
   "outputs": [
    {
     "name": "stdout",
     "output_type": "stream",
     "text": [
      "40 40 40\n"
     ]
    }
   ],
   "source": [
    "print(len(Brand),len(Price),len(Discount))"
   ]
  },
  {
   "cell_type": "code",
   "execution_count": 19,
   "id": "cd76f414",
   "metadata": {},
   "outputs": [],
   "source": [
    "SNEAKER = pd.DataFrame({})\n",
    "SNEAKER['BRAND'] = Brand \n",
    "SNEAKER['DISCOUNT'] = Discount\n",
    "SNEAKER['PRICE'] = Price"
   ]
  },
  {
   "cell_type": "code",
   "execution_count": 20,
   "id": "459539c2",
   "metadata": {},
   "outputs": [
    {
     "data": {
      "text/html": [
       "<div>\n",
       "<style scoped>\n",
       "    .dataframe tbody tr th:only-of-type {\n",
       "        vertical-align: middle;\n",
       "    }\n",
       "\n",
       "    .dataframe tbody tr th {\n",
       "        vertical-align: top;\n",
       "    }\n",
       "\n",
       "    .dataframe thead th {\n",
       "        text-align: right;\n",
       "    }\n",
       "</style>\n",
       "<table border=\"1\" class=\"dataframe\">\n",
       "  <thead>\n",
       "    <tr style=\"text-align: right;\">\n",
       "      <th></th>\n",
       "      <th>BRAND</th>\n",
       "      <th>DISCOUNT</th>\n",
       "      <th>PRICE</th>\n",
       "    </tr>\n",
       "  </thead>\n",
       "  <tbody>\n",
       "    <tr>\n",
       "      <th>0</th>\n",
       "      <td>RapidBox</td>\n",
       "      <td>33% off</td>\n",
       "      <td>₹660</td>\n",
       "    </tr>\n",
       "    <tr>\n",
       "      <th>1</th>\n",
       "      <td>RapidBox</td>\n",
       "      <td>27% off</td>\n",
       "      <td>₹720</td>\n",
       "    </tr>\n",
       "    <tr>\n",
       "      <th>2</th>\n",
       "      <td>URBANBOX</td>\n",
       "      <td>80% off</td>\n",
       "      <td>₹198</td>\n",
       "    </tr>\n",
       "    <tr>\n",
       "      <th>3</th>\n",
       "      <td>BRUTON</td>\n",
       "      <td>76% off</td>\n",
       "      <td>₹299</td>\n",
       "    </tr>\n",
       "    <tr>\n",
       "      <th>4</th>\n",
       "      <td>corsac</td>\n",
       "      <td>66% off</td>\n",
       "      <td>₹499</td>\n",
       "    </tr>\n",
       "    <tr>\n",
       "      <th>5</th>\n",
       "      <td>BIRDE</td>\n",
       "      <td>64% off</td>\n",
       "      <td>₹351</td>\n",
       "    </tr>\n",
       "    <tr>\n",
       "      <th>6</th>\n",
       "      <td>Labbin</td>\n",
       "      <td>53% off</td>\n",
       "      <td>₹469</td>\n",
       "    </tr>\n",
       "    <tr>\n",
       "      <th>7</th>\n",
       "      <td>HRX by Hrithik Roshan</td>\n",
       "      <td>27% off</td>\n",
       "      <td>₹2,599</td>\n",
       "    </tr>\n",
       "    <tr>\n",
       "      <th>8</th>\n",
       "      <td>KWIK FIT</td>\n",
       "      <td>80% off</td>\n",
       "      <td>₹397</td>\n",
       "    </tr>\n",
       "    <tr>\n",
       "      <th>9</th>\n",
       "      <td>Magnolia</td>\n",
       "      <td>52% off</td>\n",
       "      <td>₹472</td>\n",
       "    </tr>\n",
       "    <tr>\n",
       "      <th>10</th>\n",
       "      <td>World Wear Footwear</td>\n",
       "      <td>50% off</td>\n",
       "      <td>₹249</td>\n",
       "    </tr>\n",
       "    <tr>\n",
       "      <th>11</th>\n",
       "      <td>RapidBox</td>\n",
       "      <td>31% off</td>\n",
       "      <td>₹680</td>\n",
       "    </tr>\n",
       "    <tr>\n",
       "      <th>12</th>\n",
       "      <td>World Wear Footwear</td>\n",
       "      <td>50% off</td>\n",
       "      <td>₹249</td>\n",
       "    </tr>\n",
       "    <tr>\n",
       "      <th>13</th>\n",
       "      <td>ASTEROID</td>\n",
       "      <td>50% off</td>\n",
       "      <td>₹499</td>\n",
       "    </tr>\n",
       "    <tr>\n",
       "      <th>14</th>\n",
       "      <td>Kraasa</td>\n",
       "      <td>50% off</td>\n",
       "      <td>₹490</td>\n",
       "    </tr>\n",
       "    <tr>\n",
       "      <th>15</th>\n",
       "      <td>India hub</td>\n",
       "      <td>69% off</td>\n",
       "      <td>₹399</td>\n",
       "    </tr>\n",
       "    <tr>\n",
       "      <th>16</th>\n",
       "      <td>BRUTON</td>\n",
       "      <td>76% off</td>\n",
       "      <td>₹299</td>\n",
       "    </tr>\n",
       "    <tr>\n",
       "      <th>17</th>\n",
       "      <td>aadi</td>\n",
       "      <td>65% off</td>\n",
       "      <td>₹347</td>\n",
       "    </tr>\n",
       "    <tr>\n",
       "      <th>18</th>\n",
       "      <td>SCATCHITE</td>\n",
       "      <td>55% off</td>\n",
       "      <td>₹449</td>\n",
       "    </tr>\n",
       "    <tr>\n",
       "      <th>19</th>\n",
       "      <td>luxury fashion</td>\n",
       "      <td>61% off</td>\n",
       "      <td>₹499</td>\n",
       "    </tr>\n",
       "    <tr>\n",
       "      <th>20</th>\n",
       "      <td>ASTEROID</td>\n",
       "      <td>75% off</td>\n",
       "      <td>₹499</td>\n",
       "    </tr>\n",
       "    <tr>\n",
       "      <th>21</th>\n",
       "      <td>ONECENTRE</td>\n",
       "      <td>52% off</td>\n",
       "      <td>₹300</td>\n",
       "    </tr>\n",
       "    <tr>\n",
       "      <th>22</th>\n",
       "      <td>Kraasa</td>\n",
       "      <td>51% off</td>\n",
       "      <td>₹483</td>\n",
       "    </tr>\n",
       "    <tr>\n",
       "      <th>23</th>\n",
       "      <td>DRESTA</td>\n",
       "      <td>75% off</td>\n",
       "      <td>₹499</td>\n",
       "    </tr>\n",
       "    <tr>\n",
       "      <th>24</th>\n",
       "      <td>BRUTON</td>\n",
       "      <td>76% off</td>\n",
       "      <td>₹299</td>\n",
       "    </tr>\n",
       "    <tr>\n",
       "      <th>25</th>\n",
       "      <td>CLYMB</td>\n",
       "      <td>56% off</td>\n",
       "      <td>₹649</td>\n",
       "    </tr>\n",
       "    <tr>\n",
       "      <th>26</th>\n",
       "      <td>World Wear Footwear</td>\n",
       "      <td>50% off</td>\n",
       "      <td>₹249</td>\n",
       "    </tr>\n",
       "    <tr>\n",
       "      <th>27</th>\n",
       "      <td>HRX by Hrithik Roshan</td>\n",
       "      <td>45% off</td>\n",
       "      <td>₹1,799</td>\n",
       "    </tr>\n",
       "    <tr>\n",
       "      <th>28</th>\n",
       "      <td>World Wear Footwear</td>\n",
       "      <td>50% off</td>\n",
       "      <td>₹249</td>\n",
       "    </tr>\n",
       "    <tr>\n",
       "      <th>29</th>\n",
       "      <td>Layasa</td>\n",
       "      <td>55% off</td>\n",
       "      <td>₹449</td>\n",
       "    </tr>\n",
       "    <tr>\n",
       "      <th>30</th>\n",
       "      <td>corsac</td>\n",
       "      <td>64% off</td>\n",
       "      <td>₹529</td>\n",
       "    </tr>\n",
       "    <tr>\n",
       "      <th>31</th>\n",
       "      <td>Kraasa</td>\n",
       "      <td>66% off</td>\n",
       "      <td>₹679</td>\n",
       "    </tr>\n",
       "    <tr>\n",
       "      <th>32</th>\n",
       "      <td>luxury fashion</td>\n",
       "      <td>80% off</td>\n",
       "      <td>₹399</td>\n",
       "    </tr>\n",
       "    <tr>\n",
       "      <th>33</th>\n",
       "      <td>Chevit</td>\n",
       "      <td>73% off</td>\n",
       "      <td>₹269</td>\n",
       "    </tr>\n",
       "    <tr>\n",
       "      <th>34</th>\n",
       "      <td>Hida</td>\n",
       "      <td>41% off</td>\n",
       "      <td>₹584</td>\n",
       "    </tr>\n",
       "    <tr>\n",
       "      <th>35</th>\n",
       "      <td>HRX by Hrithik Roshan</td>\n",
       "      <td>48% off</td>\n",
       "      <td>₹1,799</td>\n",
       "    </tr>\n",
       "    <tr>\n",
       "      <th>36</th>\n",
       "      <td>BRUTON</td>\n",
       "      <td>66% off</td>\n",
       "      <td>₹198</td>\n",
       "    </tr>\n",
       "    <tr>\n",
       "      <th>37</th>\n",
       "      <td>Echor</td>\n",
       "      <td>46% off</td>\n",
       "      <td>₹539</td>\n",
       "    </tr>\n",
       "    <tr>\n",
       "      <th>38</th>\n",
       "      <td>Hida</td>\n",
       "      <td>41% off</td>\n",
       "      <td>₹584</td>\n",
       "    </tr>\n",
       "    <tr>\n",
       "      <th>39</th>\n",
       "      <td>Roadster</td>\n",
       "      <td>57% off</td>\n",
       "      <td>₹1,185</td>\n",
       "    </tr>\n",
       "  </tbody>\n",
       "</table>\n",
       "</div>"
      ],
      "text/plain": [
       "                    BRAND DISCOUNT   PRICE\n",
       "0                RapidBox  33% off    ₹660\n",
       "1                RapidBox  27% off    ₹720\n",
       "2                URBANBOX  80% off    ₹198\n",
       "3                  BRUTON  76% off    ₹299\n",
       "4                  corsac  66% off    ₹499\n",
       "5                   BIRDE  64% off    ₹351\n",
       "6                  Labbin  53% off    ₹469\n",
       "7   HRX by Hrithik Roshan  27% off  ₹2,599\n",
       "8                KWIK FIT  80% off    ₹397\n",
       "9                Magnolia  52% off    ₹472\n",
       "10    World Wear Footwear  50% off    ₹249\n",
       "11               RapidBox  31% off    ₹680\n",
       "12    World Wear Footwear  50% off    ₹249\n",
       "13               ASTEROID  50% off    ₹499\n",
       "14                 Kraasa  50% off    ₹490\n",
       "15              India hub  69% off    ₹399\n",
       "16                 BRUTON  76% off    ₹299\n",
       "17                   aadi  65% off    ₹347\n",
       "18              SCATCHITE  55% off    ₹449\n",
       "19         luxury fashion  61% off    ₹499\n",
       "20               ASTEROID  75% off    ₹499\n",
       "21              ONECENTRE  52% off    ₹300\n",
       "22                 Kraasa  51% off    ₹483\n",
       "23                 DRESTA  75% off    ₹499\n",
       "24                 BRUTON  76% off    ₹299\n",
       "25                  CLYMB  56% off    ₹649\n",
       "26    World Wear Footwear  50% off    ₹249\n",
       "27  HRX by Hrithik Roshan  45% off  ₹1,799\n",
       "28    World Wear Footwear  50% off    ₹249\n",
       "29                 Layasa  55% off    ₹449\n",
       "30                 corsac  64% off    ₹529\n",
       "31                 Kraasa  66% off    ₹679\n",
       "32         luxury fashion  80% off    ₹399\n",
       "33                 Chevit  73% off    ₹269\n",
       "34                   Hida  41% off    ₹584\n",
       "35  HRX by Hrithik Roshan  48% off  ₹1,799\n",
       "36                 BRUTON  66% off    ₹198\n",
       "37                  Echor  46% off    ₹539\n",
       "38                   Hida  41% off    ₹584\n",
       "39               Roadster  57% off  ₹1,185"
      ]
     },
     "execution_count": 20,
     "metadata": {},
     "output_type": "execute_result"
    }
   ],
   "source": [
    "SNEAKER"
   ]
  },
  {
   "cell_type": "markdown",
   "id": "735f6a69",
   "metadata": {},
   "source": [
    "Q7- Q7: Go to the link - https://www.myntra.com/shoes\n",
    "Set Price filter to “Rs. 7149 to Rs. 14099 ” , Color filter to “Black”, as shown inthe below image.\n",
    "And then scrape First 100 shoes data you get. The data should include “Brand” of the shoes , Short Shoe\n",
    "description, price of the shoe"
   ]
  },
  {
   "cell_type": "code",
   "execution_count": 99,
   "id": "9879e893",
   "metadata": {},
   "outputs": [
    {
     "name": "stdout",
     "output_type": "stream",
     "text": [
      "Requirement already satisfied: selenium in c:\\programdata\\anaconda3\\lib\\site-packages (4.1.3)\n",
      "Requirement already satisfied: trio-websocket~=0.9 in c:\\programdata\\anaconda3\\lib\\site-packages (from selenium) (0.9.2)\n",
      "Requirement already satisfied: urllib3[secure,socks]~=1.26 in c:\\programdata\\anaconda3\\lib\\site-packages (from selenium) (1.26.7)\n",
      "Requirement already satisfied: trio~=0.17 in c:\\programdata\\anaconda3\\lib\\site-packages (from selenium) (0.20.0)\n",
      "Requirement already satisfied: sortedcontainers in c:\\programdata\\anaconda3\\lib\\site-packages (from trio~=0.17->selenium) (2.4.0)\n",
      "Requirement already satisfied: outcome in c:\\programdata\\anaconda3\\lib\\site-packages (from trio~=0.17->selenium) (1.1.0)\n",
      "Requirement already satisfied: idna in c:\\programdata\\anaconda3\\lib\\site-packages (from trio~=0.17->selenium) (3.2)\n",
      "Requirement already satisfied: sniffio in c:\\programdata\\anaconda3\\lib\\site-packages (from trio~=0.17->selenium) (1.2.0)\n",
      "Requirement already satisfied: attrs>=19.2.0 in c:\\programdata\\anaconda3\\lib\\site-packages (from trio~=0.17->selenium) (21.2.0)\n",
      "Requirement already satisfied: cffi>=1.14 in c:\\programdata\\anaconda3\\lib\\site-packages (from trio~=0.17->selenium) (1.14.6)\n",
      "Requirement already satisfied: async-generator>=1.9 in c:\\programdata\\anaconda3\\lib\\site-packages (from trio~=0.17->selenium) (1.10)\n",
      "Requirement already satisfied: pycparser in c:\\programdata\\anaconda3\\lib\\site-packages (from cffi>=1.14->trio~=0.17->selenium) (2.20)\n",
      "Requirement already satisfied: wsproto>=0.14 in c:\\programdata\\anaconda3\\lib\\site-packages (from trio-websocket~=0.9->selenium) (1.1.0)\n",
      "Requirement already satisfied: PySocks!=1.5.7,<2.0,>=1.5.6 in c:\\programdata\\anaconda3\\lib\\site-packages (from urllib3[secure,socks]~=1.26->selenium) (1.7.1)\n",
      "Requirement already satisfied: pyOpenSSL>=0.14 in c:\\programdata\\anaconda3\\lib\\site-packages (from urllib3[secure,socks]~=1.26->selenium) (21.0.0)\n",
      "Requirement already satisfied: cryptography>=1.3.4 in c:\\programdata\\anaconda3\\lib\\site-packages (from urllib3[secure,socks]~=1.26->selenium) (3.4.8)\n",
      "Requirement already satisfied: certifi in c:\\programdata\\anaconda3\\lib\\site-packages (from urllib3[secure,socks]~=1.26->selenium) (2021.10.8)\n",
      "Requirement already satisfied: six>=1.5.2 in c:\\programdata\\anaconda3\\lib\\site-packages (from pyOpenSSL>=0.14->urllib3[secure,socks]~=1.26->selenium) (1.16.0)\n",
      "Requirement already satisfied: h11<1,>=0.9.0 in c:\\programdata\\anaconda3\\lib\\site-packages (from wsproto>=0.14->trio-websocket~=0.9->selenium) (0.13.0)\n"
     ]
    }
   ],
   "source": [
    "! pip install selenium"
   ]
  },
  {
   "cell_type": "code",
   "execution_count": 100,
   "id": "ec1776a3",
   "metadata": {},
   "outputs": [],
   "source": [
    "import selenium\n",
    "from selenium import webdriver\n",
    "import pandas as pd\n",
    "import warnings\n",
    "warnings.filterwarnings(\"ignore\")\n",
    "import time"
   ]
  },
  {
   "cell_type": "code",
   "execution_count": 101,
   "id": "ecaf8634",
   "metadata": {},
   "outputs": [],
   "source": [
    "driver7 =webdriver.Chrome(r\"C:\\Web driver\\Chromedriver.exe\")"
   ]
  },
  {
   "cell_type": "code",
   "execution_count": 102,
   "id": "d2fa4246",
   "metadata": {},
   "outputs": [],
   "source": [
    "driver7.get('http://www.myntra.com/shoes')"
   ]
  },
  {
   "cell_type": "code",
   "execution_count": 103,
   "id": "ecf7a6e6",
   "metadata": {},
   "outputs": [],
   "source": [
    "price_filter = driver7.find_element_by_xpath(\"/html/body/div[2]/div/div[1]/main/div[3]/div[1]/section/div/div[5]/ul/li[2]/label/div\")\n",
    "price_filter.click()"
   ]
  },
  {
   "cell_type": "code",
   "execution_count": 104,
   "id": "2d75e9c2",
   "metadata": {},
   "outputs": [],
   "source": [
    "colour_filter = driver7.find_element_by_xpath(\"/html/body/div[2]/div/div[1]/main/div[3]/div[1]/section/div/div[6]/ul/li[1]/label/div\")\n",
    "colour_filter.click()"
   ]
  },
  {
   "cell_type": "code",
   "execution_count": 105,
   "id": "c566efff",
   "metadata": {},
   "outputs": [],
   "source": [
    "#creating empty list\n",
    "BRAND = []\n",
    "BRAND_DESCRIPTION = []\n",
    "PRICE = []"
   ]
  },
  {
   "cell_type": "code",
   "execution_count": 106,
   "id": "1604b8f8",
   "metadata": {},
   "outputs": [
    {
     "data": {
      "text/plain": [
       "[<selenium.webdriver.remote.webelement.WebElement (session=\"7cf828748f524366f52245d940d21aa1\", element=\"4b780df0-eb1c-4f69-8336-5c0cd4eb7509\")>,\n",
       " <selenium.webdriver.remote.webelement.WebElement (session=\"7cf828748f524366f52245d940d21aa1\", element=\"7a11b0d9-29f6-4506-912b-8e3c09a6ec32\")>,\n",
       " <selenium.webdriver.remote.webelement.WebElement (session=\"7cf828748f524366f52245d940d21aa1\", element=\"41e483ae-8fa0-4622-826f-e1048214694f\")>,\n",
       " <selenium.webdriver.remote.webelement.WebElement (session=\"7cf828748f524366f52245d940d21aa1\", element=\"bd59ebec-ec11-4190-a70c-52f389d10c94\")>,\n",
       " <selenium.webdriver.remote.webelement.WebElement (session=\"7cf828748f524366f52245d940d21aa1\", element=\"df43807f-0569-4e47-a98e-bc3a04099e28\")>,\n",
       " <selenium.webdriver.remote.webelement.WebElement (session=\"7cf828748f524366f52245d940d21aa1\", element=\"6393d311-e493-429d-80c7-e07b1caf2dc7\")>,\n",
       " <selenium.webdriver.remote.webelement.WebElement (session=\"7cf828748f524366f52245d940d21aa1\", element=\"f1ff459a-0ea8-481a-b12e-32e96b30a156\")>,\n",
       " <selenium.webdriver.remote.webelement.WebElement (session=\"7cf828748f524366f52245d940d21aa1\", element=\"05db27d3-0452-447b-92d1-89dbba0652c0\")>,\n",
       " <selenium.webdriver.remote.webelement.WebElement (session=\"7cf828748f524366f52245d940d21aa1\", element=\"f57ea0be-2df5-45d9-9632-3fb25bf7d0ea\")>,\n",
       " <selenium.webdriver.remote.webelement.WebElement (session=\"7cf828748f524366f52245d940d21aa1\", element=\"b85fd8fa-ae67-4deb-8043-4663948bda88\")>,\n",
       " <selenium.webdriver.remote.webelement.WebElement (session=\"7cf828748f524366f52245d940d21aa1\", element=\"df88318b-f710-40d1-abc1-a64a1885d083\")>,\n",
       " <selenium.webdriver.remote.webelement.WebElement (session=\"7cf828748f524366f52245d940d21aa1\", element=\"c43701a1-aa1b-4a5c-886c-a407feaea006\")>,\n",
       " <selenium.webdriver.remote.webelement.WebElement (session=\"7cf828748f524366f52245d940d21aa1\", element=\"8784f44b-bf58-479e-91d8-28abc0cb7dc1\")>,\n",
       " <selenium.webdriver.remote.webelement.WebElement (session=\"7cf828748f524366f52245d940d21aa1\", element=\"fafabdfe-456f-4d26-9950-1a69f109771e\")>,\n",
       " <selenium.webdriver.remote.webelement.WebElement (session=\"7cf828748f524366f52245d940d21aa1\", element=\"364d970e-b86d-493a-8f5e-419e5c9f751d\")>,\n",
       " <selenium.webdriver.remote.webelement.WebElement (session=\"7cf828748f524366f52245d940d21aa1\", element=\"d3e9a56c-9146-4e3a-92b7-5727f50b419b\")>,\n",
       " <selenium.webdriver.remote.webelement.WebElement (session=\"7cf828748f524366f52245d940d21aa1\", element=\"db0862c8-5dec-4d46-909d-7dd56f46efc6\")>,\n",
       " <selenium.webdriver.remote.webelement.WebElement (session=\"7cf828748f524366f52245d940d21aa1\", element=\"6d17a879-363a-4ec3-872c-82c1387efd78\")>,\n",
       " <selenium.webdriver.remote.webelement.WebElement (session=\"7cf828748f524366f52245d940d21aa1\", element=\"d3aa5a31-3512-42e6-8c50-e8f70ecb6e94\")>,\n",
       " <selenium.webdriver.remote.webelement.WebElement (session=\"7cf828748f524366f52245d940d21aa1\", element=\"0582b0b4-b542-4253-b41f-27aad7753500\")>,\n",
       " <selenium.webdriver.remote.webelement.WebElement (session=\"7cf828748f524366f52245d940d21aa1\", element=\"6c6cccd1-4fd3-4e4a-ab73-63e0f5cbf9e2\")>,\n",
       " <selenium.webdriver.remote.webelement.WebElement (session=\"7cf828748f524366f52245d940d21aa1\", element=\"4910d43c-e3c5-4b7d-83ba-1f31095ba70f\")>,\n",
       " <selenium.webdriver.remote.webelement.WebElement (session=\"7cf828748f524366f52245d940d21aa1\", element=\"19733a91-ece8-47b1-a1e2-1dfb09eeba1f\")>,\n",
       " <selenium.webdriver.remote.webelement.WebElement (session=\"7cf828748f524366f52245d940d21aa1\", element=\"c112061a-848b-49e1-8ef9-117a235f24b2\")>,\n",
       " <selenium.webdriver.remote.webelement.WebElement (session=\"7cf828748f524366f52245d940d21aa1\", element=\"03d03cff-8bba-4cb0-8c77-64a2b93a17ea\")>,\n",
       " <selenium.webdriver.remote.webelement.WebElement (session=\"7cf828748f524366f52245d940d21aa1\", element=\"bf04202e-63bf-4adb-9874-015cc7442088\")>,\n",
       " <selenium.webdriver.remote.webelement.WebElement (session=\"7cf828748f524366f52245d940d21aa1\", element=\"f0749b13-0478-4556-abee-3f0e124e34bd\")>,\n",
       " <selenium.webdriver.remote.webelement.WebElement (session=\"7cf828748f524366f52245d940d21aa1\", element=\"a5e9e120-3807-440d-bede-7781b0155807\")>,\n",
       " <selenium.webdriver.remote.webelement.WebElement (session=\"7cf828748f524366f52245d940d21aa1\", element=\"e97248ae-debe-4521-893f-8abe49bd6386\")>,\n",
       " <selenium.webdriver.remote.webelement.WebElement (session=\"7cf828748f524366f52245d940d21aa1\", element=\"1626e160-af3c-4e57-9c58-fe0dc9220122\")>,\n",
       " <selenium.webdriver.remote.webelement.WebElement (session=\"7cf828748f524366f52245d940d21aa1\", element=\"5eeae13c-d49a-4fd5-81b3-7a881f90a90b\")>,\n",
       " <selenium.webdriver.remote.webelement.WebElement (session=\"7cf828748f524366f52245d940d21aa1\", element=\"2137afc6-fd10-45e2-a3da-92820a33d76e\")>,\n",
       " <selenium.webdriver.remote.webelement.WebElement (session=\"7cf828748f524366f52245d940d21aa1\", element=\"50f3d045-136c-4a90-88e2-da2ab938ad86\")>,\n",
       " <selenium.webdriver.remote.webelement.WebElement (session=\"7cf828748f524366f52245d940d21aa1\", element=\"caca0f38-ac85-41d6-803b-2e3d89139c65\")>,\n",
       " <selenium.webdriver.remote.webelement.WebElement (session=\"7cf828748f524366f52245d940d21aa1\", element=\"42e3e636-dc4f-490b-a9f8-876f406885e2\")>,\n",
       " <selenium.webdriver.remote.webelement.WebElement (session=\"7cf828748f524366f52245d940d21aa1\", element=\"b5aafb4b-4e56-446c-98e7-ec26042347d2\")>,\n",
       " <selenium.webdriver.remote.webelement.WebElement (session=\"7cf828748f524366f52245d940d21aa1\", element=\"dcd69979-c6e0-4c4f-b060-5dd2b7bd48be\")>,\n",
       " <selenium.webdriver.remote.webelement.WebElement (session=\"7cf828748f524366f52245d940d21aa1\", element=\"df9aa391-3eb3-4f55-8d59-3af167b628af\")>,\n",
       " <selenium.webdriver.remote.webelement.WebElement (session=\"7cf828748f524366f52245d940d21aa1\", element=\"1ef9d00b-d407-4b58-a511-7d453a57b682\")>,\n",
       " <selenium.webdriver.remote.webelement.WebElement (session=\"7cf828748f524366f52245d940d21aa1\", element=\"2b51b091-39aa-4a2d-acf6-bd33df5c8141\")>,\n",
       " <selenium.webdriver.remote.webelement.WebElement (session=\"7cf828748f524366f52245d940d21aa1\", element=\"71521d12-8570-4933-8faa-32a2cf6944cd\")>,\n",
       " <selenium.webdriver.remote.webelement.WebElement (session=\"7cf828748f524366f52245d940d21aa1\", element=\"74eab404-7114-4331-aff4-d045ceb29b39\")>,\n",
       " <selenium.webdriver.remote.webelement.WebElement (session=\"7cf828748f524366f52245d940d21aa1\", element=\"0f1895ac-6b9b-42b7-820c-56fae64fab19\")>,\n",
       " <selenium.webdriver.remote.webelement.WebElement (session=\"7cf828748f524366f52245d940d21aa1\", element=\"948bdbf1-9941-4d48-8445-6dccd05db685\")>,\n",
       " <selenium.webdriver.remote.webelement.WebElement (session=\"7cf828748f524366f52245d940d21aa1\", element=\"955e8afa-3c31-45d4-91c7-43545693f07d\")>,\n",
       " <selenium.webdriver.remote.webelement.WebElement (session=\"7cf828748f524366f52245d940d21aa1\", element=\"7f52da9c-4a8a-4b1d-b7f0-51516634b798\")>,\n",
       " <selenium.webdriver.remote.webelement.WebElement (session=\"7cf828748f524366f52245d940d21aa1\", element=\"bc78c5be-aac5-459e-85d7-493ba410fdf7\")>,\n",
       " <selenium.webdriver.remote.webelement.WebElement (session=\"7cf828748f524366f52245d940d21aa1\", element=\"fa0b7f43-ff0c-4bb6-b2a4-67150cefab92\")>,\n",
       " <selenium.webdriver.remote.webelement.WebElement (session=\"7cf828748f524366f52245d940d21aa1\", element=\"c90fab23-05bf-4f7b-ab07-7ab95f90d1e0\")>,\n",
       " <selenium.webdriver.remote.webelement.WebElement (session=\"7cf828748f524366f52245d940d21aa1\", element=\"4539c908-49bb-441b-b43c-19a53441f900\")>]"
      ]
     },
     "execution_count": 106,
     "metadata": {},
     "output_type": "execute_result"
    }
   ],
   "source": [
    "brand = driver7.find_elements_by_xpath(\"//h3[@class='product-brand']\")\n",
    "brand"
   ]
  },
  {
   "cell_type": "code",
   "execution_count": 107,
   "id": "482893a3",
   "metadata": {},
   "outputs": [
    {
     "data": {
      "text/plain": [
       "['ALDO',\n",
       " 'ALDO',\n",
       " 'ALDO',\n",
       " 'Skechers',\n",
       " 'UNDER ARMOUR',\n",
       " 'Nike',\n",
       " 'ALDO',\n",
       " 'one8 x PUMA',\n",
       " 'Puma',\n",
       " 'Puma',\n",
       " 'UNDER ARMOUR',\n",
       " 'Skechers',\n",
       " 'UNDER ARMOUR',\n",
       " 'Skechers',\n",
       " 'Skechers',\n",
       " 'UNDER ARMOUR',\n",
       " 'Hush Puppies',\n",
       " 'ALDO',\n",
       " 'ALDO',\n",
       " 'PUMA Motorsport',\n",
       " 'UNDER ARMOUR',\n",
       " 'Puma',\n",
       " 'Puma',\n",
       " 'Skechers',\n",
       " 'Hush Puppies',\n",
       " 'Nike',\n",
       " 'Puma',\n",
       " 'UNDER ARMOUR',\n",
       " 'MANGO',\n",
       " 'ADIDAS Originals',\n",
       " 'UNDER ARMOUR',\n",
       " 'DAVINCHI',\n",
       " 'Puma',\n",
       " 'Geox',\n",
       " 'PUMA Motorsport',\n",
       " 'Puma',\n",
       " 'Puma',\n",
       " 'Puma',\n",
       " 'PUMA Motorsport',\n",
       " 'Tommy Hilfiger',\n",
       " 'PUMA Motorsport',\n",
       " 'Nike',\n",
       " 'Puma',\n",
       " 'ASICS',\n",
       " 'UNDER ARMOUR',\n",
       " 'ADIDAS',\n",
       " 'Geox',\n",
       " 'PUMA Motorsport',\n",
       " 'Tommy Hilfiger',\n",
       " 'Louis Philippe']"
      ]
     },
     "execution_count": 107,
     "metadata": {},
     "output_type": "execute_result"
    }
   ],
   "source": [
    "for i in brand:\n",
    "    b = i.text\n",
    "    BRAND.append(b)\n",
    "BRAND"
   ]
  },
  {
   "cell_type": "code",
   "execution_count": 108,
   "id": "8db35732",
   "metadata": {},
   "outputs": [
    {
     "data": {
      "text/plain": [
       "[<selenium.webdriver.remote.webelement.WebElement (session=\"7cf828748f524366f52245d940d21aa1\", element=\"60c81cc8-c5aa-48d0-9df7-ea2ec2c3a6e2\")>,\n",
       " <selenium.webdriver.remote.webelement.WebElement (session=\"7cf828748f524366f52245d940d21aa1\", element=\"05333c55-8eb2-4249-bbc7-3551ddf193eb\")>,\n",
       " <selenium.webdriver.remote.webelement.WebElement (session=\"7cf828748f524366f52245d940d21aa1\", element=\"b72609c1-215b-4054-904c-727b110bedf6\")>,\n",
       " <selenium.webdriver.remote.webelement.WebElement (session=\"7cf828748f524366f52245d940d21aa1\", element=\"2580f380-725c-4387-8a2e-a4de7c0471a2\")>,\n",
       " <selenium.webdriver.remote.webelement.WebElement (session=\"7cf828748f524366f52245d940d21aa1\", element=\"1fb0ffd2-550e-42c2-9b13-9995920888eb\")>,\n",
       " <selenium.webdriver.remote.webelement.WebElement (session=\"7cf828748f524366f52245d940d21aa1\", element=\"5d275848-ab57-4a3a-a647-e668c0cf00cb\")>,\n",
       " <selenium.webdriver.remote.webelement.WebElement (session=\"7cf828748f524366f52245d940d21aa1\", element=\"20caf3bc-8777-44bd-94d2-9f0a613abec2\")>,\n",
       " <selenium.webdriver.remote.webelement.WebElement (session=\"7cf828748f524366f52245d940d21aa1\", element=\"f1ecc094-2efc-4676-affb-399433c7c2ec\")>,\n",
       " <selenium.webdriver.remote.webelement.WebElement (session=\"7cf828748f524366f52245d940d21aa1\", element=\"1961560c-0eb5-468f-8316-c9449a6236a0\")>,\n",
       " <selenium.webdriver.remote.webelement.WebElement (session=\"7cf828748f524366f52245d940d21aa1\", element=\"74044f78-df84-49b8-bd16-ee1b5b625d67\")>,\n",
       " <selenium.webdriver.remote.webelement.WebElement (session=\"7cf828748f524366f52245d940d21aa1\", element=\"5929d8e1-06a7-43ac-8c6b-ed1590ff62b2\")>,\n",
       " <selenium.webdriver.remote.webelement.WebElement (session=\"7cf828748f524366f52245d940d21aa1\", element=\"57737cae-6d9a-45a9-9a85-2299766a674a\")>,\n",
       " <selenium.webdriver.remote.webelement.WebElement (session=\"7cf828748f524366f52245d940d21aa1\", element=\"0c85b1dc-f652-463e-8c7e-7f5031a546c3\")>,\n",
       " <selenium.webdriver.remote.webelement.WebElement (session=\"7cf828748f524366f52245d940d21aa1\", element=\"5563dd1f-f0f9-4d74-88d1-a7e5036e6f13\")>,\n",
       " <selenium.webdriver.remote.webelement.WebElement (session=\"7cf828748f524366f52245d940d21aa1\", element=\"b84c1d36-740b-42d0-a057-a51a54bc132f\")>,\n",
       " <selenium.webdriver.remote.webelement.WebElement (session=\"7cf828748f524366f52245d940d21aa1\", element=\"a0885588-6820-450a-a885-a2af80558e19\")>,\n",
       " <selenium.webdriver.remote.webelement.WebElement (session=\"7cf828748f524366f52245d940d21aa1\", element=\"d342dab0-38db-42df-b942-2c46f5ba2f4f\")>,\n",
       " <selenium.webdriver.remote.webelement.WebElement (session=\"7cf828748f524366f52245d940d21aa1\", element=\"3b4a4f8d-2777-41d7-ae8c-e2bce2880c75\")>,\n",
       " <selenium.webdriver.remote.webelement.WebElement (session=\"7cf828748f524366f52245d940d21aa1\", element=\"32847f46-51f0-40cb-a0c5-509fb23a3905\")>,\n",
       " <selenium.webdriver.remote.webelement.WebElement (session=\"7cf828748f524366f52245d940d21aa1\", element=\"cc1f7edc-2e13-4ab1-9be6-8b5f231cb12c\")>,\n",
       " <selenium.webdriver.remote.webelement.WebElement (session=\"7cf828748f524366f52245d940d21aa1\", element=\"e9b75c82-e014-45f9-bb3d-9d16fc153223\")>,\n",
       " <selenium.webdriver.remote.webelement.WebElement (session=\"7cf828748f524366f52245d940d21aa1\", element=\"48ed5d22-cb4d-4263-9bf7-d7af00a5e27d\")>,\n",
       " <selenium.webdriver.remote.webelement.WebElement (session=\"7cf828748f524366f52245d940d21aa1\", element=\"95d91ac9-2a69-43d3-8250-86403035e49c\")>,\n",
       " <selenium.webdriver.remote.webelement.WebElement (session=\"7cf828748f524366f52245d940d21aa1\", element=\"ea600fc9-3bc8-47aa-8ed5-f0afe915ea52\")>,\n",
       " <selenium.webdriver.remote.webelement.WebElement (session=\"7cf828748f524366f52245d940d21aa1\", element=\"ac0c63aa-98f5-44b5-ae34-150c92827562\")>,\n",
       " <selenium.webdriver.remote.webelement.WebElement (session=\"7cf828748f524366f52245d940d21aa1\", element=\"e1739dfe-a665-488b-8099-c24d8ef488b5\")>,\n",
       " <selenium.webdriver.remote.webelement.WebElement (session=\"7cf828748f524366f52245d940d21aa1\", element=\"65455584-67d6-4ee3-9e6c-a7471b79362f\")>,\n",
       " <selenium.webdriver.remote.webelement.WebElement (session=\"7cf828748f524366f52245d940d21aa1\", element=\"59593db4-baa9-4aad-b239-2b6947906e02\")>,\n",
       " <selenium.webdriver.remote.webelement.WebElement (session=\"7cf828748f524366f52245d940d21aa1\", element=\"dff68197-2e43-48d6-8265-d2c40f6b41d3\")>,\n",
       " <selenium.webdriver.remote.webelement.WebElement (session=\"7cf828748f524366f52245d940d21aa1\", element=\"0b2810ae-82ba-4b88-af02-eda3589cf831\")>,\n",
       " <selenium.webdriver.remote.webelement.WebElement (session=\"7cf828748f524366f52245d940d21aa1\", element=\"4ba85df1-58f9-4805-8619-626e2d1a86cd\")>,\n",
       " <selenium.webdriver.remote.webelement.WebElement (session=\"7cf828748f524366f52245d940d21aa1\", element=\"d34feea5-df4a-4127-a982-e20dbeee0bc4\")>,\n",
       " <selenium.webdriver.remote.webelement.WebElement (session=\"7cf828748f524366f52245d940d21aa1\", element=\"83270409-0359-4b7c-a7da-8893c934ca1e\")>,\n",
       " <selenium.webdriver.remote.webelement.WebElement (session=\"7cf828748f524366f52245d940d21aa1\", element=\"b8aaa741-348b-48bf-98de-9199724b82d9\")>,\n",
       " <selenium.webdriver.remote.webelement.WebElement (session=\"7cf828748f524366f52245d940d21aa1\", element=\"341fc2d1-0d53-4e47-8175-d4e2b42d5922\")>,\n",
       " <selenium.webdriver.remote.webelement.WebElement (session=\"7cf828748f524366f52245d940d21aa1\", element=\"5fcb82d8-615c-4de2-bd32-87ede5ef8930\")>,\n",
       " <selenium.webdriver.remote.webelement.WebElement (session=\"7cf828748f524366f52245d940d21aa1\", element=\"25f594ca-5761-47a7-9bc4-dd4ec10b38ba\")>,\n",
       " <selenium.webdriver.remote.webelement.WebElement (session=\"7cf828748f524366f52245d940d21aa1\", element=\"3229b727-09ee-458b-80b1-27f784748b13\")>,\n",
       " <selenium.webdriver.remote.webelement.WebElement (session=\"7cf828748f524366f52245d940d21aa1\", element=\"abc5806c-0b10-4e57-909a-21a23328148f\")>,\n",
       " <selenium.webdriver.remote.webelement.WebElement (session=\"7cf828748f524366f52245d940d21aa1\", element=\"ec8176ac-dd90-460d-927d-7efb7940843d\")>,\n",
       " <selenium.webdriver.remote.webelement.WebElement (session=\"7cf828748f524366f52245d940d21aa1\", element=\"32afd526-a498-48ac-90e0-a7cd1e1117a7\")>,\n",
       " <selenium.webdriver.remote.webelement.WebElement (session=\"7cf828748f524366f52245d940d21aa1\", element=\"fa3c87a7-0e6d-48e0-bbbe-3ecb2f73a3ed\")>,\n",
       " <selenium.webdriver.remote.webelement.WebElement (session=\"7cf828748f524366f52245d940d21aa1\", element=\"a40cdeea-7815-4fe8-8639-7214aabaf74f\")>,\n",
       " <selenium.webdriver.remote.webelement.WebElement (session=\"7cf828748f524366f52245d940d21aa1\", element=\"1e661b08-87f5-4958-8dad-ce7762c6b4d6\")>,\n",
       " <selenium.webdriver.remote.webelement.WebElement (session=\"7cf828748f524366f52245d940d21aa1\", element=\"ed711a68-5990-466c-adc1-dd58925ac3ec\")>,\n",
       " <selenium.webdriver.remote.webelement.WebElement (session=\"7cf828748f524366f52245d940d21aa1\", element=\"5ab00f6b-925c-408e-b8e3-384234d8595d\")>,\n",
       " <selenium.webdriver.remote.webelement.WebElement (session=\"7cf828748f524366f52245d940d21aa1\", element=\"3b307aaf-5a9f-4b72-bb40-617764d2955c\")>,\n",
       " <selenium.webdriver.remote.webelement.WebElement (session=\"7cf828748f524366f52245d940d21aa1\", element=\"7640362e-9d34-40e5-9087-b7c544c7c7be\")>,\n",
       " <selenium.webdriver.remote.webelement.WebElement (session=\"7cf828748f524366f52245d940d21aa1\", element=\"1eab37db-4462-4cbe-b11a-7b4a12e5c3c6\")>,\n",
       " <selenium.webdriver.remote.webelement.WebElement (session=\"7cf828748f524366f52245d940d21aa1\", element=\"d7b12d8f-332a-47ea-99b1-0bef26f01b30\")>]"
      ]
     },
     "execution_count": 108,
     "metadata": {},
     "output_type": "execute_result"
    }
   ],
   "source": [
    "description = driver7.find_elements_by_xpath(\"//h4[@class='product-product']\")\n",
    "description"
   ]
  },
  {
   "cell_type": "code",
   "execution_count": 111,
   "id": "be5e66aa",
   "metadata": {},
   "outputs": [
    {
     "data": {
      "text/plain": [
       "['Men Leather Driving Shoes',\n",
       " 'Men Woven Design Sneakers',\n",
       " 'Men Textured Slip-On Sneakers',\n",
       " 'Men Max Cushioning Running',\n",
       " 'Men Vantage 2 Running Shoes',\n",
       " 'Women React MR 3 Running Shoes',\n",
       " 'Men Sneakers',\n",
       " 'Men Fuse One8 Training Shoes',\n",
       " 'Men Jamming 2.0 Running Shoes',\n",
       " 'Men Colourblocked RS-Z Core',\n",
       " 'Men Charged Rouge 3 Run Shoes',\n",
       " 'Men MAX CUSHIONING ELITE-LUCID',\n",
       " 'Men UA Charged Breeze Training',\n",
       " 'Men Sky Vault Walking Shoes',\n",
       " 'Men Go Walk 5 Walking Shoes',\n",
       " 'Unisex Project Rock Training',\n",
       " 'Men Solid Leather Formal Slip-Ons',\n",
       " 'Men Textured Sneakers',\n",
       " 'Men Leather Loafers',\n",
       " 'Unisex Ferrari IONSpeed',\n",
       " 'Women Breeze Running Shoes',\n",
       " 'Men Deviate Nitro Shoes',\n",
       " 'Eternity Nitro Running Shoes',\n",
       " 'Men Walking Shoes',\n",
       " 'Men Formal Derbys',\n",
       " 'Men Air Max Dawn Sneakers',\n",
       " 'Men D Nitro WTR Running Shoes',\n",
       " 'Men UA TriBase Reign4 Training',\n",
       " 'Women Solid Sneakers',\n",
       " 'Men Solid Ozweego Sneakers',\n",
       " 'Men UA Charged Vantage 2 Run',\n",
       " 'Men Solid Leather Formal Loafers',\n",
       " 'Unisex Leather Sneakers',\n",
       " 'Men Textured Leather Driving Shoes',\n",
       " 'Unisex Leather Sneakers',\n",
       " 'Men M Nitro Running Shoess',\n",
       " 'Men Training or Gym Shoes',\n",
       " 'Unisex Leather Trainers',\n",
       " 'Men BMW MMS R-Cat Sneakers',\n",
       " 'Men Leather Sneakers',\n",
       " 'Unisex Ferrari Drift Cat Delta',\n",
       " 'Men AIR MAX PRE-DAY Sneakers',\n",
       " 'Women Running Sports Shoes',\n",
       " 'Men Running Shoes',\n",
       " 'Men Charged Breeze Running',\n",
       " 'Men FutureFlow 2.0 Run Shoes',\n",
       " 'Men Textured Leather Driving Shoes',\n",
       " 'Men MAPF1 X-Ray Speed Sneakers',\n",
       " 'Men Flexi Sneakers',\n",
       " 'Men Solid Leather Formal Loafers']"
      ]
     },
     "execution_count": 111,
     "metadata": {},
     "output_type": "execute_result"
    }
   ],
   "source": [
    "for i in description:\n",
    "    d = i.text\n",
    "    BRAND_DESCRIPTION.append(d)\n",
    "BRAND_DESCRIPTION    "
   ]
  },
  {
   "cell_type": "code",
   "execution_count": 113,
   "id": "2157c415",
   "metadata": {},
   "outputs": [
    {
     "data": {
      "text/plain": [
       "[<selenium.webdriver.remote.webelement.WebElement (session=\"7cf828748f524366f52245d940d21aa1\", element=\"492848db-2577-4f9c-81ea-035581f04280\")>,\n",
       " <selenium.webdriver.remote.webelement.WebElement (session=\"7cf828748f524366f52245d940d21aa1\", element=\"0c90a27a-5e3a-4f7a-896e-c66db2d52aee\")>,\n",
       " <selenium.webdriver.remote.webelement.WebElement (session=\"7cf828748f524366f52245d940d21aa1\", element=\"189d49ef-a86b-4e17-a754-bb4e5cd0d83f\")>,\n",
       " <selenium.webdriver.remote.webelement.WebElement (session=\"7cf828748f524366f52245d940d21aa1\", element=\"be5d54ce-0dfd-47c2-90f8-8c4bada0321b\")>,\n",
       " <selenium.webdriver.remote.webelement.WebElement (session=\"7cf828748f524366f52245d940d21aa1\", element=\"180e5cbd-df52-4f0c-a743-e17daa0bba43\")>,\n",
       " <selenium.webdriver.remote.webelement.WebElement (session=\"7cf828748f524366f52245d940d21aa1\", element=\"ef17eea0-21e9-49d7-9968-425ef5792dd7\")>,\n",
       " <selenium.webdriver.remote.webelement.WebElement (session=\"7cf828748f524366f52245d940d21aa1\", element=\"74fe2fc4-4344-4972-aedd-f1856e283a26\")>,\n",
       " <selenium.webdriver.remote.webelement.WebElement (session=\"7cf828748f524366f52245d940d21aa1\", element=\"64e39341-b405-4489-80dc-9041fc705868\")>,\n",
       " <selenium.webdriver.remote.webelement.WebElement (session=\"7cf828748f524366f52245d940d21aa1\", element=\"1d5b1115-a77f-40fc-b8d5-c602ddd0bc15\")>,\n",
       " <selenium.webdriver.remote.webelement.WebElement (session=\"7cf828748f524366f52245d940d21aa1\", element=\"d697d1d1-54ba-4f29-84c9-34776133ce8a\")>,\n",
       " <selenium.webdriver.remote.webelement.WebElement (session=\"7cf828748f524366f52245d940d21aa1\", element=\"b7ccdc21-a3e8-45c4-b76b-8b81ca1dda33\")>,\n",
       " <selenium.webdriver.remote.webelement.WebElement (session=\"7cf828748f524366f52245d940d21aa1\", element=\"8f12a95c-8cbf-42f8-8a91-6b9a7865b2ce\")>,\n",
       " <selenium.webdriver.remote.webelement.WebElement (session=\"7cf828748f524366f52245d940d21aa1\", element=\"044171d4-714e-4569-8978-3612498cb17f\")>,\n",
       " <selenium.webdriver.remote.webelement.WebElement (session=\"7cf828748f524366f52245d940d21aa1\", element=\"1eed1043-e90f-4675-b2dd-887945f99dd2\")>,\n",
       " <selenium.webdriver.remote.webelement.WebElement (session=\"7cf828748f524366f52245d940d21aa1\", element=\"84b781eb-c9e2-4035-9f6c-43f551d15d29\")>,\n",
       " <selenium.webdriver.remote.webelement.WebElement (session=\"7cf828748f524366f52245d940d21aa1\", element=\"3bf1fc1d-c292-4db2-9620-785afe3fc69a\")>,\n",
       " <selenium.webdriver.remote.webelement.WebElement (session=\"7cf828748f524366f52245d940d21aa1\", element=\"6b030d9a-3d6a-45f0-ae1a-180a1f341d5e\")>,\n",
       " <selenium.webdriver.remote.webelement.WebElement (session=\"7cf828748f524366f52245d940d21aa1\", element=\"ba8f0f8d-7ba3-4a6e-9bd0-212325dc0009\")>,\n",
       " <selenium.webdriver.remote.webelement.WebElement (session=\"7cf828748f524366f52245d940d21aa1\", element=\"23453a4f-a34e-4106-b1f0-eeffc3ab3b78\")>,\n",
       " <selenium.webdriver.remote.webelement.WebElement (session=\"7cf828748f524366f52245d940d21aa1\", element=\"0131e33a-eab0-4db5-9f9f-83ad4a67532f\")>,\n",
       " <selenium.webdriver.remote.webelement.WebElement (session=\"7cf828748f524366f52245d940d21aa1\", element=\"9f2f2c83-0012-4692-a557-790c6f3550cf\")>,\n",
       " <selenium.webdriver.remote.webelement.WebElement (session=\"7cf828748f524366f52245d940d21aa1\", element=\"f8ae0f1d-5cf0-40c0-b77c-5073afba2869\")>,\n",
       " <selenium.webdriver.remote.webelement.WebElement (session=\"7cf828748f524366f52245d940d21aa1\", element=\"7b4aa6f3-9eec-4421-82c1-16d9a024ba4f\")>,\n",
       " <selenium.webdriver.remote.webelement.WebElement (session=\"7cf828748f524366f52245d940d21aa1\", element=\"dd23e874-9b0a-4059-bc92-0d7e15222f07\")>,\n",
       " <selenium.webdriver.remote.webelement.WebElement (session=\"7cf828748f524366f52245d940d21aa1\", element=\"722f33de-aeb9-41bb-a9dc-e0f19af35bb8\")>,\n",
       " <selenium.webdriver.remote.webelement.WebElement (session=\"7cf828748f524366f52245d940d21aa1\", element=\"3c2cf6d8-8729-4ae2-8be1-4c5acb731868\")>,\n",
       " <selenium.webdriver.remote.webelement.WebElement (session=\"7cf828748f524366f52245d940d21aa1\", element=\"9333f83b-bbf2-4a02-8cc0-5b2085a0141c\")>,\n",
       " <selenium.webdriver.remote.webelement.WebElement (session=\"7cf828748f524366f52245d940d21aa1\", element=\"7fff435b-2580-4563-adaa-818c6e32f316\")>,\n",
       " <selenium.webdriver.remote.webelement.WebElement (session=\"7cf828748f524366f52245d940d21aa1\", element=\"e1feb77b-cce6-4c71-830a-edd1bec53bc0\")>,\n",
       " <selenium.webdriver.remote.webelement.WebElement (session=\"7cf828748f524366f52245d940d21aa1\", element=\"2e1e615f-0e1f-44dd-9354-8d959c4d7ea3\")>,\n",
       " <selenium.webdriver.remote.webelement.WebElement (session=\"7cf828748f524366f52245d940d21aa1\", element=\"8bede396-b5c2-40d2-80ed-94b015a05d25\")>,\n",
       " <selenium.webdriver.remote.webelement.WebElement (session=\"7cf828748f524366f52245d940d21aa1\", element=\"be6052e2-a34f-497e-806e-6e7263b43b7b\")>,\n",
       " <selenium.webdriver.remote.webelement.WebElement (session=\"7cf828748f524366f52245d940d21aa1\", element=\"9a40a32b-14f2-4849-83e4-dd72ed36c98c\")>,\n",
       " <selenium.webdriver.remote.webelement.WebElement (session=\"7cf828748f524366f52245d940d21aa1\", element=\"474a2d5f-976e-4b03-8965-e9116169930c\")>,\n",
       " <selenium.webdriver.remote.webelement.WebElement (session=\"7cf828748f524366f52245d940d21aa1\", element=\"a319b19b-16e4-4578-94f3-08e7be209aab\")>,\n",
       " <selenium.webdriver.remote.webelement.WebElement (session=\"7cf828748f524366f52245d940d21aa1\", element=\"7c71b050-cd58-43cc-b1d4-c6f2fbc6f037\")>,\n",
       " <selenium.webdriver.remote.webelement.WebElement (session=\"7cf828748f524366f52245d940d21aa1\", element=\"7aa6fbad-5425-46da-bb7a-9d6025165b2e\")>,\n",
       " <selenium.webdriver.remote.webelement.WebElement (session=\"7cf828748f524366f52245d940d21aa1\", element=\"a334301d-78c7-49f0-8d67-cb1f0bdfeac8\")>,\n",
       " <selenium.webdriver.remote.webelement.WebElement (session=\"7cf828748f524366f52245d940d21aa1\", element=\"e5692c81-8422-4f6c-be35-48398fea5b82\")>,\n",
       " <selenium.webdriver.remote.webelement.WebElement (session=\"7cf828748f524366f52245d940d21aa1\", element=\"2dcfa0d4-193d-487f-a77c-952d6230b981\")>,\n",
       " <selenium.webdriver.remote.webelement.WebElement (session=\"7cf828748f524366f52245d940d21aa1\", element=\"ded19d48-e066-4246-820f-c42c452ed801\")>,\n",
       " <selenium.webdriver.remote.webelement.WebElement (session=\"7cf828748f524366f52245d940d21aa1\", element=\"dd77c61c-9f01-4c79-bf37-a1df81fbb68e\")>,\n",
       " <selenium.webdriver.remote.webelement.WebElement (session=\"7cf828748f524366f52245d940d21aa1\", element=\"8228f654-9b61-47c7-bbaf-0d0afd37b045\")>,\n",
       " <selenium.webdriver.remote.webelement.WebElement (session=\"7cf828748f524366f52245d940d21aa1\", element=\"ae32301b-a9d8-4bc9-98cf-f52cbe4d498d\")>,\n",
       " <selenium.webdriver.remote.webelement.WebElement (session=\"7cf828748f524366f52245d940d21aa1\", element=\"d3a2fecb-f9e6-449c-9218-e4ea5a9bc882\")>,\n",
       " <selenium.webdriver.remote.webelement.WebElement (session=\"7cf828748f524366f52245d940d21aa1\", element=\"fabdc38c-cb34-46b8-ae88-dffaf837ed1a\")>,\n",
       " <selenium.webdriver.remote.webelement.WebElement (session=\"7cf828748f524366f52245d940d21aa1\", element=\"9a0dfa53-ca6c-47c1-91ca-5c5632423b0c\")>,\n",
       " <selenium.webdriver.remote.webelement.WebElement (session=\"7cf828748f524366f52245d940d21aa1\", element=\"381112bd-eb0d-40d7-8e45-f42a086710e4\")>,\n",
       " <selenium.webdriver.remote.webelement.WebElement (session=\"7cf828748f524366f52245d940d21aa1\", element=\"a7f45a97-9cec-4cfd-b63a-2690fd6ed32c\")>,\n",
       " <selenium.webdriver.remote.webelement.WebElement (session=\"7cf828748f524366f52245d940d21aa1\", element=\"d95523f0-c3b5-4741-a399-5f97cb484de6\")>]"
      ]
     },
     "execution_count": 113,
     "metadata": {},
     "output_type": "execute_result"
    }
   ],
   "source": [
    "price = driver7.find_elements_by_xpath(\"//div[@class='product-price']\")\n",
    "price"
   ]
  },
  {
   "cell_type": "code",
   "execution_count": 114,
   "id": "8f281b47",
   "metadata": {},
   "outputs": [
    {
     "data": {
      "text/plain": [
       "['Rs. 12999',\n",
       " 'Rs. 13999',\n",
       " 'Rs. 12999',\n",
       " 'Rs. 7649Rs. 8999(15% OFF)',\n",
       " 'Rs. 7999',\n",
       " 'Rs. 8920Rs. 10495(15% OFF)',\n",
       " 'Rs. 9999',\n",
       " 'Rs. 7999',\n",
       " 'Rs. 11049Rs. 12999(15% OFF)',\n",
       " 'Rs. 9999',\n",
       " 'Rs. 7999',\n",
       " 'Rs. 8074Rs. 9499(15% OFF)',\n",
       " 'Rs. 8999',\n",
       " 'Rs. 7649Rs. 8999(15% OFF)',\n",
       " 'Rs. 7224Rs. 8499(15% OFF)',\n",
       " 'Rs. 9999',\n",
       " 'Rs. 7649Rs. 8999(15% OFF)',\n",
       " 'Rs. 10999',\n",
       " 'Rs. 12999',\n",
       " 'Rs. 8999',\n",
       " 'Rs. 8999',\n",
       " 'Rs. 12749Rs. 14999(15% OFF)',\n",
       " 'Rs. 11049Rs. 12999(15% OFF)',\n",
       " 'Rs. 7199Rs. 8999(20% OFF)',\n",
       " 'Rs. 8499Rs. 9999(15% OFF)',\n",
       " 'Rs. 9295',\n",
       " 'Rs. 13599Rs. 15999(15% OFF)',\n",
       " 'Rs. 11999',\n",
       " 'Rs. 7641Rs. 8990(15% OFF)',\n",
       " 'Rs. 9899Rs. 10999(10% OFF)',\n",
       " 'Rs. 7999',\n",
       " 'Rs. 8490',\n",
       " 'Rs. 8499Rs. 9999(15% OFF)',\n",
       " 'Rs. 10490',\n",
       " 'Rs. 7999',\n",
       " 'Rs. 11049Rs. 12999(15% OFF)',\n",
       " 'Rs. 7999',\n",
       " 'Rs. 8499Rs. 9999(15% OFF)',\n",
       " 'Rs. 7499',\n",
       " 'Rs. 7739Rs. 8599(10% OFF)',\n",
       " 'Rs. 7999',\n",
       " 'Rs. 13995',\n",
       " 'Rs. 12749Rs. 14999(15% OFF)',\n",
       " 'Rs. 7999',\n",
       " 'Rs. 8999',\n",
       " 'Rs. 7999',\n",
       " 'Rs. 10990',\n",
       " 'Rs. 8999',\n",
       " 'Rs. 7199Rs. 7999(10% OFF)',\n",
       " 'Rs. 9999']"
      ]
     },
     "execution_count": 114,
     "metadata": {},
     "output_type": "execute_result"
    }
   ],
   "source": [
    "for i in price:\n",
    "    p = i.text\n",
    "    PRICE.append(p)\n",
    "PRICE    "
   ]
  },
  {
   "cell_type": "code",
   "execution_count": 116,
   "id": "b03d4be5",
   "metadata": {},
   "outputs": [
    {
     "name": "stdout",
     "output_type": "stream",
     "text": [
      "50 50 50\n"
     ]
    }
   ],
   "source": [
    "print(len(BRAND),len(BRAND_DESCRIPTION),len(PRICE))"
   ]
  },
  {
   "cell_type": "code",
   "execution_count": 117,
   "id": "dd425e8c",
   "metadata": {},
   "outputs": [],
   "source": [
    "SHOES = pd.DataFrame({})\n",
    "SHOES['Brand'] = BRAND\n",
    "SHOES['Brand_Description'] = BRAND_DESCRIPTION\n",
    "SHOES['Price'] = PRICE"
   ]
  },
  {
   "cell_type": "code",
   "execution_count": 118,
   "id": "1dd3ed9e",
   "metadata": {},
   "outputs": [
    {
     "data": {
      "text/html": [
       "<div>\n",
       "<style scoped>\n",
       "    .dataframe tbody tr th:only-of-type {\n",
       "        vertical-align: middle;\n",
       "    }\n",
       "\n",
       "    .dataframe tbody tr th {\n",
       "        vertical-align: top;\n",
       "    }\n",
       "\n",
       "    .dataframe thead th {\n",
       "        text-align: right;\n",
       "    }\n",
       "</style>\n",
       "<table border=\"1\" class=\"dataframe\">\n",
       "  <thead>\n",
       "    <tr style=\"text-align: right;\">\n",
       "      <th></th>\n",
       "      <th>Brand</th>\n",
       "      <th>Brand_Description</th>\n",
       "      <th>Price</th>\n",
       "    </tr>\n",
       "  </thead>\n",
       "  <tbody>\n",
       "    <tr>\n",
       "      <th>0</th>\n",
       "      <td>ALDO</td>\n",
       "      <td>Men Leather Driving Shoes</td>\n",
       "      <td>Rs. 12999</td>\n",
       "    </tr>\n",
       "    <tr>\n",
       "      <th>1</th>\n",
       "      <td>ALDO</td>\n",
       "      <td>Men Woven Design Sneakers</td>\n",
       "      <td>Rs. 13999</td>\n",
       "    </tr>\n",
       "    <tr>\n",
       "      <th>2</th>\n",
       "      <td>ALDO</td>\n",
       "      <td>Men Textured Slip-On Sneakers</td>\n",
       "      <td>Rs. 12999</td>\n",
       "    </tr>\n",
       "    <tr>\n",
       "      <th>3</th>\n",
       "      <td>Skechers</td>\n",
       "      <td>Men Max Cushioning Running</td>\n",
       "      <td>Rs. 7649Rs. 8999(15% OFF)</td>\n",
       "    </tr>\n",
       "    <tr>\n",
       "      <th>4</th>\n",
       "      <td>UNDER ARMOUR</td>\n",
       "      <td>Men Vantage 2 Running Shoes</td>\n",
       "      <td>Rs. 7999</td>\n",
       "    </tr>\n",
       "    <tr>\n",
       "      <th>5</th>\n",
       "      <td>Nike</td>\n",
       "      <td>Women React MR 3 Running Shoes</td>\n",
       "      <td>Rs. 8920Rs. 10495(15% OFF)</td>\n",
       "    </tr>\n",
       "    <tr>\n",
       "      <th>6</th>\n",
       "      <td>ALDO</td>\n",
       "      <td>Men Sneakers</td>\n",
       "      <td>Rs. 9999</td>\n",
       "    </tr>\n",
       "    <tr>\n",
       "      <th>7</th>\n",
       "      <td>one8 x PUMA</td>\n",
       "      <td>Men Fuse One8 Training Shoes</td>\n",
       "      <td>Rs. 7999</td>\n",
       "    </tr>\n",
       "    <tr>\n",
       "      <th>8</th>\n",
       "      <td>Puma</td>\n",
       "      <td>Men Jamming 2.0 Running Shoes</td>\n",
       "      <td>Rs. 11049Rs. 12999(15% OFF)</td>\n",
       "    </tr>\n",
       "    <tr>\n",
       "      <th>9</th>\n",
       "      <td>Puma</td>\n",
       "      <td>Men Colourblocked RS-Z Core</td>\n",
       "      <td>Rs. 9999</td>\n",
       "    </tr>\n",
       "    <tr>\n",
       "      <th>10</th>\n",
       "      <td>UNDER ARMOUR</td>\n",
       "      <td>Men Charged Rouge 3 Run Shoes</td>\n",
       "      <td>Rs. 7999</td>\n",
       "    </tr>\n",
       "    <tr>\n",
       "      <th>11</th>\n",
       "      <td>Skechers</td>\n",
       "      <td>Men MAX CUSHIONING ELITE-LUCID</td>\n",
       "      <td>Rs. 8074Rs. 9499(15% OFF)</td>\n",
       "    </tr>\n",
       "    <tr>\n",
       "      <th>12</th>\n",
       "      <td>UNDER ARMOUR</td>\n",
       "      <td>Men UA Charged Breeze Training</td>\n",
       "      <td>Rs. 8999</td>\n",
       "    </tr>\n",
       "    <tr>\n",
       "      <th>13</th>\n",
       "      <td>Skechers</td>\n",
       "      <td>Men Sky Vault Walking Shoes</td>\n",
       "      <td>Rs. 7649Rs. 8999(15% OFF)</td>\n",
       "    </tr>\n",
       "    <tr>\n",
       "      <th>14</th>\n",
       "      <td>Skechers</td>\n",
       "      <td>Men Go Walk 5 Walking Shoes</td>\n",
       "      <td>Rs. 7224Rs. 8499(15% OFF)</td>\n",
       "    </tr>\n",
       "    <tr>\n",
       "      <th>15</th>\n",
       "      <td>UNDER ARMOUR</td>\n",
       "      <td>Unisex Project Rock Training</td>\n",
       "      <td>Rs. 9999</td>\n",
       "    </tr>\n",
       "    <tr>\n",
       "      <th>16</th>\n",
       "      <td>Hush Puppies</td>\n",
       "      <td>Men Solid Leather Formal Slip-Ons</td>\n",
       "      <td>Rs. 7649Rs. 8999(15% OFF)</td>\n",
       "    </tr>\n",
       "    <tr>\n",
       "      <th>17</th>\n",
       "      <td>ALDO</td>\n",
       "      <td>Men Textured Sneakers</td>\n",
       "      <td>Rs. 10999</td>\n",
       "    </tr>\n",
       "    <tr>\n",
       "      <th>18</th>\n",
       "      <td>ALDO</td>\n",
       "      <td>Men Leather Loafers</td>\n",
       "      <td>Rs. 12999</td>\n",
       "    </tr>\n",
       "    <tr>\n",
       "      <th>19</th>\n",
       "      <td>PUMA Motorsport</td>\n",
       "      <td>Unisex Ferrari IONSpeed</td>\n",
       "      <td>Rs. 8999</td>\n",
       "    </tr>\n",
       "    <tr>\n",
       "      <th>20</th>\n",
       "      <td>UNDER ARMOUR</td>\n",
       "      <td>Women Breeze Running Shoes</td>\n",
       "      <td>Rs. 8999</td>\n",
       "    </tr>\n",
       "    <tr>\n",
       "      <th>21</th>\n",
       "      <td>Puma</td>\n",
       "      <td>Men Deviate Nitro Shoes</td>\n",
       "      <td>Rs. 12749Rs. 14999(15% OFF)</td>\n",
       "    </tr>\n",
       "    <tr>\n",
       "      <th>22</th>\n",
       "      <td>Puma</td>\n",
       "      <td>Eternity Nitro Running Shoes</td>\n",
       "      <td>Rs. 11049Rs. 12999(15% OFF)</td>\n",
       "    </tr>\n",
       "    <tr>\n",
       "      <th>23</th>\n",
       "      <td>Skechers</td>\n",
       "      <td>Men Walking Shoes</td>\n",
       "      <td>Rs. 7199Rs. 8999(20% OFF)</td>\n",
       "    </tr>\n",
       "    <tr>\n",
       "      <th>24</th>\n",
       "      <td>Hush Puppies</td>\n",
       "      <td>Men Formal Derbys</td>\n",
       "      <td>Rs. 8499Rs. 9999(15% OFF)</td>\n",
       "    </tr>\n",
       "    <tr>\n",
       "      <th>25</th>\n",
       "      <td>Nike</td>\n",
       "      <td>Men Air Max Dawn Sneakers</td>\n",
       "      <td>Rs. 9295</td>\n",
       "    </tr>\n",
       "    <tr>\n",
       "      <th>26</th>\n",
       "      <td>Puma</td>\n",
       "      <td>Men D Nitro WTR Running Shoes</td>\n",
       "      <td>Rs. 13599Rs. 15999(15% OFF)</td>\n",
       "    </tr>\n",
       "    <tr>\n",
       "      <th>27</th>\n",
       "      <td>UNDER ARMOUR</td>\n",
       "      <td>Men UA TriBase Reign4 Training</td>\n",
       "      <td>Rs. 11999</td>\n",
       "    </tr>\n",
       "    <tr>\n",
       "      <th>28</th>\n",
       "      <td>MANGO</td>\n",
       "      <td>Women Solid Sneakers</td>\n",
       "      <td>Rs. 7641Rs. 8990(15% OFF)</td>\n",
       "    </tr>\n",
       "    <tr>\n",
       "      <th>29</th>\n",
       "      <td>ADIDAS Originals</td>\n",
       "      <td>Men Solid Ozweego Sneakers</td>\n",
       "      <td>Rs. 9899Rs. 10999(10% OFF)</td>\n",
       "    </tr>\n",
       "    <tr>\n",
       "      <th>30</th>\n",
       "      <td>UNDER ARMOUR</td>\n",
       "      <td>Men UA Charged Vantage 2 Run</td>\n",
       "      <td>Rs. 7999</td>\n",
       "    </tr>\n",
       "    <tr>\n",
       "      <th>31</th>\n",
       "      <td>DAVINCHI</td>\n",
       "      <td>Men Solid Leather Formal Loafers</td>\n",
       "      <td>Rs. 8490</td>\n",
       "    </tr>\n",
       "    <tr>\n",
       "      <th>32</th>\n",
       "      <td>Puma</td>\n",
       "      <td>Unisex Leather Sneakers</td>\n",
       "      <td>Rs. 8499Rs. 9999(15% OFF)</td>\n",
       "    </tr>\n",
       "    <tr>\n",
       "      <th>33</th>\n",
       "      <td>Geox</td>\n",
       "      <td>Men Textured Leather Driving Shoes</td>\n",
       "      <td>Rs. 10490</td>\n",
       "    </tr>\n",
       "    <tr>\n",
       "      <th>34</th>\n",
       "      <td>PUMA Motorsport</td>\n",
       "      <td>Unisex Leather Sneakers</td>\n",
       "      <td>Rs. 7999</td>\n",
       "    </tr>\n",
       "    <tr>\n",
       "      <th>35</th>\n",
       "      <td>Puma</td>\n",
       "      <td>Men M Nitro Running Shoess</td>\n",
       "      <td>Rs. 11049Rs. 12999(15% OFF)</td>\n",
       "    </tr>\n",
       "    <tr>\n",
       "      <th>36</th>\n",
       "      <td>Puma</td>\n",
       "      <td>Men Training or Gym Shoes</td>\n",
       "      <td>Rs. 7999</td>\n",
       "    </tr>\n",
       "    <tr>\n",
       "      <th>37</th>\n",
       "      <td>Puma</td>\n",
       "      <td>Unisex Leather Trainers</td>\n",
       "      <td>Rs. 8499Rs. 9999(15% OFF)</td>\n",
       "    </tr>\n",
       "    <tr>\n",
       "      <th>38</th>\n",
       "      <td>PUMA Motorsport</td>\n",
       "      <td>Men BMW MMS R-Cat Sneakers</td>\n",
       "      <td>Rs. 7499</td>\n",
       "    </tr>\n",
       "    <tr>\n",
       "      <th>39</th>\n",
       "      <td>Tommy Hilfiger</td>\n",
       "      <td>Men Leather Sneakers</td>\n",
       "      <td>Rs. 7739Rs. 8599(10% OFF)</td>\n",
       "    </tr>\n",
       "    <tr>\n",
       "      <th>40</th>\n",
       "      <td>PUMA Motorsport</td>\n",
       "      <td>Unisex Ferrari Drift Cat Delta</td>\n",
       "      <td>Rs. 7999</td>\n",
       "    </tr>\n",
       "    <tr>\n",
       "      <th>41</th>\n",
       "      <td>Nike</td>\n",
       "      <td>Men AIR MAX PRE-DAY Sneakers</td>\n",
       "      <td>Rs. 13995</td>\n",
       "    </tr>\n",
       "    <tr>\n",
       "      <th>42</th>\n",
       "      <td>Puma</td>\n",
       "      <td>Women Running Sports Shoes</td>\n",
       "      <td>Rs. 12749Rs. 14999(15% OFF)</td>\n",
       "    </tr>\n",
       "    <tr>\n",
       "      <th>43</th>\n",
       "      <td>ASICS</td>\n",
       "      <td>Men Running Shoes</td>\n",
       "      <td>Rs. 7999</td>\n",
       "    </tr>\n",
       "    <tr>\n",
       "      <th>44</th>\n",
       "      <td>UNDER ARMOUR</td>\n",
       "      <td>Men Charged Breeze Running</td>\n",
       "      <td>Rs. 8999</td>\n",
       "    </tr>\n",
       "    <tr>\n",
       "      <th>45</th>\n",
       "      <td>ADIDAS</td>\n",
       "      <td>Men FutureFlow 2.0 Run Shoes</td>\n",
       "      <td>Rs. 7999</td>\n",
       "    </tr>\n",
       "    <tr>\n",
       "      <th>46</th>\n",
       "      <td>Geox</td>\n",
       "      <td>Men Textured Leather Driving Shoes</td>\n",
       "      <td>Rs. 10990</td>\n",
       "    </tr>\n",
       "    <tr>\n",
       "      <th>47</th>\n",
       "      <td>PUMA Motorsport</td>\n",
       "      <td>Men MAPF1 X-Ray Speed Sneakers</td>\n",
       "      <td>Rs. 8999</td>\n",
       "    </tr>\n",
       "    <tr>\n",
       "      <th>48</th>\n",
       "      <td>Tommy Hilfiger</td>\n",
       "      <td>Men Flexi Sneakers</td>\n",
       "      <td>Rs. 7199Rs. 7999(10% OFF)</td>\n",
       "    </tr>\n",
       "    <tr>\n",
       "      <th>49</th>\n",
       "      <td>Louis Philippe</td>\n",
       "      <td>Men Solid Leather Formal Loafers</td>\n",
       "      <td>Rs. 9999</td>\n",
       "    </tr>\n",
       "  </tbody>\n",
       "</table>\n",
       "</div>"
      ],
      "text/plain": [
       "               Brand                   Brand_Description  \\\n",
       "0               ALDO           Men Leather Driving Shoes   \n",
       "1               ALDO           Men Woven Design Sneakers   \n",
       "2               ALDO       Men Textured Slip-On Sneakers   \n",
       "3           Skechers          Men Max Cushioning Running   \n",
       "4       UNDER ARMOUR         Men Vantage 2 Running Shoes   \n",
       "5               Nike      Women React MR 3 Running Shoes   \n",
       "6               ALDO                        Men Sneakers   \n",
       "7        one8 x PUMA        Men Fuse One8 Training Shoes   \n",
       "8               Puma       Men Jamming 2.0 Running Shoes   \n",
       "9               Puma         Men Colourblocked RS-Z Core   \n",
       "10      UNDER ARMOUR       Men Charged Rouge 3 Run Shoes   \n",
       "11          Skechers      Men MAX CUSHIONING ELITE-LUCID   \n",
       "12      UNDER ARMOUR      Men UA Charged Breeze Training   \n",
       "13          Skechers         Men Sky Vault Walking Shoes   \n",
       "14          Skechers         Men Go Walk 5 Walking Shoes   \n",
       "15      UNDER ARMOUR        Unisex Project Rock Training   \n",
       "16      Hush Puppies   Men Solid Leather Formal Slip-Ons   \n",
       "17              ALDO               Men Textured Sneakers   \n",
       "18              ALDO                 Men Leather Loafers   \n",
       "19   PUMA Motorsport             Unisex Ferrari IONSpeed   \n",
       "20      UNDER ARMOUR          Women Breeze Running Shoes   \n",
       "21              Puma             Men Deviate Nitro Shoes   \n",
       "22              Puma        Eternity Nitro Running Shoes   \n",
       "23          Skechers                   Men Walking Shoes   \n",
       "24      Hush Puppies                   Men Formal Derbys   \n",
       "25              Nike           Men Air Max Dawn Sneakers   \n",
       "26              Puma       Men D Nitro WTR Running Shoes   \n",
       "27      UNDER ARMOUR      Men UA TriBase Reign4 Training   \n",
       "28             MANGO                Women Solid Sneakers   \n",
       "29  ADIDAS Originals          Men Solid Ozweego Sneakers   \n",
       "30      UNDER ARMOUR        Men UA Charged Vantage 2 Run   \n",
       "31          DAVINCHI    Men Solid Leather Formal Loafers   \n",
       "32              Puma             Unisex Leather Sneakers   \n",
       "33              Geox  Men Textured Leather Driving Shoes   \n",
       "34   PUMA Motorsport             Unisex Leather Sneakers   \n",
       "35              Puma          Men M Nitro Running Shoess   \n",
       "36              Puma           Men Training or Gym Shoes   \n",
       "37              Puma             Unisex Leather Trainers   \n",
       "38   PUMA Motorsport          Men BMW MMS R-Cat Sneakers   \n",
       "39    Tommy Hilfiger                Men Leather Sneakers   \n",
       "40   PUMA Motorsport      Unisex Ferrari Drift Cat Delta   \n",
       "41              Nike        Men AIR MAX PRE-DAY Sneakers   \n",
       "42              Puma          Women Running Sports Shoes   \n",
       "43             ASICS                   Men Running Shoes   \n",
       "44      UNDER ARMOUR          Men Charged Breeze Running   \n",
       "45            ADIDAS        Men FutureFlow 2.0 Run Shoes   \n",
       "46              Geox  Men Textured Leather Driving Shoes   \n",
       "47   PUMA Motorsport      Men MAPF1 X-Ray Speed Sneakers   \n",
       "48    Tommy Hilfiger                  Men Flexi Sneakers   \n",
       "49    Louis Philippe    Men Solid Leather Formal Loafers   \n",
       "\n",
       "                          Price  \n",
       "0                     Rs. 12999  \n",
       "1                     Rs. 13999  \n",
       "2                     Rs. 12999  \n",
       "3     Rs. 7649Rs. 8999(15% OFF)  \n",
       "4                      Rs. 7999  \n",
       "5    Rs. 8920Rs. 10495(15% OFF)  \n",
       "6                      Rs. 9999  \n",
       "7                      Rs. 7999  \n",
       "8   Rs. 11049Rs. 12999(15% OFF)  \n",
       "9                      Rs. 9999  \n",
       "10                     Rs. 7999  \n",
       "11    Rs. 8074Rs. 9499(15% OFF)  \n",
       "12                     Rs. 8999  \n",
       "13    Rs. 7649Rs. 8999(15% OFF)  \n",
       "14    Rs. 7224Rs. 8499(15% OFF)  \n",
       "15                     Rs. 9999  \n",
       "16    Rs. 7649Rs. 8999(15% OFF)  \n",
       "17                    Rs. 10999  \n",
       "18                    Rs. 12999  \n",
       "19                     Rs. 8999  \n",
       "20                     Rs. 8999  \n",
       "21  Rs. 12749Rs. 14999(15% OFF)  \n",
       "22  Rs. 11049Rs. 12999(15% OFF)  \n",
       "23    Rs. 7199Rs. 8999(20% OFF)  \n",
       "24    Rs. 8499Rs. 9999(15% OFF)  \n",
       "25                     Rs. 9295  \n",
       "26  Rs. 13599Rs. 15999(15% OFF)  \n",
       "27                    Rs. 11999  \n",
       "28    Rs. 7641Rs. 8990(15% OFF)  \n",
       "29   Rs. 9899Rs. 10999(10% OFF)  \n",
       "30                     Rs. 7999  \n",
       "31                     Rs. 8490  \n",
       "32    Rs. 8499Rs. 9999(15% OFF)  \n",
       "33                    Rs. 10490  \n",
       "34                     Rs. 7999  \n",
       "35  Rs. 11049Rs. 12999(15% OFF)  \n",
       "36                     Rs. 7999  \n",
       "37    Rs. 8499Rs. 9999(15% OFF)  \n",
       "38                     Rs. 7499  \n",
       "39    Rs. 7739Rs. 8599(10% OFF)  \n",
       "40                     Rs. 7999  \n",
       "41                    Rs. 13995  \n",
       "42  Rs. 12749Rs. 14999(15% OFF)  \n",
       "43                     Rs. 7999  \n",
       "44                     Rs. 8999  \n",
       "45                     Rs. 7999  \n",
       "46                    Rs. 10990  \n",
       "47                     Rs. 8999  \n",
       "48    Rs. 7199Rs. 7999(10% OFF)  \n",
       "49                     Rs. 9999  "
      ]
     },
     "execution_count": 118,
     "metadata": {},
     "output_type": "execute_result"
    }
   ],
   "source": [
    "SHOES"
   ]
  },
  {
   "cell_type": "markdown",
   "id": "ebedc915",
   "metadata": {},
   "source": [
    "Q8: Go to webpage https://www.amazon.in/\n",
    "Enter “Laptop” in the search field and then click the search icon.\n",
    "Then set CPU Type filter to “Intel Core i7” and “Intel Core i9” as shown in the below image:"
   ]
  },
  {
   "cell_type": "code",
   "execution_count": 160,
   "id": "046920cf",
   "metadata": {},
   "outputs": [
    {
     "name": "stdout",
     "output_type": "stream",
     "text": [
      "Requirement already satisfied: selenium in c:\\programdata\\anaconda3\\lib\\site-packages (4.1.3)\n",
      "Requirement already satisfied: trio~=0.17 in c:\\programdata\\anaconda3\\lib\\site-packages (from selenium) (0.20.0)\n",
      "Requirement already satisfied: trio-websocket~=0.9 in c:\\programdata\\anaconda3\\lib\\site-packages (from selenium) (0.9.2)\n",
      "Requirement already satisfied: urllib3[secure,socks]~=1.26 in c:\\programdata\\anaconda3\\lib\\site-packages (from selenium) (1.26.7)\n",
      "Requirement already satisfied: async-generator>=1.9 in c:\\programdata\\anaconda3\\lib\\site-packages (from trio~=0.17->selenium) (1.10)\n",
      "Requirement already satisfied: attrs>=19.2.0 in c:\\programdata\\anaconda3\\lib\\site-packages (from trio~=0.17->selenium) (21.2.0)\n",
      "Requirement already satisfied: idna in c:\\programdata\\anaconda3\\lib\\site-packages (from trio~=0.17->selenium) (3.2)\n",
      "Requirement already satisfied: outcome in c:\\programdata\\anaconda3\\lib\\site-packages (from trio~=0.17->selenium) (1.1.0)\n",
      "Requirement already satisfied: sortedcontainers in c:\\programdata\\anaconda3\\lib\\site-packages (from trio~=0.17->selenium) (2.4.0)\n",
      "Requirement already satisfied: sniffio in c:\\programdata\\anaconda3\\lib\\site-packages (from trio~=0.17->selenium) (1.2.0)\n",
      "Requirement already satisfied: cffi>=1.14 in c:\\programdata\\anaconda3\\lib\\site-packages (from trio~=0.17->selenium) (1.14.6)\n",
      "Requirement already satisfied: pycparser in c:\\programdata\\anaconda3\\lib\\site-packages (from cffi>=1.14->trio~=0.17->selenium) (2.20)\n",
      "Requirement already satisfied: wsproto>=0.14 in c:\\programdata\\anaconda3\\lib\\site-packages (from trio-websocket~=0.9->selenium) (1.1.0)\n",
      "Requirement already satisfied: PySocks!=1.5.7,<2.0,>=1.5.6 in c:\\programdata\\anaconda3\\lib\\site-packages (from urllib3[secure,socks]~=1.26->selenium) (1.7.1)\n",
      "Requirement already satisfied: pyOpenSSL>=0.14 in c:\\programdata\\anaconda3\\lib\\site-packages (from urllib3[secure,socks]~=1.26->selenium) (21.0.0)\n",
      "Requirement already satisfied: cryptography>=1.3.4 in c:\\programdata\\anaconda3\\lib\\site-packages (from urllib3[secure,socks]~=1.26->selenium) (3.4.8)\n",
      "Requirement already satisfied: certifi in c:\\programdata\\anaconda3\\lib\\site-packages (from urllib3[secure,socks]~=1.26->selenium) (2021.10.8)\n",
      "Requirement already satisfied: six>=1.5.2 in c:\\programdata\\anaconda3\\lib\\site-packages (from pyOpenSSL>=0.14->urllib3[secure,socks]~=1.26->selenium) (1.16.0)\n",
      "Requirement already satisfied: h11<1,>=0.9.0 in c:\\programdata\\anaconda3\\lib\\site-packages (from wsproto>=0.14->trio-websocket~=0.9->selenium) (0.13.0)\n"
     ]
    }
   ],
   "source": [
    "! pip install selenium"
   ]
  },
  {
   "cell_type": "code",
   "execution_count": 162,
   "id": "8f3b25fd",
   "metadata": {},
   "outputs": [],
   "source": [
    "import selenium\n",
    "import pandas as pd\n",
    "import warnings\n",
    "warnings.filterwarnings(\"ignore\")\n",
    "import time"
   ]
  },
  {
   "cell_type": "code",
   "execution_count": 164,
   "id": "deaefc47",
   "metadata": {},
   "outputs": [],
   "source": [
    "driver8 = webdriver.Chrome(r\"C:\\Web driver\\Chromedriver.exe\")"
   ]
  },
  {
   "cell_type": "code",
   "execution_count": 166,
   "id": "115a8cbb",
   "metadata": {},
   "outputs": [],
   "source": [
    "driver8.get(\"https://www.amazon.in\")"
   ]
  },
  {
   "cell_type": "code",
   "execution_count": 177,
   "id": "5d26e80a",
   "metadata": {},
   "outputs": [],
   "source": [
    "search_amazon = driver8.find_element_by_xpath(\"/html/body/div[1]/header/div/div[1]/div[2]/div/form/div[2]/div[1]/input\")\n",
    "search_amazon.send_keys('laptop')"
   ]
  },
  {
   "cell_type": "code",
   "execution_count": 179,
   "id": "918d3a00",
   "metadata": {},
   "outputs": [],
   "source": [
    "search_button = driver8.find_element_by_xpath(\"/html/body/div[1]/header/div/div[1]/div[2]/div/form/div[3]/div/span/input\")\n",
    "search_button.click()                                              "
   ]
  },
  {
   "cell_type": "code",
   "execution_count": 180,
   "id": "77052c76",
   "metadata": {},
   "outputs": [],
   "source": [
    "filter_button = driver8.find_element_by_xpath(\"/html/body/div[1]/div[2]/div[1]/div[2]/div/div[3]/span/div[1]/div/div/div[5]/ul[4]/li[12]/span/a/div/label/i\")\n",
    "filter_button.click()"
   ]
  },
  {
   "cell_type": "code",
   "execution_count": 211,
   "id": "5b8b3a2f",
   "metadata": {},
   "outputs": [],
   "source": [
    "filter_r =driver8.find_element_by_xpath(\"/html/body/div[1]/div[2]/div[1]/div[2]/div/div[3]/span/div[1]/div/div/div[2]/ul/li[4]/span/a/section/i\")\n",
    "filter_r.click()"
   ]
  },
  {
   "cell_type": "code",
   "execution_count": 267,
   "id": "aeac57e5",
   "metadata": {},
   "outputs": [],
   "source": [
    "#creating empty list\n",
    "title_laptops = []\n",
    "price_laptops = []\n",
    "rating_laptops = []"
   ]
  },
  {
   "cell_type": "code",
   "execution_count": 268,
   "id": "248c8082",
   "metadata": {},
   "outputs": [
    {
     "data": {
      "text/plain": [
       "[<selenium.webdriver.remote.webelement.WebElement (session=\"1ba7afe8cf9233c9f762b4328d8f718f\", element=\"ebf1ecc3-eef4-45ec-81c8-d498094a5d94\")>,\n",
       " <selenium.webdriver.remote.webelement.WebElement (session=\"1ba7afe8cf9233c9f762b4328d8f718f\", element=\"c06a9ced-46ad-4c32-a6fd-ad6b6e989d3e\")>,\n",
       " <selenium.webdriver.remote.webelement.WebElement (session=\"1ba7afe8cf9233c9f762b4328d8f718f\", element=\"52dbd6bf-114c-4b0b-b535-f48964f17b1f\")>,\n",
       " <selenium.webdriver.remote.webelement.WebElement (session=\"1ba7afe8cf9233c9f762b4328d8f718f\", element=\"c4bae0db-342c-49fa-a484-31f04b7b5f12\")>,\n",
       " <selenium.webdriver.remote.webelement.WebElement (session=\"1ba7afe8cf9233c9f762b4328d8f718f\", element=\"8c0fd997-6e05-49ee-a5a0-e2fb19515f74\")>,\n",
       " <selenium.webdriver.remote.webelement.WebElement (session=\"1ba7afe8cf9233c9f762b4328d8f718f\", element=\"6beef340-0f30-44dd-be42-f99ae316c01e\")>,\n",
       " <selenium.webdriver.remote.webelement.WebElement (session=\"1ba7afe8cf9233c9f762b4328d8f718f\", element=\"08c412c1-4538-49f2-b9e8-3db07309c0e6\")>,\n",
       " <selenium.webdriver.remote.webelement.WebElement (session=\"1ba7afe8cf9233c9f762b4328d8f718f\", element=\"981c368f-0009-436f-b8f7-25c343dfa250\")>,\n",
       " <selenium.webdriver.remote.webelement.WebElement (session=\"1ba7afe8cf9233c9f762b4328d8f718f\", element=\"b64ce5d7-08b3-4452-8b36-c321e3428a67\")>,\n",
       " <selenium.webdriver.remote.webelement.WebElement (session=\"1ba7afe8cf9233c9f762b4328d8f718f\", element=\"d428cad1-7855-4c28-a485-ce60a206ada2\")>]"
      ]
     },
     "execution_count": 268,
     "metadata": {},
     "output_type": "execute_result"
    }
   ],
   "source": [
    "t_laptop =driver8.find_elements_by_xpath(\"//h2[@class='a-size-mini a-spacing-none a-color-base s-line-clamp-2']\")\n",
    "t_laptop[0:10]"
   ]
  },
  {
   "cell_type": "code",
   "execution_count": 269,
   "id": "29003540",
   "metadata": {},
   "outputs": [
    {
     "data": {
      "text/plain": [
       "['MSI Modern 14, Intel i7-1195G7, 14\" FHD IPS-Level 60Hz Panel Laptop (8GB/512GB NVMe SSD/Windows 10 Home/Nvidia MX450 2GB Graphics/Carbon Grey/1.3Kg), B11SBU-688IN',\n",
       " 'Mi Notebook Ultra 3.2K Resolution Display Intel Core i7-11370H 11th Gen 15.6-inch(39.62 cm) Thin and Light Laptop (16GB/512GB SSD/Iris Xe Graphic/Win 10/MS Office 21/Backlit KB/FP Sensor/1.7Kg)',\n",
       " 'ASUS VivoBook 14 (2021), 14-inch (35.56 cms) FHD, Intel Core i7-1065G7 10th Gen, Thin and Light Laptop (16GB/512GB SSD/Integrated Graphics/Office 2021/Windows 11/Silver/1.6 Kg), X415JA-EK701WS',\n",
       " 'HP Pavilion 14, 11th Gen Intel Core i7-16GB RAM/1TB SSD 14 inch(35.6 cm) Laptop/Intel Iris Xe Graphics/Backlit Keyboard/Alexa/B&O Audio/Fast Charge/FPR/Win 11/MS Office, 14-dv1029TU,Natural Silver',\n",
       " 'ASUS TUF Gaming F15 (2021), 15.6\" (39.62 cms) FHD 144Hz, Intel Core i7-11600H 11th Gen, 4GB RTX 3050 Graphics, Gaming Laptop (16GB/512GB SSD/Windows 10/Office 2019/Gray/2.3 Kg), FX566HCB-HN299TS',\n",
       " 'HP Pavilion 11th Gen Intel Core i7 Processor 15.6 inches FHD Gaming Laptop (16GB/512GB SSD/Windows 11/NVIDIA RTX 3050 Graphics/MS Office/ Shadow Black & Ultra Violet/2.23Kg), 15-dk2096TX',\n",
       " 'Lenovo ThinkBook 15 Intel 11th Gen Core i7 15.6\"(39.62 cm)FHD Thin and Light Laptop (16GB/512GB SSD/Windows 11 Home/MS Office H&S 2021/Iris® Xe Graphics/Backlit/Mineral Grey/1.7 Kg) 20VE00W4IH',\n",
       " 'Lenovo IdeaPad Gaming 3 Intel Core i7 10th Gen 39.62 cm (15.6\") FHD IPS 250Nits Gaming Laptop (8GB/512GB SSD/Win10/NVIDIA GTX 1650 4GB GDDR6 Graphics/120Hz/Onyx Black/2.2Kg), 81Y4019EIN',\n",
       " 'Fujitsu UH-X 11th Gen Intel Core i7 13.3” FHD IPS 400Nits Thin & Light Laptop(16GB/512GB SSD/Windows 11/Office 2021/Iris Xe Graphics/Backlit Kb/Fingerprint Reader/2Yr Warranty/Black/878gms),4ZR1F38024',\n",
       " 'ASUS TUF Gaming F15 (2021), 15.6-inch (39.62 cms) FHD 144Hz, Intel Core i7-11800H 11th Gen, GeForce RTX 3050 4GB Graphics, Gaming Laptop (8GB/512GB SSD/Windows 10/Eclipse Gray/2.3 Kg), FX566HC-HN093T']"
      ]
     },
     "execution_count": 269,
     "metadata": {},
     "output_type": "execute_result"
    }
   ],
   "source": [
    "for i in t_laptop:\n",
    "    t = i.text\n",
    "    title_laptops.append(t)\n",
    "title_laptops[0:10]    "
   ]
  },
  {
   "cell_type": "code",
   "execution_count": 270,
   "id": "937c09e0",
   "metadata": {},
   "outputs": [
    {
     "data": {
      "text/plain": [
       "[<selenium.webdriver.remote.webelement.WebElement (session=\"1ba7afe8cf9233c9f762b4328d8f718f\", element=\"7858e967-1550-4556-86d5-5801a41471dd\")>,\n",
       " <selenium.webdriver.remote.webelement.WebElement (session=\"1ba7afe8cf9233c9f762b4328d8f718f\", element=\"8b9ba0e4-c7e4-4a83-af73-430fa92b62c0\")>,\n",
       " <selenium.webdriver.remote.webelement.WebElement (session=\"1ba7afe8cf9233c9f762b4328d8f718f\", element=\"f25f1d9f-7654-49a5-baa2-c7cb3e0fa59e\")>,\n",
       " <selenium.webdriver.remote.webelement.WebElement (session=\"1ba7afe8cf9233c9f762b4328d8f718f\", element=\"e0a084fb-2044-4aad-a960-ceff6b7d5b96\")>,\n",
       " <selenium.webdriver.remote.webelement.WebElement (session=\"1ba7afe8cf9233c9f762b4328d8f718f\", element=\"7415ec23-3d36-4b67-a3b1-d11fb053c6d9\")>,\n",
       " <selenium.webdriver.remote.webelement.WebElement (session=\"1ba7afe8cf9233c9f762b4328d8f718f\", element=\"02b5816c-be22-4f99-a56b-95bc44211daf\")>,\n",
       " <selenium.webdriver.remote.webelement.WebElement (session=\"1ba7afe8cf9233c9f762b4328d8f718f\", element=\"4b2bc2a6-a359-42c5-92aa-9b98e543e8c0\")>,\n",
       " <selenium.webdriver.remote.webelement.WebElement (session=\"1ba7afe8cf9233c9f762b4328d8f718f\", element=\"a98b81f5-4dd0-4c35-aafb-929fc68f78e6\")>,\n",
       " <selenium.webdriver.remote.webelement.WebElement (session=\"1ba7afe8cf9233c9f762b4328d8f718f\", element=\"fefce43d-e0c9-48a0-ad19-f1e9ae9fe426\")>,\n",
       " <selenium.webdriver.remote.webelement.WebElement (session=\"1ba7afe8cf9233c9f762b4328d8f718f\", element=\"c0ae3bea-7b8f-4a5b-9bea-ff0d05f00d13\")>]"
      ]
     },
     "execution_count": 270,
     "metadata": {},
     "output_type": "execute_result"
    }
   ],
   "source": [
    "p_laptop = driver8.find_elements_by_xpath(\"//span[@class='a-price-whole']\")\n",
    "p_laptop[0:10]"
   ]
  },
  {
   "cell_type": "code",
   "execution_count": 271,
   "id": "1a679b50",
   "metadata": {},
   "outputs": [
    {
     "data": {
      "text/plain": [
       "['66,990',\n",
       " '77,990',\n",
       " '57,990',\n",
       " '86,490',\n",
       " '87,990',\n",
       " '87,990',\n",
       " '86,990',\n",
       " '66,990',\n",
       " '83,990',\n",
       " '96,990']"
      ]
     },
     "execution_count": 271,
     "metadata": {},
     "output_type": "execute_result"
    }
   ],
   "source": [
    "for i in p_laptop:\n",
    "    p =i.text\n",
    "    price_laptops.append(p)\n",
    "price_laptops[0:10]    "
   ]
  },
  {
   "cell_type": "code",
   "execution_count": 273,
   "id": "392299d9",
   "metadata": {},
   "outputs": [
    {
     "data": {
      "text/plain": [
       "[<selenium.webdriver.remote.webelement.WebElement (session=\"1ba7afe8cf9233c9f762b4328d8f718f\", element=\"6bc7ff37-f0ed-43c3-aacb-1e686fab48c4\")>,\n",
       " <selenium.webdriver.remote.webelement.WebElement (session=\"1ba7afe8cf9233c9f762b4328d8f718f\", element=\"18486eb0-a474-4d19-8780-f37baa16da61\")>,\n",
       " <selenium.webdriver.remote.webelement.WebElement (session=\"1ba7afe8cf9233c9f762b4328d8f718f\", element=\"f14d0123-b569-418b-9d3e-31cf9e3c36af\")>,\n",
       " <selenium.webdriver.remote.webelement.WebElement (session=\"1ba7afe8cf9233c9f762b4328d8f718f\", element=\"3383c06b-4a0e-445e-9d6c-2152ddef6dbb\")>,\n",
       " <selenium.webdriver.remote.webelement.WebElement (session=\"1ba7afe8cf9233c9f762b4328d8f718f\", element=\"6830cb86-e6b9-44ed-a408-8a51d0bde871\")>,\n",
       " <selenium.webdriver.remote.webelement.WebElement (session=\"1ba7afe8cf9233c9f762b4328d8f718f\", element=\"08611159-2cfa-4cdf-a054-df67e638573c\")>,\n",
       " <selenium.webdriver.remote.webelement.WebElement (session=\"1ba7afe8cf9233c9f762b4328d8f718f\", element=\"8744aaa5-a0db-4f74-bb2e-1691d3ac7c07\")>,\n",
       " <selenium.webdriver.remote.webelement.WebElement (session=\"1ba7afe8cf9233c9f762b4328d8f718f\", element=\"6406dd10-b9f1-4e3c-971d-4d0f07bcf497\")>,\n",
       " <selenium.webdriver.remote.webelement.WebElement (session=\"1ba7afe8cf9233c9f762b4328d8f718f\", element=\"75a15280-0fdd-4424-8e2f-e535428e3c64\")>,\n",
       " <selenium.webdriver.remote.webelement.WebElement (session=\"1ba7afe8cf9233c9f762b4328d8f718f\", element=\"ef7a2149-4f80-4b07-b278-2c1f5fb27afb\")>]"
      ]
     },
     "execution_count": 273,
     "metadata": {},
     "output_type": "execute_result"
    }
   ],
   "source": [
    "r_laptops =driver8.find_elements_by_xpath(\"//div[@class='a-row a-size-small']\")\n",
    "r_laptops[0:10]"
   ]
  },
  {
   "cell_type": "code",
   "execution_count": 274,
   "id": "5ea18c33",
   "metadata": {},
   "outputs": [
    {
     "data": {
      "text/plain": [
       "['2', '1,086', '65', '2', '4', '7', '39', '13', '49', '13']"
      ]
     },
     "execution_count": 274,
     "metadata": {},
     "output_type": "execute_result"
    }
   ],
   "source": [
    "for i in r_laptops:\n",
    "    r = i.text\n",
    "    rating_laptops.append(r)\n",
    "rating_laptops[0:10]    "
   ]
  },
  {
   "cell_type": "code",
   "execution_count": 275,
   "id": "653bb927",
   "metadata": {},
   "outputs": [
    {
     "name": "stdout",
     "output_type": "stream",
     "text": [
      "30 30 30\n"
     ]
    }
   ],
   "source": [
    "print(len(title_laptops),len(price_laptops),len(rating_laptops))"
   ]
  },
  {
   "cell_type": "code",
   "execution_count": 276,
   "id": "17fb8214",
   "metadata": {},
   "outputs": [],
   "source": [
    "LAPTOP =pd.DataFrame({})\n",
    "LAPTOP['TITLE'] = title_laptops\n",
    "LAPTOP['PRICE'] = price_laptops\n",
    "LAPTOP['RATING'] = rating_laptops"
   ]
  },
  {
   "cell_type": "code",
   "execution_count": 277,
   "id": "75049caf",
   "metadata": {},
   "outputs": [
    {
     "data": {
      "text/html": [
       "<div>\n",
       "<style scoped>\n",
       "    .dataframe tbody tr th:only-of-type {\n",
       "        vertical-align: middle;\n",
       "    }\n",
       "\n",
       "    .dataframe tbody tr th {\n",
       "        vertical-align: top;\n",
       "    }\n",
       "\n",
       "    .dataframe thead th {\n",
       "        text-align: right;\n",
       "    }\n",
       "</style>\n",
       "<table border=\"1\" class=\"dataframe\">\n",
       "  <thead>\n",
       "    <tr style=\"text-align: right;\">\n",
       "      <th></th>\n",
       "      <th>TITLE</th>\n",
       "      <th>PRICE</th>\n",
       "    </tr>\n",
       "  </thead>\n",
       "  <tbody>\n",
       "    <tr>\n",
       "      <th>0</th>\n",
       "      <td>Acer Predator Helios 300 11th Gen Intel Core i...</td>\n",
       "      <td>1,69,990</td>\n",
       "    </tr>\n",
       "    <tr>\n",
       "      <th>1</th>\n",
       "      <td>MSI Modern 14, Intel i7-1195G7, 14\" FHD IPS-Le...</td>\n",
       "      <td>66,990</td>\n",
       "    </tr>\n",
       "    <tr>\n",
       "      <th>2</th>\n",
       "      <td>ASUS VivoBook 14 (2021), 14-inch (35.56 cms) F...</td>\n",
       "      <td>57,990</td>\n",
       "    </tr>\n",
       "    <tr>\n",
       "      <th>3</th>\n",
       "      <td>HP Pavilion 14, 11th Gen Intel Core i7-16GB RA...</td>\n",
       "      <td>86,490</td>\n",
       "    </tr>\n",
       "    <tr>\n",
       "      <th>4</th>\n",
       "      <td>ASUS TUF Gaming F15 (2021), 15.6\" (39.62 cms) ...</td>\n",
       "      <td>87,990</td>\n",
       "    </tr>\n",
       "    <tr>\n",
       "      <th>5</th>\n",
       "      <td>Samsung Galaxy Book2 Intel 12th Gen core i7 Ev...</td>\n",
       "      <td>79,990</td>\n",
       "    </tr>\n",
       "    <tr>\n",
       "      <th>6</th>\n",
       "      <td>Lenovo ThinkBook 15 Intel 11th Gen Core i7 15....</td>\n",
       "      <td>86,990</td>\n",
       "    </tr>\n",
       "    <tr>\n",
       "      <th>7</th>\n",
       "      <td>Lenovo IdeaPad Gaming 3 Intel Core i7 10th Gen...</td>\n",
       "      <td>66,990</td>\n",
       "    </tr>\n",
       "    <tr>\n",
       "      <th>8</th>\n",
       "      <td>ASUS TUF Gaming F15 (2021), 15.6-inch (39.62 c...</td>\n",
       "      <td>96,990</td>\n",
       "    </tr>\n",
       "    <tr>\n",
       "      <th>9</th>\n",
       "      <td>HP Pavilion x360 11th Gen Intel Core i7 14 inc...</td>\n",
       "      <td>85,990</td>\n",
       "    </tr>\n",
       "  </tbody>\n",
       "</table>\n",
       "</div>"
      ],
      "text/plain": [
       "                                               TITLE     PRICE\n",
       "0  Acer Predator Helios 300 11th Gen Intel Core i...  1,69,990\n",
       "1  MSI Modern 14, Intel i7-1195G7, 14\" FHD IPS-Le...    66,990\n",
       "2  ASUS VivoBook 14 (2021), 14-inch (35.56 cms) F...    57,990\n",
       "3  HP Pavilion 14, 11th Gen Intel Core i7-16GB RA...    86,490\n",
       "4  ASUS TUF Gaming F15 (2021), 15.6\" (39.62 cms) ...    87,990\n",
       "5  Samsung Galaxy Book2 Intel 12th Gen core i7 Ev...    79,990\n",
       "6  Lenovo ThinkBook 15 Intel 11th Gen Core i7 15....    86,990\n",
       "7  Lenovo IdeaPad Gaming 3 Intel Core i7 10th Gen...    66,990\n",
       "8  ASUS TUF Gaming F15 (2021), 15.6-inch (39.62 c...    96,990\n",
       "9  HP Pavilion x360 11th Gen Intel Core i7 14 inc...    85,990"
      ]
     },
     "execution_count": 277,
     "metadata": {},
     "output_type": "execute_result"
    }
   ],
   "source": [
    "laptop[0:10]"
   ]
  },
  {
   "cell_type": "markdown",
   "id": "6659941d",
   "metadata": {},
   "source": [
    "Q9: Write a python program to scrape data for first 10 job results for Data Scientist Designation in Noida\n",
    "location. You have to scrape company name, No. of days ago when job was posted, Rating of the company.\n",
    "This task will be done in following steps:"
   ]
  },
  {
   "cell_type": "code",
   "execution_count": 3,
   "id": "08a4575a",
   "metadata": {},
   "outputs": [
    {
     "name": "stdout",
     "output_type": "stream",
     "text": [
      "Requirement already satisfied: selenium in c:\\programdata\\anaconda3\\lib\\site-packages (4.1.3)\n",
      "Requirement already satisfied: trio-websocket~=0.9 in c:\\programdata\\anaconda3\\lib\\site-packages (from selenium) (0.9.2)\n",
      "Requirement already satisfied: urllib3[secure,socks]~=1.26 in c:\\programdata\\anaconda3\\lib\\site-packages (from selenium) (1.26.7)\n",
      "Requirement already satisfied: trio~=0.17 in c:\\programdata\\anaconda3\\lib\\site-packages (from selenium) (0.20.0)\n",
      "Requirement already satisfied: outcome in c:\\programdata\\anaconda3\\lib\\site-packages (from trio~=0.17->selenium) (1.1.0)\n",
      "Requirement already satisfied: idna in c:\\programdata\\anaconda3\\lib\\site-packages (from trio~=0.17->selenium) (3.2)\n",
      "Requirement already satisfied: attrs>=19.2.0 in c:\\programdata\\anaconda3\\lib\\site-packages (from trio~=0.17->selenium) (21.2.0)\n",
      "Requirement already satisfied: sniffio in c:\\programdata\\anaconda3\\lib\\site-packages (from trio~=0.17->selenium) (1.2.0)\n",
      "Requirement already satisfied: sortedcontainers in c:\\programdata\\anaconda3\\lib\\site-packages (from trio~=0.17->selenium) (2.4.0)\n",
      "Requirement already satisfied: async-generator>=1.9 in c:\\programdata\\anaconda3\\lib\\site-packages (from trio~=0.17->selenium) (1.10)\n",
      "Requirement already satisfied: cffi>=1.14 in c:\\programdata\\anaconda3\\lib\\site-packages (from trio~=0.17->selenium) (1.14.6)\n",
      "Requirement already satisfied: pycparser in c:\\programdata\\anaconda3\\lib\\site-packages (from cffi>=1.14->trio~=0.17->selenium) (2.20)\n",
      "Requirement already satisfied: wsproto>=0.14 in c:\\programdata\\anaconda3\\lib\\site-packages (from trio-websocket~=0.9->selenium) (1.1.0)\n",
      "Requirement already satisfied: PySocks!=1.5.7,<2.0,>=1.5.6 in c:\\programdata\\anaconda3\\lib\\site-packages (from urllib3[secure,socks]~=1.26->selenium) (1.7.1)\n",
      "Requirement already satisfied: pyOpenSSL>=0.14 in c:\\programdata\\anaconda3\\lib\\site-packages (from urllib3[secure,socks]~=1.26->selenium) (21.0.0)\n",
      "Requirement already satisfied: cryptography>=1.3.4 in c:\\programdata\\anaconda3\\lib\\site-packages (from urllib3[secure,socks]~=1.26->selenium) (3.4.8)\n",
      "Requirement already satisfied: certifi in c:\\programdata\\anaconda3\\lib\\site-packages (from urllib3[secure,socks]~=1.26->selenium) (2021.10.8)\n",
      "Requirement already satisfied: six>=1.5.2 in c:\\programdata\\anaconda3\\lib\\site-packages (from pyOpenSSL>=0.14->urllib3[secure,socks]~=1.26->selenium) (1.16.0)\n",
      "Requirement already satisfied: h11<1,>=0.9.0 in c:\\programdata\\anaconda3\\lib\\site-packages (from wsproto>=0.14->trio-websocket~=0.9->selenium) (0.13.0)\n"
     ]
    }
   ],
   "source": [
    "! pip install selenium"
   ]
  },
  {
   "cell_type": "code",
   "execution_count": 6,
   "id": "05f8c838",
   "metadata": {},
   "outputs": [],
   "source": [
    "import selenium\n",
    "import pandas as pd\n",
    "import warnings\n",
    "warnings.filterwarnings('ignore')\n",
    "import time\n",
    "from selenium import webdriver"
   ]
  },
  {
   "cell_type": "code",
   "execution_count": 27,
   "id": "97b7da4b",
   "metadata": {},
   "outputs": [],
   "source": [
    "driver9 =webdriver.Chrome(r\"C:\\Web driver\\Chromedriver.exe\")"
   ]
  },
  {
   "cell_type": "code",
   "execution_count": 28,
   "id": "4088946f",
   "metadata": {},
   "outputs": [],
   "source": [
    "driver9.get(\"http://www.ambitionbox.com\")"
   ]
  },
  {
   "cell_type": "code",
   "execution_count": 29,
   "id": "b4550ef3",
   "metadata": {},
   "outputs": [],
   "source": [
    "press_job= driver9.find_element_by_xpath(\"/html/body/div[1]/nav/nav/a[6]\")\n",
    "press_job.click()"
   ]
  },
  {
   "cell_type": "code",
   "execution_count": 32,
   "id": "226329fe",
   "metadata": {},
   "outputs": [],
   "source": [
    "designation = driver9.find_element_by_xpath(\"/html/body/div/div/div/div[2]/div[1]/div[1]/div/div/div/div/span/input\")\n",
    "designation.send_keys(\"data scientist\")"
   ]
  },
  {
   "cell_type": "code",
   "execution_count": 34,
   "id": "8aec5805",
   "metadata": {},
   "outputs": [],
   "source": [
    "press_search = driver9.find_element_by_xpath(\"/html/body/div/div/div/div[2]/div[1]/div[1]/div/div/div/button\")\n",
    "press_search.click()"
   ]
  },
  {
   "cell_type": "code",
   "execution_count": 35,
   "id": "d132dc0a",
   "metadata": {},
   "outputs": [],
   "source": [
    "press_loc =driver9.find_element_by_xpath(\"/html/body/div/div/div/div[2]/div[1]/div[2]/div[1]/div/div/div/div[2]\")\n",
    "press_loc.click()"
   ]
  },
  {
   "cell_type": "code",
   "execution_count": 39,
   "id": "a31828eb",
   "metadata": {},
   "outputs": [],
   "source": [
    "press_noida =driver9.find_element_by_xpath(\"/html/body/div/div/div/div[2]/div[1]/div[2]/div[1]/div/div/div/div[2]/div[2]/div/div[3]/div[1]/div[5]\")\n",
    "press_noida.click()"
   ]
  },
  {
   "cell_type": "code",
   "execution_count": 37,
   "id": "b839176d",
   "metadata": {},
   "outputs": [],
   "source": [
    "company_name = []\n",
    "rating = []\n",
    "days_posted = []"
   ]
  },
  {
   "cell_type": "code",
   "execution_count": 40,
   "id": "63a5fe47",
   "metadata": {
    "scrolled": true
   },
   "outputs": [
    {
     "data": {
      "text/plain": [
       "[<selenium.webdriver.remote.webelement.WebElement (session=\"6697208799cea957e6e28338859f258f\", element=\"0e5da270-4f3a-4d5a-aad4-5b93d09a0e63\")>,\n",
       " <selenium.webdriver.remote.webelement.WebElement (session=\"6697208799cea957e6e28338859f258f\", element=\"3b6127f0-36d5-477c-ac84-d837688c35a3\")>,\n",
       " <selenium.webdriver.remote.webelement.WebElement (session=\"6697208799cea957e6e28338859f258f\", element=\"28f2e5a5-790a-48df-b715-3d70eb8bd1ae\")>,\n",
       " <selenium.webdriver.remote.webelement.WebElement (session=\"6697208799cea957e6e28338859f258f\", element=\"0b3d69a5-5ff4-460b-aa6c-16eb76af120f\")>,\n",
       " <selenium.webdriver.remote.webelement.WebElement (session=\"6697208799cea957e6e28338859f258f\", element=\"44abe6e7-eeca-4346-9c79-9c433848322f\")>,\n",
       " <selenium.webdriver.remote.webelement.WebElement (session=\"6697208799cea957e6e28338859f258f\", element=\"9ec851ce-b88a-412b-bbc2-83e92ff14ffc\")>,\n",
       " <selenium.webdriver.remote.webelement.WebElement (session=\"6697208799cea957e6e28338859f258f\", element=\"a5ae277d-a37b-4e09-8f91-92e015ee0d69\")>,\n",
       " <selenium.webdriver.remote.webelement.WebElement (session=\"6697208799cea957e6e28338859f258f\", element=\"4d822fd3-44d6-45b7-a901-128872a11abf\")>,\n",
       " <selenium.webdriver.remote.webelement.WebElement (session=\"6697208799cea957e6e28338859f258f\", element=\"6607df9d-1f04-4e76-bd5d-554515edce8b\")>,\n",
       " <selenium.webdriver.remote.webelement.WebElement (session=\"6697208799cea957e6e28338859f258f\", element=\"cf511478-13c5-4bea-99c2-80f3d75cfc5a\")>]"
      ]
     },
     "execution_count": 40,
     "metadata": {},
     "output_type": "execute_result"
    }
   ],
   "source": [
    "c_name =driver9.find_elements_by_xpath(\"//p[@class='company body-medium']\")\n",
    "c_name[0:10]"
   ]
  },
  {
   "cell_type": "code",
   "execution_count": 51,
   "id": "007dfddd",
   "metadata": {},
   "outputs": [
    {
     "data": {
      "text/plain": [
       "['GENPACT India Private Limited',\n",
       " 'EXL Services.com ( I ) Pvt. Ltd.',\n",
       " 'GENPACT India Private Limited',\n",
       " 'TECHNIP GLOBAL BUSINESS SERVICES PRIVATE LIMITED',\n",
       " 'Tech Mahindra Ltd',\n",
       " 'GENPACT India Private Limited',\n",
       " 'Bristlecone India Limited',\n",
       " 'Zyoin',\n",
       " 'Ashkom Media India Private Limited',\n",
       " 'Newgen Software Technologies Ltd.']"
      ]
     },
     "execution_count": 51,
     "metadata": {},
     "output_type": "execute_result"
    }
   ],
   "source": [
    "for i in c_name:\n",
    "    c = i.text\n",
    "    company_name.append(c)\n",
    "company_name[0:10]    "
   ]
  },
  {
   "cell_type": "code",
   "execution_count": 42,
   "id": "a293e8f7",
   "metadata": {},
   "outputs": [
    {
     "data": {
      "text/plain": [
       "[<selenium.webdriver.remote.webelement.WebElement (session=\"6697208799cea957e6e28338859f258f\", element=\"e674f629-fefb-4f94-ab5f-352dc194ba61\")>,\n",
       " <selenium.webdriver.remote.webelement.WebElement (session=\"6697208799cea957e6e28338859f258f\", element=\"a7f3849f-1874-40ca-9793-2d60487f7f65\")>,\n",
       " <selenium.webdriver.remote.webelement.WebElement (session=\"6697208799cea957e6e28338859f258f\", element=\"825fea34-1223-44df-9183-fbba2bf4e53e\")>,\n",
       " <selenium.webdriver.remote.webelement.WebElement (session=\"6697208799cea957e6e28338859f258f\", element=\"5e7c57a4-229c-451c-a436-404cd0f2c0b5\")>,\n",
       " <selenium.webdriver.remote.webelement.WebElement (session=\"6697208799cea957e6e28338859f258f\", element=\"c0bb9e1b-e97e-46c8-adde-41ebcf036696\")>,\n",
       " <selenium.webdriver.remote.webelement.WebElement (session=\"6697208799cea957e6e28338859f258f\", element=\"62e43f20-78ab-4d9e-a8cb-1743742e2366\")>,\n",
       " <selenium.webdriver.remote.webelement.WebElement (session=\"6697208799cea957e6e28338859f258f\", element=\"3ce27e59-b72f-47f3-99a4-0a368dac6025\")>,\n",
       " <selenium.webdriver.remote.webelement.WebElement (session=\"6697208799cea957e6e28338859f258f\", element=\"da0fe7f7-17d8-4c95-a752-b707a9ae0239\")>,\n",
       " <selenium.webdriver.remote.webelement.WebElement (session=\"6697208799cea957e6e28338859f258f\", element=\"d55ff8ac-a3e3-41b0-b1af-f3ca71d75002\")>,\n",
       " <selenium.webdriver.remote.webelement.WebElement (session=\"6697208799cea957e6e28338859f258f\", element=\"326eee88-e2b3-43e4-9255-d2f69786f1fe\")>]"
      ]
     },
     "execution_count": 42,
     "metadata": {},
     "output_type": "execute_result"
    }
   ],
   "source": [
    "d_post = driver9.find_elements_by_xpath(\"//span[@class='body-small-l']\")\n",
    "d_post[0:10]"
   ]
  },
  {
   "cell_type": "code",
   "execution_count": 43,
   "id": "be2e4838",
   "metadata": {},
   "outputs": [
    {
     "data": {
      "text/plain": [
       "['13d ago',\n",
       " 'via naukri.com',\n",
       " '6d ago',\n",
       " 'via naukri.com',\n",
       " '18d ago',\n",
       " 'via naukri.com',\n",
       " '4d ago',\n",
       " 'via naukri.com',\n",
       " '1mon ago',\n",
       " 'via naukri.com']"
      ]
     },
     "execution_count": 43,
     "metadata": {},
     "output_type": "execute_result"
    }
   ],
   "source": [
    "for i in d_post:\n",
    "    d = i.text\n",
    "    days_posted.append(d)\n",
    "days_posted[0:10]    "
   ]
  },
  {
   "cell_type": "code",
   "execution_count": 44,
   "id": "62bd398e",
   "metadata": {},
   "outputs": [
    {
     "data": {
      "text/plain": [
       "[<selenium.webdriver.remote.webelement.WebElement (session=\"6697208799cea957e6e28338859f258f\", element=\"18548f67-4771-4e5e-b7a4-00aeb6a42f42\")>,\n",
       " <selenium.webdriver.remote.webelement.WebElement (session=\"6697208799cea957e6e28338859f258f\", element=\"6ad49e0b-ab72-4984-b35d-545420b1f323\")>,\n",
       " <selenium.webdriver.remote.webelement.WebElement (session=\"6697208799cea957e6e28338859f258f\", element=\"cca80e10-3b2c-4df4-bbde-f35fd8886051\")>,\n",
       " <selenium.webdriver.remote.webelement.WebElement (session=\"6697208799cea957e6e28338859f258f\", element=\"25ecb5c1-c9f8-4b94-9a39-5e9da642f6e6\")>,\n",
       " <selenium.webdriver.remote.webelement.WebElement (session=\"6697208799cea957e6e28338859f258f\", element=\"4c4a7395-9f52-4082-b9d5-968fdab19fbc\")>,\n",
       " <selenium.webdriver.remote.webelement.WebElement (session=\"6697208799cea957e6e28338859f258f\", element=\"a4fe76d2-2d48-418d-aafe-5bfe1ee09d66\")>,\n",
       " <selenium.webdriver.remote.webelement.WebElement (session=\"6697208799cea957e6e28338859f258f\", element=\"681f0ff1-eaab-4e65-8697-038260d9a45d\")>,\n",
       " <selenium.webdriver.remote.webelement.WebElement (session=\"6697208799cea957e6e28338859f258f\", element=\"4d11aab6-2400-4f08-bb5c-0b77113355c9\")>,\n",
       " <selenium.webdriver.remote.webelement.WebElement (session=\"6697208799cea957e6e28338859f258f\", element=\"e28a67ba-70de-43d3-bb12-0be3fba45c40\")>,\n",
       " <selenium.webdriver.remote.webelement.WebElement (session=\"6697208799cea957e6e28338859f258f\", element=\"139a6b8a-df25-4288-b94e-1ed308c7be2d\")>]"
      ]
     },
     "execution_count": 44,
     "metadata": {},
     "output_type": "execute_result"
    }
   ],
   "source": [
    "rev =driver9.find_elements_by_xpath(\"//span[@class='body-small']\")\n",
    "rev[0:10]"
   ]
  },
  {
   "cell_type": "code",
   "execution_count": 49,
   "id": "f84e6134",
   "metadata": {},
   "outputs": [
    {
     "data": {
      "text/plain": [
       "['4.0', '3.9', '4.0', '3.9', '3.7', '4.0', '3.8', '4.1', '3.7', '3.5']"
      ]
     },
     "execution_count": 49,
     "metadata": {},
     "output_type": "execute_result"
    }
   ],
   "source": [
    "for i in rev:\n",
    "    r = i.text\n",
    "    rating.append(r)\n",
    "rating[0:10]    "
   ]
  },
  {
   "cell_type": "code",
   "execution_count": 52,
   "id": "033f28b5",
   "metadata": {},
   "outputs": [
    {
     "name": "stdout",
     "output_type": "stream",
     "text": [
      "20 20 20\n"
     ]
    }
   ],
   "source": [
    "print(len(company_name),len(days_posted),len(rating))"
   ]
  },
  {
   "cell_type": "code",
   "execution_count": 55,
   "id": "dca09073",
   "metadata": {},
   "outputs": [],
   "source": [
    "ambition = pd.DataFrame({})\n",
    "ambition['COMPANY NAME'] = company_name\n",
    "ambition['DAYS AGO POSTED'] = days_posted\n",
    "ambition['RATING'] = rating"
   ]
  },
  {
   "cell_type": "code",
   "execution_count": 56,
   "id": "5a8f80fa",
   "metadata": {},
   "outputs": [
    {
     "data": {
      "text/html": [
       "<div>\n",
       "<style scoped>\n",
       "    .dataframe tbody tr th:only-of-type {\n",
       "        vertical-align: middle;\n",
       "    }\n",
       "\n",
       "    .dataframe tbody tr th {\n",
       "        vertical-align: top;\n",
       "    }\n",
       "\n",
       "    .dataframe thead th {\n",
       "        text-align: right;\n",
       "    }\n",
       "</style>\n",
       "<table border=\"1\" class=\"dataframe\">\n",
       "  <thead>\n",
       "    <tr style=\"text-align: right;\">\n",
       "      <th></th>\n",
       "      <th>COMPANY NAME</th>\n",
       "      <th>DAYS AGO POSTED</th>\n",
       "      <th>RATING</th>\n",
       "    </tr>\n",
       "  </thead>\n",
       "  <tbody>\n",
       "    <tr>\n",
       "      <th>0</th>\n",
       "      <td>GENPACT India Private Limited</td>\n",
       "      <td>13d ago</td>\n",
       "      <td>4.0</td>\n",
       "    </tr>\n",
       "    <tr>\n",
       "      <th>1</th>\n",
       "      <td>EXL Services.com ( I ) Pvt. Ltd.</td>\n",
       "      <td>via naukri.com</td>\n",
       "      <td>3.9</td>\n",
       "    </tr>\n",
       "    <tr>\n",
       "      <th>2</th>\n",
       "      <td>GENPACT India Private Limited</td>\n",
       "      <td>6d ago</td>\n",
       "      <td>4.0</td>\n",
       "    </tr>\n",
       "    <tr>\n",
       "      <th>3</th>\n",
       "      <td>TECHNIP GLOBAL BUSINESS SERVICES PRIVATE LIMITED</td>\n",
       "      <td>via naukri.com</td>\n",
       "      <td>3.9</td>\n",
       "    </tr>\n",
       "    <tr>\n",
       "      <th>4</th>\n",
       "      <td>Tech Mahindra Ltd</td>\n",
       "      <td>18d ago</td>\n",
       "      <td>3.7</td>\n",
       "    </tr>\n",
       "    <tr>\n",
       "      <th>5</th>\n",
       "      <td>GENPACT India Private Limited</td>\n",
       "      <td>via naukri.com</td>\n",
       "      <td>4.0</td>\n",
       "    </tr>\n",
       "    <tr>\n",
       "      <th>6</th>\n",
       "      <td>Bristlecone India Limited</td>\n",
       "      <td>4d ago</td>\n",
       "      <td>3.8</td>\n",
       "    </tr>\n",
       "    <tr>\n",
       "      <th>7</th>\n",
       "      <td>Zyoin</td>\n",
       "      <td>via naukri.com</td>\n",
       "      <td>4.1</td>\n",
       "    </tr>\n",
       "    <tr>\n",
       "      <th>8</th>\n",
       "      <td>Ashkom Media India Private Limited</td>\n",
       "      <td>1mon ago</td>\n",
       "      <td>3.7</td>\n",
       "    </tr>\n",
       "    <tr>\n",
       "      <th>9</th>\n",
       "      <td>Newgen Software Technologies Ltd.</td>\n",
       "      <td>via naukri.com</td>\n",
       "      <td>3.5</td>\n",
       "    </tr>\n",
       "  </tbody>\n",
       "</table>\n",
       "</div>"
      ],
      "text/plain": [
       "                                       COMPANY NAME DAYS AGO POSTED RATING\n",
       "0                     GENPACT India Private Limited         13d ago    4.0\n",
       "1                  EXL Services.com ( I ) Pvt. Ltd.  via naukri.com    3.9\n",
       "2                     GENPACT India Private Limited          6d ago    4.0\n",
       "3  TECHNIP GLOBAL BUSINESS SERVICES PRIVATE LIMITED  via naukri.com    3.9\n",
       "4                                 Tech Mahindra Ltd         18d ago    3.7\n",
       "5                     GENPACT India Private Limited  via naukri.com    4.0\n",
       "6                         Bristlecone India Limited          4d ago    3.8\n",
       "7                                             Zyoin  via naukri.com    4.1\n",
       "8                Ashkom Media India Private Limited        1mon ago    3.7\n",
       "9                 Newgen Software Technologies Ltd.  via naukri.com    3.5"
      ]
     },
     "execution_count": 56,
     "metadata": {},
     "output_type": "execute_result"
    }
   ],
   "source": [
    "ambition[0:10]"
   ]
  },
  {
   "cell_type": "markdown",
   "id": "afd90b02",
   "metadata": {},
   "source": [
    "Q10: Write a python program to scrape the salary data for Data Scientist designation.\n",
    "You have to scrape Company name, Number of salaries, Average salary, Minsalary, Max Salary.\n"
   ]
  },
  {
   "cell_type": "code",
   "execution_count": 57,
   "id": "bcd64a4e",
   "metadata": {},
   "outputs": [
    {
     "name": "stdout",
     "output_type": "stream",
     "text": [
      "Requirement already satisfied: selenium in c:\\programdata\\anaconda3\\lib\\site-packages (4.1.3)\n",
      "Requirement already satisfied: urllib3[secure,socks]~=1.26 in c:\\programdata\\anaconda3\\lib\\site-packages (from selenium) (1.26.7)\n",
      "Requirement already satisfied: trio-websocket~=0.9 in c:\\programdata\\anaconda3\\lib\\site-packages (from selenium) (0.9.2)\n",
      "Requirement already satisfied: trio~=0.17 in c:\\programdata\\anaconda3\\lib\\site-packages (from selenium) (0.20.0)\n",
      "Requirement already satisfied: idna in c:\\programdata\\anaconda3\\lib\\site-packages (from trio~=0.17->selenium) (3.2)\n",
      "Requirement already satisfied: sniffio in c:\\programdata\\anaconda3\\lib\\site-packages (from trio~=0.17->selenium) (1.2.0)\n",
      "Requirement already satisfied: attrs>=19.2.0 in c:\\programdata\\anaconda3\\lib\\site-packages (from trio~=0.17->selenium) (21.2.0)\n",
      "Requirement already satisfied: sortedcontainers in c:\\programdata\\anaconda3\\lib\\site-packages (from trio~=0.17->selenium) (2.4.0)\n",
      "Requirement already satisfied: async-generator>=1.9 in c:\\programdata\\anaconda3\\lib\\site-packages (from trio~=0.17->selenium) (1.10)\n",
      "Requirement already satisfied: outcome in c:\\programdata\\anaconda3\\lib\\site-packages (from trio~=0.17->selenium) (1.1.0)\n",
      "Requirement already satisfied: cffi>=1.14 in c:\\programdata\\anaconda3\\lib\\site-packages (from trio~=0.17->selenium) (1.14.6)\n",
      "Requirement already satisfied: pycparser in c:\\programdata\\anaconda3\\lib\\site-packages (from cffi>=1.14->trio~=0.17->selenium) (2.20)\n",
      "Requirement already satisfied: wsproto>=0.14 in c:\\programdata\\anaconda3\\lib\\site-packages (from trio-websocket~=0.9->selenium) (1.1.0)\n",
      "Requirement already satisfied: PySocks!=1.5.7,<2.0,>=1.5.6 in c:\\programdata\\anaconda3\\lib\\site-packages (from urllib3[secure,socks]~=1.26->selenium) (1.7.1)\n",
      "Requirement already satisfied: pyOpenSSL>=0.14 in c:\\programdata\\anaconda3\\lib\\site-packages (from urllib3[secure,socks]~=1.26->selenium) (21.0.0)\n",
      "Requirement already satisfied: cryptography>=1.3.4 in c:\\programdata\\anaconda3\\lib\\site-packages (from urllib3[secure,socks]~=1.26->selenium) (3.4.8)\n",
      "Requirement already satisfied: certifi in c:\\programdata\\anaconda3\\lib\\site-packages (from urllib3[secure,socks]~=1.26->selenium) (2021.10.8)\n",
      "Requirement already satisfied: six>=1.5.2 in c:\\programdata\\anaconda3\\lib\\site-packages (from pyOpenSSL>=0.14->urllib3[secure,socks]~=1.26->selenium) (1.16.0)\n",
      "Requirement already satisfied: h11<1,>=0.9.0 in c:\\programdata\\anaconda3\\lib\\site-packages (from wsproto>=0.14->trio-websocket~=0.9->selenium) (0.13.0)\n"
     ]
    }
   ],
   "source": [
    "!pip install selenium"
   ]
  },
  {
   "cell_type": "code",
   "execution_count": 58,
   "id": "aeae1a16",
   "metadata": {},
   "outputs": [],
   "source": [
    "import selenium\n",
    "from selenium import webdriver\n",
    "import warnings\n",
    "warnings.filterwarnings(\"ignore\")\n",
    "import time\n",
    "import pandas as pd"
   ]
  },
  {
   "cell_type": "code",
   "execution_count": 85,
   "id": "05d6940f",
   "metadata": {},
   "outputs": [],
   "source": [
    "driver10 = webdriver.Chrome(r\"C:\\Web driver\\Chromedriver.exe\")"
   ]
  },
  {
   "cell_type": "code",
   "execution_count": 86,
   "id": "5f1ac277",
   "metadata": {},
   "outputs": [],
   "source": [
    "driver10.get(\"http://www.ambitionbox.com\")"
   ]
  },
  {
   "cell_type": "code",
   "execution_count": 87,
   "id": "7af6fd42",
   "metadata": {},
   "outputs": [],
   "source": [
    "press_sal =driver10.find_element_by_xpath(\"/html/body/div[1]/nav/nav/a[4]\")\n",
    "press_sal.click()"
   ]
  },
  {
   "cell_type": "code",
   "execution_count": 88,
   "id": "e3a22e2f",
   "metadata": {},
   "outputs": [],
   "source": [
    "des= driver10.find_element_by_xpath(\"/html/body/div/div/div/main/section[1]/div[2]/div[1]/span/input\")\n",
    "des.send_keys('Data scientist')"
   ]
  },
  {
   "cell_type": "code",
   "execution_count": 89,
   "id": "8b80c7cb",
   "metadata": {},
   "outputs": [],
   "source": [
    "press_suggestion= driver10.find_element_by_xpath(\"/html/body/div/div/div/main/section[1]/div[2]/div[1]/span/div/div/div[1]/div/div\")\n",
    "press_suggestion.click()"
   ]
  },
  {
   "cell_type": "code",
   "execution_count": 93,
   "id": "ff63fb8d",
   "metadata": {},
   "outputs": [],
   "source": [
    "#creating empty list[]\n",
    "company_name = []\n",
    "number_of_salaries = []\n",
    "average_salary = []\n",
    "minimum_salary = []\n",
    "maximum_salary = []"
   ]
  },
  {
   "cell_type": "code",
   "execution_count": 91,
   "id": "14db9f50",
   "metadata": {},
   "outputs": [
    {
     "data": {
      "text/plain": [
       "[<selenium.webdriver.remote.webelement.WebElement (session=\"d190b781d7ef6975b717eb403e1e82cb\", element=\"a35a5208-0e3d-4471-acb7-3f5bc10bad67\")>,\n",
       " <selenium.webdriver.remote.webelement.WebElement (session=\"d190b781d7ef6975b717eb403e1e82cb\", element=\"0d48c673-0e91-47ae-abe0-669d8ac5c9ff\")>,\n",
       " <selenium.webdriver.remote.webelement.WebElement (session=\"d190b781d7ef6975b717eb403e1e82cb\", element=\"77326e43-4630-4025-bb75-9f90f61935a5\")>,\n",
       " <selenium.webdriver.remote.webelement.WebElement (session=\"d190b781d7ef6975b717eb403e1e82cb\", element=\"00e72d62-6cff-4407-aa1a-e291f2beeba6\")>,\n",
       " <selenium.webdriver.remote.webelement.WebElement (session=\"d190b781d7ef6975b717eb403e1e82cb\", element=\"a12dc393-9246-4223-b46a-9f85d99672cb\")>,\n",
       " <selenium.webdriver.remote.webelement.WebElement (session=\"d190b781d7ef6975b717eb403e1e82cb\", element=\"7d0ebde0-fa02-4b92-bcbc-a4b41b23b952\")>,\n",
       " <selenium.webdriver.remote.webelement.WebElement (session=\"d190b781d7ef6975b717eb403e1e82cb\", element=\"a21abc62-30e5-42c6-b279-06e990e9e264\")>,\n",
       " <selenium.webdriver.remote.webelement.WebElement (session=\"d190b781d7ef6975b717eb403e1e82cb\", element=\"40f43682-fcb3-43e6-93ee-984113fb0a75\")>,\n",
       " <selenium.webdriver.remote.webelement.WebElement (session=\"d190b781d7ef6975b717eb403e1e82cb\", element=\"157e95df-999a-4faf-bc74-1c51d2fe6712\")>,\n",
       " <selenium.webdriver.remote.webelement.WebElement (session=\"d190b781d7ef6975b717eb403e1e82cb\", element=\"6b0346cb-1d90-4c99-9243-be7ef0e22743\")>]"
      ]
     },
     "execution_count": 91,
     "metadata": {},
     "output_type": "execute_result"
    }
   ],
   "source": [
    "c_name = driver10.find_elements_by_xpath(\"//div[@class='name']\")\n",
    "c_name[0:10]"
   ]
  },
  {
   "cell_type": "code",
   "execution_count": 94,
   "id": "eaa870ab",
   "metadata": {},
   "outputs": [
    {
     "data": {
      "text/plain": [
       "['Walmart\\nbased on 11 salaries',\n",
       " 'Ab Inbev\\nbased on 32 salaries',\n",
       " 'Reliance Jio\\nbased on 10 salaries',\n",
       " 'ZS\\nbased on 15 salaries',\n",
       " 'Optum\\nbased on 27 salaries',\n",
       " 'Fractal Analytics\\nbased on 81 salaries',\n",
       " 'Tiger Analytics\\nbased on 46 salaries',\n",
       " 'UnitedHealth\\nbased on 53 salaries',\n",
       " 'Verizon\\nbased on 14 salaries',\n",
       " 'Ganit Business Solutions\\nbased on 13 salaries']"
      ]
     },
     "execution_count": 94,
     "metadata": {},
     "output_type": "execute_result"
    }
   ],
   "source": [
    "for i in c_name:\n",
    "    c = i.text\n",
    "    company_name.append(c)\n",
    "company_name[0:10]    "
   ]
  },
  {
   "cell_type": "code",
   "execution_count": 95,
   "id": "3103b69a",
   "metadata": {},
   "outputs": [
    {
     "data": {
      "text/plain": [
       "[<selenium.webdriver.remote.webelement.WebElement (session=\"d190b781d7ef6975b717eb403e1e82cb\", element=\"4b3afc06-f4d7-4fb3-8115-5dd4010c14e4\")>,\n",
       " <selenium.webdriver.remote.webelement.WebElement (session=\"d190b781d7ef6975b717eb403e1e82cb\", element=\"c1284404-38f6-401d-81d8-ddb4e41083e5\")>,\n",
       " <selenium.webdriver.remote.webelement.WebElement (session=\"d190b781d7ef6975b717eb403e1e82cb\", element=\"692a195b-db9f-447a-b418-6ce710d5515f\")>,\n",
       " <selenium.webdriver.remote.webelement.WebElement (session=\"d190b781d7ef6975b717eb403e1e82cb\", element=\"53e83dd4-e93d-4704-98e7-c4386fdb77de\")>,\n",
       " <selenium.webdriver.remote.webelement.WebElement (session=\"d190b781d7ef6975b717eb403e1e82cb\", element=\"d99226be-b387-45ca-bce5-20dffc8175ea\")>,\n",
       " <selenium.webdriver.remote.webelement.WebElement (session=\"d190b781d7ef6975b717eb403e1e82cb\", element=\"0d46429f-e67e-455a-b6f6-1d0270584fb3\")>,\n",
       " <selenium.webdriver.remote.webelement.WebElement (session=\"d190b781d7ef6975b717eb403e1e82cb\", element=\"1fcc93dd-40b7-4571-a5ad-ad961926821a\")>,\n",
       " <selenium.webdriver.remote.webelement.WebElement (session=\"d190b781d7ef6975b717eb403e1e82cb\", element=\"e8d0ee56-f834-4d8c-a2ea-6ab914a486db\")>,\n",
       " <selenium.webdriver.remote.webelement.WebElement (session=\"d190b781d7ef6975b717eb403e1e82cb\", element=\"0b8f84f4-f4d1-488c-983e-0e77aa82a04f\")>,\n",
       " <selenium.webdriver.remote.webelement.WebElement (session=\"d190b781d7ef6975b717eb403e1e82cb\", element=\"a4963b41-53ab-4474-996d-94e5c4ab1c40\")>]"
      ]
     },
     "execution_count": 95,
     "metadata": {},
     "output_type": "execute_result"
    }
   ],
   "source": [
    "a_salary = driver10.find_elements_by_xpath(\"//p[@class='averageCtc']\")\n",
    "a_salary[0:10]"
   ]
  },
  {
   "cell_type": "code",
   "execution_count": 96,
   "id": "ab7e0ddb",
   "metadata": {},
   "outputs": [
    {
     "data": {
      "text/plain": [
       "['₹ 29.7L',\n",
       " '₹ 20.5L',\n",
       " '₹ 18.9L',\n",
       " '₹ 15.9L',\n",
       " '₹ 15.2L',\n",
       " '₹ 15.2L',\n",
       " '₹ 14.8L',\n",
       " '₹ 14.0L',\n",
       " '₹ 12.7L',\n",
       " '₹ 12.4L']"
      ]
     },
     "execution_count": 96,
     "metadata": {},
     "output_type": "execute_result"
    }
   ],
   "source": [
    "for i in a_salary:\n",
    "    a = i.text\n",
    "    average_salary.append(a)\n",
    "average_salary[0:10]    "
   ]
  },
  {
   "cell_type": "code",
   "execution_count": null,
   "id": "e3336673",
   "metadata": {},
   "outputs": [],
   "source": [
    "min_salary = driver10.find_elements_by_xpath(\"//div[@class='solid-salary-bar salary-bar-wrapper']\")\n",
    "min_salary[0:10]"
   ]
  },
  {
   "cell_type": "code",
   "execution_count": null,
   "id": "26367892",
   "metadata": {},
   "outputs": [],
   "source": [
    "for i in min_salary:\n",
    "    min = i.text\n",
    "    minimum_salary.append(min)\n",
    "minimum_salary[0:10]    "
   ]
  },
  {
   "cell_type": "code",
   "execution_count": null,
   "id": "edabefb6",
   "metadata": {},
   "outputs": [],
   "source": [
    "max_salary = driver10.find_elements_by_xpath(\"\")\n",
    "max_salary[0:10]"
   ]
  },
  {
   "cell_type": "code",
   "execution_count": null,
   "id": "65ea9b7c",
   "metadata": {},
   "outputs": [],
   "source": [
    "for i in max_salary:\n",
    "    max = i.text\n",
    "    maximum_salary.append(max)\n",
    "maximum_salary[0:10]    "
   ]
  },
  {
   "cell_type": "code",
   "execution_count": null,
   "id": "a23370f3",
   "metadata": {},
   "outputs": [],
   "source": []
  },
  {
   "cell_type": "code",
   "execution_count": null,
   "id": "3f02fc2f",
   "metadata": {},
   "outputs": [],
   "source": []
  }
 ],
 "metadata": {
  "kernelspec": {
   "display_name": "Python 3 (ipykernel)",
   "language": "python",
   "name": "python3"
  },
  "language_info": {
   "codemirror_mode": {
    "name": "ipython",
    "version": 3
   },
   "file_extension": ".py",
   "mimetype": "text/x-python",
   "name": "python",
   "nbconvert_exporter": "python",
   "pygments_lexer": "ipython3",
   "version": "3.9.7"
  }
 },
 "nbformat": 4,
 "nbformat_minor": 5
}
