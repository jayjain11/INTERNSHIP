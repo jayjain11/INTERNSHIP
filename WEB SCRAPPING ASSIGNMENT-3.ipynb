{
 "cells": [
  {
   "cell_type": "markdown",
   "id": "98818594",
   "metadata": {},
   "source": [
    "1. Python program which searches all the product under a particular product vertical from www.amazon.in. The product verticals to be searched will be taken as input from user. For e.g. If user input is ‘guitar’. Then search for guitars.\n",
    "\n",
    "2. In the above question, now scrape the following details of each product listed in first 3 pages of your search results and save it in a data frame and csv. In case if any product vertical has less than 3 pages in search results then scrape all the products available under that product vertical. Details to be scraped are: \"Brand Name\", \"Name of the Product\", \"Rating\", \"No. of Ratings\", \"Price\", \"Return/Exchange\", \"Expected Delivery\", \"Availability\", \"Other Details\" and “Product URL”. In case, if any of the details are missing for any of the product then replace it by “-“."
   ]
  },
  {
   "cell_type": "code",
   "execution_count": 38,
   "id": "e9770d00",
   "metadata": {},
   "outputs": [],
   "source": [
    "import pandas as pd\n",
    "import selenium\n",
    "import requests\n",
    "from selenium import webdriver\n",
    "from selenium.common.exceptions import NoSuchElementException, StaleElementReferenceException\n",
    "from bs4 import BeautifulSoup"
   ]
  },
  {
   "cell_type": "code",
   "execution_count": 39,
   "id": "6e89bdac",
   "metadata": {},
   "outputs": [
    {
     "name": "stderr",
     "output_type": "stream",
     "text": [
      "C:\\Users\\Asus\\AppData\\Local\\Temp/ipykernel_16612/1143822594.py:1: DeprecationWarning: executable_path has been deprecated, please pass in a Service object\n",
      "  driver =  webdriver.Chrome(r\"C:\\Web driver\\chromedriver.exe\")\n"
     ]
    }
   ],
   "source": [
    "driver =  webdriver.Chrome(r\"C:\\Web driver\\chromedriver.exe\")\n",
    "driver.get(\"https://www.Amazon.in/\")\n",
    "driver.maximize_window()"
   ]
  },
  {
   "cell_type": "code",
   "execution_count": 40,
   "id": "7b195e0a",
   "metadata": {},
   "outputs": [],
   "source": [
    "Titles = []\n",
    "Ratings = []\n",
    "Prices = []\n",
    "Rated = []\n",
    "Delivery = []\n",
    "Images = []"
   ]
  },
  {
   "cell_type": "code",
   "execution_count": 41,
   "id": "1e679434",
   "metadata": {},
   "outputs": [
    {
     "name": "stderr",
     "output_type": "stream",
     "text": [
      "C:\\Users\\Asus\\AppData\\Local\\Temp/ipykernel_16612/1110099664.py:1: DeprecationWarning: find_element_by_* commands are deprecated. Please use find_element() instead\n",
      "  search_bar = driver.find_element_by_id(\"twotabsearchtextbox\")\n",
      "C:\\Users\\Asus\\AppData\\Local\\Temp/ipykernel_16612/1110099664.py:4: DeprecationWarning: find_element_by_xpath is deprecated. Please use find_element(by=By.XPATH, value=xpath) instead\n",
      "  search_button = driver.find_element_by_xpath('//span[@id=\"nav-search-submit-text\"]')\n"
     ]
    }
   ],
   "source": [
    "search_bar = driver.find_element_by_id(\"twotabsearchtextbox\")\n",
    "search_bar.clear()\n",
    "search_bar.send_keys(\"guitar\")\n",
    "search_button = driver.find_element_by_xpath('//span[@id=\"nav-search-submit-text\"]')\n",
    "search_button.click()"
   ]
  },
  {
   "cell_type": "code",
   "execution_count": 42,
   "id": "0376ca8e",
   "metadata": {},
   "outputs": [
    {
     "name": "stderr",
     "output_type": "stream",
     "text": [
      "C:\\Users\\Asus\\AppData\\Local\\Temp/ipykernel_16612/4114633705.py:1: DeprecationWarning: find_elements_by_xpath is deprecated. Please use find_elements(by=By.XPATH, value=xpath) instead\n",
      "  prices1=driver.find_elements_by_xpath(\"//span[@class='a-price-whole']\")\n"
     ]
    }
   ],
   "source": [
    "prices1=driver.find_elements_by_xpath(\"//span[@class='a-price-whole']\")\n",
    "for i in prices1:\n",
    "    Prices.append(i.text)"
   ]
  },
  {
   "cell_type": "code",
   "execution_count": 43,
   "id": "471168fc",
   "metadata": {},
   "outputs": [
    {
     "data": {
      "text/plain": [
       "['2,499',\n",
       " '5,399',\n",
       " '7,348',\n",
       " '3,999',\n",
       " '2,095',\n",
       " '2,150',\n",
       " '2,639',\n",
       " '7,499',\n",
       " '2,150',\n",
       " '5,399',\n",
       " '',\n",
       " '',\n",
       " '3,029',\n",
       " '2,199',\n",
       " '1,990',\n",
       " '5,399',\n",
       " '4,280',\n",
       " '2,639',\n",
       " '3,009',\n",
       " '2,199',\n",
       " '2,499',\n",
       " '8,990',\n",
       " '2,350',\n",
       " '5,759',\n",
       " '2,639',\n",
       " '899',\n",
       " '2,499',\n",
       " '939',\n",
       " '899',\n",
       " '2,639',\n",
       " '2,599',\n",
       " '9,990',\n",
       " '2,479',\n",
       " '2,639',\n",
       " '2,290',\n",
       " '4,490',\n",
       " '3,890',\n",
       " '1,549',\n",
       " '2,499',\n",
       " '2,499',\n",
       " '2,290',\n",
       " '13,739',\n",
       " '2,695',\n",
       " '2,589',\n",
       " '2,639',\n",
       " '7,490',\n",
       " '181',\n",
       " '7,500',\n",
       " '8,499',\n",
       " '9,379',\n",
       " '2,499',\n",
       " '3,169',\n",
       " '2,350',\n",
       " '7,349',\n",
       " '4,199',\n",
       " '5,499',\n",
       " '12,189',\n",
       " '4,280',\n",
       " '6,823',\n",
       " '2,849',\n",
       " '4,295',\n",
       " '4,080',\n",
       " '3,990',\n",
       " '7,499']"
      ]
     },
     "execution_count": 43,
     "metadata": {},
     "output_type": "execute_result"
    }
   ],
   "source": [
    "Prices"
   ]
  },
  {
   "cell_type": "code",
   "execution_count": 44,
   "id": "282d6ff8",
   "metadata": {},
   "outputs": [
    {
     "name": "stderr",
     "output_type": "stream",
     "text": [
      "C:\\Users\\Asus\\AppData\\Local\\Temp/ipykernel_16612/1853535770.py:1: DeprecationWarning: find_elements_by_xpath is deprecated. Please use find_elements(by=By.XPATH, value=xpath) instead\n",
      "  titles1=driver.find_elements_by_xpath(\"//h2[@class='a-size-mini a-spacing-none a-color-base s-line-clamp-4']\")\n"
     ]
    }
   ],
   "source": [
    "titles1=driver.find_elements_by_xpath(\"//h2[@class='a-size-mini a-spacing-none a-color-base s-line-clamp-4']\")\n",
    "for i in titles1:\n",
    "    Titles.append(i.text)"
   ]
  },
  {
   "cell_type": "code",
   "execution_count": 45,
   "id": "77f48c03",
   "metadata": {},
   "outputs": [
    {
     "data": {
      "text/plain": [
       "['Medellin 38\" Acoustic Guitar Brown Carbon Fiber Body with FREE Online LEARNING COURSE Durable Matt finish Body for beginners with handrest, set of Strings, Strap, Bag, 3 Picks, Capo, Guitar Wall Hanging Stand and Free GUITAR LEARNING COURSE (Special Learning Combo with Guitar)',\n",
       " 'Kadence Frontier guitar with Online Guitar learning course, Wine Red Acoustic Guitar with Die Cast Keys, Set of Strings, Strap, Picks and Bag (Wine Red, Acoustic)',\n",
       " 'Kadence Frontier Jumbo Semi Acoustic Guitar With Die Cast Keys Super Combo (Bag, 1 pack Strings, Strap, Picks, Capo, Tuner (natural)',\n",
       " 'Vault Traveller 34 Inch Acoustic Guitar With Bag, Strap, Strings, Polishing Cloth, String Winder and Picks - Natural Gloss',\n",
       " 'Juârez Acoustic Guitar, 38 Inch Cutaway, 038C with Bag, Strings, Pick and Strap, Black',\n",
       " 'Intern INT-38C Acoustic Guitar Kit, With Bag, Strings, Pick And Strap, Black',\n",
       " 'Juarez Acoustic Guitar, 38 Inch Curved Body Cutaway, 38CUR with Bag, Strings, Pick and Strap, Black',\n",
       " 'Kadence Guitar Acoustica Series, Electric Acoustic Guitar, Ash Wood with Pickup and Inbuilt tuner (Ash Wood, Electro Acoustic)',\n",
       " 'Intern INT-38C Acoustic Guitar Kit, With Bag, Strings, Pick And Strap, Black',\n",
       " 'Kadence Frontier guitar with Online Guitar learning course, Wine Red Acoustic Guitar with Die Cast Keys, Set of Strings, Strap, Picks and Bag (Wine Red, Acoustic)',\n",
       " '',\n",
       " '',\n",
       " 'Intern INT-38C Acoustic Guitar Kit, With Bag, Strings, Pick And Strap, Blue',\n",
       " 'Medellin 38\" Acoustic Guitar Carbon Fiber body+(Free Online Learning Course) - Durable Matt finish with handrest, strings, strap, bag, 3 Picks, capo, stand.',\n",
       " 'Photron Acoustic Guitar, 38 Inch Cutaway, PH38C/BK with Picks Only, Black (Without Bag, Strap and Extra Strings)',\n",
       " 'Kadence Frontier guitar with Online Guitar learning course, Wine Red Acoustic Guitar with Die Cast Keys, Set of Strings, Strap, Picks and Bag (Wine Red, Acoustic)',\n",
       " 'Hovner 215 Black F-Cut Rosewood Fretboard Acoustic Guitar With Bag,Strap,1 Set of Extra Strings and 2 Picks By K-Retail',\n",
       " 'JUAREZ JRZ38C Right Handed Acoustic Guitar with Bag, Strings, Pick and Strap (Natural, 6 Strings)',\n",
       " 'Intern 38C Cutaway Design Black Acoustic Guitar with Picks & Carry Bag',\n",
       " 'Medellin 38\" Carbon Fiber Acoustic Guitar with free specailized learning course- MDCF38BK Durable Carbon Fiber Matt Sunburst finish Body for beginners with handrest, set of Strings, Strap, Bag, 3 Picks, Capo, Guitar Wall Hanging Stand and Free GUITAR LEARNING COURSE (Special Learning Combo with Guitar)',\n",
       " 'Medellin 38\" Acoustic Guitar Black Carbon Fiber body+(Free Online Learning Course) - Durable Matt finish with handrest, strings, strap, bag, 3 Picks, capo, stand.',\n",
       " 'Yamaha F280 Acoustic Guitar, Tobacco Brown Sunburst with Bajaao Gig bag',\n",
       " 'Intern INT-38C Acoustic Guitar Kit (Sunburst) with Carry bag, Picks, Strings set and Guitar Strap, Small',\n",
       " 'Juarez JRZ-ST01, 6 Strings Electric Guitar, Right Handed with Bag/Case, 2 x Picks (3TS Sunburst)',\n",
       " 'Juarez Acoustic Guitar Kit, 38 Inch Cutaway, 38C with Bag, Strings, Pick and Strap, TBS Transparent Blue Sunburst',\n",
       " \"HOMME STORE 4 String Guitar Children's Musical Instrument Educational Toy Guitar Ukulele Instruments Beginner Musical Sound Toys Best Gift for Children\",\n",
       " 'Medellin carbn fiber guitar 38inch (NATURAL)',\n",
       " 'Kajal Enterprise 4-String Acoustic Learning Guitar Toy Musical Instrument Educational Guitar Toy for Beginners Kids Child (Brown)',\n",
       " 'HOMME STORE 4 String Guitar Kids Brown Plastic 4 String Acoustic Guitar for Kids Musical Instrument Learning Educational Small Toy for Boys & Girls (Wooden Guitar) (1)',\n",
       " 'Juarez Acoustic Guitar Kit, 38 Inch Cutaway, 38C with Bag, Strings, Pick and Strap, 3TS Sunburst',\n",
       " 'Medellin MED-BLU-C Linden Wood Acoustic Guitar',\n",
       " 'Yamaha FS100C Acoustic Guitar, Black',\n",
       " 'Juârez Acoustic Guitar, 38 Inch Cutaway, JRZ38CT, Hippie Funky Design, with Bag, Picks, Strap & Extra String set',\n",
       " 'Juarez Acoustic Guitar, 38 Inch Cutaway with Pick Guard, 38CPG with Bag, Strings, Pick and Strap, Black',\n",
       " 'Yamaha Classical Guitar C40//02',\n",
       " 'Intern INT-38C-BK-G Cutaway Right Handed Acoustic Guitar Kit, With Bag, Strings, Pick And Strap (Black, 6 Strings)',\n",
       " 'Hovner Carlton Special Quality Rosewood Fretboard Blue Semi Acoustic Guitar With Bag,Strap,1 Set of Extra Strings and 2 Picks By K-Retail (Blue)',\n",
       " 'Kordz Luana Natural Wooden 41 Inch Rosewood Fretboard Acoustic Guitar With Bag,Strap,1 Set of Extra Strings and 2 Picks',\n",
       " 'TOXOT TOYS 38 IN Right Handed Acoustic Guitar With Carry Bag & Picks | Musical Instrument Learning Toy for Kids | Humidity Proof, Bend resistance, Durable Action, Natural Tone & Bright Resonance',\n",
       " 'Medellin 38\" Carbon Fiber Acoustic Guitar with free specailized learning course- MDCF38BK Durable Carbon Fiber Matt Pink finish Body for beginners with handrest, set of Strings, Strap, Bag, 3 Picks, Capo, Guitar Wall Hanging Stand and Free GUITAR LEARNING COURSE (Special Learning Combo with Guitar)',\n",
       " 'Medellin 38\" Acoustic Guitar Brown Carbon Fiber Body with FREE Online LEARNING COURSE Durable Matt finish Body for beginners with handrest, set of Strings, Strap, Bag, 3 Picks, Capo, Guitar Wall Hanging Stand and Free GUITAR LEARNING COURSE (Special Learning Combo with Guitar)',\n",
       " 'Intern INT-38C-SB-G Cutaway Right Handed Acoustic Guitar Kit, With Bag, Strings, Pick And Strap (Sunburst, 6 Strings)',\n",
       " 'Yamaha FSX80C Semi Acoustic Cutaway Guitar with Bag (Black)',\n",
       " 'Blueberry 38C, 38\" Acoustic Guitar Kit with Bag, Strap, One Pack Strings And Picks (Black)',\n",
       " 'INTERN Cutaway Design Acoustic Guitar Pack -Humidity Proof body, Bend resistance, Durable Action, Natural tone & bright resonance. Blue Carbon Fibre/Fiber Guitar with Bag, Strap, Strings set, Picks',\n",
       " 'Juarez Acoustic Guitar, 38 Inch Cutaway, 38CMB with Bag, Strings, Pick and Strap, Matte Black',\n",
       " 'YAMAHA FS80C NATURAL CONCERT CUTAWAY GUITAR',\n",
       " 'JUAREZ Acoustic Guitar 3xE 1st String & 2 Pick Set JRGSE32',\n",
       " 'Ibanez MD39C-NT Acoustic Guitar (Natural), Designed in Japan and Made Specially for India',\n",
       " 'Saga SF-600GC-BK Grand Concert Acoustic Guitar (BLACK)',\n",
       " 'Yamaha Acoustic Guitar F280 Dreadnought With Mexa Sponge Bag Belt,Plectrums, String Set & Guitar Stand (Natural)',\n",
       " 'Medellin carbn fiber guitar 38inch (NATURAL)',\n",
       " 'JUAREZ JRZ38CTR/BK 38 Inch Acoustic Guitar with Dual Action Truss Rod, Bag, Picks, Allen Key, Extra String Set, Black',\n",
       " 'Intern INT-38C Acoustic Guitar Kit, With Bag, Strings, Pick And Strap, Red',\n",
       " 'Kadence Frontier Jumbo Semi Acoustic Guitar With Die Cast Keys,Super Combo (Bag, 1 pack Strings, Strap, Picks, Capo, Tuner)',\n",
       " 'Givson Ketostics Venus Special VS-BLK, Acoustic Guitar Combo with Cover/Bag, String Set, Belt and Picks',\n",
       " 'Yamaha FSX80C Semi Acoustic Cutaway Guitar with Bag (Natural)',\n",
       " 'Kadence Guitar Frontier Series, Electric Acoustic Black Guitar With EQ, Die Cast Keys, Set of Strings, Strap, Picks and Bag (Black EQ, Electric Acoustic)',\n",
       " 'Yamaha Electric-Acoustic Guitar FX280 Dreadnought With Mexa Sponge Guitar Bag, Belt,Plectrums (Natural)',\n",
       " 'Hovner 215 Green F-Cut Rosewood Fretboard Acoustic Guitar With Bag,Strap,1 Set of Extra Strings and 2 Picks V2',\n",
       " 'Kadence Acoustica 40\" Mahogany Left-Handed Acoustic Guitar A03 L with bag',\n",
       " 'Blueberry 38 Inch Acoustic Guitar Kit Inbuilt Truss Rod, with Bag, Belt, One Pack Strings And Picks (Brown)',\n",
       " 'Blueberry B40L, 40\" Acoustic Guitar Kit Inbuilt Truss Rod with Bag, Strap, One Pack Strings And Picks (Classic Brown)',\n",
       " 'Festra 38C, 38 Inch Acoustic Guitar Kit with Bag, Strap, One Pack Strings And 2 Picks (Black) (Acoustic TRUSS-ROD (40 Inch) Guitar Kit, Natural)',\n",
       " 'SHARE BY Blueberry R-40- Trussrod Acoustic Guitar Kit with Bag, Strap, One Pack Strings and Picks (Natural)',\n",
       " 'Kadence Guitar Acoustica Series, Electric Acoustic Guitar, Ash Wood with Pickup and Inbuilt tuner (Ash Wood, Electro Acoustic)']"
      ]
     },
     "execution_count": 45,
     "metadata": {},
     "output_type": "execute_result"
    }
   ],
   "source": [
    "Titles"
   ]
  },
  {
   "cell_type": "code",
   "execution_count": 46,
   "id": "1e0c64c2",
   "metadata": {},
   "outputs": [
    {
     "name": "stderr",
     "output_type": "stream",
     "text": [
      "C:\\Users\\Asus\\AppData\\Local\\Temp/ipykernel_16612/1750431826.py:1: DeprecationWarning: find_elements_by_xpath is deprecated. Please use find_elements(by=By.XPATH, value=xpath) instead\n",
      "  urls=driver.find_elements_by_xpath(\"//a[@class='a-link-normal a-text-normal']\")\n",
      "C:\\Users\\Asus\\AppData\\Local\\Temp/ipykernel_16612/1750431826.py:8: DeprecationWarning: find_element_by_xpath is deprecated. Please use find_element(by=By.XPATH, value=xpath) instead\n",
      "  deliveries=driver.find_element_by_xpath(\"//div[@class='a-section a-spacing-mini']\")\n",
      "C:\\Users\\Asus\\AppData\\Local\\Temp/ipykernel_16612/1750431826.py:10: DeprecationWarning: find_element_by_xpath is deprecated. Please use find_element(by=By.XPATH, value=xpath) instead\n",
      "  rate=driver.find_element_by_xpath(\"//span[@id='acrCustomerReviewText']\")\n",
      "C:\\Users\\Asus\\AppData\\Local\\Temp/ipykernel_16612/1750431826.py:12: DeprecationWarning: find_element_by_xpath is deprecated. Please use find_element(by=By.XPATH, value=xpath) instead\n",
      "  rating=driver.find_element_by_xpath(\"//span[@class='a-size-medium a-color-base']\")\n",
      "C:\\Users\\Asus\\AppData\\Local\\Temp/ipykernel_16612/1750431826.py:14: DeprecationWarning: find_element_by_xpath is deprecated. Please use find_element(by=By.XPATH, value=xpath) instead\n",
      "  rates=driver.find_element_by_xpath(\"//span[@class='a-size-base a-color-secondary']\")\n"
     ]
    }
   ],
   "source": [
    "urls=driver.find_elements_by_xpath(\"//a[@class='a-link-normal a-text-normal']\")\n",
    "url1=[]\n",
    "for i in urls:\n",
    "    url1.append(i.get_attribute('href'))\n",
    "for url in url1:\n",
    "    driver.get(url)\n",
    "    try:\n",
    "        deliveries=driver.find_element_by_xpath(\"//div[@class='a-section a-spacing-mini']\")\n",
    "        Delivery.append(deliveries.text)\n",
    "        rate=driver.find_element_by_xpath(\"//span[@id='acrCustomerReviewText']\")\n",
    "        rate.click()\n",
    "        rating=driver.find_element_by_xpath(\"//span[@class='a-size-medium a-color-base']\")\n",
    "        Ratings.append(rating.text)\n",
    "        rates=driver.find_element_by_xpath(\"//span[@class='a-size-base a-color-secondary']\")\n",
    "        Rated.append(rates.text)\n",
    "    except NoSuchElementException as e:\n",
    "        Ratings.append(\"No rating\")\n",
    "        Rated.append(\"No rating\")\n",
    "        Delivery.append(\"No rating\")"
   ]
  },
  {
   "cell_type": "code",
   "execution_count": 47,
   "id": "8848bd60",
   "metadata": {},
   "outputs": [
    {
     "name": "stderr",
     "output_type": "stream",
     "text": [
      "C:\\Users\\Asus\\AppData\\Local\\Temp/ipykernel_16612/822333215.py:3: DeprecationWarning: find_elements_by_xpath is deprecated. Please use find_elements(by=By.XPATH, value=xpath) instead\n",
      "  urls=driver.find_elements_by_xpath(\"//img[@class='s-image']\")\n"
     ]
    }
   ],
   "source": [
    "url=\"https://www.amazon.in/s?k=guitar&ref=nb_sb_noss\"\n",
    "driver.get(url)\n",
    "urls=driver.find_elements_by_xpath(\"//img[@class='s-image']\")\n",
    "for i in urls:\n",
    "    Images.append(i.get_attribute('src'))\n",
    "for url in Images:\n",
    "    driver.get(url)"
   ]
  },
  {
   "cell_type": "code",
   "execution_count": 48,
   "id": "68c2e20b",
   "metadata": {},
   "outputs": [
    {
     "data": {
      "text/plain": [
       "['3.9 out of 5', '3.9 out of 5']"
      ]
     },
     "execution_count": 48,
     "metadata": {},
     "output_type": "execute_result"
    }
   ],
   "source": [
    "Ratings"
   ]
  },
  {
   "cell_type": "code",
   "execution_count": 49,
   "id": "841685aa",
   "metadata": {},
   "outputs": [
    {
     "data": {
      "text/plain": [
       "['Size:', 'Size:']"
      ]
     },
     "execution_count": 49,
     "metadata": {},
     "output_type": "execute_result"
    }
   ],
   "source": [
    "Rated"
   ]
  },
  {
   "cell_type": "code",
   "execution_count": 50,
   "id": "26c00057",
   "metadata": {},
   "outputs": [
    {
     "data": {
      "text/plain": [
       "['Ends in 11h 13m 02s', 'Ends in 11h 12m 57s']"
      ]
     },
     "execution_count": 50,
     "metadata": {},
     "output_type": "execute_result"
    }
   ],
   "source": [
    "Delivery"
   ]
  },
  {
   "cell_type": "code",
   "execution_count": 51,
   "id": "64ee16c3",
   "metadata": {},
   "outputs": [
    {
     "name": "stdout",
     "output_type": "stream",
     "text": [
      "66\n",
      "64\n",
      "2\n",
      "2\n",
      "2\n",
      "64\n"
     ]
    }
   ],
   "source": [
    "print(len(Titles))\n",
    "print(len(Prices))\n",
    "print(len(Ratings))\n",
    "print(len(Delivery))\n",
    "print(len(Rated))\n",
    "print(len(Images))"
   ]
  },
  {
   "cell_type": "code",
   "execution_count": 53,
   "id": "31c677d5",
   "metadata": {},
   "outputs": [],
   "source": [
    "import pandas as pd\n",
    "amazon=pd.DataFrame({})\n",
    "amazon['Titles']=Titles[0:2]\n",
    "amazon['Prices']=Prices[0:2]\n",
    "amazon['Ratings']=Ratings[0:2]\n",
    "amazon['Rates']=Rated[0:2]\n",
    "amazon['Delivery']=Delivery[0:2]\n",
    "amazon['Images']=Images[0:2]"
   ]
  },
  {
   "cell_type": "code",
   "execution_count": 54,
   "id": "f59ac313",
   "metadata": {},
   "outputs": [
    {
     "data": {
      "text/html": [
       "<div>\n",
       "<style scoped>\n",
       "    .dataframe tbody tr th:only-of-type {\n",
       "        vertical-align: middle;\n",
       "    }\n",
       "\n",
       "    .dataframe tbody tr th {\n",
       "        vertical-align: top;\n",
       "    }\n",
       "\n",
       "    .dataframe thead th {\n",
       "        text-align: right;\n",
       "    }\n",
       "</style>\n",
       "<table border=\"1\" class=\"dataframe\">\n",
       "  <thead>\n",
       "    <tr style=\"text-align: right;\">\n",
       "      <th></th>\n",
       "      <th>Titles</th>\n",
       "      <th>Prices</th>\n",
       "      <th>Ratings</th>\n",
       "      <th>Rates</th>\n",
       "      <th>Delivery</th>\n",
       "      <th>Images</th>\n",
       "    </tr>\n",
       "  </thead>\n",
       "  <tbody>\n",
       "    <tr>\n",
       "      <th>0</th>\n",
       "      <td>Medellin 38\" Acoustic Guitar Brown Carbon Fibe...</td>\n",
       "      <td>2,499</td>\n",
       "      <td>3.9 out of 5</td>\n",
       "      <td>Size:</td>\n",
       "      <td>Ends in 11h 13m 02s</td>\n",
       "      <td>https://m.media-amazon.com/images/I/51-lqvxDAF...</td>\n",
       "    </tr>\n",
       "    <tr>\n",
       "      <th>1</th>\n",
       "      <td>Kadence Frontier guitar with Online Guitar lea...</td>\n",
       "      <td>5,399</td>\n",
       "      <td>3.9 out of 5</td>\n",
       "      <td>Size:</td>\n",
       "      <td>Ends in 11h 12m 57s</td>\n",
       "      <td>https://m.media-amazon.com/images/I/51FdLmNuPS...</td>\n",
       "    </tr>\n",
       "  </tbody>\n",
       "</table>\n",
       "</div>"
      ],
      "text/plain": [
       "                                              Titles Prices       Ratings  \\\n",
       "0  Medellin 38\" Acoustic Guitar Brown Carbon Fibe...  2,499  3.9 out of 5   \n",
       "1  Kadence Frontier guitar with Online Guitar lea...  5,399  3.9 out of 5   \n",
       "\n",
       "   Rates             Delivery  \\\n",
       "0  Size:  Ends in 11h 13m 02s   \n",
       "1  Size:  Ends in 11h 12m 57s   \n",
       "\n",
       "                                              Images  \n",
       "0  https://m.media-amazon.com/images/I/51-lqvxDAF...  \n",
       "1  https://m.media-amazon.com/images/I/51FdLmNuPS...  "
      ]
     },
     "execution_count": 54,
     "metadata": {},
     "output_type": "execute_result"
    }
   ],
   "source": [
    "amazon"
   ]
  },
  {
   "cell_type": "code",
   "execution_count": 55,
   "id": "ce222c76",
   "metadata": {},
   "outputs": [],
   "source": [
    "url=\"https://www.amazon.in/s?k=guitar&page=2&qid=1619266454&ref=sr_pg_2\""
   ]
  },
  {
   "cell_type": "code",
   "execution_count": 56,
   "id": "4666c6c8",
   "metadata": {},
   "outputs": [],
   "source": [
    "driver.get(url)"
   ]
  },
  {
   "cell_type": "code",
   "execution_count": 58,
   "id": "557810a3",
   "metadata": {},
   "outputs": [
    {
     "name": "stderr",
     "output_type": "stream",
     "text": [
      "C:\\Users\\Asus\\AppData\\Local\\Temp/ipykernel_16612/2706080499.py:1: DeprecationWarning: find_elements_by_xpath is deprecated. Please use find_elements(by=By.XPATH, value=xpath) instead\n",
      "  prices=driver.find_elements_by_xpath(\"//span[@class='a-price-whole']\")\n",
      "C:\\Users\\Asus\\AppData\\Local\\Temp/ipykernel_16612/2706080499.py:4: DeprecationWarning: find_elements_by_xpath is deprecated. Please use find_elements(by=By.XPATH, value=xpath) instead\n",
      "  titles=driver.find_elements_by_xpath(\"//h2[@class='a-size-mini a-spacing-none a-color-base s-line-clamp-4']\")\n"
     ]
    }
   ],
   "source": [
    "prices=driver.find_elements_by_xpath(\"//span[@class='a-price-whole']\")\n",
    "for i in prices:\n",
    "    Prices.append(i.text)\n",
    "titles=driver.find_elements_by_xpath(\"//h2[@class='a-size-mini a-spacing-none a-color-base s-line-clamp-4']\")\n",
    "for i in titles:\n",
    "    Titles.append(i.text)"
   ]
  },
  {
   "cell_type": "code",
   "execution_count": 59,
   "id": "b68b79c3",
   "metadata": {},
   "outputs": [
    {
     "data": {
      "text/plain": [
       "['2,499',\n",
       " '5,399',\n",
       " '7,348',\n",
       " '3,999',\n",
       " '2,095',\n",
       " '2,150',\n",
       " '2,639',\n",
       " '7,499',\n",
       " '2,150',\n",
       " '5,399',\n",
       " '',\n",
       " '',\n",
       " '3,029',\n",
       " '2,199',\n",
       " '1,990',\n",
       " '5,399',\n",
       " '4,280',\n",
       " '2,639',\n",
       " '3,009',\n",
       " '2,199',\n",
       " '2,499',\n",
       " '8,990',\n",
       " '2,350',\n",
       " '5,759',\n",
       " '2,639',\n",
       " '899',\n",
       " '2,499',\n",
       " '939',\n",
       " '899',\n",
       " '2,639',\n",
       " '2,599',\n",
       " '9,990',\n",
       " '2,479',\n",
       " '2,639',\n",
       " '2,290',\n",
       " '4,490',\n",
       " '3,890',\n",
       " '1,549',\n",
       " '2,499',\n",
       " '2,499',\n",
       " '2,290',\n",
       " '13,739',\n",
       " '2,695',\n",
       " '2,589',\n",
       " '2,639',\n",
       " '7,490',\n",
       " '181',\n",
       " '7,500',\n",
       " '8,499',\n",
       " '9,379',\n",
       " '2,499',\n",
       " '3,169',\n",
       " '2,350',\n",
       " '7,349',\n",
       " '4,199',\n",
       " '5,499',\n",
       " '12,189',\n",
       " '4,280',\n",
       " '6,823',\n",
       " '2,849',\n",
       " '4,295',\n",
       " '4,080',\n",
       " '3,990',\n",
       " '7,499',\n",
       " '7,499',\n",
       " '7,499',\n",
       " '',\n",
       " '6,890',\n",
       " '10,150',\n",
       " '7,400',\n",
       " '4,080',\n",
       " '6,999',\n",
       " '4,999',\n",
       " '10,799',\n",
       " '7,499',\n",
       " '7,499',\n",
       " '7,499',\n",
       " '2,967',\n",
       " '9,465',\n",
       " '5,739',\n",
       " '14,990',\n",
       " '8,630',\n",
       " '13,539',\n",
       " '3,599',\n",
       " '13,900',\n",
       " '3,999',\n",
       " '9,999',\n",
       " '2,895',\n",
       " '4,295',\n",
       " '4,190',\n",
       " '6,499',\n",
       " '4,999',\n",
       " '9,490',\n",
       " '4,199',\n",
       " '4,789',\n",
       " '4,190',\n",
       " '4,280',\n",
       " '5,984',\n",
       " '4,280',\n",
       " '4,199',\n",
       " '8,499',\n",
       " '2,589',\n",
       " '8,999',\n",
       " '9,990',\n",
       " '2,820',\n",
       " '6,033',\n",
       " '9,990',\n",
       " '2,649',\n",
       " '8,667',\n",
       " '13,489',\n",
       " '5,832',\n",
       " '5,499',\n",
       " '7,499',\n",
       " '3,999',\n",
       " '4,299',\n",
       " '10,750',\n",
       " '8,999',\n",
       " '2,560',\n",
       " '7,589',\n",
       " '19,499',\n",
       " '8,299',\n",
       " '13,399',\n",
       " '13,890',\n",
       " '2,695',\n",
       " '2,895',\n",
       " '975',\n",
       " '7,499']"
      ]
     },
     "execution_count": 59,
     "metadata": {},
     "output_type": "execute_result"
    }
   ],
   "source": [
    "Prices"
   ]
  },
  {
   "cell_type": "code",
   "execution_count": 60,
   "id": "1260c3cb",
   "metadata": {},
   "outputs": [
    {
     "data": {
      "text/plain": [
       "['Medellin 38\" Acoustic Guitar Brown Carbon Fiber Body with FREE Online LEARNING COURSE Durable Matt finish Body for beginners with handrest, set of Strings, Strap, Bag, 3 Picks, Capo, Guitar Wall Hanging Stand and Free GUITAR LEARNING COURSE (Special Learning Combo with Guitar)',\n",
       " 'Kadence Frontier guitar with Online Guitar learning course, Wine Red Acoustic Guitar with Die Cast Keys, Set of Strings, Strap, Picks and Bag (Wine Red, Acoustic)',\n",
       " 'Kadence Frontier Jumbo Semi Acoustic Guitar With Die Cast Keys Super Combo (Bag, 1 pack Strings, Strap, Picks, Capo, Tuner (natural)',\n",
       " 'Vault Traveller 34 Inch Acoustic Guitar With Bag, Strap, Strings, Polishing Cloth, String Winder and Picks - Natural Gloss',\n",
       " 'Juârez Acoustic Guitar, 38 Inch Cutaway, 038C with Bag, Strings, Pick and Strap, Black',\n",
       " 'Intern INT-38C Acoustic Guitar Kit, With Bag, Strings, Pick And Strap, Black',\n",
       " 'Juarez Acoustic Guitar, 38 Inch Curved Body Cutaway, 38CUR with Bag, Strings, Pick and Strap, Black',\n",
       " 'Kadence Guitar Acoustica Series, Electric Acoustic Guitar, Ash Wood with Pickup and Inbuilt tuner (Ash Wood, Electro Acoustic)',\n",
       " 'Intern INT-38C Acoustic Guitar Kit, With Bag, Strings, Pick And Strap, Black',\n",
       " 'Kadence Frontier guitar with Online Guitar learning course, Wine Red Acoustic Guitar with Die Cast Keys, Set of Strings, Strap, Picks and Bag (Wine Red, Acoustic)',\n",
       " '',\n",
       " '',\n",
       " 'Intern INT-38C Acoustic Guitar Kit, With Bag, Strings, Pick And Strap, Blue',\n",
       " 'Medellin 38\" Acoustic Guitar Carbon Fiber body+(Free Online Learning Course) - Durable Matt finish with handrest, strings, strap, bag, 3 Picks, capo, stand.',\n",
       " 'Photron Acoustic Guitar, 38 Inch Cutaway, PH38C/BK with Picks Only, Black (Without Bag, Strap and Extra Strings)',\n",
       " 'Kadence Frontier guitar with Online Guitar learning course, Wine Red Acoustic Guitar with Die Cast Keys, Set of Strings, Strap, Picks and Bag (Wine Red, Acoustic)',\n",
       " 'Hovner 215 Black F-Cut Rosewood Fretboard Acoustic Guitar With Bag,Strap,1 Set of Extra Strings and 2 Picks By K-Retail',\n",
       " 'JUAREZ JRZ38C Right Handed Acoustic Guitar with Bag, Strings, Pick and Strap (Natural, 6 Strings)',\n",
       " 'Intern 38C Cutaway Design Black Acoustic Guitar with Picks & Carry Bag',\n",
       " 'Medellin 38\" Carbon Fiber Acoustic Guitar with free specailized learning course- MDCF38BK Durable Carbon Fiber Matt Sunburst finish Body for beginners with handrest, set of Strings, Strap, Bag, 3 Picks, Capo, Guitar Wall Hanging Stand and Free GUITAR LEARNING COURSE (Special Learning Combo with Guitar)',\n",
       " 'Medellin 38\" Acoustic Guitar Black Carbon Fiber body+(Free Online Learning Course) - Durable Matt finish with handrest, strings, strap, bag, 3 Picks, capo, stand.',\n",
       " 'Yamaha F280 Acoustic Guitar, Tobacco Brown Sunburst with Bajaao Gig bag',\n",
       " 'Intern INT-38C Acoustic Guitar Kit (Sunburst) with Carry bag, Picks, Strings set and Guitar Strap, Small',\n",
       " 'Juarez JRZ-ST01, 6 Strings Electric Guitar, Right Handed with Bag/Case, 2 x Picks (3TS Sunburst)',\n",
       " 'Juarez Acoustic Guitar Kit, 38 Inch Cutaway, 38C with Bag, Strings, Pick and Strap, TBS Transparent Blue Sunburst',\n",
       " \"HOMME STORE 4 String Guitar Children's Musical Instrument Educational Toy Guitar Ukulele Instruments Beginner Musical Sound Toys Best Gift for Children\",\n",
       " 'Medellin carbn fiber guitar 38inch (NATURAL)',\n",
       " 'Kajal Enterprise 4-String Acoustic Learning Guitar Toy Musical Instrument Educational Guitar Toy for Beginners Kids Child (Brown)',\n",
       " 'HOMME STORE 4 String Guitar Kids Brown Plastic 4 String Acoustic Guitar for Kids Musical Instrument Learning Educational Small Toy for Boys & Girls (Wooden Guitar) (1)',\n",
       " 'Juarez Acoustic Guitar Kit, 38 Inch Cutaway, 38C with Bag, Strings, Pick and Strap, 3TS Sunburst',\n",
       " 'Medellin MED-BLU-C Linden Wood Acoustic Guitar',\n",
       " 'Yamaha FS100C Acoustic Guitar, Black',\n",
       " 'Juârez Acoustic Guitar, 38 Inch Cutaway, JRZ38CT, Hippie Funky Design, with Bag, Picks, Strap & Extra String set',\n",
       " 'Juarez Acoustic Guitar, 38 Inch Cutaway with Pick Guard, 38CPG with Bag, Strings, Pick and Strap, Black',\n",
       " 'Yamaha Classical Guitar C40//02',\n",
       " 'Intern INT-38C-BK-G Cutaway Right Handed Acoustic Guitar Kit, With Bag, Strings, Pick And Strap (Black, 6 Strings)',\n",
       " 'Hovner Carlton Special Quality Rosewood Fretboard Blue Semi Acoustic Guitar With Bag,Strap,1 Set of Extra Strings and 2 Picks By K-Retail (Blue)',\n",
       " 'Kordz Luana Natural Wooden 41 Inch Rosewood Fretboard Acoustic Guitar With Bag,Strap,1 Set of Extra Strings and 2 Picks',\n",
       " 'TOXOT TOYS 38 IN Right Handed Acoustic Guitar With Carry Bag & Picks | Musical Instrument Learning Toy for Kids | Humidity Proof, Bend resistance, Durable Action, Natural Tone & Bright Resonance',\n",
       " 'Medellin 38\" Carbon Fiber Acoustic Guitar with free specailized learning course- MDCF38BK Durable Carbon Fiber Matt Pink finish Body for beginners with handrest, set of Strings, Strap, Bag, 3 Picks, Capo, Guitar Wall Hanging Stand and Free GUITAR LEARNING COURSE (Special Learning Combo with Guitar)',\n",
       " 'Medellin 38\" Acoustic Guitar Brown Carbon Fiber Body with FREE Online LEARNING COURSE Durable Matt finish Body for beginners with handrest, set of Strings, Strap, Bag, 3 Picks, Capo, Guitar Wall Hanging Stand and Free GUITAR LEARNING COURSE (Special Learning Combo with Guitar)',\n",
       " 'Intern INT-38C-SB-G Cutaway Right Handed Acoustic Guitar Kit, With Bag, Strings, Pick And Strap (Sunburst, 6 Strings)',\n",
       " 'Yamaha FSX80C Semi Acoustic Cutaway Guitar with Bag (Black)',\n",
       " 'Blueberry 38C, 38\" Acoustic Guitar Kit with Bag, Strap, One Pack Strings And Picks (Black)',\n",
       " 'INTERN Cutaway Design Acoustic Guitar Pack -Humidity Proof body, Bend resistance, Durable Action, Natural tone & bright resonance. Blue Carbon Fibre/Fiber Guitar with Bag, Strap, Strings set, Picks',\n",
       " 'Juarez Acoustic Guitar, 38 Inch Cutaway, 38CMB with Bag, Strings, Pick and Strap, Matte Black',\n",
       " 'YAMAHA FS80C NATURAL CONCERT CUTAWAY GUITAR',\n",
       " 'JUAREZ Acoustic Guitar 3xE 1st String & 2 Pick Set JRGSE32',\n",
       " 'Ibanez MD39C-NT Acoustic Guitar (Natural), Designed in Japan and Made Specially for India',\n",
       " 'Saga SF-600GC-BK Grand Concert Acoustic Guitar (BLACK)',\n",
       " 'Yamaha Acoustic Guitar F280 Dreadnought With Mexa Sponge Bag Belt,Plectrums, String Set & Guitar Stand (Natural)',\n",
       " 'Medellin carbn fiber guitar 38inch (NATURAL)',\n",
       " 'JUAREZ JRZ38CTR/BK 38 Inch Acoustic Guitar with Dual Action Truss Rod, Bag, Picks, Allen Key, Extra String Set, Black',\n",
       " 'Intern INT-38C Acoustic Guitar Kit, With Bag, Strings, Pick And Strap, Red',\n",
       " 'Kadence Frontier Jumbo Semi Acoustic Guitar With Die Cast Keys,Super Combo (Bag, 1 pack Strings, Strap, Picks, Capo, Tuner)',\n",
       " 'Givson Ketostics Venus Special VS-BLK, Acoustic Guitar Combo with Cover/Bag, String Set, Belt and Picks',\n",
       " 'Yamaha FSX80C Semi Acoustic Cutaway Guitar with Bag (Natural)',\n",
       " 'Kadence Guitar Frontier Series, Electric Acoustic Black Guitar With EQ, Die Cast Keys, Set of Strings, Strap, Picks and Bag (Black EQ, Electric Acoustic)',\n",
       " 'Yamaha Electric-Acoustic Guitar FX280 Dreadnought With Mexa Sponge Guitar Bag, Belt,Plectrums (Natural)',\n",
       " 'Hovner 215 Green F-Cut Rosewood Fretboard Acoustic Guitar With Bag,Strap,1 Set of Extra Strings and 2 Picks V2',\n",
       " 'Kadence Acoustica 40\" Mahogany Left-Handed Acoustic Guitar A03 L with bag',\n",
       " 'Blueberry 38 Inch Acoustic Guitar Kit Inbuilt Truss Rod, with Bag, Belt, One Pack Strings And Picks (Brown)',\n",
       " 'Blueberry B40L, 40\" Acoustic Guitar Kit Inbuilt Truss Rod with Bag, Strap, One Pack Strings And Picks (Classic Brown)',\n",
       " 'Festra 38C, 38 Inch Acoustic Guitar Kit with Bag, Strap, One Pack Strings And 2 Picks (Black) (Acoustic TRUSS-ROD (40 Inch) Guitar Kit, Natural)',\n",
       " 'SHARE BY Blueberry R-40- Trussrod Acoustic Guitar Kit with Bag, Strap, One Pack Strings and Picks (Natural)',\n",
       " 'Kadence Guitar Acoustica Series, Electric Acoustic Guitar, Ash Wood with Pickup and Inbuilt tuner (Ash Wood, Electro Acoustic)',\n",
       " 'Vault EA40 41 inch Premium Solid Spruce-Top Cutaway Acoustic Guitar',\n",
       " 'Cort AD810 Dreadnought Acoustic Guitar with Gig Bag,Tuner,Picks and Strap (Natural Bundle)',\n",
       " 'Samara SA41 CE N2 41-Inch Cutaway Electro-Acoustic Guitar',\n",
       " 'Festra R-40- Trussrod Acoustic Guitar Kit with Bag, Strap, One Pack Strings and Picks (Blueburst)',\n",
       " 'Kadence AstroMan Electric Guitar, 21 FRETS, ROSEWOOD FRETBOARD, H - S - S PICK UPS Black combo with Bag, Guitar strap,guitar cable and Picks',\n",
       " 'Kadence Frontier Series,Black Acoustic Guitar With Die Cast Keys Combo (Bag,strap,strings and 3 picks)',\n",
       " 'Yamaha FX280 Semi acoustic Dreadnought Guitar with Bag (Natural)',\n",
       " 'Kadence Guitar Acoustica Series, Electric Acoustic Guitar, Ash Wood with Pickup and Inbuilt tuner (Ash Wood, Electro Acoustic)',\n",
       " 'Kadence Guitar Acoustica Series A05, Electric Acoustic Guitar, Zebra Wood with Pickup, Inbuilt tuner and Bag (Zebra Wood, Electro Acoustic)',\n",
       " 'Kadence Guitar Acoustica Series, Electric Acoustic Guitar, Ash Wood with Pickup and Inbuilt tuner (Ash Wood, Electro Acoustic)',\n",
       " 'Intern INT-38C Sunburst Acoustic Guitar kit with carry bag & picks',\n",
       " 'Yamaha F310 Acoustic Guitar, Tobacco Brown Sunburst',\n",
       " 'Juarez ST38 Electric Guitar Kit/Set, Right Handed, Blue, With Case/Bag & Picks',\n",
       " 'Yamaha PACIFICA012 Electric Guitar - Black',\n",
       " 'RockJam RJEG02-SK-BB Electric Guitar Starter Kit (Blue Burst)',\n",
       " 'Yamaha Electric-Acoustic Guitar FSX80C Dreadnought With With Mexa Sponge Bag, Guitar Belt, Guitar Stand, String Set & Plectrums.(NT)',\n",
       " 'Henrix PRO 38 Inch 6 String Cutaway Acoustic Guitar With Die Cast Tuners, Gigbag, Picks, String Set, Strap & Cloth - Black',\n",
       " 'Yamaha PACIFICA012 Electric Guitar, Red Metallic',\n",
       " 'Vault Traveller 34 Inch Acoustic Guitar With Bag, Strap, Strings, Polishing Cloth, String Winder and Picks - Natural Gloss',\n",
       " 'Kadence Slowhand Premium Jumbo Semi Acoustic Guitar with Heavy Padded Bag, guitar cable, Pro Capo (Black Spruce Wood)',\n",
       " 'Blueberry D38 TrussRod Acoustic Guitar Kit with Bag, String,Belt & Picks (Sunburst)',\n",
       " 'Blueberry B40L, 40\" Acoustic Guitar Kit Inbuilt Truss Rod with Bag, Strap, One Pack Strings And Picks (Classic Maroon)',\n",
       " 'Blueberry B-40, 40\" Acoustic Guitar Kit with Bag,Belt, One Pack Strings & Picks (Black)',\n",
       " 'GUITAR BRO - COMBO (Black Acoustic Guitar for Beginner, Guitar Learning Kit, Song Book, Video Lectures, Accessories like Pick, Bag)',\n",
       " 'Blueberry B-40EQ-GL Acoustic Electric Guitar Kit inbuilt Trussrod, Rosewood Fretboard & bridge with 4 Band EQ-7545R Piezo Pickup Guitar Preamp Amplifier Equalizer Tuner with Bag, Pick, Belt, String set',\n",
       " 'Yamaha F310, 6-Strings Acoustic Guitar, Natural',\n",
       " 'GIVSON Ketostics Venus Special Guitar (black) with bag, string set, belt and 5 picks',\n",
       " 'Givson Symphony Beech Natural 6 String Right Hand Acoustic Semi Electric Guitar Special Quality Rosewood Fretboard With Free Bag and 1 Set String and 2 Picks.',\n",
       " 'Blueberry B-40, 40\" Acoustic Guitar Kit with Bag,Belt, One Pack Strings & Picks (Black)',\n",
       " 'Hovner 215 Royal Metallic Black F-Cut Rosewood Fretboard Acoustic Guitar With Bag,Strap,1 Set of Extra Strings and 2 Picks',\n",
       " 'Martin Smith W-101-N-PK Acoustic Guitar Super Kit with Stand (Natural)',\n",
       " 'Hovner Jumbo Sunburst Matt Premium Series Rosewood Fretboard Acoustic Guitar With Bag,Strap,1 Set of Extra Strings and 2 Picks By K-Retail',\n",
       " 'Givson Venus Special Cutaway Rosewood 41 Inch Acoustic Guitar Kit with Bag, Rhythm String Set, Strap and 5 Plectrums, (BLACK)',\n",
       " 'Saga SF-600C DREADNOUGHT cutaway Acoustic Guitar',\n",
       " 'INTERN Cutaway Design Acoustic Guitar Pack -Humidity Proof, Bend resistant, Durable Action, Natural tone & resonance. Sunburst Carbon Fibre/Fiber Guitar with carry bag, Strap, Strings set, Picks.',\n",
       " 'Kadence AstroMan Electric Guitar, 21 FRETS, ROSEWOOD FRETBOARD, H - S - S PICK UPS Sun brust combo with Bag, Guitar strap,guitar cable and Picks with Amplifier',\n",
       " 'Yamaha FS100C Acoustic Guitar, Natural',\n",
       " 'Intern INT-38C Acoustic Guitar Kit, With Bag, Strings, Pick And Strap, Purple',\n",
       " 'Granada, Acoustic Guitar, Dreadnought PRLD-14C-F -Natural',\n",
       " 'Yamaha FS100C Acoustic Guitar, Natural',\n",
       " 'Juârez Acoustic Guitar, 38 Inch Cutaway, JRZ38C with Bag, Strings, Pick and Strap, Red',\n",
       " 'Cort AD810-OP Acoustic Guitar, Brown',\n",
       " 'Fender Squier Bulletstrathssawt Stratocaster Electric Guitar',\n",
       " 'Martin Smith W-101-BK-PK Acoustic Guitar Super Kit with Stand (Black)',\n",
       " 'Pluto HW39-201P Electro Acoustic Guitar - Rosewood Fretboard',\n",
       " 'Kadence Guitar Acoustica Series, 41” Jumbo Size 6-strings Acoustic Guitar, Spruce body with Pick Guard A311 with bag',\n",
       " 'Givson Venus Special Cutaway Rosewood 41 Inch Acoustic Guitar Kit with Bag, Rhythm String Set, Strap and 5 Plectrums, (Red)',\n",
       " 'Pluto HW34-101 34inch Baby Acoustic Guitar (Red)',\n",
       " 'yamaha acoustic guitar F310, 6-Strings Acoustic Guitar, Natural with Sponge Bag, Belt, Plectrums, Combo Pack',\n",
       " 'Ibanez Acoustic Guitar MD39C Right Handed Cutaway Guitar - Natural With Bag, Belt, Plectrums Complete Pack.',\n",
       " 'Festra 38C, 38 Inch Acoustic Guitar Kit with Bag, Strap, One Pack Strings And 2 Picks (Black) (Acoustic 38C (38 Inch) Guitar Kit, Blueburst)',\n",
       " 'Yamaha C40M Full Sized Classical Guitar',\n",
       " 'Fender FA125CE Electric Acoustic Guitar With Sponge Bag, Belt, String Set, & Plectrums Combo Pack',\n",
       " 'YAMAHA WINNING STROKE F280 Acoustic Guitar with Bag Combo (Natural)',\n",
       " 'Givson Monalisa-B Electric Hawaiian Guitar',\n",
       " 'Yamaha F310 Acoustic Guitar, Natural',\n",
       " 'Yamaha PACIFICA012 Electric Guitar, Dark Blue Metallic',\n",
       " 'Blueberry 38C, 38\" Acoustic Guitar Kit with Bag, Strap, One Pack Strings And Picks (Black)',\n",
       " 'Blueberry D38 TrussRod Acoustic Guitar Kit with Bag, String,Belt & Picks (Sunburst)',\n",
       " 'Mustang 46 PCS Guitar Strings Changing Kit Guitar Tool Kit Including Guitar Strings Guitar Tuner Picks Capo Pins Guitar String Cutter and Winder for Beginner',\n",
       " 'Kadence Guitar Acoustica Series, 41” Jumbo Size 6-strings Acoustic Guitar, Spruce body with Pick Guard A311 with bag']"
      ]
     },
     "execution_count": 60,
     "metadata": {},
     "output_type": "execute_result"
    }
   ],
   "source": [
    "Titles"
   ]
  },
  {
   "cell_type": "code",
   "execution_count": 61,
   "id": "ee4dd7a6",
   "metadata": {},
   "outputs": [
    {
     "name": "stderr",
     "output_type": "stream",
     "text": [
      "C:\\Users\\Asus\\AppData\\Local\\Temp/ipykernel_16612/3214602699.py:1: DeprecationWarning: find_elements_by_xpath is deprecated. Please use find_elements(by=By.XPATH, value=xpath) instead\n",
      "  urls=driver.find_elements_by_xpath(\"//a[@class='a-link-normal a-text-normal']\")\n",
      "C:\\Users\\Asus\\AppData\\Local\\Temp/ipykernel_16612/3214602699.py:8: DeprecationWarning: find_element_by_xpath is deprecated. Please use find_element(by=By.XPATH, value=xpath) instead\n",
      "  deliveries=driver.find_element_by_xpath(\"//div[@class='a-section a-spacing-mini']\")\n",
      "C:\\Users\\Asus\\AppData\\Local\\Temp/ipykernel_16612/3214602699.py:10: DeprecationWarning: find_element_by_xpath is deprecated. Please use find_element(by=By.XPATH, value=xpath) instead\n",
      "  rate=driver.find_element_by_xpath(\"//span[@id='acrCustomerReviewText']\")\n",
      "C:\\Users\\Asus\\AppData\\Local\\Temp/ipykernel_16612/3214602699.py:12: DeprecationWarning: find_element_by_xpath is deprecated. Please use find_element(by=By.XPATH, value=xpath) instead\n",
      "  rating=driver.find_element_by_xpath(\"//span[@class='a-size-medium a-color-base']\")\n",
      "C:\\Users\\Asus\\AppData\\Local\\Temp/ipykernel_16612/3214602699.py:14: DeprecationWarning: find_element_by_xpath is deprecated. Please use find_element(by=By.XPATH, value=xpath) instead\n",
      "  rates=driver.find_element_by_xpath(\"//span[@class='a-size-base a-color-secondary']\")\n"
     ]
    }
   ],
   "source": [
    "urls=driver.find_elements_by_xpath(\"//a[@class='a-link-normal a-text-normal']\")\n",
    "url2=[]\n",
    "for i in urls:\n",
    "    url2.append(i.get_attribute('href'))\n",
    "for url in url2:\n",
    "    driver.get(url)\n",
    "    try:\n",
    "        deliveries=driver.find_element_by_xpath(\"//div[@class='a-section a-spacing-mini']\")\n",
    "        Delivery.append(deliveries.text)\n",
    "        rate=driver.find_element_by_xpath(\"//span[@id='acrCustomerReviewText']\")\n",
    "        rate.click()\n",
    "        rating=driver.find_element_by_xpath(\"//span[@class='a-size-medium a-color-base']\")\n",
    "        Ratings.append(rating.text)\n",
    "        rates=driver.find_element_by_xpath(\"//span[@class='a-size-base a-color-secondary']\")\n",
    "        Rated.append(rates.text)\n",
    "    except NoSuchElementException   as e:\n",
    "        Ratings.append(\"No rating\")\n",
    "        Rated.append(\"No rating\")\n",
    "        Delivery.append(\"No rating\")"
   ]
  },
  {
   "cell_type": "code",
   "execution_count": 62,
   "id": "fc57ab99",
   "metadata": {},
   "outputs": [
    {
     "name": "stderr",
     "output_type": "stream",
     "text": [
      "C:\\Users\\Asus\\AppData\\Local\\Temp/ipykernel_16612/3335747202.py:3: DeprecationWarning: find_elements_by_xpath is deprecated. Please use find_elements(by=By.XPATH, value=xpath) instead\n",
      "  urls=driver.find_elements_by_xpath(\"//img[@class='s-image']\")\n"
     ]
    }
   ],
   "source": [
    "url=\"https://www.amazon.in/s?k=guitar&page=2&qid=1619266454&ref=sr_pg_2\"\n",
    "driver.get(url)\n",
    "urls=driver.find_elements_by_xpath(\"//img[@class='s-image']\")\n",
    "Images=[]\n",
    "for i in urls:\n",
    "    Images.append(i.get_attribute('src'))\n",
    "for url in Images:\n",
    "    driver.get(url)"
   ]
  },
  {
   "cell_type": "code",
   "execution_count": 63,
   "id": "0a88b6ad",
   "metadata": {},
   "outputs": [
    {
     "data": {
      "text/plain": [
       "['https://m.media-amazon.com/images/I/41zCD1Om1BL._AC_UL320_.jpg',\n",
       " 'https://m.media-amazon.com/images/I/61mVidQVe3L._AC_UL320_.jpg',\n",
       " 'https://m.media-amazon.com/images/I/31ue45j9vXL._AC_UL320_.jpg',\n",
       " 'https://m.media-amazon.com/images/I/61MdXDtg+OL._AC_UL320_.jpg',\n",
       " 'https://m.media-amazon.com/images/I/81jEDcsVT0L._AC_UL320_.jpg',\n",
       " 'https://m.media-amazon.com/images/I/61rvzTTm9HL._AC_UL320_.jpg',\n",
       " 'https://m.media-amazon.com/images/I/61CbaZdVrKL._AC_UL320_.jpg',\n",
       " 'https://m.media-amazon.com/images/I/51LAQ0O3q7L._AC_UL320_.jpg',\n",
       " 'https://m.media-amazon.com/images/I/61Kp2wIq4vL._AC_UL320_.jpg',\n",
       " 'https://m.media-amazon.com/images/I/71udToZJEcL._AC_UL320_.jpg',\n",
       " 'https://m.media-amazon.com/images/I/718l4xObhmL._AC_UL320_.jpg',\n",
       " 'https://m.media-amazon.com/images/I/71+Rwng+TqL._AC_UL320_.jpg',\n",
       " 'https://m.media-amazon.com/images/I/815Ox+XvEGL._AC_UL320_.jpg',\n",
       " 'https://m.media-amazon.com/images/I/41qy5tUkIBL._AC_UL320_.jpg',\n",
       " 'https://m.media-amazon.com/images/I/51ue9OXcqyL._AC_UL320_.jpg',\n",
       " 'https://m.media-amazon.com/images/I/71Sggq51VqL._AC_UL320_.jpg',\n",
       " 'https://m.media-amazon.com/images/I/61133XbWbuL._AC_UL320_.jpg',\n",
       " 'https://m.media-amazon.com/images/I/71cTeubzQOL._AC_UL320_.jpg',\n",
       " 'https://m.media-amazon.com/images/I/61YjrJJeKQL._AC_UL320_.jpg',\n",
       " 'https://m.media-amazon.com/images/I/51UPABaYDmL._AC_UL320_.jpg',\n",
       " 'https://m.media-amazon.com/images/I/61DAqen49pL._AC_UL320_.jpg',\n",
       " 'https://m.media-amazon.com/images/I/61hlLiJDmEL._AC_UL320_.jpg',\n",
       " 'https://m.media-amazon.com/images/I/41E6-TBcmNL._AC_UL320_.jpg',\n",
       " 'https://m.media-amazon.com/images/I/71ustfxgTqL._AC_UL320_.jpg',\n",
       " 'https://m.media-amazon.com/images/I/31ejas8CRpL._AC_UL320_.jpg',\n",
       " 'https://m.media-amazon.com/images/I/51MKATOl-CL._AC_UL320_.jpg',\n",
       " 'https://m.media-amazon.com/images/I/412E7ZVpqhL._AC_UL320_.jpg',\n",
       " 'https://m.media-amazon.com/images/I/41fWmMBtzgL._AC_UL320_.jpg',\n",
       " 'https://m.media-amazon.com/images/I/51INShoKdNL._AC_UL320_.jpg',\n",
       " 'https://m.media-amazon.com/images/I/61hlLiJDmEL._AC_UL320_.jpg',\n",
       " 'https://m.media-amazon.com/images/I/41pVcmN+6cL._AC_UL320_.jpg',\n",
       " 'https://m.media-amazon.com/images/I/61YCFPYq7qL._AC_UL320_.jpg',\n",
       " 'https://m.media-amazon.com/images/I/31+6iVReaAL._AC_UL320_.jpg',\n",
       " 'https://m.media-amazon.com/images/I/71VKvvAYilL._AC_UL320_.jpg',\n",
       " 'https://m.media-amazon.com/images/I/71tlXzUD0rL._AC_UL320_.jpg',\n",
       " 'https://m.media-amazon.com/images/I/41I+nglAcfL._AC_UL320_.jpg',\n",
       " 'https://m.media-amazon.com/images/I/611s0Z4ztdL._AC_UL320_.jpg',\n",
       " 'https://m.media-amazon.com/images/I/711xSfo0V3L._AC_UL320_.jpg',\n",
       " 'https://m.media-amazon.com/images/I/51Ut3de1nfL._AC_UL320_.jpg',\n",
       " 'https://m.media-amazon.com/images/I/71nzdkpUcWL._AC_UL320_.jpg',\n",
       " 'https://m.media-amazon.com/images/I/81lKg8--XzL._AC_UL320_.jpg',\n",
       " 'https://m.media-amazon.com/images/I/61YSuoNFolL._AC_UL320_.jpg',\n",
       " 'https://m.media-amazon.com/images/I/61mVidQVe3L._AC_UL320_.jpg',\n",
       " 'https://m.media-amazon.com/images/I/71nzdkpUcWL._AC_UL320_.jpg',\n",
       " 'https://m.media-amazon.com/images/I/817nlbwA5PL._AC_UL320_.jpg',\n",
       " 'https://m.media-amazon.com/images/I/41BULb8FGcL._AC_UL320_.jpg',\n",
       " 'https://m.media-amazon.com/images/I/51CVCq7IHhL._AC_UL320_.jpg',\n",
       " 'https://m.media-amazon.com/images/I/516sPjvUtEL._AC_UL320_.jpg',\n",
       " 'https://m.media-amazon.com/images/I/41KwmoDYoHL._AC_UL320_.jpg',\n",
       " 'https://m.media-amazon.com/images/I/71bM2rMQHCL._AC_UL320_.jpg',\n",
       " 'https://m.media-amazon.com/images/I/71ryDZYzsFL._AC_UL320_.jpg',\n",
       " 'https://m.media-amazon.com/images/I/41Pdzwqo6DL._AC_UL320_.jpg',\n",
       " 'https://m.media-amazon.com/images/I/31DXKCl93kS._AC_UL320_.jpg',\n",
       " 'https://m.media-amazon.com/images/I/51WEH8mmx7L._AC_UL320_.jpg',\n",
       " 'https://m.media-amazon.com/images/I/71mIV4mJs-L._AC_UL320_.jpg',\n",
       " 'https://m.media-amazon.com/images/I/51R4eopoY5L._AC_UL320_.jpg',\n",
       " 'https://m.media-amazon.com/images/I/71le5ycqC-L._AC_UL320_.jpg',\n",
       " 'https://m.media-amazon.com/images/I/718l4xObhmL._AC_UL320_.jpg',\n",
       " 'https://m.media-amazon.com/images/I/51JiB3xixFL._AC_UL320_.jpg',\n",
       " 'https://m.media-amazon.com/images/I/516sPjvUtEL._AC_UL320_.jpg']"
      ]
     },
     "execution_count": 63,
     "metadata": {},
     "output_type": "execute_result"
    }
   ],
   "source": [
    "Images"
   ]
  },
  {
   "cell_type": "code",
   "execution_count": 64,
   "id": "16a64822",
   "metadata": {},
   "outputs": [
    {
     "name": "stdout",
     "output_type": "stream",
     "text": [
      "127\n",
      "127\n",
      "3\n",
      "3\n",
      "3\n",
      "60\n"
     ]
    }
   ],
   "source": [
    "print(len(Titles))\n",
    "print(len(Prices))\n",
    "print(len(Ratings))\n",
    "print(len(Delivery))\n",
    "print(len(Rated))\n",
    "print(len(Images))"
   ]
  },
  {
   "cell_type": "code",
   "execution_count": 65,
   "id": "87ef59f3",
   "metadata": {},
   "outputs": [],
   "source": [
    "import pandas as pd\n",
    "Amazon=pd.DataFrame({})\n",
    "Amazon['Titles']=Titles[0:3]\n",
    "Amazon['Prices']=Prices[0:3]\n",
    "Amazon['Ratings']=Ratings[0:3]\n",
    "Amazon['Rates']=Rated[0:3]\n",
    "Amazon['Delivery']=Delivery[0:3]\n",
    "Amazon['Images']=Images[0:3]"
   ]
  },
  {
   "cell_type": "code",
   "execution_count": 66,
   "id": "40aab78c",
   "metadata": {},
   "outputs": [
    {
     "data": {
      "text/html": [
       "<div>\n",
       "<style scoped>\n",
       "    .dataframe tbody tr th:only-of-type {\n",
       "        vertical-align: middle;\n",
       "    }\n",
       "\n",
       "    .dataframe tbody tr th {\n",
       "        vertical-align: top;\n",
       "    }\n",
       "\n",
       "    .dataframe thead th {\n",
       "        text-align: right;\n",
       "    }\n",
       "</style>\n",
       "<table border=\"1\" class=\"dataframe\">\n",
       "  <thead>\n",
       "    <tr style=\"text-align: right;\">\n",
       "      <th></th>\n",
       "      <th>Titles</th>\n",
       "      <th>Prices</th>\n",
       "      <th>Ratings</th>\n",
       "      <th>Rates</th>\n",
       "      <th>Delivery</th>\n",
       "      <th>Images</th>\n",
       "    </tr>\n",
       "  </thead>\n",
       "  <tbody>\n",
       "    <tr>\n",
       "      <th>0</th>\n",
       "      <td>Medellin 38\" Acoustic Guitar Brown Carbon Fibe...</td>\n",
       "      <td>2,499</td>\n",
       "      <td>3.9 out of 5</td>\n",
       "      <td>Size:</td>\n",
       "      <td>Ends in 11h 13m 02s</td>\n",
       "      <td>https://m.media-amazon.com/images/I/41zCD1Om1B...</td>\n",
       "    </tr>\n",
       "    <tr>\n",
       "      <th>1</th>\n",
       "      <td>Kadence Frontier guitar with Online Guitar lea...</td>\n",
       "      <td>5,399</td>\n",
       "      <td>3.9 out of 5</td>\n",
       "      <td>Size:</td>\n",
       "      <td>Ends in 11h 12m 57s</td>\n",
       "      <td>https://m.media-amazon.com/images/I/61mVidQVe3...</td>\n",
       "    </tr>\n",
       "    <tr>\n",
       "      <th>2</th>\n",
       "      <td>Kadence Frontier Jumbo Semi Acoustic Guitar Wi...</td>\n",
       "      <td>7,348</td>\n",
       "      <td>3.9 out of 5</td>\n",
       "      <td>Size:</td>\n",
       "      <td>Ends in 11h 09m 17s</td>\n",
       "      <td>https://m.media-amazon.com/images/I/31ue45j9vX...</td>\n",
       "    </tr>\n",
       "  </tbody>\n",
       "</table>\n",
       "</div>"
      ],
      "text/plain": [
       "                                              Titles Prices       Ratings  \\\n",
       "0  Medellin 38\" Acoustic Guitar Brown Carbon Fibe...  2,499  3.9 out of 5   \n",
       "1  Kadence Frontier guitar with Online Guitar lea...  5,399  3.9 out of 5   \n",
       "2  Kadence Frontier Jumbo Semi Acoustic Guitar Wi...  7,348  3.9 out of 5   \n",
       "\n",
       "   Rates             Delivery  \\\n",
       "0  Size:  Ends in 11h 13m 02s   \n",
       "1  Size:  Ends in 11h 12m 57s   \n",
       "2  Size:  Ends in 11h 09m 17s   \n",
       "\n",
       "                                              Images  \n",
       "0  https://m.media-amazon.com/images/I/41zCD1Om1B...  \n",
       "1  https://m.media-amazon.com/images/I/61mVidQVe3...  \n",
       "2  https://m.media-amazon.com/images/I/31ue45j9vX...  "
      ]
     },
     "execution_count": 66,
     "metadata": {},
     "output_type": "execute_result"
    }
   ],
   "source": [
    "Amazon"
   ]
  },
  {
   "cell_type": "markdown",
   "id": "6c78336e",
   "metadata": {},
   "source": [
    "3. Write a python program to access the search bar and search button on images.google.com and scrape 10\n",
    "images each for keywords ‘fruits’, ‘cars’ and ‘Machine Learning’, ‘Guitar’, ‘Cakes’."
   ]
  },
  {
   "cell_type": "code",
   "execution_count": 68,
   "id": "041f1af0",
   "metadata": {},
   "outputs": [
    {
     "name": "stderr",
     "output_type": "stream",
     "text": [
      "C:\\Users\\Asus\\AppData\\Local\\Temp/ipykernel_16612/4176960230.py:6: DeprecationWarning: executable_path has been deprecated, please pass in a Service object\n",
      "  driver =  webdriver.Chrome(r\"C:\\Web driver\\chromedriver.exe\")\n"
     ]
    }
   ],
   "source": [
    "import pandas as pd\n",
    "import selenium\n",
    "import requests\n",
    "from selenium.common.exceptions import StaleElementReferenceException, NoSuchElementException\n",
    "from selenium import webdriver\n",
    "driver =  webdriver.Chrome(r\"C:\\Web driver\\chromedriver.exe\")\n",
    "driver.get(\"https://images.google.com/\")\n",
    "driver.maximize_window()"
   ]
  },
  {
   "cell_type": "code",
   "execution_count": 69,
   "id": "8312deed",
   "metadata": {},
   "outputs": [
    {
     "name": "stderr",
     "output_type": "stream",
     "text": [
      "C:\\Users\\Asus\\AppData\\Local\\Temp/ipykernel_16612/4071786639.py:1: DeprecationWarning: find_element_by_xpath is deprecated. Please use find_element(by=By.XPATH, value=xpath) instead\n",
      "  search_bar = driver.find_element_by_xpath('//input[@class=\"gLFyf gsfi\"]')\n"
     ]
    },
    {
     "name": "stdout",
     "output_type": "stream",
     "text": [
      "Enter your Search:cars,fruits,Machine learning\n"
     ]
    },
    {
     "name": "stderr",
     "output_type": "stream",
     "text": [
      "C:\\Users\\Asus\\AppData\\Local\\Temp/ipykernel_16612/4071786639.py:4: DeprecationWarning: find_element_by_xpath is deprecated. Please use find_element(by=By.XPATH, value=xpath) instead\n",
      "  search_button = driver.find_element_by_xpath('//span[@class=\"z1asCe MZy1Rb\"]')\n"
     ]
    }
   ],
   "source": [
    "search_bar = driver.find_element_by_xpath('//input[@class=\"gLFyf gsfi\"]')\n",
    "search_bar.clear()\n",
    "search_bar.send_keys(input(\"Enter your Search:\"))\n",
    "search_button = driver.find_element_by_xpath('//span[@class=\"z1asCe MZy1Rb\"]')\n",
    "search_button.click()"
   ]
  },
  {
   "cell_type": "code",
   "execution_count": 70,
   "id": "818742a9",
   "metadata": {},
   "outputs": [],
   "source": [
    "driver.execute_script(\"window.scrollBy(0,80000)\" \"\")\n",
    "driver.execute_script(\"window.scrollBy(0,80000)\" \"\")\n",
    "driver.execute_script(\"window.scrollBy(0,80000)\" \"\")\n",
    "driver.execute_script(\"window.scrollBy(0,80000)\" \"\")\n",
    "driver.execute_script(\"window.scrollBy(0,80000)\" \"\")\n",
    "driver.execute_script(\"window.scrollBy(0,80000)\" \"\")\n",
    "driver.execute_script(\"window.scrollBy(0,80000)\" \"\") "
   ]
  },
  {
   "cell_type": "code",
   "execution_count": 71,
   "id": "b883c0aa",
   "metadata": {},
   "outputs": [
    {
     "name": "stderr",
     "output_type": "stream",
     "text": [
      "C:\\Users\\Asus\\AppData\\Local\\Temp/ipykernel_16612/3338496846.py:1: DeprecationWarning: find_elements_by_xpath is deprecated. Please use find_elements(by=By.XPATH, value=xpath) instead\n",
      "  urls=driver.find_elements_by_xpath(\"//img[@class='rg_i Q4LuWd']\")\n"
     ]
    }
   ],
   "source": [
    "urls=driver.find_elements_by_xpath(\"//img[@class='rg_i Q4LuWd']\")\n",
    "Images=[]\n",
    "for i in urls:\n",
    "    Images.append(i.get_attribute('src'))"
   ]
  },
  {
   "cell_type": "code",
   "execution_count": 72,
   "id": "2fbad1ad",
   "metadata": {},
   "outputs": [
    {
     "data": {
      "text/plain": [
       "48"
      ]
     },
     "execution_count": 72,
     "metadata": {},
     "output_type": "execute_result"
    }
   ],
   "source": [
    "len(Images)"
   ]
  },
  {
   "cell_type": "code",
   "execution_count": 73,
   "id": "440a8b30",
   "metadata": {},
   "outputs": [
    {
     "name": "stderr",
     "output_type": "stream",
     "text": [
      "C:\\Users\\Asus\\AppData\\Local\\Temp/ipykernel_16612/2565312012.py:1: DeprecationWarning: find_elements_by_xpath is deprecated. Please use find_elements(by=By.XPATH, value=xpath) instead\n",
      "  urls=driver.find_elements_by_xpath(\"//a[@class='VFACy kGQAp sMi44c lNHeqe WGvvNb']\")\n"
     ]
    }
   ],
   "source": [
    "urls=driver.find_elements_by_xpath(\"//a[@class='VFACy kGQAp sMi44c lNHeqe WGvvNb']\")\n",
    "headers=[]\n",
    "for i in urls:\n",
    "    headers.append(i.get_attribute('href'))"
   ]
  },
  {
   "cell_type": "code",
   "execution_count": 74,
   "id": "8c7caa79",
   "metadata": {},
   "outputs": [
    {
     "data": {
      "text/plain": [
       "48"
      ]
     },
     "execution_count": 74,
     "metadata": {},
     "output_type": "execute_result"
    }
   ],
   "source": [
    "len(headers)"
   ]
  },
  {
   "cell_type": "code",
   "execution_count": 78,
   "id": "e80c9d4c",
   "metadata": {},
   "outputs": [],
   "source": [
    "google=pd.DataFrame({})\n",
    "google['Headers']=headers[0:20]\n",
    "google['Images']=Images[0:20]"
   ]
  },
  {
   "cell_type": "code",
   "execution_count": 79,
   "id": "28a9933b",
   "metadata": {},
   "outputs": [
    {
     "data": {
      "text/html": [
       "<div>\n",
       "<style scoped>\n",
       "    .dataframe tbody tr th:only-of-type {\n",
       "        vertical-align: middle;\n",
       "    }\n",
       "\n",
       "    .dataframe tbody tr th {\n",
       "        vertical-align: top;\n",
       "    }\n",
       "\n",
       "    .dataframe thead th {\n",
       "        text-align: right;\n",
       "    }\n",
       "</style>\n",
       "<table border=\"1\" class=\"dataframe\">\n",
       "  <thead>\n",
       "    <tr style=\"text-align: right;\">\n",
       "      <th></th>\n",
       "      <th>Headers</th>\n",
       "      <th>Images</th>\n",
       "    </tr>\n",
       "  </thead>\n",
       "  <tbody>\n",
       "    <tr>\n",
       "      <th>0</th>\n",
       "      <td>https://towardsdatascience.com/the-fruits-of-d...</td>\n",
       "      <td>data:image/jpeg;base64,/9j/4AAQSkZJRgABAQAAAQA...</td>\n",
       "    </tr>\n",
       "    <tr>\n",
       "      <th>1</th>\n",
       "      <td>https://cgg.mff.cuni.cz/courses/machine-learni...</td>\n",
       "      <td>data:image/jpeg;base64,/9j/4AAQSkZJRgABAQAAAQA...</td>\n",
       "    </tr>\n",
       "    <tr>\n",
       "      <th>2</th>\n",
       "      <td>https://www.sciencedirect.com/science/article/...</td>\n",
       "      <td>data:image/jpeg;base64,/9j/4AAQSkZJRgABAQAAAQA...</td>\n",
       "    </tr>\n",
       "    <tr>\n",
       "      <th>3</th>\n",
       "      <td>https://www.mdpi.com/1424-8220/16/8/1222</td>\n",
       "      <td>data:image/jpeg;base64,/9j/4AAQSkZJRgABAQAAAQA...</td>\n",
       "    </tr>\n",
       "    <tr>\n",
       "      <th>4</th>\n",
       "      <td>https://morioh.com/p/409388c25b70</td>\n",
       "      <td>data:image/jpeg;base64,/9j/4AAQSkZJRgABAQAAAQA...</td>\n",
       "    </tr>\n",
       "    <tr>\n",
       "      <th>5</th>\n",
       "      <td>https://analyticsindiamag.com/fruit-recognitio...</td>\n",
       "      <td>data:image/jpeg;base64,/9j/4AAQSkZJRgABAQAAAQA...</td>\n",
       "    </tr>\n",
       "    <tr>\n",
       "      <th>6</th>\n",
       "      <td>https://www.frontiersin.org/articles/10.3389/f...</td>\n",
       "      <td>data:image/jpeg;base64,/9j/4AAQSkZJRgABAQAAAQA...</td>\n",
       "    </tr>\n",
       "    <tr>\n",
       "      <th>7</th>\n",
       "      <td>https://techvidvan.com/tutorials/types-of-mach...</td>\n",
       "      <td>data:image/jpeg;base64,/9j/4AAQSkZJRgABAQAAAQA...</td>\n",
       "    </tr>\n",
       "    <tr>\n",
       "      <th>8</th>\n",
       "      <td>https://www.theverge.com/2021/3/8/22319173/ope...</td>\n",
       "      <td>data:image/jpeg;base64,/9j/4AAQSkZJRgABAQAAAQA...</td>\n",
       "    </tr>\n",
       "    <tr>\n",
       "      <th>9</th>\n",
       "      <td>https://www.theguardian.com/technology/2019/ma...</td>\n",
       "      <td>data:image/jpeg;base64,/9j/4AAQSkZJRgABAQAAAQA...</td>\n",
       "    </tr>\n",
       "    <tr>\n",
       "      <th>10</th>\n",
       "      <td>https://www.frontiersin.org/articles/10.3389/f...</td>\n",
       "      <td>data:image/jpeg;base64,/9j/4AAQSkZJRgABAQAAAQA...</td>\n",
       "    </tr>\n",
       "    <tr>\n",
       "      <th>11</th>\n",
       "      <td>https://link.springer.com/article/10.1007/s121...</td>\n",
       "      <td>data:image/jpeg;base64,/9j/4AAQSkZJRgABAQAAAQA...</td>\n",
       "    </tr>\n",
       "    <tr>\n",
       "      <th>12</th>\n",
       "      <td>https://eighteenthelephant.com/2015/10/23/lear...</td>\n",
       "      <td>https://encrypted-tbn0.gstatic.com/images?q=tb...</td>\n",
       "    </tr>\n",
       "    <tr>\n",
       "      <th>13</th>\n",
       "      <td>https://calsoftinc.com/blogs/2017/03/machine-l...</td>\n",
       "      <td>data:image/jpeg;base64,/9j/4AAQSkZJRgABAQAAAQA...</td>\n",
       "    </tr>\n",
       "    <tr>\n",
       "      <th>14</th>\n",
       "      <td>https://www.analyticsvidhya.com/blog/2018/07/b...</td>\n",
       "      <td>data:image/jpeg;base64,/9j/4AAQSkZJRgABAQAAAQA...</td>\n",
       "    </tr>\n",
       "    <tr>\n",
       "      <th>15</th>\n",
       "      <td>https://www.analyticsvidhya.com/blog/2018/07/b...</td>\n",
       "      <td>data:image/jpeg;base64,/9j/4AAQSkZJRgABAQAAAQA...</td>\n",
       "    </tr>\n",
       "    <tr>\n",
       "      <th>16</th>\n",
       "      <td>https://www.sciencedirect.com/science/article/...</td>\n",
       "      <td>data:image/jpeg;base64,/9j/4AAQSkZJRgABAQAAAQA...</td>\n",
       "    </tr>\n",
       "    <tr>\n",
       "      <th>17</th>\n",
       "      <td>https://link.springer.com/article/10.1007/s407...</td>\n",
       "      <td>data:image/jpeg;base64,/9j/4AAQSkZJRgABAQAAAQA...</td>\n",
       "    </tr>\n",
       "    <tr>\n",
       "      <th>18</th>\n",
       "      <td>https://arxiv.org/pdf/1810.09811</td>\n",
       "      <td>data:image/jpeg;base64,/9j/4AAQSkZJRgABAQAAAQA...</td>\n",
       "    </tr>\n",
       "    <tr>\n",
       "      <th>19</th>\n",
       "      <td>https://ai.plainenglish.io/data-science-vs-art...</td>\n",
       "      <td>data:image/jpeg;base64,/9j/4AAQSkZJRgABAQAAAQA...</td>\n",
       "    </tr>\n",
       "  </tbody>\n",
       "</table>\n",
       "</div>"
      ],
      "text/plain": [
       "                                              Headers  \\\n",
       "0   https://towardsdatascience.com/the-fruits-of-d...   \n",
       "1   https://cgg.mff.cuni.cz/courses/machine-learni...   \n",
       "2   https://www.sciencedirect.com/science/article/...   \n",
       "3            https://www.mdpi.com/1424-8220/16/8/1222   \n",
       "4                   https://morioh.com/p/409388c25b70   \n",
       "5   https://analyticsindiamag.com/fruit-recognitio...   \n",
       "6   https://www.frontiersin.org/articles/10.3389/f...   \n",
       "7   https://techvidvan.com/tutorials/types-of-mach...   \n",
       "8   https://www.theverge.com/2021/3/8/22319173/ope...   \n",
       "9   https://www.theguardian.com/technology/2019/ma...   \n",
       "10  https://www.frontiersin.org/articles/10.3389/f...   \n",
       "11  https://link.springer.com/article/10.1007/s121...   \n",
       "12  https://eighteenthelephant.com/2015/10/23/lear...   \n",
       "13  https://calsoftinc.com/blogs/2017/03/machine-l...   \n",
       "14  https://www.analyticsvidhya.com/blog/2018/07/b...   \n",
       "15  https://www.analyticsvidhya.com/blog/2018/07/b...   \n",
       "16  https://www.sciencedirect.com/science/article/...   \n",
       "17  https://link.springer.com/article/10.1007/s407...   \n",
       "18                   https://arxiv.org/pdf/1810.09811   \n",
       "19  https://ai.plainenglish.io/data-science-vs-art...   \n",
       "\n",
       "                                               Images  \n",
       "0   data:image/jpeg;base64,/9j/4AAQSkZJRgABAQAAAQA...  \n",
       "1   data:image/jpeg;base64,/9j/4AAQSkZJRgABAQAAAQA...  \n",
       "2   data:image/jpeg;base64,/9j/4AAQSkZJRgABAQAAAQA...  \n",
       "3   data:image/jpeg;base64,/9j/4AAQSkZJRgABAQAAAQA...  \n",
       "4   data:image/jpeg;base64,/9j/4AAQSkZJRgABAQAAAQA...  \n",
       "5   data:image/jpeg;base64,/9j/4AAQSkZJRgABAQAAAQA...  \n",
       "6   data:image/jpeg;base64,/9j/4AAQSkZJRgABAQAAAQA...  \n",
       "7   data:image/jpeg;base64,/9j/4AAQSkZJRgABAQAAAQA...  \n",
       "8   data:image/jpeg;base64,/9j/4AAQSkZJRgABAQAAAQA...  \n",
       "9   data:image/jpeg;base64,/9j/4AAQSkZJRgABAQAAAQA...  \n",
       "10  data:image/jpeg;base64,/9j/4AAQSkZJRgABAQAAAQA...  \n",
       "11  data:image/jpeg;base64,/9j/4AAQSkZJRgABAQAAAQA...  \n",
       "12  https://encrypted-tbn0.gstatic.com/images?q=tb...  \n",
       "13  data:image/jpeg;base64,/9j/4AAQSkZJRgABAQAAAQA...  \n",
       "14  data:image/jpeg;base64,/9j/4AAQSkZJRgABAQAAAQA...  \n",
       "15  data:image/jpeg;base64,/9j/4AAQSkZJRgABAQAAAQA...  \n",
       "16  data:image/jpeg;base64,/9j/4AAQSkZJRgABAQAAAQA...  \n",
       "17  data:image/jpeg;base64,/9j/4AAQSkZJRgABAQAAAQA...  \n",
       "18  data:image/jpeg;base64,/9j/4AAQSkZJRgABAQAAAQA...  \n",
       "19  data:image/jpeg;base64,/9j/4AAQSkZJRgABAQAAAQA...  "
      ]
     },
     "execution_count": 79,
     "metadata": {},
     "output_type": "execute_result"
    }
   ],
   "source": [
    "google[0:20]"
   ]
  },
  {
   "cell_type": "markdown",
   "id": "8ae251a9",
   "metadata": {},
   "source": [
    "4. Write a python program to search for a smartphone(e.g.: Oneplus Nord, pixel 4A, etc.) on\n",
    "www.flipkart.com and scrape following details for all the search results displayed on 1st page. Details to be \n",
    "scraped: “Brand Name”, “Smartphone name”, “Colour”, “RAM”, “Storage(ROM)”, “Primary Camera”, \n",
    "“Secondary Camera”, “Display Size”, “Battery Capacity”, “Price”, “Product URL”. Incase if any of the \n",
    "details is missing then replace it by “- “. Save your results in a dataframe and CSV.\n"
   ]
  },
  {
   "cell_type": "code",
   "execution_count": 81,
   "id": "38434443",
   "metadata": {},
   "outputs": [],
   "source": [
    "import pandas as pd\n",
    "import selenium\n",
    "from selenium import webdriver\n",
    "from selenium.common.exceptions import StaleElementReferenceException, NoSuchElementException"
   ]
  },
  {
   "cell_type": "code",
   "execution_count": 83,
   "id": "2c615045",
   "metadata": {},
   "outputs": [
    {
     "name": "stderr",
     "output_type": "stream",
     "text": [
      "C:\\Users\\Asus\\AppData\\Local\\Temp/ipykernel_16612/63185660.py:1: DeprecationWarning: executable_path has been deprecated, please pass in a Service object\n",
      "  driver = webdriver.Chrome(r\"C:\\Web driver\\chromedriver.exe\")\n",
      "C:\\Users\\Asus\\AppData\\Local\\Temp/ipykernel_16612/63185660.py:5: DeprecationWarning: find_element_by_class_name is deprecated. Please use find_element(by=By.CLASS_NAME, value=name) instead\n",
      "  search_glass = driver.find_element_by_class_name('_3704LK')\n",
      "C:\\Users\\Asus\\AppData\\Local\\Temp/ipykernel_16612/63185660.py:7: DeprecationWarning: find_element_by_xpath is deprecated. Please use find_element(by=By.XPATH, value=xpath) instead\n",
      "  button_1 = driver.find_element_by_xpath('/html/body/div[2]/div/div/button')\n",
      "C:\\Users\\Asus\\AppData\\Local\\Temp/ipykernel_16612/63185660.py:10: DeprecationWarning: find_element_by_class_name is deprecated. Please use find_element(by=By.CLASS_NAME, value=name) instead\n",
      "  click_button = driver.find_element_by_class_name(\"L0Z3Pu\")\n"
     ]
    }
   ],
   "source": [
    "driver = webdriver.Chrome(r\"C:\\Web driver\\chromedriver.exe\")\n",
    "url = \"https://www.flipkart.com/\"\n",
    "driver.get(url)\n",
    "driver.maximize_window()\n",
    "search_glass = driver.find_element_by_class_name('_3704LK')\n",
    "search_glass.send_keys(\"Vivo Mobile Phone\")\n",
    "button_1 = driver.find_element_by_xpath('/html/body/div[2]/div/div/button')\n",
    "button_1.click()\n",
    "driver.implicitly_wait(3)\n",
    "click_button = driver.find_element_by_class_name(\"L0Z3Pu\")\n",
    "click_button.click()"
   ]
  },
  {
   "cell_type": "code",
   "execution_count": 84,
   "id": "1a9a6604",
   "metadata": {},
   "outputs": [
    {
     "name": "stderr",
     "output_type": "stream",
     "text": [
      "C:\\Users\\Asus\\AppData\\Local\\Temp/ipykernel_16612/3270025415.py:2: DeprecationWarning: find_elements_by_xpath is deprecated. Please use find_elements(by=By.XPATH, value=xpath) instead\n",
      "  brand1 = driver.find_elements_by_xpath(\"//div[@class='_4rR01T']\")\n"
     ]
    }
   ],
   "source": [
    "Brand =[]\n",
    "brand1 = driver.find_elements_by_xpath(\"//div[@class='_4rR01T']\")\n",
    "for i in brand1:\n",
    "    try:\n",
    "        Brand.append(i.text)\n",
    "    except:\n",
    "        Brand.append(\"_\")"
   ]
  },
  {
   "cell_type": "code",
   "execution_count": 85,
   "id": "51147beb",
   "metadata": {},
   "outputs": [
    {
     "data": {
      "text/plain": [
       "24"
      ]
     },
     "execution_count": 85,
     "metadata": {},
     "output_type": "execute_result"
    }
   ],
   "source": [
    "len(Brand)"
   ]
  },
  {
   "cell_type": "code",
   "execution_count": 86,
   "id": "43823064",
   "metadata": {},
   "outputs": [
    {
     "data": {
      "text/plain": [
       "['vivo T1 5G (Starlight Black, 128 GB)',\n",
       " 'vivo T1 5G (Rainbow Fantasy, 128 GB)',\n",
       " 'vivo T1 5G (Rainbow Fantasy, 128 GB)',\n",
       " 'vivo T1 5G (Starlight Black, 128 GB)',\n",
       " 'vivo T1 44W (Ice Dawn, 128 GB)',\n",
       " 'vivo T1 44W (Starry Sky, 128 GB)',\n",
       " 'vivo T1 44W (Midnight Galaxy, 128 GB)',\n",
       " 'vivo T1 44W (Starry Sky, 128 GB)',\n",
       " 'vivo T1 44W (Ice Dawn, 128 GB)',\n",
       " 'vivo T1 44W (Midnight Galaxy, 128 GB)',\n",
       " 'vivo T1 44W (Midnight Galaxy, 128 GB)',\n",
       " 'vivo Y53s (Deep Sea Blue, 128 GB)',\n",
       " 'vivo Y53s (Fantastic Rainbow, 128 GB)',\n",
       " 'vivo T1 5G (Starlight Black, 128 GB)',\n",
       " 'vivo T1 5G (Rainbow Fantasy, 128 GB)',\n",
       " 'vivo T1 Pro 5G (Turbo Black, 128 GB)',\n",
       " 'vivo T1 Pro 5G (Turbo Cyan, 128 GB)',\n",
       " 'vivo T1 Pro 5G (Turbo Cyan, 128 GB)',\n",
       " 'vivo T1 Pro 5G (Turbo Black, 128 GB)',\n",
       " 'vivo Y21A (Diamond Glow, 64 GB)',\n",
       " 'vivo Y20G (Obsidian Black, 64 GB)',\n",
       " 'vivo X80 Pro (Cosmic Black, 256 GB)',\n",
       " 'vivo Y21A (Midnight Blue, 64 GB)',\n",
       " 'vivo Y20G 2021 (Purist Blue, 64 GB)']"
      ]
     },
     "execution_count": 86,
     "metadata": {},
     "output_type": "execute_result"
    }
   ],
   "source": [
    "Brand"
   ]
  },
  {
   "cell_type": "code",
   "execution_count": 87,
   "id": "7eb6bf0a",
   "metadata": {},
   "outputs": [
    {
     "name": "stderr",
     "output_type": "stream",
     "text": [
      "C:\\Users\\Asus\\AppData\\Local\\Temp/ipykernel_16612/3870823316.py:2: DeprecationWarning: find_elements_by_class_name is deprecated. Please use find_elements(by=By.CLASS_NAME, value=name) instead\n",
      "  rating=driver.find_elements_by_class_name('_1lRcqv')\n"
     ]
    }
   ],
   "source": [
    "Ratings=[]\n",
    "rating=driver.find_elements_by_class_name('_1lRcqv')\n",
    "for i in rating:\n",
    "    try:\n",
    "        Ratings.append(i.text)\n",
    "    except:\n",
    "        Ratings.append(\"_\")"
   ]
  },
  {
   "cell_type": "code",
   "execution_count": 88,
   "id": "851e40a9",
   "metadata": {},
   "outputs": [
    {
     "data": {
      "text/plain": [
       "23"
      ]
     },
     "execution_count": 88,
     "metadata": {},
     "output_type": "execute_result"
    }
   ],
   "source": [
    "len(Ratings)"
   ]
  },
  {
   "cell_type": "code",
   "execution_count": 89,
   "id": "ac87ecd4",
   "metadata": {},
   "outputs": [
    {
     "data": {
      "text/plain": [
       "['4.4',\n",
       " '4.4',\n",
       " '4.3',\n",
       " '4.3',\n",
       " '4.5',\n",
       " '4.5',\n",
       " '4.5',\n",
       " '4.5',\n",
       " '4.5',\n",
       " '4.5',\n",
       " '4.5',\n",
       " '4.3',\n",
       " '4.3',\n",
       " '4.3',\n",
       " '4.3',\n",
       " '4.4',\n",
       " '4.4',\n",
       " '4.3',\n",
       " '4.3',\n",
       " '4.3',\n",
       " '4.3',\n",
       " '4.3',\n",
       " '4.3']"
      ]
     },
     "execution_count": 89,
     "metadata": {},
     "output_type": "execute_result"
    }
   ],
   "source": [
    "Ratings"
   ]
  },
  {
   "cell_type": "code",
   "execution_count": 90,
   "id": "1154b099",
   "metadata": {},
   "outputs": [
    {
     "name": "stderr",
     "output_type": "stream",
     "text": [
      "C:\\Users\\Asus\\AppData\\Local\\Temp/ipykernel_16612/556212026.py:2: DeprecationWarning: find_elements_by_xpath is deprecated. Please use find_elements(by=By.XPATH, value=xpath) instead\n",
      "  ram1=driver.find_elements_by_xpath(\"//ul[@class='_1xgFaf']/li[1]\")\n"
     ]
    }
   ],
   "source": [
    "RAM=[]\n",
    "ram1=driver.find_elements_by_xpath(\"//ul[@class='_1xgFaf']/li[1]\")\n",
    "for i in ram1:\n",
    "    try:\n",
    "        RAM.append(i.text)\n",
    "    except:\n",
    "        RAM.append(\"_\")"
   ]
  },
  {
   "cell_type": "code",
   "execution_count": 91,
   "id": "b9dfb5c2",
   "metadata": {},
   "outputs": [
    {
     "name": "stderr",
     "output_type": "stream",
     "text": [
      "C:\\Users\\Asus\\AppData\\Local\\Temp/ipykernel_16612/2184146107.py:2: DeprecationWarning: find_elements_by_xpath is deprecated. Please use find_elements(by=By.XPATH, value=xpath) instead\n",
      "  display1=driver.find_elements_by_xpath(\"//ul[@class='_1xgFaf']/li[2]\")\n"
     ]
    }
   ],
   "source": [
    "Display_Size=[]\n",
    "display1=driver.find_elements_by_xpath(\"//ul[@class='_1xgFaf']/li[2]\")\n",
    "for i in display1:\n",
    "    try:\n",
    "        Display_Size.append(i.text)\n",
    "    except:\n",
    "        Display_Size.append(\"_\")"
   ]
  },
  {
   "cell_type": "code",
   "execution_count": 92,
   "id": "2940ddc0",
   "metadata": {},
   "outputs": [
    {
     "data": {
      "text/plain": [
       "['16.71 cm (6.58 inch) Full HD+ Display',\n",
       " '16.71 cm (6.58 inch) Full HD+ Display',\n",
       " '16.71 cm (6.58 inch) Full HD+ Display',\n",
       " '16.71 cm (6.58 inch) Full HD+ Display',\n",
       " '16.36 cm (6.44 inch) Full HD+ AMOLED Display',\n",
       " '16.36 cm (6.44 inch) Full HD+ AMOLED Display',\n",
       " '16.36 cm (6.44 inch) Full HD+ AMOLED Display',\n",
       " '16.36 cm (6.44 inch) Full HD+ AMOLED Display',\n",
       " '16.36 cm (6.44 inch) Full HD+ AMOLED Display',\n",
       " '16.36 cm (6.44 inch) Full HD+ AMOLED Display',\n",
       " '16.36 cm (6.44 inch) Full HD+ AMOLED Display',\n",
       " '16.71 cm (6.58 inch) Full HD+ Display',\n",
       " '16.71 cm (6.58 inch) Full HD+ Display',\n",
       " '16.71 cm (6.58 inch) Full HD+ Display',\n",
       " '16.71 cm (6.58 inch) Full HD+ Display',\n",
       " '16.36 cm (6.44 inch) Full HD+ AMOLED Display',\n",
       " '16.36 cm (6.44 inch) Full HD+ AMOLED Display',\n",
       " '16.36 cm (6.44 inch) Full HD+ AMOLED Display',\n",
       " '16.36 cm (6.44 inch) Full HD+ AMOLED Display',\n",
       " '16.54 cm (6.51 inch) Display',\n",
       " '16.54 cm (6.51 inch) HD+ Display',\n",
       " '17.22 cm (6.78 inch) Quad HD Display',\n",
       " '16.54 cm (6.51 inch) HD+ Display',\n",
       " '16.54 cm (6.51 inch) HD+ Display']"
      ]
     },
     "execution_count": 92,
     "metadata": {},
     "output_type": "execute_result"
    }
   ],
   "source": [
    "Display_Size"
   ]
  },
  {
   "cell_type": "code",
   "execution_count": 93,
   "id": "ade7a0b5",
   "metadata": {},
   "outputs": [
    {
     "name": "stderr",
     "output_type": "stream",
     "text": [
      "C:\\Users\\Asus\\AppData\\Local\\Temp/ipykernel_16612/4135559208.py:2: DeprecationWarning: find_elements_by_xpath is deprecated. Please use find_elements(by=By.XPATH, value=xpath) instead\n",
      "  camera1=driver.find_elements_by_xpath(\"//ul[@class='_1xgFaf']/li[3]\")\n"
     ]
    }
   ],
   "source": [
    "Camera=[]\n",
    "camera1=driver.find_elements_by_xpath(\"//ul[@class='_1xgFaf']/li[3]\")\n",
    "for i in camera1:\n",
    "    try:\n",
    "        Camera.append(i.text)\n",
    "    except:\n",
    "        Camera.append(\"_\")"
   ]
  },
  {
   "cell_type": "code",
   "execution_count": 94,
   "id": "d8fd2c53",
   "metadata": {},
   "outputs": [
    {
     "data": {
      "text/plain": [
       "['50MP + 2MP + 2MP | 16MP Front Camera',\n",
       " '50MP + 2MP + 2MP | 16MP Front Camera',\n",
       " '50MP + 2MP + 2MP | 16MP Front Camera',\n",
       " '50MP + 2MP + 2MP | 16MP Front Camera',\n",
       " '50MP + 2MP + 2MP | 16MP Front Camera',\n",
       " '50MP + 2MP + 2MP | 16MP Front Camera',\n",
       " '50MP + 2MP + 2MP | 16MP Front Camera',\n",
       " '50MP + 2MP + 2MP | 16MP Front Camera',\n",
       " '50MP + 2MP + 2MP | 16MP Front Camera',\n",
       " '50MP + 2MP + 2MP | 16MP Front Camera',\n",
       " '50MP + 2MP + 2MP | 16MP Front Camera',\n",
       " '64MP + 2MP + 2MP | 16MP Front Camera',\n",
       " '64MP + 2MP + 2MP | 16MP Front Camera',\n",
       " '50MP + 2MP + 2MP | 16MP Front Camera',\n",
       " '50MP + 2MP + 2MP | 16MP Front Camera',\n",
       " '64MP + 8MP + 2MP | 16MP Front Camera',\n",
       " '64MP + 8MP + 2MP | 16MP Front Camera',\n",
       " '64MP + 8MP + 2MP | 16MP Front Camera',\n",
       " '64MP + 8MP + 2MP | 16MP Front Camera',\n",
       " '13MP Rear Camera',\n",
       " '13MP + 2MP + 2MP | 8MP Front Camera',\n",
       " '50MP + 48MP + 12MP + 8MP | 32MP Front Camera',\n",
       " '13MP + 2MP | 8MP + 8MP Dual Front Camera',\n",
       " '13MP + 2MP + 2MP | 8MP Front Camera']"
      ]
     },
     "execution_count": 94,
     "metadata": {},
     "output_type": "execute_result"
    }
   ],
   "source": [
    "Camera"
   ]
  },
  {
   "cell_type": "code",
   "execution_count": 95,
   "id": "b93a73d2",
   "metadata": {},
   "outputs": [
    {
     "name": "stderr",
     "output_type": "stream",
     "text": [
      "C:\\Users\\Asus\\AppData\\Local\\Temp/ipykernel_16612/3451216149.py:2: DeprecationWarning: find_elements_by_xpath is deprecated. Please use find_elements(by=By.XPATH, value=xpath) instead\n",
      "  battery1=driver.find_elements_by_xpath(\"//ul[@class='_1xgFaf']/li[4]\")\n"
     ]
    }
   ],
   "source": [
    "Battery=[]\n",
    "battery1=driver.find_elements_by_xpath(\"//ul[@class='_1xgFaf']/li[4]\")\n",
    "for i in battery1:\n",
    "    try:\n",
    "        Battery.append(i.text)\n",
    "    except:\n",
    "        Battery.append(\"_\")"
   ]
  },
  {
   "cell_type": "code",
   "execution_count": 96,
   "id": "80f329e9",
   "metadata": {},
   "outputs": [
    {
     "data": {
      "text/plain": [
       "['5000 mAh Lithium Battery',\n",
       " '5000 mAh Lithium Battery',\n",
       " '5000 mAh Lithium Battery',\n",
       " '5000 mAh Lithium Battery',\n",
       " '5000 mAh Lithium Battery',\n",
       " '5000 mAh Lithium Battery',\n",
       " '5000 mAh Lithium Battery',\n",
       " '5000 mAh Lithium Battery',\n",
       " '5000 mAh Lithium Battery',\n",
       " '5000 mAh Lithium Battery',\n",
       " '5000 mAh Lithium Battery',\n",
       " '5000 mAh Battery',\n",
       " '5000 mAh Battery',\n",
       " '5000 mAh Lithium Battery',\n",
       " '5000 mAh Lithium Battery',\n",
       " '4700 mAh Lithium Battery',\n",
       " '4700 mAh Lithium Battery',\n",
       " '4700 mAh Lithium Battery',\n",
       " '4700 mAh Lithium Battery',\n",
       " '5000 mAh Battery',\n",
       " '5000 mAh Li-ion Battery',\n",
       " '4700 mAh Lithium Battery',\n",
       " '5000 mAh Battery',\n",
       " '5000 mAh Li-ion Battery']"
      ]
     },
     "execution_count": 96,
     "metadata": {},
     "output_type": "execute_result"
    }
   ],
   "source": [
    "Battery"
   ]
  },
  {
   "cell_type": "code",
   "execution_count": 97,
   "id": "e1f88502",
   "metadata": {},
   "outputs": [
    {
     "name": "stderr",
     "output_type": "stream",
     "text": [
      "C:\\Users\\Asus\\AppData\\Local\\Temp/ipykernel_16612/3263121070.py:2: DeprecationWarning: find_elements_by_xpath is deprecated. Please use find_elements(by=By.XPATH, value=xpath) instead\n",
      "  warranty1=driver.find_elements_by_xpath(\"//ul[@class='_1xgFaf']/li[5]\")\n"
     ]
    }
   ],
   "source": [
    "Warranty=[]\n",
    "warranty1=driver.find_elements_by_xpath(\"//ul[@class='_1xgFaf']/li[5]\")\n",
    "for i in warranty1:\n",
    "    try:\n",
    "        Warranty.append(i.text)\n",
    "    except:\n",
    "        Warranty.append(\"_\")"
   ]
  },
  {
   "cell_type": "code",
   "execution_count": 98,
   "id": "b9fd0b56",
   "metadata": {},
   "outputs": [
    {
     "name": "stderr",
     "output_type": "stream",
     "text": [
      "C:\\Users\\Asus\\AppData\\Local\\Temp/ipykernel_16612/1928932977.py:2: DeprecationWarning: find_elements_by_xpath is deprecated. Please use find_elements(by=By.XPATH, value=xpath) instead\n",
      "  prices1=driver.find_elements_by_xpath(\"//div[@class='_30jeq3 _1_WHN1']\")\n"
     ]
    }
   ],
   "source": [
    "Prices=[]\n",
    "prices1=driver.find_elements_by_xpath(\"//div[@class='_30jeq3 _1_WHN1']\")\n",
    "for i in prices1:\n",
    "    try:\n",
    "        Prices.append(i.text)\n",
    "    except:\n",
    "        Prices.append(\"_\")"
   ]
  },
  {
   "cell_type": "code",
   "execution_count": 99,
   "id": "09e0c230",
   "metadata": {},
   "outputs": [],
   "source": [
    "Flipkart=pd.DataFrame({})\n",
    "Flipkart['Brand']=Brand[0:22]\n",
    "Flipkart['Ratings']=Ratings[0:22]\n",
    "Flipkart['Inches']=Display_Size[0:22]\n",
    "Flipkart['Camera']=Camera[0:22]\n",
    "Flipkart['Price']=Prices[0:22]\n",
    "Flipkart['RAM']=RAM[0:22]\n",
    "Flipkart['Battery']=Battery[0:22]\n",
    "Flipkart['Warranty']=Warranty[0:22]"
   ]
  },
  {
   "cell_type": "code",
   "execution_count": 100,
   "id": "cc9258f9",
   "metadata": {},
   "outputs": [
    {
     "data": {
      "text/html": [
       "<div>\n",
       "<style scoped>\n",
       "    .dataframe tbody tr th:only-of-type {\n",
       "        vertical-align: middle;\n",
       "    }\n",
       "\n",
       "    .dataframe tbody tr th {\n",
       "        vertical-align: top;\n",
       "    }\n",
       "\n",
       "    .dataframe thead th {\n",
       "        text-align: right;\n",
       "    }\n",
       "</style>\n",
       "<table border=\"1\" class=\"dataframe\">\n",
       "  <thead>\n",
       "    <tr style=\"text-align: right;\">\n",
       "      <th></th>\n",
       "      <th>Brand</th>\n",
       "      <th>Ratings</th>\n",
       "      <th>Inches</th>\n",
       "      <th>Camera</th>\n",
       "      <th>Price</th>\n",
       "      <th>RAM</th>\n",
       "      <th>Battery</th>\n",
       "      <th>Warranty</th>\n",
       "    </tr>\n",
       "  </thead>\n",
       "  <tbody>\n",
       "    <tr>\n",
       "      <th>0</th>\n",
       "      <td>vivo T1 5G (Starlight Black, 128 GB)</td>\n",
       "      <td>4.4</td>\n",
       "      <td>16.71 cm (6.58 inch) Full HD+ Display</td>\n",
       "      <td>50MP + 2MP + 2MP | 16MP Front Camera</td>\n",
       "      <td>₹16,990</td>\n",
       "      <td>6 GB RAM | 128 GB ROM | Expandable Upto 1 TB</td>\n",
       "      <td>5000 mAh Lithium Battery</td>\n",
       "      <td>Qualcomm Snapdragon 695 Processor</td>\n",
       "    </tr>\n",
       "    <tr>\n",
       "      <th>1</th>\n",
       "      <td>vivo T1 5G (Rainbow Fantasy, 128 GB)</td>\n",
       "      <td>4.4</td>\n",
       "      <td>16.71 cm (6.58 inch) Full HD+ Display</td>\n",
       "      <td>50MP + 2MP + 2MP | 16MP Front Camera</td>\n",
       "      <td>₹16,990</td>\n",
       "      <td>6 GB RAM | 128 GB ROM | Expandable Upto 1 TB</td>\n",
       "      <td>5000 mAh Lithium Battery</td>\n",
       "      <td>Qualcomm Snapdragon 695 Processor</td>\n",
       "    </tr>\n",
       "    <tr>\n",
       "      <th>2</th>\n",
       "      <td>vivo T1 5G (Rainbow Fantasy, 128 GB)</td>\n",
       "      <td>4.3</td>\n",
       "      <td>16.71 cm (6.58 inch) Full HD+ Display</td>\n",
       "      <td>50MP + 2MP + 2MP | 16MP Front Camera</td>\n",
       "      <td>₹15,990</td>\n",
       "      <td>4 GB RAM | 128 GB ROM | Expandable Upto 1 TB</td>\n",
       "      <td>5000 mAh Lithium Battery</td>\n",
       "      <td>Qualcomm Snapdragon 695 Processor</td>\n",
       "    </tr>\n",
       "    <tr>\n",
       "      <th>3</th>\n",
       "      <td>vivo T1 5G (Starlight Black, 128 GB)</td>\n",
       "      <td>4.3</td>\n",
       "      <td>16.71 cm (6.58 inch) Full HD+ Display</td>\n",
       "      <td>50MP + 2MP + 2MP | 16MP Front Camera</td>\n",
       "      <td>₹15,990</td>\n",
       "      <td>4 GB RAM | 128 GB ROM | Expandable Upto 1 TB</td>\n",
       "      <td>5000 mAh Lithium Battery</td>\n",
       "      <td>Qualcomm Snapdragon 695 Processor</td>\n",
       "    </tr>\n",
       "    <tr>\n",
       "      <th>4</th>\n",
       "      <td>vivo T1 44W (Ice Dawn, 128 GB)</td>\n",
       "      <td>4.5</td>\n",
       "      <td>16.36 cm (6.44 inch) Full HD+ AMOLED Display</td>\n",
       "      <td>50MP + 2MP + 2MP | 16MP Front Camera</td>\n",
       "      <td>₹17,999</td>\n",
       "      <td>8 GB RAM | 128 GB ROM | Expandable Upto 1 TB</td>\n",
       "      <td>5000 mAh Lithium Battery</td>\n",
       "      <td>Qualcomm Snapdragon 680 Processor</td>\n",
       "    </tr>\n",
       "    <tr>\n",
       "      <th>5</th>\n",
       "      <td>vivo T1 44W (Starry Sky, 128 GB)</td>\n",
       "      <td>4.5</td>\n",
       "      <td>16.36 cm (6.44 inch) Full HD+ AMOLED Display</td>\n",
       "      <td>50MP + 2MP + 2MP | 16MP Front Camera</td>\n",
       "      <td>₹14,499</td>\n",
       "      <td>4 GB RAM | 128 GB ROM | Expandable Upto 1 TB</td>\n",
       "      <td>5000 mAh Lithium Battery</td>\n",
       "      <td>Qualcomm Snapdragon 680 Processor</td>\n",
       "    </tr>\n",
       "    <tr>\n",
       "      <th>6</th>\n",
       "      <td>vivo T1 44W (Midnight Galaxy, 128 GB)</td>\n",
       "      <td>4.5</td>\n",
       "      <td>16.36 cm (6.44 inch) Full HD+ AMOLED Display</td>\n",
       "      <td>50MP + 2MP + 2MP | 16MP Front Camera</td>\n",
       "      <td>₹17,999</td>\n",
       "      <td>8 GB RAM | 128 GB ROM | Expandable Upto 1 TB</td>\n",
       "      <td>5000 mAh Lithium Battery</td>\n",
       "      <td>Qualcomm Snapdragon 680 Processor</td>\n",
       "    </tr>\n",
       "    <tr>\n",
       "      <th>7</th>\n",
       "      <td>vivo T1 44W (Starry Sky, 128 GB)</td>\n",
       "      <td>4.5</td>\n",
       "      <td>16.36 cm (6.44 inch) Full HD+ AMOLED Display</td>\n",
       "      <td>50MP + 2MP + 2MP | 16MP Front Camera</td>\n",
       "      <td>₹17,999</td>\n",
       "      <td>8 GB RAM | 128 GB ROM | Expandable Upto 1 TB</td>\n",
       "      <td>5000 mAh Lithium Battery</td>\n",
       "      <td>Qualcomm Snapdragon 680 Processor</td>\n",
       "    </tr>\n",
       "    <tr>\n",
       "      <th>8</th>\n",
       "      <td>vivo T1 44W (Ice Dawn, 128 GB)</td>\n",
       "      <td>4.5</td>\n",
       "      <td>16.36 cm (6.44 inch) Full HD+ AMOLED Display</td>\n",
       "      <td>50MP + 2MP + 2MP | 16MP Front Camera</td>\n",
       "      <td>₹14,499</td>\n",
       "      <td>4 GB RAM | 128 GB ROM | Expandable Upto 1 TB</td>\n",
       "      <td>5000 mAh Lithium Battery</td>\n",
       "      <td>Qualcomm Snapdragon 680 Processor</td>\n",
       "    </tr>\n",
       "    <tr>\n",
       "      <th>9</th>\n",
       "      <td>vivo T1 44W (Midnight Galaxy, 128 GB)</td>\n",
       "      <td>4.5</td>\n",
       "      <td>16.36 cm (6.44 inch) Full HD+ AMOLED Display</td>\n",
       "      <td>50MP + 2MP + 2MP | 16MP Front Camera</td>\n",
       "      <td>₹15,999</td>\n",
       "      <td>6 GB RAM | 128 GB ROM | Expandable Upto 1 TB</td>\n",
       "      <td>5000 mAh Lithium Battery</td>\n",
       "      <td>Qualcomm Snapdragon 680 Processor</td>\n",
       "    </tr>\n",
       "    <tr>\n",
       "      <th>10</th>\n",
       "      <td>vivo T1 44W (Midnight Galaxy, 128 GB)</td>\n",
       "      <td>4.5</td>\n",
       "      <td>16.36 cm (6.44 inch) Full HD+ AMOLED Display</td>\n",
       "      <td>50MP + 2MP + 2MP | 16MP Front Camera</td>\n",
       "      <td>₹14,499</td>\n",
       "      <td>4 GB RAM | 128 GB ROM | Expandable Upto 1 TB</td>\n",
       "      <td>5000 mAh Lithium Battery</td>\n",
       "      <td>Qualcomm Snapdragon 680 Processor</td>\n",
       "    </tr>\n",
       "    <tr>\n",
       "      <th>11</th>\n",
       "      <td>vivo Y53s (Deep Sea Blue, 128 GB)</td>\n",
       "      <td>4.3</td>\n",
       "      <td>16.71 cm (6.58 inch) Full HD+ Display</td>\n",
       "      <td>64MP + 2MP + 2MP | 16MP Front Camera</td>\n",
       "      <td>₹15,990</td>\n",
       "      <td>8 GB RAM | 128 GB ROM | Expandable Upto 1 TB</td>\n",
       "      <td>5000 mAh Battery</td>\n",
       "      <td>MediaTek Helio G80 Processor</td>\n",
       "    </tr>\n",
       "    <tr>\n",
       "      <th>12</th>\n",
       "      <td>vivo Y53s (Fantastic Rainbow, 128 GB)</td>\n",
       "      <td>4.3</td>\n",
       "      <td>16.71 cm (6.58 inch) Full HD+ Display</td>\n",
       "      <td>64MP + 2MP + 2MP | 16MP Front Camera</td>\n",
       "      <td>₹15,990</td>\n",
       "      <td>8 GB RAM | 128 GB ROM | Expandable Upto 1 TB</td>\n",
       "      <td>5000 mAh Battery</td>\n",
       "      <td>MediaTek Helio G80 Processor</td>\n",
       "    </tr>\n",
       "    <tr>\n",
       "      <th>13</th>\n",
       "      <td>vivo T1 5G (Starlight Black, 128 GB)</td>\n",
       "      <td>4.3</td>\n",
       "      <td>16.71 cm (6.58 inch) Full HD+ Display</td>\n",
       "      <td>50MP + 2MP + 2MP | 16MP Front Camera</td>\n",
       "      <td>₹19,990</td>\n",
       "      <td>8 GB RAM | 128 GB ROM | Expandable Upto 1 TB</td>\n",
       "      <td>5000 mAh Lithium Battery</td>\n",
       "      <td>Qualcomm Snapdragon 695 Processor</td>\n",
       "    </tr>\n",
       "    <tr>\n",
       "      <th>14</th>\n",
       "      <td>vivo T1 5G (Rainbow Fantasy, 128 GB)</td>\n",
       "      <td>4.3</td>\n",
       "      <td>16.71 cm (6.58 inch) Full HD+ Display</td>\n",
       "      <td>50MP + 2MP + 2MP | 16MP Front Camera</td>\n",
       "      <td>₹19,990</td>\n",
       "      <td>8 GB RAM | 128 GB ROM | Expandable Upto 1 TB</td>\n",
       "      <td>5000 mAh Lithium Battery</td>\n",
       "      <td>Qualcomm Snapdragon 695 Processor</td>\n",
       "    </tr>\n",
       "    <tr>\n",
       "      <th>15</th>\n",
       "      <td>vivo T1 Pro 5G (Turbo Black, 128 GB)</td>\n",
       "      <td>4.4</td>\n",
       "      <td>16.36 cm (6.44 inch) Full HD+ AMOLED Display</td>\n",
       "      <td>64MP + 8MP + 2MP | 16MP Front Camera</td>\n",
       "      <td>₹24,999</td>\n",
       "      <td>8 GB RAM | 128 GB ROM</td>\n",
       "      <td>4700 mAh Lithium Battery</td>\n",
       "      <td>Qualcomm Snapdragon 778G 5G Mobile Platform Pr...</td>\n",
       "    </tr>\n",
       "    <tr>\n",
       "      <th>16</th>\n",
       "      <td>vivo T1 Pro 5G (Turbo Cyan, 128 GB)</td>\n",
       "      <td>4.4</td>\n",
       "      <td>16.36 cm (6.44 inch) Full HD+ AMOLED Display</td>\n",
       "      <td>64MP + 8MP + 2MP | 16MP Front Camera</td>\n",
       "      <td>₹24,999</td>\n",
       "      <td>8 GB RAM | 128 GB ROM</td>\n",
       "      <td>4700 mAh Lithium Battery</td>\n",
       "      <td>Qualcomm Snapdragon 778G 5G Mobile Platform Pr...</td>\n",
       "    </tr>\n",
       "    <tr>\n",
       "      <th>17</th>\n",
       "      <td>vivo T1 Pro 5G (Turbo Cyan, 128 GB)</td>\n",
       "      <td>4.3</td>\n",
       "      <td>16.36 cm (6.44 inch) Full HD+ AMOLED Display</td>\n",
       "      <td>64MP + 8MP + 2MP | 16MP Front Camera</td>\n",
       "      <td>₹23,999</td>\n",
       "      <td>6 GB RAM | 128 GB ROM</td>\n",
       "      <td>4700 mAh Lithium Battery</td>\n",
       "      <td>Qualcomm Snapdragon 778G 5G Mobile Platform Pr...</td>\n",
       "    </tr>\n",
       "    <tr>\n",
       "      <th>18</th>\n",
       "      <td>vivo T1 Pro 5G (Turbo Black, 128 GB)</td>\n",
       "      <td>4.3</td>\n",
       "      <td>16.36 cm (6.44 inch) Full HD+ AMOLED Display</td>\n",
       "      <td>64MP + 8MP + 2MP | 16MP Front Camera</td>\n",
       "      <td>₹23,999</td>\n",
       "      <td>6 GB RAM | 128 GB ROM</td>\n",
       "      <td>4700 mAh Lithium Battery</td>\n",
       "      <td>Qualcomm Snapdragon 778G 5G Mobile Platform Pr...</td>\n",
       "    </tr>\n",
       "    <tr>\n",
       "      <th>19</th>\n",
       "      <td>vivo Y21A (Diamond Glow, 64 GB)</td>\n",
       "      <td>4.3</td>\n",
       "      <td>16.54 cm (6.51 inch) Display</td>\n",
       "      <td>13MP Rear Camera</td>\n",
       "      <td>₹12,730</td>\n",
       "      <td>4 GB RAM | 64 GB ROM</td>\n",
       "      <td>5000 mAh Battery</td>\n",
       "      <td>1 Year for Handset and 6 Months for Inbox Acce...</td>\n",
       "    </tr>\n",
       "    <tr>\n",
       "      <th>20</th>\n",
       "      <td>vivo Y20G (Obsidian Black, 64 GB)</td>\n",
       "      <td>4.3</td>\n",
       "      <td>16.54 cm (6.51 inch) HD+ Display</td>\n",
       "      <td>13MP + 2MP + 2MP | 8MP Front Camera</td>\n",
       "      <td>₹13,490</td>\n",
       "      <td>4 GB RAM | 64 GB ROM | Expandable Upto 1 TB</td>\n",
       "      <td>5000 mAh Li-ion Battery</td>\n",
       "      <td>MediaTek Helio G80 Processor</td>\n",
       "    </tr>\n",
       "    <tr>\n",
       "      <th>21</th>\n",
       "      <td>vivo X80 Pro (Cosmic Black, 256 GB)</td>\n",
       "      <td>4.3</td>\n",
       "      <td>17.22 cm (6.78 inch) Quad HD Display</td>\n",
       "      <td>50MP + 48MP + 12MP + 8MP | 32MP Front Camera</td>\n",
       "      <td>₹79,999</td>\n",
       "      <td>12 GB RAM | 256 GB ROM</td>\n",
       "      <td>4700 mAh Lithium Battery</td>\n",
       "      <td>Qualcomm Snapdragon 8 Gen 1 Mobile Platform Pr...</td>\n",
       "    </tr>\n",
       "  </tbody>\n",
       "</table>\n",
       "</div>"
      ],
      "text/plain": [
       "                                    Brand Ratings  \\\n",
       "0    vivo T1 5G (Starlight Black, 128 GB)     4.4   \n",
       "1    vivo T1 5G (Rainbow Fantasy, 128 GB)     4.4   \n",
       "2    vivo T1 5G (Rainbow Fantasy, 128 GB)     4.3   \n",
       "3    vivo T1 5G (Starlight Black, 128 GB)     4.3   \n",
       "4          vivo T1 44W (Ice Dawn, 128 GB)     4.5   \n",
       "5        vivo T1 44W (Starry Sky, 128 GB)     4.5   \n",
       "6   vivo T1 44W (Midnight Galaxy, 128 GB)     4.5   \n",
       "7        vivo T1 44W (Starry Sky, 128 GB)     4.5   \n",
       "8          vivo T1 44W (Ice Dawn, 128 GB)     4.5   \n",
       "9   vivo T1 44W (Midnight Galaxy, 128 GB)     4.5   \n",
       "10  vivo T1 44W (Midnight Galaxy, 128 GB)     4.5   \n",
       "11      vivo Y53s (Deep Sea Blue, 128 GB)     4.3   \n",
       "12  vivo Y53s (Fantastic Rainbow, 128 GB)     4.3   \n",
       "13   vivo T1 5G (Starlight Black, 128 GB)     4.3   \n",
       "14   vivo T1 5G (Rainbow Fantasy, 128 GB)     4.3   \n",
       "15   vivo T1 Pro 5G (Turbo Black, 128 GB)     4.4   \n",
       "16    vivo T1 Pro 5G (Turbo Cyan, 128 GB)     4.4   \n",
       "17    vivo T1 Pro 5G (Turbo Cyan, 128 GB)     4.3   \n",
       "18   vivo T1 Pro 5G (Turbo Black, 128 GB)     4.3   \n",
       "19        vivo Y21A (Diamond Glow, 64 GB)     4.3   \n",
       "20      vivo Y20G (Obsidian Black, 64 GB)     4.3   \n",
       "21    vivo X80 Pro (Cosmic Black, 256 GB)     4.3   \n",
       "\n",
       "                                          Inches  \\\n",
       "0          16.71 cm (6.58 inch) Full HD+ Display   \n",
       "1          16.71 cm (6.58 inch) Full HD+ Display   \n",
       "2          16.71 cm (6.58 inch) Full HD+ Display   \n",
       "3          16.71 cm (6.58 inch) Full HD+ Display   \n",
       "4   16.36 cm (6.44 inch) Full HD+ AMOLED Display   \n",
       "5   16.36 cm (6.44 inch) Full HD+ AMOLED Display   \n",
       "6   16.36 cm (6.44 inch) Full HD+ AMOLED Display   \n",
       "7   16.36 cm (6.44 inch) Full HD+ AMOLED Display   \n",
       "8   16.36 cm (6.44 inch) Full HD+ AMOLED Display   \n",
       "9   16.36 cm (6.44 inch) Full HD+ AMOLED Display   \n",
       "10  16.36 cm (6.44 inch) Full HD+ AMOLED Display   \n",
       "11         16.71 cm (6.58 inch) Full HD+ Display   \n",
       "12         16.71 cm (6.58 inch) Full HD+ Display   \n",
       "13         16.71 cm (6.58 inch) Full HD+ Display   \n",
       "14         16.71 cm (6.58 inch) Full HD+ Display   \n",
       "15  16.36 cm (6.44 inch) Full HD+ AMOLED Display   \n",
       "16  16.36 cm (6.44 inch) Full HD+ AMOLED Display   \n",
       "17  16.36 cm (6.44 inch) Full HD+ AMOLED Display   \n",
       "18  16.36 cm (6.44 inch) Full HD+ AMOLED Display   \n",
       "19                  16.54 cm (6.51 inch) Display   \n",
       "20              16.54 cm (6.51 inch) HD+ Display   \n",
       "21          17.22 cm (6.78 inch) Quad HD Display   \n",
       "\n",
       "                                          Camera    Price  \\\n",
       "0           50MP + 2MP + 2MP | 16MP Front Camera  ₹16,990   \n",
       "1           50MP + 2MP + 2MP | 16MP Front Camera  ₹16,990   \n",
       "2           50MP + 2MP + 2MP | 16MP Front Camera  ₹15,990   \n",
       "3           50MP + 2MP + 2MP | 16MP Front Camera  ₹15,990   \n",
       "4           50MP + 2MP + 2MP | 16MP Front Camera  ₹17,999   \n",
       "5           50MP + 2MP + 2MP | 16MP Front Camera  ₹14,499   \n",
       "6           50MP + 2MP + 2MP | 16MP Front Camera  ₹17,999   \n",
       "7           50MP + 2MP + 2MP | 16MP Front Camera  ₹17,999   \n",
       "8           50MP + 2MP + 2MP | 16MP Front Camera  ₹14,499   \n",
       "9           50MP + 2MP + 2MP | 16MP Front Camera  ₹15,999   \n",
       "10          50MP + 2MP + 2MP | 16MP Front Camera  ₹14,499   \n",
       "11          64MP + 2MP + 2MP | 16MP Front Camera  ₹15,990   \n",
       "12          64MP + 2MP + 2MP | 16MP Front Camera  ₹15,990   \n",
       "13          50MP + 2MP + 2MP | 16MP Front Camera  ₹19,990   \n",
       "14          50MP + 2MP + 2MP | 16MP Front Camera  ₹19,990   \n",
       "15          64MP + 8MP + 2MP | 16MP Front Camera  ₹24,999   \n",
       "16          64MP + 8MP + 2MP | 16MP Front Camera  ₹24,999   \n",
       "17          64MP + 8MP + 2MP | 16MP Front Camera  ₹23,999   \n",
       "18          64MP + 8MP + 2MP | 16MP Front Camera  ₹23,999   \n",
       "19                              13MP Rear Camera  ₹12,730   \n",
       "20           13MP + 2MP + 2MP | 8MP Front Camera  ₹13,490   \n",
       "21  50MP + 48MP + 12MP + 8MP | 32MP Front Camera  ₹79,999   \n",
       "\n",
       "                                             RAM                   Battery  \\\n",
       "0   6 GB RAM | 128 GB ROM | Expandable Upto 1 TB  5000 mAh Lithium Battery   \n",
       "1   6 GB RAM | 128 GB ROM | Expandable Upto 1 TB  5000 mAh Lithium Battery   \n",
       "2   4 GB RAM | 128 GB ROM | Expandable Upto 1 TB  5000 mAh Lithium Battery   \n",
       "3   4 GB RAM | 128 GB ROM | Expandable Upto 1 TB  5000 mAh Lithium Battery   \n",
       "4   8 GB RAM | 128 GB ROM | Expandable Upto 1 TB  5000 mAh Lithium Battery   \n",
       "5   4 GB RAM | 128 GB ROM | Expandable Upto 1 TB  5000 mAh Lithium Battery   \n",
       "6   8 GB RAM | 128 GB ROM | Expandable Upto 1 TB  5000 mAh Lithium Battery   \n",
       "7   8 GB RAM | 128 GB ROM | Expandable Upto 1 TB  5000 mAh Lithium Battery   \n",
       "8   4 GB RAM | 128 GB ROM | Expandable Upto 1 TB  5000 mAh Lithium Battery   \n",
       "9   6 GB RAM | 128 GB ROM | Expandable Upto 1 TB  5000 mAh Lithium Battery   \n",
       "10  4 GB RAM | 128 GB ROM | Expandable Upto 1 TB  5000 mAh Lithium Battery   \n",
       "11  8 GB RAM | 128 GB ROM | Expandable Upto 1 TB          5000 mAh Battery   \n",
       "12  8 GB RAM | 128 GB ROM | Expandable Upto 1 TB          5000 mAh Battery   \n",
       "13  8 GB RAM | 128 GB ROM | Expandable Upto 1 TB  5000 mAh Lithium Battery   \n",
       "14  8 GB RAM | 128 GB ROM | Expandable Upto 1 TB  5000 mAh Lithium Battery   \n",
       "15                         8 GB RAM | 128 GB ROM  4700 mAh Lithium Battery   \n",
       "16                         8 GB RAM | 128 GB ROM  4700 mAh Lithium Battery   \n",
       "17                         6 GB RAM | 128 GB ROM  4700 mAh Lithium Battery   \n",
       "18                         6 GB RAM | 128 GB ROM  4700 mAh Lithium Battery   \n",
       "19                          4 GB RAM | 64 GB ROM          5000 mAh Battery   \n",
       "20   4 GB RAM | 64 GB ROM | Expandable Upto 1 TB   5000 mAh Li-ion Battery   \n",
       "21                        12 GB RAM | 256 GB ROM  4700 mAh Lithium Battery   \n",
       "\n",
       "                                             Warranty  \n",
       "0                   Qualcomm Snapdragon 695 Processor  \n",
       "1                   Qualcomm Snapdragon 695 Processor  \n",
       "2                   Qualcomm Snapdragon 695 Processor  \n",
       "3                   Qualcomm Snapdragon 695 Processor  \n",
       "4                   Qualcomm Snapdragon 680 Processor  \n",
       "5                   Qualcomm Snapdragon 680 Processor  \n",
       "6                   Qualcomm Snapdragon 680 Processor  \n",
       "7                   Qualcomm Snapdragon 680 Processor  \n",
       "8                   Qualcomm Snapdragon 680 Processor  \n",
       "9                   Qualcomm Snapdragon 680 Processor  \n",
       "10                  Qualcomm Snapdragon 680 Processor  \n",
       "11                       MediaTek Helio G80 Processor  \n",
       "12                       MediaTek Helio G80 Processor  \n",
       "13                  Qualcomm Snapdragon 695 Processor  \n",
       "14                  Qualcomm Snapdragon 695 Processor  \n",
       "15  Qualcomm Snapdragon 778G 5G Mobile Platform Pr...  \n",
       "16  Qualcomm Snapdragon 778G 5G Mobile Platform Pr...  \n",
       "17  Qualcomm Snapdragon 778G 5G Mobile Platform Pr...  \n",
       "18  Qualcomm Snapdragon 778G 5G Mobile Platform Pr...  \n",
       "19  1 Year for Handset and 6 Months for Inbox Acce...  \n",
       "20                       MediaTek Helio G80 Processor  \n",
       "21  Qualcomm Snapdragon 8 Gen 1 Mobile Platform Pr...  "
      ]
     },
     "execution_count": 100,
     "metadata": {},
     "output_type": "execute_result"
    }
   ],
   "source": [
    "Flipkart"
   ]
  },
  {
   "cell_type": "markdown",
   "id": "66729e4a",
   "metadata": {},
   "source": [
    "5. Python program to scrap geospatial coordinates (latitude, longitude) of a city searched on google maps."
   ]
  },
  {
   "cell_type": "code",
   "execution_count": 101,
   "id": "ba22c321",
   "metadata": {},
   "outputs": [],
   "source": [
    "import pandas as pd\n",
    "import selenium\n",
    "import requests\n",
    "from selenium import webdriver\n",
    "from selenium.common.exceptions import StaleElementReferenceException, NoSuchElementException"
   ]
  },
  {
   "cell_type": "code",
   "execution_count": 102,
   "id": "7ea2ce7d",
   "metadata": {},
   "outputs": [
    {
     "name": "stderr",
     "output_type": "stream",
     "text": [
      "C:\\Users\\Asus\\AppData\\Local\\Temp/ipykernel_16612/2470337588.py:1: DeprecationWarning: executable_path has been deprecated, please pass in a Service object\n",
      "  driver = webdriver.Chrome(r\"C:\\Web driver\\chromedriver.exe\")\n"
     ]
    }
   ],
   "source": [
    "driver = webdriver.Chrome(r\"C:\\Web driver\\chromedriver.exe\")\n",
    "driver.get(\"https://maps.google.com/\")"
   ]
  },
  {
   "cell_type": "code",
   "execution_count": 103,
   "id": "1cd7a61b",
   "metadata": {},
   "outputs": [
    {
     "name": "stderr",
     "output_type": "stream",
     "text": [
      "C:\\Users\\Asus\\AppData\\Local\\Temp/ipykernel_16612/4126735281.py:2: DeprecationWarning: find_element_by_* commands are deprecated. Please use find_element() instead\n",
      "  search_box = driver.find_element_by_id(\"searchboxinput\")\n"
     ]
    },
    {
     "name": "stdout",
     "output_type": "stream",
     "text": [
      "Enter your Search:Bagalkot\n"
     ]
    }
   ],
   "source": [
    "driver.maximize_window()\n",
    "search_box = driver.find_element_by_id(\"searchboxinput\")\n",
    "search_box.send_keys(input(\"Enter your Search:\"))"
   ]
  },
  {
   "cell_type": "code",
   "execution_count": 104,
   "id": "aebe9893",
   "metadata": {},
   "outputs": [
    {
     "name": "stderr",
     "output_type": "stream",
     "text": [
      "C:\\Users\\Asus\\AppData\\Local\\Temp/ipykernel_16612/25124245.py:1: DeprecationWarning: find_element_by_* commands are deprecated. Please use find_element() instead\n",
      "  search_button = driver.find_element_by_id (\"searchbox-searchbutton\")\n"
     ]
    }
   ],
   "source": [
    "search_button = driver.find_element_by_id (\"searchbox-searchbutton\")\n",
    "search_button.click()"
   ]
  },
  {
   "cell_type": "code",
   "execution_count": 105,
   "id": "59ef6868",
   "metadata": {},
   "outputs": [
    {
     "data": {
      "text/plain": [
       "'https://www.google.com/maps/place/Bagalkote,+Karnataka/@16.1670633,75.6237992,13z/data=!3m1!4b1!4m5!3m4!1s0x3bc77889eae13979:0x2911d2fb816d80c4!8m2!3d16.1691096!4d75.6615029'"
      ]
     },
     "execution_count": 105,
     "metadata": {},
     "output_type": "execute_result"
    }
   ],
   "source": [
    "address = driver.current_url\n",
    "address"
   ]
  },
  {
   "cell_type": "code",
   "execution_count": 106,
   "id": "e2655a50",
   "metadata": {},
   "outputs": [
    {
     "data": {
      "text/plain": [
       "['https:',\n",
       " '',\n",
       " 'www.google.com',\n",
       " 'maps',\n",
       " 'place',\n",
       " 'Bagalkote,+Karnataka',\n",
       " '@16.1670633,75.6237992,13z',\n",
       " 'data=!3m1!4b1!4m5!3m4!1s0x3bc77889eae13979:0x2911d2fb816d80c4!8m2!3d16.1691096!4d75.6615029']"
      ]
     },
     "execution_count": 106,
     "metadata": {},
     "output_type": "execute_result"
    }
   ],
   "source": [
    "address =address.split(sep=\"/\")\n",
    "address"
   ]
  },
  {
   "cell_type": "code",
   "execution_count": 107,
   "id": "cf09b562",
   "metadata": {},
   "outputs": [
    {
     "data": {
      "text/plain": [
       "'@16.1670633,75.6237992,13z'"
      ]
     },
     "execution_count": 107,
     "metadata": {},
     "output_type": "execute_result"
    }
   ],
   "source": [
    "address[6]"
   ]
  },
  {
   "cell_type": "markdown",
   "id": "c29a6ead",
   "metadata": {},
   "source": [
    "6. Python program to scrap details of all the funding deals for second quarter (i.e. July 20 – September 20) from trak.in."
   ]
  },
  {
   "cell_type": "code",
   "execution_count": 108,
   "id": "32adf5a9",
   "metadata": {},
   "outputs": [],
   "source": [
    "import pandas as pd\n",
    "import selenium\n",
    "import requests\n",
    "from selenium import webdriver\n",
    "from selenium.common.exceptions import StaleElementReferenceException, NoSuchElementException"
   ]
  },
  {
   "cell_type": "code",
   "execution_count": 110,
   "id": "a5aba9bf",
   "metadata": {},
   "outputs": [
    {
     "name": "stderr",
     "output_type": "stream",
     "text": [
      "C:\\Users\\Asus\\AppData\\Local\\Temp/ipykernel_16612/2262704746.py:1: DeprecationWarning: executable_path has been deprecated, please pass in a Service object\n",
      "  driver =  webdriver.Chrome(r\"C:\\Web driver\\chromedriver.exe\")\n"
     ]
    }
   ],
   "source": [
    "driver =  webdriver.Chrome(r\"C:\\Web driver\\chromedriver.exe\")\n",
    "driver.get(\"https://trak.in/india-startup-funding-investment-2015/\")"
   ]
  },
  {
   "cell_type": "code",
   "execution_count": 111,
   "id": "702e601d",
   "metadata": {},
   "outputs": [
    {
     "name": "stderr",
     "output_type": "stream",
     "text": [
      "C:\\Users\\Asus\\AppData\\Local\\Temp/ipykernel_16612/2892958058.py:2: DeprecationWarning: find_elements_by_xpath is deprecated. Please use find_elements(by=By.XPATH, value=xpath) instead\n",
      "  title_tags = driver.find_elements_by_xpath(\"//div[@class='dataTables_scroll']\")\n"
     ]
    },
    {
     "data": {
      "text/plain": [
       "[<selenium.webdriver.remote.webelement.WebElement (session=\"536a8417918453b2311207fab35ed6fa\", element=\"b9402952-efdd-494f-b32e-4013a9ff5491\")>,\n",
       " <selenium.webdriver.remote.webelement.WebElement (session=\"536a8417918453b2311207fab35ed6fa\", element=\"58f65f86-88ba-4b38-a67c-00a1fb6bb9d0\")>,\n",
       " <selenium.webdriver.remote.webelement.WebElement (session=\"536a8417918453b2311207fab35ed6fa\", element=\"0ee7c451-c456-4362-a139-c36d5d7eaae8\")>,\n",
       " <selenium.webdriver.remote.webelement.WebElement (session=\"536a8417918453b2311207fab35ed6fa\", element=\"bcc32c82-ecca-4f3b-a8e3-be4bc7a2a2c3\")>,\n",
       " <selenium.webdriver.remote.webelement.WebElement (session=\"536a8417918453b2311207fab35ed6fa\", element=\"75e3177e-4e36-4ad4-b673-3db051700fbd\")>,\n",
       " <selenium.webdriver.remote.webelement.WebElement (session=\"536a8417918453b2311207fab35ed6fa\", element=\"8834ca10-5bd6-493a-a088-858f1301c4e6\")>,\n",
       " <selenium.webdriver.remote.webelement.WebElement (session=\"536a8417918453b2311207fab35ed6fa\", element=\"cf08cbc5-603a-49ea-b797-f5573db786a8\")>,\n",
       " <selenium.webdriver.remote.webelement.WebElement (session=\"536a8417918453b2311207fab35ed6fa\", element=\"a54eb03f-6f7f-44c6-a133-33076c1fff1d\")>,\n",
       " <selenium.webdriver.remote.webelement.WebElement (session=\"536a8417918453b2311207fab35ed6fa\", element=\"bb2b4104-bd36-4a4d-b5ad-9e1323974b96\")>,\n",
       " <selenium.webdriver.remote.webelement.WebElement (session=\"536a8417918453b2311207fab35ed6fa\", element=\"613643a3-48aa-41fc-9708-28f3a91c7aa6\")>,\n",
       " <selenium.webdriver.remote.webelement.WebElement (session=\"536a8417918453b2311207fab35ed6fa\", element=\"f80a0759-490a-4940-ae16-244e6ff2dd73\")>,\n",
       " <selenium.webdriver.remote.webelement.WebElement (session=\"536a8417918453b2311207fab35ed6fa\", element=\"fad0f82a-c9b3-4d36-b1db-48ea1bcb5a6f\")>,\n",
       " <selenium.webdriver.remote.webelement.WebElement (session=\"536a8417918453b2311207fab35ed6fa\", element=\"c83ae1a5-2fa1-4bd0-8fbc-539102e0e0c2\")>,\n",
       " <selenium.webdriver.remote.webelement.WebElement (session=\"536a8417918453b2311207fab35ed6fa\", element=\"03c6fcc9-2ac7-462a-b9e8-3097cd437cf4\")>,\n",
       " <selenium.webdriver.remote.webelement.WebElement (session=\"536a8417918453b2311207fab35ed6fa\", element=\"8b67407b-e4dd-469f-8530-57303dfaf1f8\")>,\n",
       " <selenium.webdriver.remote.webelement.WebElement (session=\"536a8417918453b2311207fab35ed6fa\", element=\"57730873-4c52-47c5-b369-16c51fadd4a5\")>,\n",
       " <selenium.webdriver.remote.webelement.WebElement (session=\"536a8417918453b2311207fab35ed6fa\", element=\"182f143c-6bda-4238-84fb-407a3f31b8fb\")>,\n",
       " <selenium.webdriver.remote.webelement.WebElement (session=\"536a8417918453b2311207fab35ed6fa\", element=\"e57f12bf-a690-4434-a9a9-6c31a8f3ed0e\")>,\n",
       " <selenium.webdriver.remote.webelement.WebElement (session=\"536a8417918453b2311207fab35ed6fa\", element=\"f1b66fff-1091-4d90-baf8-439c12464822\")>,\n",
       " <selenium.webdriver.remote.webelement.WebElement (session=\"536a8417918453b2311207fab35ed6fa\", element=\"9c170366-0a17-4fbf-b9dd-628bf3bab6e5\")>,\n",
       " <selenium.webdriver.remote.webelement.WebElement (session=\"536a8417918453b2311207fab35ed6fa\", element=\"92d6f078-09ba-40a3-a314-5a5a56acd169\")>,\n",
       " <selenium.webdriver.remote.webelement.WebElement (session=\"536a8417918453b2311207fab35ed6fa\", element=\"1fca3381-35e6-48ba-9f8f-bba5bbc73044\")>,\n",
       " <selenium.webdriver.remote.webelement.WebElement (session=\"536a8417918453b2311207fab35ed6fa\", element=\"c4d60ec3-7eae-47f1-aaed-0e561bec06d3\")>,\n",
       " <selenium.webdriver.remote.webelement.WebElement (session=\"536a8417918453b2311207fab35ed6fa\", element=\"621c5775-8655-4fb5-be49-8973339771c2\")>,\n",
       " <selenium.webdriver.remote.webelement.WebElement (session=\"536a8417918453b2311207fab35ed6fa\", element=\"360b18ff-947c-422e-bb91-1785123832ef\")>,\n",
       " <selenium.webdriver.remote.webelement.WebElement (session=\"536a8417918453b2311207fab35ed6fa\", element=\"4d6629e0-4863-46c3-ab9f-ce7ed595a03c\")>,\n",
       " <selenium.webdriver.remote.webelement.WebElement (session=\"536a8417918453b2311207fab35ed6fa\", element=\"56cb5e29-f174-41e9-9aae-076714c07d13\")>,\n",
       " <selenium.webdriver.remote.webelement.WebElement (session=\"536a8417918453b2311207fab35ed6fa\", element=\"a48e798f-6ff7-4a96-bca0-c6997972e5dd\")>,\n",
       " <selenium.webdriver.remote.webelement.WebElement (session=\"536a8417918453b2311207fab35ed6fa\", element=\"923063e4-5189-4a00-aa21-08bab5f5d42f\")>,\n",
       " <selenium.webdriver.remote.webelement.WebElement (session=\"536a8417918453b2311207fab35ed6fa\", element=\"6918e3aa-0009-40e0-b161-e6ccc6b2ff00\")>,\n",
       " <selenium.webdriver.remote.webelement.WebElement (session=\"536a8417918453b2311207fab35ed6fa\", element=\"a1939f47-3edb-4741-9032-30d954f170ed\")>,\n",
       " <selenium.webdriver.remote.webelement.WebElement (session=\"536a8417918453b2311207fab35ed6fa\", element=\"f33ca97a-a6c6-40a2-8fe8-281b3f5951ee\")>,\n",
       " <selenium.webdriver.remote.webelement.WebElement (session=\"536a8417918453b2311207fab35ed6fa\", element=\"8f51a482-5e6a-41bc-b075-ea5086545d20\")>,\n",
       " <selenium.webdriver.remote.webelement.WebElement (session=\"536a8417918453b2311207fab35ed6fa\", element=\"6161e89c-b5f6-492f-a168-6d2effbe4f34\")>,\n",
       " <selenium.webdriver.remote.webelement.WebElement (session=\"536a8417918453b2311207fab35ed6fa\", element=\"238bf1ac-ab94-4824-8d7a-13b4d19614d5\")>,\n",
       " <selenium.webdriver.remote.webelement.WebElement (session=\"536a8417918453b2311207fab35ed6fa\", element=\"3839bca8-02dc-440c-bfef-6ad3731bf3ea\")>,\n",
       " <selenium.webdriver.remote.webelement.WebElement (session=\"536a8417918453b2311207fab35ed6fa\", element=\"40d52748-d678-45ee-adab-cdbcc6fd31ee\")>,\n",
       " <selenium.webdriver.remote.webelement.WebElement (session=\"536a8417918453b2311207fab35ed6fa\", element=\"2616964c-0151-45a3-ac6d-74c67b18117d\")>,\n",
       " <selenium.webdriver.remote.webelement.WebElement (session=\"536a8417918453b2311207fab35ed6fa\", element=\"def081a8-0436-460b-9169-f8e73231e857\")>,\n",
       " <selenium.webdriver.remote.webelement.WebElement (session=\"536a8417918453b2311207fab35ed6fa\", element=\"a7bbe601-0b99-474b-8a6e-5425cc999a6e\")>,\n",
       " <selenium.webdriver.remote.webelement.WebElement (session=\"536a8417918453b2311207fab35ed6fa\", element=\"e928c837-fc34-4a21-96c4-f7b401e392c1\")>,\n",
       " <selenium.webdriver.remote.webelement.WebElement (session=\"536a8417918453b2311207fab35ed6fa\", element=\"2dd04636-2409-4823-a426-74147dd9b773\")>,\n",
       " <selenium.webdriver.remote.webelement.WebElement (session=\"536a8417918453b2311207fab35ed6fa\", element=\"85778d26-557c-42dd-b595-a18e1733b545\")>,\n",
       " <selenium.webdriver.remote.webelement.WebElement (session=\"536a8417918453b2311207fab35ed6fa\", element=\"db081ac5-2c5e-41b2-ace5-6b501fd573a6\")>,\n",
       " <selenium.webdriver.remote.webelement.WebElement (session=\"536a8417918453b2311207fab35ed6fa\", element=\"59516cd4-a857-4744-b3ad-7396e21b4547\")>]"
      ]
     },
     "execution_count": 111,
     "metadata": {},
     "output_type": "execute_result"
    }
   ],
   "source": [
    "driver.maximize_window()\n",
    "title_tags = driver.find_elements_by_xpath(\"//div[@class='dataTables_scroll']\")\n",
    "title_tags"
   ]
  },
  {
   "cell_type": "code",
   "execution_count": 112,
   "id": "3c57391c",
   "metadata": {},
   "outputs": [],
   "source": [
    "Titles=[]\n",
    "for i in title_tags:\n",
    "    title=i.text\n",
    "    Titles.append(title)"
   ]
  },
  {
   "cell_type": "code",
   "execution_count": 113,
   "id": "53cecb78",
   "metadata": {},
   "outputs": [
    {
     "data": {
      "text/plain": [
       "[\"Sr. No. Date (dd/mm/yyyy) Startup Name Industry / Vertical Sub-Vertical City / Location Investors' Name Investment Type Amount (In USD)\\n1 08/09/2020 Byju’s EduTech Online Tutoring Bangalore Silver Lake, Tiger Global, General Atlantic and Owl Ventures\\nPrivate Equity 500,000,000\\n2 12/09/2020 mCaffeine Personal Care Skincare & Haircare Mumbai Amicus Capital Private Equity I LLP, Amicus Capital Partners India Fund I and RP-SG Venture Fund 1 Series B 3,000,000\\n3 09/09/2020 Qshala EduTech Online Curiosity Platform for Kids Bangalore Rainmatter Capital Angel 370,000\\n4 02/09/2020 Winzo Online Gaming Online Gaming New Delhi Kalaari Capital Partners, IndigoEdge Management Consultancy Series B 15,500,000\\n5 09/09/2020 Hippo Video Video Customer Experience(CX) Platform Video Customer Experience(CX) Platform Newark, Delaware, United States of Amercia Alpha Wave Incubation, Exfinity Venture Partners and existing backers.\\nSeries A 4,500,000\\n6 07/09/2020 Melorra E-commerce Online Jewelry Store\\nBangalore Shadow Holdings, Lightbox. Debt Financing upto 8,900,000\\n7 07/09/2020 1mg E-commerce Online Pharmacy Gurgaon Gaja Capital, Tata Capital, Partners Group In Progress 100,000,000\\n8 31/08/2020 mfine HealthTech On-Demand Healthcare Services Bangalore Caretech Pte Inc Series B 5,400,000\\n9 31/08/2020 Apna Human Resources Recruitment Platform Bangalore Lightspeed India and Sequoia Capital India Series A 8,000,000\\n10 03/09/2020 Railofy Transportation WL & RAC protection platform Mumbai Chiratae Ventures Seed 950,000\",\n",
       " \"Sr. No. Date (dd/mm/yyyy) Startup Name Industry / Vertical Sub-Vertical City / Location Investors' Name Investment Type Amount (In USD)\\n1 15/08/2020 Practo HealthTech Health care and Wellness Bangalore A1A Company\\nSeries F 32,000,000\\n2 13/08/2020 Medlife E-commerce Online Pharmacy Bangalore Prasid Uno Family Trust and SC Credit Fund 23,000,000\\n3 13/08/2020 HungerBox\\nFoodTech Online Food Delivery Service Bangalore One97, Sabre Partners Trust, Pratithi Investment Trust, and Srihari Kumar Series D1 1,560,000\\n4 04/08/2020 Dunzo Hyper-local Logistics Online Delivery Services Bangalore Existing Backers In Progress 30,000,000\\n5 11/08/2020 Terra.do EduTech Online Climate School, E-learning Stanford, California, Stanford Angels and Entrepreneurs (India), BEENEXT Emerging Asia, Rainmatter Capital\\n\\nSeed 1,400,000\\n6 12/08/2020 Classplus EduTech E-learning, Online Tutoring\\n\\nNoida Falcon Edge In Progress upto 15,000,000\\n7 14/08/2020 Niyo FinTech Financial Services Bangalore Niyo Solutions Inc. 6,000,000\\n8 10/08/2020 ZestMoney FinTech Financial Services Bangalore Primrose Hills Ventures 10,670,000\\n9 07/08/2020 FreshToHome E-commerce Food Delivery Bangalore Ascent Capital Venture 16,200,000\\n10 13/08/2020 Eduvanz FinTech Financial Services Mumbai Sequoia India, Unitus Series A 5,000,000\"]"
      ]
     },
     "execution_count": 113,
     "metadata": {},
     "output_type": "execute_result"
    }
   ],
   "source": [
    "Titles[7:9]"
   ]
  },
  {
   "cell_type": "markdown",
   "id": "1cd46be6",
   "metadata": {},
   "source": [
    "7. Program to scrap all the available details of best gaming laptops from digit.in."
   ]
  },
  {
   "cell_type": "code",
   "execution_count": 114,
   "id": "58ba18b5",
   "metadata": {},
   "outputs": [],
   "source": [
    "import selenium\n",
    "from selenium import webdriver\n",
    "from selenium.common.exceptions import StaleElementReferenceException, NoSuchElementException"
   ]
  },
  {
   "cell_type": "code",
   "execution_count": 115,
   "id": "7a308b95",
   "metadata": {},
   "outputs": [
    {
     "name": "stderr",
     "output_type": "stream",
     "text": [
      "C:\\Users\\Asus\\AppData\\Local\\Temp/ipykernel_16612/4009206404.py:1: DeprecationWarning: executable_path has been deprecated, please pass in a Service object\n",
      "  driver=webdriver.Chrome(r\"C:\\Web driver\\chromedriver.exe\")\n"
     ]
    }
   ],
   "source": [
    "driver=webdriver.Chrome(r\"C:\\Web driver\\chromedriver.exe\")\n",
    "driver.get(\"https://www.digit.in/top-products/best-gaming-laptops-40.html\")"
   ]
  },
  {
   "cell_type": "code",
   "execution_count": 116,
   "id": "ef5f06d2",
   "metadata": {},
   "outputs": [
    {
     "name": "stderr",
     "output_type": "stream",
     "text": [
      "C:\\Users\\Asus\\AppData\\Local\\Temp/ipykernel_16612/1699436486.py:2: DeprecationWarning: find_elements_by_xpath is deprecated. Please use find_elements(by=By.XPATH, value=xpath) instead\n",
      "  title_tags = driver.find_elements_by_xpath(\"//div[@class='TopNumbeHeading active sticky-footer']\")\n"
     ]
    },
    {
     "data": {
      "text/plain": [
       "[<selenium.webdriver.remote.webelement.WebElement (session=\"78df52a7ce18e9a3e1d203c7f4caf229\", element=\"bfd77a9b-31cd-45ff-9309-7df0eac2b8ee\")>,\n",
       " <selenium.webdriver.remote.webelement.WebElement (session=\"78df52a7ce18e9a3e1d203c7f4caf229\", element=\"da859348-4c86-4216-a010-baccd34ebba6\")>,\n",
       " <selenium.webdriver.remote.webelement.WebElement (session=\"78df52a7ce18e9a3e1d203c7f4caf229\", element=\"b4407121-28d5-4f3b-a0ba-b05779d5f1dc\")>,\n",
       " <selenium.webdriver.remote.webelement.WebElement (session=\"78df52a7ce18e9a3e1d203c7f4caf229\", element=\"06395c46-5224-4375-aaac-cf87dc2515d7\")>,\n",
       " <selenium.webdriver.remote.webelement.WebElement (session=\"78df52a7ce18e9a3e1d203c7f4caf229\", element=\"59ee0e39-bbae-47f6-8cc0-34e6250e713b\")>,\n",
       " <selenium.webdriver.remote.webelement.WebElement (session=\"78df52a7ce18e9a3e1d203c7f4caf229\", element=\"8aa3d7f4-021d-422c-8f2f-caf347d9f9a7\")>,\n",
       " <selenium.webdriver.remote.webelement.WebElement (session=\"78df52a7ce18e9a3e1d203c7f4caf229\", element=\"41cad87c-d799-4d96-863f-0a8a2dd30b0b\")>,\n",
       " <selenium.webdriver.remote.webelement.WebElement (session=\"78df52a7ce18e9a3e1d203c7f4caf229\", element=\"d80a83a4-a8b7-4c5b-976f-601942218ced\")>,\n",
       " <selenium.webdriver.remote.webelement.WebElement (session=\"78df52a7ce18e9a3e1d203c7f4caf229\", element=\"9d37a906-921c-453d-878d-1d16e19945f8\")>,\n",
       " <selenium.webdriver.remote.webelement.WebElement (session=\"78df52a7ce18e9a3e1d203c7f4caf229\", element=\"8bfca708-61ec-460e-ae5d-f22ef17c2206\")>]"
      ]
     },
     "execution_count": 116,
     "metadata": {},
     "output_type": "execute_result"
    }
   ],
   "source": [
    "driver.maximize_window()\n",
    "title_tags = driver.find_elements_by_xpath(\"//div[@class='TopNumbeHeading active sticky-footer']\")\n",
    "title_tags"
   ]
  },
  {
   "cell_type": "code",
   "execution_count": 117,
   "id": "b539be9e",
   "metadata": {},
   "outputs": [
    {
     "data": {
      "text/plain": [
       "['1.\\nMSI RAIDER GE76',\n",
       " '2.\\nASUS ROG STRIX SCAR 15',\n",
       " '3.\\nACER NITRO 5',\n",
       " '4.\\nMSI STEALTH 15M',\n",
       " '5.\\nASUS ROG STRIX SCAR 15',\n",
       " '6.\\nASUS ROG STRIX SCAR 15',\n",
       " '7.\\nASUS ZEPHYRUS G14',\n",
       " '8.\\nHP OMEN 16',\n",
       " '9.\\nASUS ROG ZEPHYRUS DUO 15',\n",
       " '10.\\nACER ASPIRE 7 GAMING LAPTOP']"
      ]
     },
     "execution_count": 117,
     "metadata": {},
     "output_type": "execute_result"
    }
   ],
   "source": [
    "Titles=[]\n",
    "for i in title_tags:\n",
    "    title=i.text\n",
    "    Titles.append(title)\n",
    "Titles"
   ]
  },
  {
   "cell_type": "code",
   "execution_count": 118,
   "id": "102d9cb0",
   "metadata": {},
   "outputs": [
    {
     "name": "stderr",
     "output_type": "stream",
     "text": [
      "C:\\Users\\Asus\\AppData\\Local\\Temp/ipykernel_16612/3451899440.py:1: DeprecationWarning: find_elements_by_xpath is deprecated. Please use find_elements(by=By.XPATH, value=xpath) instead\n",
      "  windows_tags = driver.find_elements_by_xpath(\"//div[@class='product-detail']\")\n"
     ]
    },
    {
     "data": {
      "text/plain": [
       "[<selenium.webdriver.remote.webelement.WebElement (session=\"78df52a7ce18e9a3e1d203c7f4caf229\", element=\"f3c90d7a-f919-45d4-95f8-c9958995f2c7\")>,\n",
       " <selenium.webdriver.remote.webelement.WebElement (session=\"78df52a7ce18e9a3e1d203c7f4caf229\", element=\"f73685f7-7599-4115-b5e5-8c55144c89b2\")>,\n",
       " <selenium.webdriver.remote.webelement.WebElement (session=\"78df52a7ce18e9a3e1d203c7f4caf229\", element=\"bea61b40-2388-45b5-afb6-e00dc16d4052\")>,\n",
       " <selenium.webdriver.remote.webelement.WebElement (session=\"78df52a7ce18e9a3e1d203c7f4caf229\", element=\"8759b00a-915f-4d40-88eb-bcba0ab73caa\")>,\n",
       " <selenium.webdriver.remote.webelement.WebElement (session=\"78df52a7ce18e9a3e1d203c7f4caf229\", element=\"2e0c66f1-b163-4328-9aa5-dfab88980be5\")>,\n",
       " <selenium.webdriver.remote.webelement.WebElement (session=\"78df52a7ce18e9a3e1d203c7f4caf229\", element=\"b7724934-433f-490e-922d-bb527738502b\")>,\n",
       " <selenium.webdriver.remote.webelement.WebElement (session=\"78df52a7ce18e9a3e1d203c7f4caf229\", element=\"fea461ae-dcee-46f2-99d8-0845ca7aa0ae\")>,\n",
       " <selenium.webdriver.remote.webelement.WebElement (session=\"78df52a7ce18e9a3e1d203c7f4caf229\", element=\"7fd655ce-4389-4241-861d-e597585132d4\")>,\n",
       " <selenium.webdriver.remote.webelement.WebElement (session=\"78df52a7ce18e9a3e1d203c7f4caf229\", element=\"3861b6f7-e021-401e-ba32-d55334eae66c\")>,\n",
       " <selenium.webdriver.remote.webelement.WebElement (session=\"78df52a7ce18e9a3e1d203c7f4caf229\", element=\"26462d89-4ed6-48eb-9ab5-94b0fdf3025d\")>]"
      ]
     },
     "execution_count": 118,
     "metadata": {},
     "output_type": "execute_result"
    }
   ],
   "source": [
    "windows_tags = driver.find_elements_by_xpath(\"//div[@class='product-detail']\")\n",
    "windows_tags"
   ]
  },
  {
   "cell_type": "code",
   "execution_count": 119,
   "id": "cb82dc16",
   "metadata": {},
   "outputs": [
    {
     "data": {
      "text/plain": [
       "['OS\\nWINDOWS 11 HOME\\nDISPLAY\\n17\" (3840 X 2160)\\nPROCESSOR\\n12TH GEN INTEL CORE I9-12900HK | 5 GHZ\\nMEMORY\\n2 TB SSD/16 GBGB DDR5\\nFULL SPECS OTHER MSI LAPTOPS',\n",
       " 'OS\\nWINDOWS 11 HOME\\nDISPLAY\\n15.6\" (2560 X 1440)\\nPROCESSOR\\n12TH GEN INTEL CORE I9-12900H | 2.5 GHZ\\nMEMORY\\n2 TB SSD/32 GBGB DDR5\\nFULL SPECS OTHER ASUS LAPTOPS',\n",
       " 'OS\\nWINDOWS 10\\nDISPLAY\\n15.6\" (1920 X 1080)\\nPROCESSOR\\nAMD RYZEN 9 OCTA CORE | 2.4 GHZ\\nMEMORY\\n1 TB HDD/16 GBGB DDR4\\nFULL SPECS OTHER ACER LAPTOPS',\n",
       " 'OS\\nWINDOWS 10\\nDISPLAY\\n15.6\" (1920 X 1080)\\nPROCESSOR\\nINTEL CORE I7 11TH GEN - 11375H | NA\\nMEMORY\\n1 TB SSD/16 GBGB DDR4\\nFULL SPECS OTHER MSI LAPTOPS',\n",
       " 'OS\\nWINDOWS 10\\nDISPLAY\\n15.6\" (2560 X 1440)\\nPROCESSOR\\nAMD RYZEN 9 OCTA CORE - 5900HX | 3.3 GHZ\\nMEMORY\\n2 TB SSD/32 GBGB DDR4\\nFULL SPECS OTHER ASUS LAPTOPS',\n",
       " 'OS\\nWINDOWS 10 HOME\\nDISPLAY\\n15.6\" (1920 X 1080)\\nPROCESSOR\\nAMD RYZEN™ 9 5900HX | 3.3 GHZ\\nMEMORY\\n1 TB SSD/16 GBGB DDR4\\nREAD REVIEW FULL SPECS OTHER ASUS LAPTOPS',\n",
       " 'OS\\nWINDOWS 10 HOME\\nDISPLAY\\n14\" (1920 X 1080)\\nPROCESSOR\\nAMD 3RD GEN RYZEN 9 | 3.3 GHZ\\nMEMORY\\n1 TB SSD/16 GBGB DDR4\\nREAD REVIEW FULL SPECS OTHER ASUS LAPTOPS',\n",
       " 'OS\\nWINDOWS 11 HOME\\nDISPLAY\\n16.1\" (1920 X 1080)\\nPROCESSOR\\n12TH GEN INTEL CORE I7-12700H | 4.7 GHZ\\nMEMORY\\n1 TB SSD/16 GBGB DDR4\\nFULL SPECS OTHER HP LAPTOPS',\n",
       " 'OS\\nWINDOWS 10\\nDISPLAY\\n15.6\" (3840 X 1100)\\nPROCESSOR\\nINTEL CORE I7 10TH GEN 10875H | NA\\nMEMORY\\n512 GB SSD/4 GBGB DDR4\\nFULL SPECS OTHER ASUS LAPTOPS',\n",
       " 'OS\\nWINDOWS 10 HOME\\nDISPLAY\\n15.6\" (1920 X 1080)\\nPROCESSOR\\nAMD RYZEN™ 5-5500U HEXA-CORE | NA\\nMEMORY\\n512 GB SSD/8 GBGB DDR4\\nREAD REVIEW FULL SPECS OTHER ACER LAPTOPS']"
      ]
     },
     "execution_count": 119,
     "metadata": {},
     "output_type": "execute_result"
    }
   ],
   "source": [
    "detail=[]\n",
    "for i in windows_tags:\n",
    "    wind=i.text\n",
    "    detail.append(wind)\n",
    "detail"
   ]
  },
  {
   "cell_type": "code",
   "execution_count": 120,
   "id": "7e72ffd1",
   "metadata": {},
   "outputs": [
    {
     "name": "stderr",
     "output_type": "stream",
     "text": [
      "C:\\Users\\Asus\\AppData\\Local\\Temp/ipykernel_16612/2647616777.py:1: DeprecationWarning: find_elements_by_xpath is deprecated. Please use find_elements(by=By.XPATH, value=xpath) instead\n",
      "  urls=driver.find_elements_by_xpath(\"//div[@class='product-ickon']/img\")\n"
     ]
    },
    {
     "data": {
      "text/plain": [
       "['https://static.digit.in/product/thumb_239085_product_td_300.jpeg',\n",
       " 'https://www.digit.in/images/digit_topten_icon.png',\n",
       " 'https://www.digit.in/images/digit_topten_icon.png',\n",
       " 'https://www.digit.in/images/digit_topten_icon.png',\n",
       " 'https://www.digit.in/images/digit_topten_icon.png',\n",
       " 'https://www.digit.in/images/digit_topten_icon.png',\n",
       " 'https://www.digit.in/images/digit_topten_icon.png',\n",
       " 'https://www.digit.in/images/digit_topten_icon.png',\n",
       " 'https://www.digit.in/images/digit_topten_icon.png',\n",
       " 'https://www.digit.in/images/digit_topten_icon.png']"
      ]
     },
     "execution_count": 120,
     "metadata": {},
     "output_type": "execute_result"
    }
   ],
   "source": [
    "urls=driver.find_elements_by_xpath(\"//div[@class='product-ickon']/img\")\n",
    "url1=[]\n",
    "for i in urls:\n",
    "    url1.append(i.get_attribute('src'))\n",
    "url1"
   ]
  },
  {
   "cell_type": "code",
   "execution_count": 121,
   "id": "d90ac737",
   "metadata": {},
   "outputs": [
    {
     "data": {
      "text/html": [
       "<div>\n",
       "<style scoped>\n",
       "    .dataframe tbody tr th:only-of-type {\n",
       "        vertical-align: middle;\n",
       "    }\n",
       "\n",
       "    .dataframe tbody tr th {\n",
       "        vertical-align: top;\n",
       "    }\n",
       "\n",
       "    .dataframe thead th {\n",
       "        text-align: right;\n",
       "    }\n",
       "</style>\n",
       "<table border=\"1\" class=\"dataframe\">\n",
       "  <thead>\n",
       "    <tr style=\"text-align: right;\">\n",
       "      <th></th>\n",
       "      <th>Titles</th>\n",
       "      <th>Product Details</th>\n",
       "      <th>Image Links</th>\n",
       "    </tr>\n",
       "  </thead>\n",
       "  <tbody>\n",
       "    <tr>\n",
       "      <th>0</th>\n",
       "      <td>1.\\nMSI RAIDER GE76</td>\n",
       "      <td>OS\\nWINDOWS 11 HOME\\nDISPLAY\\n17\" (3840 X 2160...</td>\n",
       "      <td>https://static.digit.in/product/thumb_239085_p...</td>\n",
       "    </tr>\n",
       "    <tr>\n",
       "      <th>1</th>\n",
       "      <td>2.\\nASUS ROG STRIX SCAR 15</td>\n",
       "      <td>OS\\nWINDOWS 11 HOME\\nDISPLAY\\n15.6\" (2560 X 14...</td>\n",
       "      <td>https://www.digit.in/images/digit_topten_icon.png</td>\n",
       "    </tr>\n",
       "    <tr>\n",
       "      <th>2</th>\n",
       "      <td>3.\\nACER NITRO 5</td>\n",
       "      <td>OS\\nWINDOWS 10\\nDISPLAY\\n15.6\" (1920 X 1080)\\n...</td>\n",
       "      <td>https://www.digit.in/images/digit_topten_icon.png</td>\n",
       "    </tr>\n",
       "    <tr>\n",
       "      <th>3</th>\n",
       "      <td>4.\\nMSI STEALTH 15M</td>\n",
       "      <td>OS\\nWINDOWS 10\\nDISPLAY\\n15.6\" (1920 X 1080)\\n...</td>\n",
       "      <td>https://www.digit.in/images/digit_topten_icon.png</td>\n",
       "    </tr>\n",
       "    <tr>\n",
       "      <th>4</th>\n",
       "      <td>5.\\nASUS ROG STRIX SCAR 15</td>\n",
       "      <td>OS\\nWINDOWS 10\\nDISPLAY\\n15.6\" (2560 X 1440)\\n...</td>\n",
       "      <td>https://www.digit.in/images/digit_topten_icon.png</td>\n",
       "    </tr>\n",
       "    <tr>\n",
       "      <th>5</th>\n",
       "      <td>6.\\nASUS ROG STRIX SCAR 15</td>\n",
       "      <td>OS\\nWINDOWS 10 HOME\\nDISPLAY\\n15.6\" (1920 X 10...</td>\n",
       "      <td>https://www.digit.in/images/digit_topten_icon.png</td>\n",
       "    </tr>\n",
       "    <tr>\n",
       "      <th>6</th>\n",
       "      <td>7.\\nASUS ZEPHYRUS G14</td>\n",
       "      <td>OS\\nWINDOWS 10 HOME\\nDISPLAY\\n14\" (1920 X 1080...</td>\n",
       "      <td>https://www.digit.in/images/digit_topten_icon.png</td>\n",
       "    </tr>\n",
       "    <tr>\n",
       "      <th>7</th>\n",
       "      <td>8.\\nHP OMEN 16</td>\n",
       "      <td>OS\\nWINDOWS 11 HOME\\nDISPLAY\\n16.1\" (1920 X 10...</td>\n",
       "      <td>https://www.digit.in/images/digit_topten_icon.png</td>\n",
       "    </tr>\n",
       "    <tr>\n",
       "      <th>8</th>\n",
       "      <td>9.\\nASUS ROG ZEPHYRUS DUO 15</td>\n",
       "      <td>OS\\nWINDOWS 10\\nDISPLAY\\n15.6\" (3840 X 1100)\\n...</td>\n",
       "      <td>https://www.digit.in/images/digit_topten_icon.png</td>\n",
       "    </tr>\n",
       "    <tr>\n",
       "      <th>9</th>\n",
       "      <td>10.\\nACER ASPIRE 7 GAMING LAPTOP</td>\n",
       "      <td>OS\\nWINDOWS 10 HOME\\nDISPLAY\\n15.6\" (1920 X 10...</td>\n",
       "      <td>https://www.digit.in/images/digit_topten_icon.png</td>\n",
       "    </tr>\n",
       "  </tbody>\n",
       "</table>\n",
       "</div>"
      ],
      "text/plain": [
       "                             Titles  \\\n",
       "0               1.\\nMSI RAIDER GE76   \n",
       "1        2.\\nASUS ROG STRIX SCAR 15   \n",
       "2                  3.\\nACER NITRO 5   \n",
       "3               4.\\nMSI STEALTH 15M   \n",
       "4        5.\\nASUS ROG STRIX SCAR 15   \n",
       "5        6.\\nASUS ROG STRIX SCAR 15   \n",
       "6             7.\\nASUS ZEPHYRUS G14   \n",
       "7                    8.\\nHP OMEN 16   \n",
       "8      9.\\nASUS ROG ZEPHYRUS DUO 15   \n",
       "9  10.\\nACER ASPIRE 7 GAMING LAPTOP   \n",
       "\n",
       "                                     Product Details  \\\n",
       "0  OS\\nWINDOWS 11 HOME\\nDISPLAY\\n17\" (3840 X 2160...   \n",
       "1  OS\\nWINDOWS 11 HOME\\nDISPLAY\\n15.6\" (2560 X 14...   \n",
       "2  OS\\nWINDOWS 10\\nDISPLAY\\n15.6\" (1920 X 1080)\\n...   \n",
       "3  OS\\nWINDOWS 10\\nDISPLAY\\n15.6\" (1920 X 1080)\\n...   \n",
       "4  OS\\nWINDOWS 10\\nDISPLAY\\n15.6\" (2560 X 1440)\\n...   \n",
       "5  OS\\nWINDOWS 10 HOME\\nDISPLAY\\n15.6\" (1920 X 10...   \n",
       "6  OS\\nWINDOWS 10 HOME\\nDISPLAY\\n14\" (1920 X 1080...   \n",
       "7  OS\\nWINDOWS 11 HOME\\nDISPLAY\\n16.1\" (1920 X 10...   \n",
       "8  OS\\nWINDOWS 10\\nDISPLAY\\n15.6\" (3840 X 1100)\\n...   \n",
       "9  OS\\nWINDOWS 10 HOME\\nDISPLAY\\n15.6\" (1920 X 10...   \n",
       "\n",
       "                                         Image Links  \n",
       "0  https://static.digit.in/product/thumb_239085_p...  \n",
       "1  https://www.digit.in/images/digit_topten_icon.png  \n",
       "2  https://www.digit.in/images/digit_topten_icon.png  \n",
       "3  https://www.digit.in/images/digit_topten_icon.png  \n",
       "4  https://www.digit.in/images/digit_topten_icon.png  \n",
       "5  https://www.digit.in/images/digit_topten_icon.png  \n",
       "6  https://www.digit.in/images/digit_topten_icon.png  \n",
       "7  https://www.digit.in/images/digit_topten_icon.png  \n",
       "8  https://www.digit.in/images/digit_topten_icon.png  \n",
       "9  https://www.digit.in/images/digit_topten_icon.png  "
      ]
     },
     "execution_count": 121,
     "metadata": {},
     "output_type": "execute_result"
    }
   ],
   "source": [
    "import pandas as pd\n",
    "Digit=pd.DataFrame({})\n",
    "Digit['Titles']=Titles\n",
    "Digit['Product Details']=detail\n",
    "Digit['Image Links']=url1\n",
    "Digit"
   ]
  },
  {
   "cell_type": "markdown",
   "id": "5d6a7561",
   "metadata": {},
   "source": [
    "8. Python program to scrape the details for all billionaires from www.forbes.com. Details to be scrapped: “Rank”, “Name”, “Net worth”, “Age”, “Citizenship”, “Source”, “Industry”."
   ]
  },
  {
   "cell_type": "code",
   "execution_count": null,
   "id": "6c919d35",
   "metadata": {},
   "outputs": [],
   "source": [
    "import selenium\n",
    "from selenium import webdriver\n",
    "from selenium.common.exceptions import StaleElementReferenceException, NoSuchElementException\n",
    "from selenium.webdriver.common.keys import Keys"
   ]
  },
  {
   "cell_type": "code",
   "execution_count": 122,
   "id": "db05d410",
   "metadata": {},
   "outputs": [
    {
     "name": "stderr",
     "output_type": "stream",
     "text": [
      "C:\\Users\\Asus\\AppData\\Local\\Temp/ipykernel_16612/70139232.py:1: DeprecationWarning: executable_path has been deprecated, please pass in a Service object\n",
      "  driver = webdriver.Chrome(r\"C:\\Web driver\\chromedriver.exe\")\n"
     ]
    }
   ],
   "source": [
    "driver = webdriver.Chrome(r\"C:\\Web driver\\chromedriver.exe\")\n",
    "driver.get(\"https://www.forbes.com/real-time-billionaires/#6f1445f93d78\")"
   ]
  },
  {
   "cell_type": "code",
   "execution_count": 123,
   "id": "ac525f13",
   "metadata": {},
   "outputs": [
    {
     "name": "stderr",
     "output_type": "stream",
     "text": [
      "C:\\Users\\Asus\\AppData\\Local\\Temp/ipykernel_16612/1603729559.py:1: DeprecationWarning: find_elements_by_xpath is deprecated. Please use find_elements(by=By.XPATH, value=xpath) instead\n",
      "  Rank = driver.find_elements_by_xpath(\"//td[@class='rank']\")\n"
     ]
    },
    {
     "data": {
      "text/plain": [
       "25"
      ]
     },
     "execution_count": 123,
     "metadata": {},
     "output_type": "execute_result"
    }
   ],
   "source": [
    "Rank = driver.find_elements_by_xpath(\"//td[@class='rank']\")\n",
    "len(Rank)"
   ]
  },
  {
   "cell_type": "code",
   "execution_count": 124,
   "id": "b92d7ec3",
   "metadata": {},
   "outputs": [],
   "source": [
    "Ranks = []\n",
    "for i in Rank:\n",
    "    Ranks.append(i.text)"
   ]
  },
  {
   "cell_type": "code",
   "execution_count": 125,
   "id": "c4982ffc",
   "metadata": {},
   "outputs": [
    {
     "name": "stderr",
     "output_type": "stream",
     "text": [
      "C:\\Users\\Asus\\AppData\\Local\\Temp/ipykernel_16612/2908080164.py:1: DeprecationWarning: find_elements_by_xpath is deprecated. Please use find_elements(by=By.XPATH, value=xpath) instead\n",
      "  Name = driver.find_elements_by_xpath(\"//td[@class='name']\")\n"
     ]
    },
    {
     "data": {
      "text/plain": [
       "25"
      ]
     },
     "execution_count": 125,
     "metadata": {},
     "output_type": "execute_result"
    }
   ],
   "source": [
    "Name = driver.find_elements_by_xpath(\"//td[@class='name']\")\n",
    "len(Name)"
   ]
  },
  {
   "cell_type": "code",
   "execution_count": 126,
   "id": "15a98311",
   "metadata": {},
   "outputs": [],
   "source": [
    "Names = []\n",
    "for i in Name:\n",
    "    Names.append(i.text)"
   ]
  },
  {
   "cell_type": "code",
   "execution_count": 127,
   "id": "889ea9cd",
   "metadata": {},
   "outputs": [
    {
     "name": "stderr",
     "output_type": "stream",
     "text": [
      "C:\\Users\\Asus\\AppData\\Local\\Temp/ipykernel_16612/825224566.py:1: DeprecationWarning: find_elements_by_xpath is deprecated. Please use find_elements(by=By.XPATH, value=xpath) instead\n",
      "  Worth = driver.find_elements_by_xpath(\"//td[@class='Net Worth']\")\n"
     ]
    },
    {
     "data": {
      "text/plain": [
       "25"
      ]
     },
     "execution_count": 127,
     "metadata": {},
     "output_type": "execute_result"
    }
   ],
   "source": [
    "Worth = driver.find_elements_by_xpath(\"//td[@class='Net Worth']\")\n",
    "len(Worth)"
   ]
  },
  {
   "cell_type": "code",
   "execution_count": 128,
   "id": "b632edbf",
   "metadata": {},
   "outputs": [],
   "source": [
    "Net_Worth = []\n",
    "for i in Worth:\n",
    "    Net_Worth.append(i.text)"
   ]
  },
  {
   "cell_type": "code",
   "execution_count": 129,
   "id": "60622056",
   "metadata": {},
   "outputs": [
    {
     "name": "stderr",
     "output_type": "stream",
     "text": [
      "C:\\Users\\Asus\\AppData\\Local\\Temp/ipykernel_16612/2349180613.py:1: DeprecationWarning: find_elements_by_xpath is deprecated. Please use find_elements(by=By.XPATH, value=xpath) instead\n",
      "  Age = driver.find_elements_by_xpath(\"//td[@class='age']\")\n"
     ]
    },
    {
     "data": {
      "text/plain": [
       "25"
      ]
     },
     "execution_count": 129,
     "metadata": {},
     "output_type": "execute_result"
    }
   ],
   "source": [
    "Age = driver.find_elements_by_xpath(\"//td[@class='age']\")\n",
    "len(Age)"
   ]
  },
  {
   "cell_type": "code",
   "execution_count": 130,
   "id": "be68875a",
   "metadata": {},
   "outputs": [],
   "source": [
    "Age_of_Billionaire = []\n",
    "for i in Age:\n",
    "    Age_of_Billionaire.append(i.text)"
   ]
  },
  {
   "cell_type": "code",
   "execution_count": 131,
   "id": "02a9041a",
   "metadata": {},
   "outputs": [
    {
     "name": "stderr",
     "output_type": "stream",
     "text": [
      "C:\\Users\\Asus\\AppData\\Local\\Temp/ipykernel_16612/1809951037.py:1: DeprecationWarning: find_elements_by_xpath is deprecated. Please use find_elements(by=By.XPATH, value=xpath) instead\n",
      "  Source = driver.find_elements_by_xpath(\"//td[@class='source']\")\n"
     ]
    },
    {
     "data": {
      "text/plain": [
       "25"
      ]
     },
     "execution_count": 131,
     "metadata": {},
     "output_type": "execute_result"
    }
   ],
   "source": [
    "Source = driver.find_elements_by_xpath(\"//td[@class='source']\")\n",
    "len(Source)"
   ]
  },
  {
   "cell_type": "code",
   "execution_count": 132,
   "id": "1beffba6",
   "metadata": {},
   "outputs": [],
   "source": [
    "Source_of_Billionaire = []\n",
    "for i in Source:\n",
    "    Source_of_Billionaire.append(i.text)"
   ]
  },
  {
   "cell_type": "code",
   "execution_count": 133,
   "id": "600f74ee",
   "metadata": {},
   "outputs": [
    {
     "name": "stderr",
     "output_type": "stream",
     "text": [
      "C:\\Users\\Asus\\AppData\\Local\\Temp/ipykernel_16612/2222155745.py:1: DeprecationWarning: find_elements_by_xpath is deprecated. Please use find_elements(by=By.XPATH, value=xpath) instead\n",
      "  Country = driver.find_elements_by_xpath(\"//td[@class='Country/Territory']\")\n"
     ]
    },
    {
     "data": {
      "text/plain": [
       "25"
      ]
     },
     "execution_count": 133,
     "metadata": {},
     "output_type": "execute_result"
    }
   ],
   "source": [
    "Country = driver.find_elements_by_xpath(\"//td[@class='Country/Territory']\")\n",
    "len(Country)"
   ]
  },
  {
   "cell_type": "code",
   "execution_count": 134,
   "id": "cb6de4cc",
   "metadata": {},
   "outputs": [],
   "source": [
    "Country_of_Billionaire = []\n",
    "for i in Country:\n",
    "    Country_of_Billionaire.append(i.text)"
   ]
  },
  {
   "cell_type": "code",
   "execution_count": 135,
   "id": "6c5038b3",
   "metadata": {},
   "outputs": [],
   "source": [
    "import pandas as pd\n",
    "Billionare=pd.DataFrame({})\n",
    "Billionare['Rank']= Ranks\n",
    "Billionare['Name']= Names\n",
    "Billionare['Net Worth']= Net_Worth\n",
    "Billionare['Age']= Age_of_Billionaire\n",
    "Billionare['Source']= Source_of_Billionaire\n",
    "Billionare['Country']= Country_of_Billionaire"
   ]
  },
  {
   "cell_type": "code",
   "execution_count": 136,
   "id": "72ca2691",
   "metadata": {},
   "outputs": [
    {
     "data": {
      "text/html": [
       "<div>\n",
       "<style scoped>\n",
       "    .dataframe tbody tr th:only-of-type {\n",
       "        vertical-align: middle;\n",
       "    }\n",
       "\n",
       "    .dataframe tbody tr th {\n",
       "        vertical-align: top;\n",
       "    }\n",
       "\n",
       "    .dataframe thead th {\n",
       "        text-align: right;\n",
       "    }\n",
       "</style>\n",
       "<table border=\"1\" class=\"dataframe\">\n",
       "  <thead>\n",
       "    <tr style=\"text-align: right;\">\n",
       "      <th></th>\n",
       "      <th>Rank</th>\n",
       "      <th>Name</th>\n",
       "      <th>Net Worth</th>\n",
       "      <th>Age</th>\n",
       "      <th>Source</th>\n",
       "      <th>Country</th>\n",
       "    </tr>\n",
       "  </thead>\n",
       "  <tbody>\n",
       "    <tr>\n",
       "      <th>0</th>\n",
       "      <td>1</td>\n",
       "      <td>Elon Musk</td>\n",
       "      <td>$198.7 B</td>\n",
       "      <td>50</td>\n",
       "      <td>Tesla, SpaceX</td>\n",
       "      <td>United States</td>\n",
       "    </tr>\n",
       "    <tr>\n",
       "      <th>1</th>\n",
       "      <td>2</td>\n",
       "      <td>Bernard Arnault &amp; family</td>\n",
       "      <td>$142.1 B</td>\n",
       "      <td>73</td>\n",
       "      <td>LVMH</td>\n",
       "      <td>France</td>\n",
       "    </tr>\n",
       "    <tr>\n",
       "      <th>2</th>\n",
       "      <td>3</td>\n",
       "      <td>Jeff Bezos</td>\n",
       "      <td>$129.8 B</td>\n",
       "      <td>58</td>\n",
       "      <td>Amazon</td>\n",
       "      <td>United States</td>\n",
       "    </tr>\n",
       "    <tr>\n",
       "      <th>3</th>\n",
       "      <td>4</td>\n",
       "      <td>Bill Gates</td>\n",
       "      <td>$125.3 B</td>\n",
       "      <td>66</td>\n",
       "      <td>Microsoft</td>\n",
       "      <td>United States</td>\n",
       "    </tr>\n",
       "    <tr>\n",
       "      <th>4</th>\n",
       "      <td>5</td>\n",
       "      <td>Warren Buffett</td>\n",
       "      <td>$111.7 B</td>\n",
       "      <td>91</td>\n",
       "      <td>Berkshire Hathaway</td>\n",
       "      <td>United States</td>\n",
       "    </tr>\n",
       "  </tbody>\n",
       "</table>\n",
       "</div>"
      ],
      "text/plain": [
       "  Rank                      Name Net Worth Age              Source  \\\n",
       "0    1                 Elon Musk  $198.7 B  50       Tesla, SpaceX   \n",
       "1    2  Bernard Arnault & family  $142.1 B  73                LVMH   \n",
       "2    3                Jeff Bezos  $129.8 B  58              Amazon   \n",
       "3    4                Bill Gates  $125.3 B  66           Microsoft   \n",
       "4    5            Warren Buffett  $111.7 B  91  Berkshire Hathaway   \n",
       "\n",
       "         Country  \n",
       "0  United States  \n",
       "1         France  \n",
       "2  United States  \n",
       "3  United States  \n",
       "4  United States  "
      ]
     },
     "execution_count": 136,
     "metadata": {},
     "output_type": "execute_result"
    }
   ],
   "source": [
    "Billionare.head()"
   ]
  },
  {
   "cell_type": "markdown",
   "id": "d3a59426",
   "metadata": {},
   "source": [
    "9. Write a program to extract at least 500 Comments, Comment upvote and time when comment was posted from any YouTube Video."
   ]
  },
  {
   "cell_type": "code",
   "execution_count": 137,
   "id": "ce6efbc6",
   "metadata": {},
   "outputs": [],
   "source": [
    "import selenium\n",
    "from selenium import webdriver\n",
    "from selenium.common.exceptions import StaleElementReferenceException, NoSuchElementException\n",
    "import time"
   ]
  },
  {
   "cell_type": "code",
   "execution_count": 138,
   "id": "a5eed70d",
   "metadata": {},
   "outputs": [
    {
     "name": "stderr",
     "output_type": "stream",
     "text": [
      "C:\\Users\\Asus\\AppData\\Local\\Temp/ipykernel_16612/3152601145.py:1: DeprecationWarning: executable_path has been deprecated, please pass in a Service object\n",
      "  driver = webdriver.Chrome(r\"C:\\Web driver\\chromedriver.exe\")\n"
     ]
    }
   ],
   "source": [
    "driver = webdriver.Chrome(r\"C:\\Web driver\\chromedriver.exe\")\n",
    "driver.get(\"https://www.youtube.com/watch?v=YfO28Ihehbk\")\n",
    "driver.maximize_window()\n",
    "driver.execute_script(\"window.scrollBy(0,10000)\" \"\")"
   ]
  },
  {
   "cell_type": "code",
   "execution_count": 139,
   "id": "a3191846",
   "metadata": {},
   "outputs": [],
   "source": [
    "for i in range(200):\n",
    "    driver.execute_script(\"window.scrollBy(0,10000)\" \"\")"
   ]
  },
  {
   "cell_type": "code",
   "execution_count": 146,
   "id": "66beb7de",
   "metadata": {},
   "outputs": [
    {
     "name": "stderr",
     "output_type": "stream",
     "text": [
      "C:\\Users\\Asus\\AppData\\Local\\Temp/ipykernel_16612/2264446065.py:1: DeprecationWarning: find_elements_by_id is deprecated. Please use find_elements(by=By.ID, value=id_) instead\n",
      "  Comment = driver.find_elements_by_id(\"content-text\")\n"
     ]
    },
    {
     "data": {
      "text/plain": [
       "50"
      ]
     },
     "execution_count": 146,
     "metadata": {},
     "output_type": "execute_result"
    }
   ],
   "source": [
    "Comment = driver.find_elements_by_id(\"content-text\")\n",
    "len(Comment)"
   ]
  },
  {
   "cell_type": "code",
   "execution_count": 142,
   "id": "e7c33254",
   "metadata": {},
   "outputs": [],
   "source": [
    "Comments = []\n",
    "for i in Comment:\n",
    "    Comments.append(i.text)"
   ]
  },
  {
   "cell_type": "code",
   "execution_count": 143,
   "id": "60ab0a9d",
   "metadata": {},
   "outputs": [
    {
     "name": "stderr",
     "output_type": "stream",
     "text": [
      "C:\\Users\\Asus\\AppData\\Local\\Temp/ipykernel_16612/724728068.py:1: DeprecationWarning: find_elements_by_id is deprecated. Please use find_elements(by=By.ID, value=id_) instead\n",
      "  comment_upvote = driver.find_elements_by_id(\"vote-count-middle\")\n"
     ]
    },
    {
     "data": {
      "text/plain": [
       "50"
      ]
     },
     "execution_count": 143,
     "metadata": {},
     "output_type": "execute_result"
    }
   ],
   "source": [
    "comment_upvote = driver.find_elements_by_id(\"vote-count-middle\")\n",
    "len(comment_upvote)"
   ]
  },
  {
   "cell_type": "code",
   "execution_count": 144,
   "id": "8db9a34f",
   "metadata": {},
   "outputs": [],
   "source": [
    "Comment_Upvotes = []\n",
    "for i in comment_upvote:\n",
    "    Comment_Upvotes.append(i.text)"
   ]
  },
  {
   "cell_type": "code",
   "execution_count": 145,
   "id": "320e96a3",
   "metadata": {},
   "outputs": [
    {
     "name": "stderr",
     "output_type": "stream",
     "text": [
      "C:\\Users\\Asus\\AppData\\Local\\Temp/ipykernel_16612/3075456302.py:1: DeprecationWarning: find_elements_by_xpath is deprecated. Please use find_elements(by=By.XPATH, value=xpath) instead\n",
      "  time1 = driver.find_elements_by_xpath(\"//*[@id='header-author']/yt-formatted-string/a\")\n"
     ]
    },
    {
     "data": {
      "text/plain": [
       "50"
      ]
     },
     "execution_count": 145,
     "metadata": {},
     "output_type": "execute_result"
    }
   ],
   "source": [
    "time1 = driver.find_elements_by_xpath(\"//*[@id='header-author']/yt-formatted-string/a\")\n",
    "len(time1)"
   ]
  },
  {
   "cell_type": "code",
   "execution_count": 147,
   "id": "7233f236",
   "metadata": {},
   "outputs": [],
   "source": [
    "Time = []\n",
    "for i in time1:\n",
    "    Time.append(i.text)"
   ]
  },
  {
   "cell_type": "code",
   "execution_count": 148,
   "id": "5383ce7d",
   "metadata": {},
   "outputs": [],
   "source": [
    "import pandas as pd\n",
    "Youtube=pd.DataFrame({})\n",
    "Youtube['Comments']= Comments\n",
    "Youtube['Comment Upvotes']= Comment_Upvotes\n",
    "Youtube['Times']= Time"
   ]
  },
  {
   "cell_type": "code",
   "execution_count": 151,
   "id": "ab060a0f",
   "metadata": {},
   "outputs": [
    {
     "data": {
      "text/html": [
       "<div>\n",
       "<style scoped>\n",
       "    .dataframe tbody tr th:only-of-type {\n",
       "        vertical-align: middle;\n",
       "    }\n",
       "\n",
       "    .dataframe tbody tr th {\n",
       "        vertical-align: top;\n",
       "    }\n",
       "\n",
       "    .dataframe thead th {\n",
       "        text-align: right;\n",
       "    }\n",
       "</style>\n",
       "<table border=\"1\" class=\"dataframe\">\n",
       "  <thead>\n",
       "    <tr style=\"text-align: right;\">\n",
       "      <th></th>\n",
       "      <th>Comments</th>\n",
       "      <th>Comment Upvotes</th>\n",
       "      <th>Times</th>\n",
       "    </tr>\n",
       "  </thead>\n",
       "  <tbody>\n",
       "    <tr>\n",
       "      <th>0</th>\n",
       "      <td>NaN</td>\n",
       "      <td>605</td>\n",
       "      <td>3 years ago</td>\n",
       "    </tr>\n",
       "    <tr>\n",
       "      <th>1</th>\n",
       "      <td>NaN</td>\n",
       "      <td>4</td>\n",
       "      <td>3 years ago</td>\n",
       "    </tr>\n",
       "    <tr>\n",
       "      <th>2</th>\n",
       "      <td>NaN</td>\n",
       "      <td>3</td>\n",
       "      <td>3 years ago</td>\n",
       "    </tr>\n",
       "    <tr>\n",
       "      <th>3</th>\n",
       "      <td>NaN</td>\n",
       "      <td>5</td>\n",
       "      <td>3 years ago</td>\n",
       "    </tr>\n",
       "    <tr>\n",
       "      <th>4</th>\n",
       "      <td>NaN</td>\n",
       "      <td>103</td>\n",
       "      <td>3 years ago</td>\n",
       "    </tr>\n",
       "  </tbody>\n",
       "</table>\n",
       "</div>"
      ],
      "text/plain": [
       "   Comments Comment Upvotes        Times\n",
       "0       NaN             605  3 years ago\n",
       "1       NaN               4  3 years ago\n",
       "2       NaN               3  3 years ago\n",
       "3       NaN               5  3 years ago\n",
       "4       NaN             103  3 years ago"
      ]
     },
     "execution_count": 151,
     "metadata": {},
     "output_type": "execute_result"
    }
   ],
   "source": [
    "Youtube.head()"
   ]
  },
  {
   "cell_type": "markdown",
   "id": "51924982",
   "metadata": {},
   "source": [
    "10. Python program to scrape a data for all available Hostels from https://www.hostelworld.com/ in “London” location. You have to scrape hostel name, distance from city centre, ratings, total reviews, overall reviews, privates from price, dorms from price, facilities and property description."
   ]
  },
  {
   "cell_type": "code",
   "execution_count": 9,
   "id": "685363cf",
   "metadata": {},
   "outputs": [],
   "source": [
    "import selenium\n",
    "from selenium import webdriver\n",
    "from selenium.common.exceptions import StaleElementReferenceException, NoSuchElementException\n",
    "import time"
   ]
  },
  {
   "cell_type": "code",
   "execution_count": 13,
   "id": "54cedfef",
   "metadata": {},
   "outputs": [
    {
     "name": "stderr",
     "output_type": "stream",
     "text": [
      "C:\\Users\\Asus\\AppData\\Local\\Temp/ipykernel_7500/4292679531.py:1: DeprecationWarning: executable_path has been deprecated, please pass in a Service object\n",
      "  driver = webdriver.Chrome(r\"C:\\Web driver\\chromedriver.exe\")\n"
     ]
    }
   ],
   "source": [
    "driver = webdriver.Chrome(r\"C:\\Web driver\\chromedriver.exe\")\n",
    "driver.get(\"https://www.hostelworld.com/\")"
   ]
  },
  {
   "cell_type": "code",
   "execution_count": 16,
   "id": "399754f7",
   "metadata": {},
   "outputs": [
    {
     "name": "stderr",
     "output_type": "stream",
     "text": [
      "C:\\Users\\Asus\\AppData\\Local\\Temp/ipykernel_7500/3792383103.py:1: DeprecationWarning: find_element_by_xpath is deprecated. Please use find_element(by=By.XPATH, value=xpath) instead\n",
      "  search_location= driver.find_element_by_xpath(\"/html/body/div[3]/div/div/div[1]/div[1]/div/div[2]/div[4]/div/div[2]/div/div[1]/div/div/div/input\")\n"
     ]
    }
   ],
   "source": [
    "search_location= driver.find_element_by_xpath(\"/html/body/div[3]/div/div/div[1]/div[1]/div/div[2]/div[4]/div/div[2]/div/div[1]/div/div/div/input\")\n",
    "search_location.send_keys(\"london\")"
   ]
  },
  {
   "cell_type": "code",
   "execution_count": 17,
   "id": "2ed7e5d9",
   "metadata": {},
   "outputs": [
    {
     "name": "stderr",
     "output_type": "stream",
     "text": [
      "C:\\Users\\Asus\\AppData\\Local\\Temp/ipykernel_7500/3894364814.py:1: DeprecationWarning: find_element_by_xpath is deprecated. Please use find_element(by=By.XPATH, value=xpath) instead\n",
      "  click_lon =driver.find_element_by_xpath(\"/html/body/div[3]/div/div/div[1]/div[1]/div/div[2]/div[4]/div/div[2]/div/div[1]/div/div/ul/li[2]\")\n"
     ]
    }
   ],
   "source": [
    "click_lon =driver.find_element_by_xpath(\"/html/body/div[3]/div/div/div[1]/div[1]/div/div[2]/div[4]/div/div[2]/div/div[1]/div/div/ul/li[2]\")\n",
    "click_lon.click()"
   ]
  },
  {
   "cell_type": "code",
   "execution_count": 18,
   "id": "540e4074",
   "metadata": {},
   "outputs": [
    {
     "name": "stderr",
     "output_type": "stream",
     "text": [
      "C:\\Users\\Asus\\AppData\\Local\\Temp/ipykernel_7500/3511580811.py:1: DeprecationWarning: find_element_by_xpath is deprecated. Please use find_element(by=By.XPATH, value=xpath) instead\n",
      "  click_letsgo =driver.find_element_by_xpath(\"/html/body/div[3]/div/div/div[1]/div[1]/div/div[2]/div[4]/div/div[2]/div/div[5]/button\")\n"
     ]
    }
   ],
   "source": [
    "click_letsgo =driver.find_element_by_xpath(\"/html/body/div[3]/div/div/div[1]/div[1]/div/div[2]/div[4]/div/div[2]/div/div[5]/button\")\n",
    "click_letsgo.click()"
   ]
  },
  {
   "cell_type": "code",
   "execution_count": 19,
   "id": "e0b1da88",
   "metadata": {},
   "outputs": [
    {
     "name": "stderr",
     "output_type": "stream",
     "text": [
      "C:\\Users\\Asus\\AppData\\Local\\Temp/ipykernel_7500/1022694914.py:1: DeprecationWarning: find_elements_by_xpath is deprecated. Please use find_elements(by=By.XPATH, value=xpath) instead\n",
      "  Hostel_Name1 = driver.find_elements_by_xpath(\"//h2[@class='title title-6']\")\n"
     ]
    }
   ],
   "source": [
    "Hostel_Name1 = driver.find_elements_by_xpath(\"//h2[@class='title title-6']\")\n",
    "Hostel_Name = []\n",
    "for i in Hostel_Name1:\n",
    "    Hostel_Name.append(i.text)   "
   ]
  },
  {
   "cell_type": "code",
   "execution_count": 20,
   "id": "34c62142",
   "metadata": {},
   "outputs": [
    {
     "name": "stderr",
     "output_type": "stream",
     "text": [
      "C:\\Users\\Asus\\AppData\\Local\\Temp/ipykernel_7500/3194720077.py:1: DeprecationWarning: find_elements_by_xpath is deprecated. Please use find_elements(by=By.XPATH, value=xpath) instead\n",
      "  Distance = driver.find_elements_by_xpath(\"//div[@class='subtitle body-3']\")\n"
     ]
    }
   ],
   "source": [
    "Distance = driver.find_elements_by_xpath(\"//div[@class='subtitle body-3']\") \n",
    "Distance_from_City_Centre = [] \n",
    "for i in Distance:\n",
    "    Distance_from_City_Centre.append(i.text)"
   ]
  },
  {
   "cell_type": "code",
   "execution_count": 32,
   "id": "5ab7d1a6",
   "metadata": {},
   "outputs": [
    {
     "name": "stderr",
     "output_type": "stream",
     "text": [
      "C:\\Users\\Asus\\AppData\\Local\\Temp/ipykernel_7500/2002054438.py:1: DeprecationWarning: find_elements_by_xpath is deprecated. Please use find_elements(by=By.XPATH, value=xpath) instead\n",
      "  rating = driver.find_elements_by_xpath(\"//div[@class='score orange big']\")\n"
     ]
    }
   ],
   "source": [
    "rating = driver.find_elements_by_xpath(\"//div[@class='score orange big']\")\n",
    "Ratings = []\n",
    "for i  in rating:\n",
    "    try:\n",
    "        Ratings.append(i.text)\n",
    "    except NoSuchElementException as E:\n",
    "        Ratings.append(\"__\")"
   ]
  },
  {
   "cell_type": "code",
   "execution_count": 22,
   "id": "179003e4",
   "metadata": {},
   "outputs": [
    {
     "name": "stderr",
     "output_type": "stream",
     "text": [
      "C:\\Users\\Asus\\AppData\\Local\\Temp/ipykernel_7500/4001651282.py:1: DeprecationWarning: find_elements_by_xpath is deprecated. Please use find_elements(by=By.XPATH, value=xpath) instead\n",
      "  Total_Reviews1 = driver.find_elements_by_xpath(\"//div[@class='reviews']\")\n"
     ]
    }
   ],
   "source": [
    "Total_Reviews1 = driver.find_elements_by_xpath(\"//div[@class='reviews']\")\n",
    "Total_Reviews =[]\n",
    "for i in Total_Reviews1:\n",
    "    Total_Reviews.append(i.text)"
   ]
  },
  {
   "cell_type": "code",
   "execution_count": 23,
   "id": "427818dd",
   "metadata": {},
   "outputs": [
    {
     "name": "stderr",
     "output_type": "stream",
     "text": [
      "C:\\Users\\Asus\\AppData\\Local\\Temp/ipykernel_7500/105557372.py:1: DeprecationWarning: find_elements_by_xpath is deprecated. Please use find_elements(by=By.XPATH, value=xpath) instead\n",
      "  Overall_reviews1 = driver.find_elements_by_xpath(\"//div[@class='keyword']\")\n"
     ]
    }
   ],
   "source": [
    "Overall_reviews1 = driver.find_elements_by_xpath(\"//div[@class='keyword']\")\n",
    "Overall_Reviews =[]\n",
    "for i in Overall_reviews1:\n",
    "    Overall_Reviews.append(i.text)"
   ]
  },
  {
   "cell_type": "code",
   "execution_count": 24,
   "id": "106b9bed",
   "metadata": {},
   "outputs": [
    {
     "name": "stderr",
     "output_type": "stream",
     "text": [
      "C:\\Users\\Asus\\AppData\\Local\\Temp/ipykernel_7500/756925376.py:1: DeprecationWarning: find_elements_by_xpath is deprecated. Please use find_elements(by=By.XPATH, value=xpath) instead\n",
      "  privates_from_price1 =driver.find_elements_by_xpath(\"//div[@class='price title-5']\")\n"
     ]
    }
   ],
   "source": [
    "privates_from_price1 =driver.find_elements_by_xpath(\"//div[@class='price title-5']\")\n",
    "Privates_from_price =[]\n",
    "for i in privates_from_price1:\n",
    "    Privates_from_price.append(i.text)"
   ]
  },
  {
   "cell_type": "code",
   "execution_count": 25,
   "id": "61305faf",
   "metadata": {},
   "outputs": [],
   "source": [
    "Privates_from_price = Privates_from_price[0::2]"
   ]
  },
  {
   "cell_type": "code",
   "execution_count": 26,
   "id": "2024487a",
   "metadata": {},
   "outputs": [
    {
     "name": "stderr",
     "output_type": "stream",
     "text": [
      "C:\\Users\\Asus\\AppData\\Local\\Temp/ipykernel_7500/3482741397.py:1: DeprecationWarning: find_elements_by_xpath is deprecated. Please use find_elements(by=By.XPATH, value=xpath) instead\n",
      "  dorms_from_price1 = driver.find_elements_by_xpath(\"//div[@class='price title-5']\")\n"
     ]
    }
   ],
   "source": [
    "dorms_from_price1 = driver.find_elements_by_xpath(\"//div[@class='price title-5']\")\n",
    "Dorms_from_price =[]\n",
    "for i in dorms_from_price1:\n",
    "    Dorms_from_price.append(i.text)"
   ]
  },
  {
   "cell_type": "code",
   "execution_count": 27,
   "id": "0cbff58d",
   "metadata": {},
   "outputs": [],
   "source": [
    "Dorms_from_price = Dorms_from_price[1::2]"
   ]
  },
  {
   "cell_type": "code",
   "execution_count": 28,
   "id": "6ce1d6cc",
   "metadata": {},
   "outputs": [
    {
     "name": "stderr",
     "output_type": "stream",
     "text": [
      "C:\\Users\\Asus\\AppData\\Local\\Temp/ipykernel_7500/3295989556.py:1: DeprecationWarning: find_elements_by_xpath is deprecated. Please use find_elements(by=By.XPATH, value=xpath) instead\n",
      "  facilities1 = driver.find_elements_by_xpath(\"//div[@class='facilities-label facilities']\")\n"
     ]
    }
   ],
   "source": [
    "facilities1 = driver.find_elements_by_xpath(\"//div[@class='facilities-label facilities']\")\n",
    "Facilities=[]\n",
    "for i in facilities1:\n",
    "    Facilities.append(i.text)"
   ]
  },
  {
   "cell_type": "code",
   "execution_count": 29,
   "id": "e76ab5b7",
   "metadata": {},
   "outputs": [
    {
     "name": "stderr",
     "output_type": "stream",
     "text": [
      "C:\\Users\\Asus\\AppData\\Local\\Temp/ipykernel_7500/979528220.py:1: DeprecationWarning: find_elements_by_xpath is deprecated. Please use find_elements(by=By.XPATH, value=xpath) instead\n",
      "  property_description1 = driver.find_elements_by_xpath(\"//div[@class='rating-factors prop-card-tablet rating-factors small']\")\n"
     ]
    }
   ],
   "source": [
    "property_description1 = driver.find_elements_by_xpath(\"//div[@class='rating-factors prop-card-tablet rating-factors small']\")\n",
    "Property_Description =[]\n",
    "for i in property_description1:\n",
    "    Property_Description.append(i.text)"
   ]
  },
  {
   "cell_type": "code",
   "execution_count": 40,
   "id": "44c2653b",
   "metadata": {},
   "outputs": [],
   "source": [
    "import pandas as pd\n",
    "Hostel=pd.DataFrame({})\n",
    "Hostel['Hostel Name']= Hostel_Name[0:10]\n",
    "Hostel['Distance from City Centre']= Distance_from_City_Centre[0:10]\n",
    "Hostel['Total Reviews']= Total_Reviews[0:10]\n",
    "Hostel['Overall Reviews']= Overall_Reviews[0:10]\n",
    "Hostel['Property Description']= Property_Description[0:10]\n",
    "Hostel['Facilities']= Facilities[0:10]"
   ]
  },
  {
   "cell_type": "code",
   "execution_count": 41,
   "id": "ceb8e1da",
   "metadata": {},
   "outputs": [
    {
     "data": {
      "text/html": [
       "<div>\n",
       "<style scoped>\n",
       "    .dataframe tbody tr th:only-of-type {\n",
       "        vertical-align: middle;\n",
       "    }\n",
       "\n",
       "    .dataframe tbody tr th {\n",
       "        vertical-align: top;\n",
       "    }\n",
       "\n",
       "    .dataframe thead th {\n",
       "        text-align: right;\n",
       "    }\n",
       "</style>\n",
       "<table border=\"1\" class=\"dataframe\">\n",
       "  <thead>\n",
       "    <tr style=\"text-align: right;\">\n",
       "      <th></th>\n",
       "      <th>Hostel Name</th>\n",
       "      <th>Distance from City Centre</th>\n",
       "      <th>Total Reviews</th>\n",
       "      <th>Overall Reviews</th>\n",
       "      <th>Property Description</th>\n",
       "      <th>Facilities</th>\n",
       "    </tr>\n",
       "  </thead>\n",
       "  <tbody>\n",
       "    <tr>\n",
       "      <th>0</th>\n",
       "      <td>St Christopher's Village</td>\n",
       "      <td>Hostel - 1.8km from city centre</td>\n",
       "      <td>11203 Total Reviews</td>\n",
       "      <td>Very Good</td>\n",
       "      <td>Perfect Location\\nSuperb Staff\\nExcellent Clea...</td>\n",
       "      <td>Free WiFi\\nFollows Covid-19 sanitation guidance</td>\n",
       "    </tr>\n",
       "    <tr>\n",
       "      <th>1</th>\n",
       "      <td>Smart Russell Square Hostel</td>\n",
       "      <td>Hostel - 1.8km from city centre Show on Map</td>\n",
       "      <td>9647 Total Reviews</td>\n",
       "      <td>Very Good</td>\n",
       "      <td>Perfect Location\\nMarvellous Staff\\nAwesome Cl...</td>\n",
       "      <td>Free WiFi\\nFollows Covid-19 sanitation guidance</td>\n",
       "    </tr>\n",
       "    <tr>\n",
       "      <th>2</th>\n",
       "      <td>No.8 Seven Sisters</td>\n",
       "      <td>Hostel - 2.6km from city centre Show on Map</td>\n",
       "      <td>3761 Total Reviews</td>\n",
       "      <td>Very Good</td>\n",
       "      <td>Wonderful Location\\nMarvellous Staff\\nAwesome ...</td>\n",
       "      <td>Free WiFi\\nFollows Covid-19 sanitation guidance</td>\n",
       "    </tr>\n",
       "    <tr>\n",
       "      <th>3</th>\n",
       "      <td>NX London Hostel</td>\n",
       "      <td>Hostel - 9km from city centre Show on Map</td>\n",
       "      <td>1127 Total Reviews</td>\n",
       "      <td>Very Good</td>\n",
       "      <td>Wonderful Location\\nMarvellous Staff\\nAwesome ...</td>\n",
       "      <td>Free WiFi\\nFree Breakfast</td>\n",
       "    </tr>\n",
       "    <tr>\n",
       "      <th>4</th>\n",
       "      <td>St Christopher's Hammersmith</td>\n",
       "      <td>Hostel - 6.1km from city centre Show on Map</td>\n",
       "      <td>4019 Total Reviews</td>\n",
       "      <td>Very Good</td>\n",
       "      <td>Perfect Location\\nSuperb Staff\\nExcellent Clea...</td>\n",
       "      <td>Free WiFi\\nFollows Covid-19 sanitation guidance</td>\n",
       "    </tr>\n",
       "    <tr>\n",
       "      <th>5</th>\n",
       "      <td>Saint James Backpackers</td>\n",
       "      <td>Hostel - 7.5km from city centre Show on Map</td>\n",
       "      <td>1789 Total Reviews</td>\n",
       "      <td>Very Good</td>\n",
       "      <td>Wonderful Location\\nBrilliant Staff</td>\n",
       "      <td>Free WiFi\\nFree Breakfast\\nFollows Covid-19 sa...</td>\n",
       "    </tr>\n",
       "    <tr>\n",
       "      <th>6</th>\n",
       "      <td>Britannia Inn Hotel</td>\n",
       "      <td>Hostel - 5.5km from city centre Show on Map</td>\n",
       "      <td>19 Total Reviews</td>\n",
       "      <td>Good</td>\n",
       "      <td>Great Location\\nSuperb Staff\\nExcellent Cleanl...</td>\n",
       "      <td>Free Breakfast\\nFollows Covid-19 sanitation gu...</td>\n",
       "    </tr>\n",
       "    <tr>\n",
       "      <th>7</th>\n",
       "      <td>Cranbrook Hotel</td>\n",
       "      <td>Hotel - 14.5km from city centre Show on Map</td>\n",
       "      <td>58 Total Reviews</td>\n",
       "      <td>Fabulous</td>\n",
       "      <td></td>\n",
       "      <td>Free Breakfast\\nFollows Covid-19 sanitation gu...</td>\n",
       "    </tr>\n",
       "    <tr>\n",
       "      <th>8</th>\n",
       "      <td>Colliers Hotel</td>\n",
       "      <td>Hotel - 14.8km from city centre Show on Map</td>\n",
       "      <td>4 Total Reviews</td>\n",
       "      <td>No Rating</td>\n",
       "      <td>Wonderful Location\\nSuperb Staff\\nExcellent Cl...</td>\n",
       "      <td>Follows Covid-19 sanitation guidance</td>\n",
       "    </tr>\n",
       "    <tr>\n",
       "      <th>9</th>\n",
       "      <td>Hotel Shepherds Bush London</td>\n",
       "      <td>Hotel - 2.1km from city centre Show on Map</td>\n",
       "      <td>0 Total Reviews</td>\n",
       "      <td>Very Good</td>\n",
       "      <td></td>\n",
       "      <td>Free WiFi\\nFollows Covid-19 sanitation guidance</td>\n",
       "    </tr>\n",
       "  </tbody>\n",
       "</table>\n",
       "</div>"
      ],
      "text/plain": [
       "                    Hostel Name                    Distance from City Centre  \\\n",
       "0      St Christopher's Village              Hostel - 1.8km from city centre   \n",
       "1   Smart Russell Square Hostel  Hostel - 1.8km from city centre Show on Map   \n",
       "2            No.8 Seven Sisters  Hostel - 2.6km from city centre Show on Map   \n",
       "3              NX London Hostel    Hostel - 9km from city centre Show on Map   \n",
       "4  St Christopher's Hammersmith  Hostel - 6.1km from city centre Show on Map   \n",
       "5       Saint James Backpackers  Hostel - 7.5km from city centre Show on Map   \n",
       "6           Britannia Inn Hotel  Hostel - 5.5km from city centre Show on Map   \n",
       "7               Cranbrook Hotel  Hotel - 14.5km from city centre Show on Map   \n",
       "8                Colliers Hotel  Hotel - 14.8km from city centre Show on Map   \n",
       "9   Hotel Shepherds Bush London   Hotel - 2.1km from city centre Show on Map   \n",
       "\n",
       "         Total Reviews Overall Reviews  \\\n",
       "0  11203 Total Reviews       Very Good   \n",
       "1   9647 Total Reviews       Very Good   \n",
       "2   3761 Total Reviews       Very Good   \n",
       "3   1127 Total Reviews       Very Good   \n",
       "4   4019 Total Reviews       Very Good   \n",
       "5   1789 Total Reviews       Very Good   \n",
       "6     19 Total Reviews            Good   \n",
       "7     58 Total Reviews        Fabulous   \n",
       "8      4 Total Reviews       No Rating   \n",
       "9      0 Total Reviews       Very Good   \n",
       "\n",
       "                                Property Description  \\\n",
       "0  Perfect Location\\nSuperb Staff\\nExcellent Clea...   \n",
       "1  Perfect Location\\nMarvellous Staff\\nAwesome Cl...   \n",
       "2  Wonderful Location\\nMarvellous Staff\\nAwesome ...   \n",
       "3  Wonderful Location\\nMarvellous Staff\\nAwesome ...   \n",
       "4  Perfect Location\\nSuperb Staff\\nExcellent Clea...   \n",
       "5                Wonderful Location\\nBrilliant Staff   \n",
       "6  Great Location\\nSuperb Staff\\nExcellent Cleanl...   \n",
       "7                                                      \n",
       "8  Wonderful Location\\nSuperb Staff\\nExcellent Cl...   \n",
       "9                                                      \n",
       "\n",
       "                                          Facilities  \n",
       "0    Free WiFi\\nFollows Covid-19 sanitation guidance  \n",
       "1    Free WiFi\\nFollows Covid-19 sanitation guidance  \n",
       "2    Free WiFi\\nFollows Covid-19 sanitation guidance  \n",
       "3                          Free WiFi\\nFree Breakfast  \n",
       "4    Free WiFi\\nFollows Covid-19 sanitation guidance  \n",
       "5  Free WiFi\\nFree Breakfast\\nFollows Covid-19 sa...  \n",
       "6  Free Breakfast\\nFollows Covid-19 sanitation gu...  \n",
       "7  Free Breakfast\\nFollows Covid-19 sanitation gu...  \n",
       "8               Follows Covid-19 sanitation guidance  \n",
       "9    Free WiFi\\nFollows Covid-19 sanitation guidance  "
      ]
     },
     "execution_count": 41,
     "metadata": {},
     "output_type": "execute_result"
    }
   ],
   "source": [
    "Hostel.head(10)"
   ]
  }
 ],
 "metadata": {
  "kernelspec": {
   "display_name": "Python 3 (ipykernel)",
   "language": "python",
   "name": "python3"
  },
  "language_info": {
   "codemirror_mode": {
    "name": "ipython",
    "version": 3
   },
   "file_extension": ".py",
   "mimetype": "text/x-python",
   "name": "python",
   "nbconvert_exporter": "python",
   "pygments_lexer": "ipython3",
   "version": "3.9.7"
  }
 },
 "nbformat": 4,
 "nbformat_minor": 5
}
